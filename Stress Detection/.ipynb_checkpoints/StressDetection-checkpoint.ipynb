{
 "cells": [
  {
   "cell_type": "code",
   "execution_count": 112,
   "id": "initial_id",
   "metadata": {
    "ExecuteTime": {
     "end_time": "2023-08-11T04:05:21.966239496Z",
     "start_time": "2023-08-11T04:05:15.202010875Z"
    },
    "collapsed": true,
    "jupyter": {
     "outputs_hidden": true
    }
   },
   "outputs": [],
   "source": [
    "import pandas as pd\n",
    "import numpy as np\n",
    "from sklearn.feature_extraction.text import TfidfVectorizer\n",
    "#from nltk.corpus import stopwords # Is been Downloaded\n",
    "import matplotlib.pyplot as plt\n",
    "from joblib import dump, load\n",
    "import os\n",
    "\n"
   ]
  },
  {
   "cell_type": "code",
   "execution_count": 113,
   "id": "809e9aaad970f1a5",
   "metadata": {
    "collapsed": false,
    "jupyter": {
     "outputs_hidden": false
    }
   },
   "outputs": [],
   "source": [
    "PATH = os.getcwd()"
   ]
  },
  {
   "cell_type": "code",
   "execution_count": 114,
   "id": "7ddc7fb0f8cc5f15",
   "metadata": {
    "collapsed": false,
    "jupyter": {
     "outputs_hidden": false
    }
   },
   "outputs": [
    {
     "data": {
      "text/plain": [
       "'c:\\\\Users\\\\MoAly\\\\OneDrive - Rihal\\\\Rihal\\\\Projects\\\\RihalIntern'"
      ]
     },
     "execution_count": 114,
     "metadata": {},
     "output_type": "execute_result"
    }
   ],
   "source": [
    "PATH"
   ]
  },
  {
   "cell_type": "code",
   "execution_count": 115,
   "id": "6cd58e7c",
   "metadata": {},
   "outputs": [],
   "source": [
    "try:\n",
    "    os.mkdir(PATH + '/graphs')\n",
    "except:\n",
    "    pass"
   ]
  },
  {
   "cell_type": "code",
   "execution_count": 116,
   "id": "02f979dd",
   "metadata": {},
   "outputs": [],
   "source": [
    "try:\n",
    "    os.mkdir(PATH + '/tokenizers')\n",
    "except:\n",
    "    pass"
   ]
  },
  {
   "cell_type": "code",
   "execution_count": 117,
   "id": "6a37745f",
   "metadata": {},
   "outputs": [],
   "source": [
    "try:\n",
    "    os.mkdir(PATH + '/models')\n",
    "except:\n",
    "    pass"
   ]
  },
  {
   "cell_type": "code",
   "execution_count": 118,
   "id": "3a5ae597",
   "metadata": {},
   "outputs": [
    {
     "data": {
      "text/html": [
       "<div>\n",
       "<style scoped>\n",
       "    .dataframe tbody tr th:only-of-type {\n",
       "        vertical-align: middle;\n",
       "    }\n",
       "\n",
       "    .dataframe tbody tr th {\n",
       "        vertical-align: top;\n",
       "    }\n",
       "\n",
       "    .dataframe thead th {\n",
       "        text-align: right;\n",
       "    }\n",
       "</style>\n",
       "<table border=\"1\" class=\"dataframe\">\n",
       "  <thead>\n",
       "    <tr style=\"text-align: right;\">\n",
       "      <th></th>\n",
       "      <th>subreddit</th>\n",
       "      <th>post_id</th>\n",
       "      <th>sentence_range</th>\n",
       "      <th>text</th>\n",
       "      <th>id</th>\n",
       "      <th>label</th>\n",
       "      <th>confidence</th>\n",
       "      <th>social_timestamp</th>\n",
       "      <th>social_karma</th>\n",
       "      <th>syntax_ari</th>\n",
       "      <th>...</th>\n",
       "      <th>lex_dal_min_pleasantness</th>\n",
       "      <th>lex_dal_min_activation</th>\n",
       "      <th>lex_dal_min_imagery</th>\n",
       "      <th>lex_dal_avg_activation</th>\n",
       "      <th>lex_dal_avg_imagery</th>\n",
       "      <th>lex_dal_avg_pleasantness</th>\n",
       "      <th>social_upvote_ratio</th>\n",
       "      <th>social_num_comments</th>\n",
       "      <th>syntax_fk_grade</th>\n",
       "      <th>sentiment</th>\n",
       "    </tr>\n",
       "  </thead>\n",
       "  <tbody>\n",
       "    <tr>\n",
       "      <th>0</th>\n",
       "      <td>ptsd</td>\n",
       "      <td>8601tu</td>\n",
       "      <td>(15, 20)</td>\n",
       "      <td>He said he had not felt that way before, sugge...</td>\n",
       "      <td>33181</td>\n",
       "      <td>1</td>\n",
       "      <td>0.8</td>\n",
       "      <td>1521614353</td>\n",
       "      <td>5</td>\n",
       "      <td>1.806818</td>\n",
       "      <td>...</td>\n",
       "      <td>1.000</td>\n",
       "      <td>1.1250</td>\n",
       "      <td>1.0</td>\n",
       "      <td>1.77000</td>\n",
       "      <td>1.52211</td>\n",
       "      <td>1.89556</td>\n",
       "      <td>0.86</td>\n",
       "      <td>1</td>\n",
       "      <td>3.253573</td>\n",
       "      <td>-0.002742</td>\n",
       "    </tr>\n",
       "    <tr>\n",
       "      <th>1</th>\n",
       "      <td>assistance</td>\n",
       "      <td>8lbrx9</td>\n",
       "      <td>(0, 5)</td>\n",
       "      <td>Hey there r/assistance, Not sure if this is th...</td>\n",
       "      <td>2606</td>\n",
       "      <td>0</td>\n",
       "      <td>1.0</td>\n",
       "      <td>1527009817</td>\n",
       "      <td>4</td>\n",
       "      <td>9.429737</td>\n",
       "      <td>...</td>\n",
       "      <td>1.125</td>\n",
       "      <td>1.0000</td>\n",
       "      <td>1.0</td>\n",
       "      <td>1.69586</td>\n",
       "      <td>1.62045</td>\n",
       "      <td>1.88919</td>\n",
       "      <td>0.65</td>\n",
       "      <td>2</td>\n",
       "      <td>8.828316</td>\n",
       "      <td>0.292857</td>\n",
       "    </tr>\n",
       "    <tr>\n",
       "      <th>2</th>\n",
       "      <td>ptsd</td>\n",
       "      <td>9ch1zh</td>\n",
       "      <td>(15, 20)</td>\n",
       "      <td>My mom then hit me with the newspaper and it s...</td>\n",
       "      <td>38816</td>\n",
       "      <td>1</td>\n",
       "      <td>0.8</td>\n",
       "      <td>1535935605</td>\n",
       "      <td>2</td>\n",
       "      <td>7.769821</td>\n",
       "      <td>...</td>\n",
       "      <td>1.000</td>\n",
       "      <td>1.1429</td>\n",
       "      <td>1.0</td>\n",
       "      <td>1.83088</td>\n",
       "      <td>1.58108</td>\n",
       "      <td>1.85828</td>\n",
       "      <td>0.67</td>\n",
       "      <td>0</td>\n",
       "      <td>7.841667</td>\n",
       "      <td>0.011894</td>\n",
       "    </tr>\n",
       "    <tr>\n",
       "      <th>3</th>\n",
       "      <td>relationships</td>\n",
       "      <td>7rorpp</td>\n",
       "      <td>[5, 10]</td>\n",
       "      <td>until i met my new boyfriend, he is amazing, h...</td>\n",
       "      <td>239</td>\n",
       "      <td>1</td>\n",
       "      <td>0.6</td>\n",
       "      <td>1516429555</td>\n",
       "      <td>0</td>\n",
       "      <td>2.667798</td>\n",
       "      <td>...</td>\n",
       "      <td>1.000</td>\n",
       "      <td>1.1250</td>\n",
       "      <td>1.0</td>\n",
       "      <td>1.75356</td>\n",
       "      <td>1.52114</td>\n",
       "      <td>1.98848</td>\n",
       "      <td>0.50</td>\n",
       "      <td>5</td>\n",
       "      <td>4.104027</td>\n",
       "      <td>0.141671</td>\n",
       "    </tr>\n",
       "    <tr>\n",
       "      <th>4</th>\n",
       "      <td>survivorsofabuse</td>\n",
       "      <td>9p2gbc</td>\n",
       "      <td>[0, 5]</td>\n",
       "      <td>October is Domestic Violence Awareness Month a...</td>\n",
       "      <td>1421</td>\n",
       "      <td>1</td>\n",
       "      <td>0.8</td>\n",
       "      <td>1539809005</td>\n",
       "      <td>24</td>\n",
       "      <td>7.554238</td>\n",
       "      <td>...</td>\n",
       "      <td>1.000</td>\n",
       "      <td>1.1250</td>\n",
       "      <td>1.0</td>\n",
       "      <td>1.77644</td>\n",
       "      <td>1.64872</td>\n",
       "      <td>1.81456</td>\n",
       "      <td>1.00</td>\n",
       "      <td>1</td>\n",
       "      <td>7.910952</td>\n",
       "      <td>-0.204167</td>\n",
       "    </tr>\n",
       "  </tbody>\n",
       "</table>\n",
       "<p>5 rows × 116 columns</p>\n",
       "</div>"
      ],
      "text/plain": [
       "          subreddit post_id sentence_range  \\\n",
       "0              ptsd  8601tu       (15, 20)   \n",
       "1        assistance  8lbrx9         (0, 5)   \n",
       "2              ptsd  9ch1zh       (15, 20)   \n",
       "3     relationships  7rorpp        [5, 10]   \n",
       "4  survivorsofabuse  9p2gbc         [0, 5]   \n",
       "\n",
       "                                                text     id  label  \\\n",
       "0  He said he had not felt that way before, sugge...  33181      1   \n",
       "1  Hey there r/assistance, Not sure if this is th...   2606      0   \n",
       "2  My mom then hit me with the newspaper and it s...  38816      1   \n",
       "3  until i met my new boyfriend, he is amazing, h...    239      1   \n",
       "4  October is Domestic Violence Awareness Month a...   1421      1   \n",
       "\n",
       "   confidence  social_timestamp  social_karma  syntax_ari  ...  \\\n",
       "0         0.8        1521614353             5    1.806818  ...   \n",
       "1         1.0        1527009817             4    9.429737  ...   \n",
       "2         0.8        1535935605             2    7.769821  ...   \n",
       "3         0.6        1516429555             0    2.667798  ...   \n",
       "4         0.8        1539809005            24    7.554238  ...   \n",
       "\n",
       "   lex_dal_min_pleasantness  lex_dal_min_activation  lex_dal_min_imagery  \\\n",
       "0                     1.000                  1.1250                  1.0   \n",
       "1                     1.125                  1.0000                  1.0   \n",
       "2                     1.000                  1.1429                  1.0   \n",
       "3                     1.000                  1.1250                  1.0   \n",
       "4                     1.000                  1.1250                  1.0   \n",
       "\n",
       "   lex_dal_avg_activation  lex_dal_avg_imagery  lex_dal_avg_pleasantness  \\\n",
       "0                 1.77000              1.52211                   1.89556   \n",
       "1                 1.69586              1.62045                   1.88919   \n",
       "2                 1.83088              1.58108                   1.85828   \n",
       "3                 1.75356              1.52114                   1.98848   \n",
       "4                 1.77644              1.64872                   1.81456   \n",
       "\n",
       "   social_upvote_ratio  social_num_comments  syntax_fk_grade  sentiment  \n",
       "0                 0.86                    1         3.253573  -0.002742  \n",
       "1                 0.65                    2         8.828316   0.292857  \n",
       "2                 0.67                    0         7.841667   0.011894  \n",
       "3                 0.50                    5         4.104027   0.141671  \n",
       "4                 1.00                    1         7.910952  -0.204167  \n",
       "\n",
       "[5 rows x 116 columns]"
      ]
     },
     "execution_count": 118,
     "metadata": {},
     "output_type": "execute_result"
    }
   ],
   "source": [
    "data = pd.read_csv(PATH + '/data/Stress.csv')\n",
    "data.head()"
   ]
  },
  {
   "cell_type": "code",
   "execution_count": 119,
   "id": "2c07a23abf1a4469",
   "metadata": {
    "collapsed": false,
    "jupyter": {
     "outputs_hidden": false
    }
   },
   "outputs": [],
   "source": [
    "def filtter(text):\n",
    "    filtered_text = ''\n",
    "    for char in text:\n",
    "        if char not in ['/', '%', '&', '#', '@','.',',','(',')','!','\"',\"'\",':',';','/','{','}','[',']','+','=','-','*']: \n",
    "            filtered_text += char\n",
    "\n",
    "    return filtered_texts"
   ]
  },
  {
   "cell_type": "code",
   "execution_count": 120,
   "id": "4267beac",
   "metadata": {},
   "outputs": [
    {
     "data": {
      "text/plain": [
       "'text'"
      ]
     },
     "execution_count": 120,
     "metadata": {},
     "output_type": "execute_result"
    }
   ],
   "source": [
    "filtter('%text') #To test the Function"
   ]
  },
  {
   "cell_type": "code",
   "execution_count": 121,
   "id": "903dc193",
   "metadata": {},
   "outputs": [
    {
     "data": {
      "text/plain": [
       "0"
      ]
     },
     "execution_count": 121,
     "metadata": {},
     "output_type": "execute_result"
    }
   ],
   "source": [
    "data['text'].isna().sum() #Check if there is Null values in Text attrepute"
   ]
  },
  {
   "cell_type": "code",
   "execution_count": 122,
   "id": "7f58cf6a",
   "metadata": {},
   "outputs": [
    {
     "data": {
      "text/plain": [
       "0"
      ]
     },
     "execution_count": 122,
     "metadata": {},
     "output_type": "execute_result"
    }
   ],
   "source": [
    "data['label'].isna().sum() #Check if there is a null values"
   ]
  },
  {
   "cell_type": "code",
   "execution_count": 123,
   "id": "82349094",
   "metadata": {},
   "outputs": [],
   "source": [
    "data['text'] = [str(text) for text in data['text']] #To convert string to text"
   ]
  },
  {
   "cell_type": "code",
   "execution_count": 124,
   "id": "4e96f20f96b6ff6c",
   "metadata": {
    "ExecuteTime": {
     "end_time": "2023-08-11T04:05:22.047521249Z",
     "start_time": "2023-08-11T04:05:21.968998457Z"
    },
    "collapsed": false,
    "jupyter": {
     "outputs_hidden": false
    }
   },
   "outputs": [],
   "source": [
    "data['text'] = [filtter(text) for text in data['text']] #Take out the unwanted charecters"
   ]
  },
  {
   "cell_type": "code",
   "execution_count": 125,
   "id": "58ce8ef2",
   "metadata": {},
   "outputs": [],
   "source": [
    "data['text'] = [text.lower() for text in data['text']]"
   ]
  },
  {
   "cell_type": "code",
   "execution_count": 126,
   "id": "033ed4af",
   "metadata": {},
   "outputs": [
    {
     "data": {
      "text/plain": [
       "(2838, 116)"
      ]
     },
     "execution_count": 126,
     "metadata": {},
     "output_type": "execute_result"
    }
   ],
   "source": [
    "data.shape"
   ]
  },
  {
   "cell_type": "code",
   "execution_count": 127,
   "id": "d19ad114",
   "metadata": {},
   "outputs": [
    {
     "data": {
      "text/plain": [
       "{0, 1}"
      ]
     },
     "execution_count": 127,
     "metadata": {},
     "output_type": "execute_result"
    }
   ],
   "source": [
    "set(data['label']) #To insure if the data is clean"
   ]
  },
  {
   "cell_type": "code",
   "execution_count": 128,
   "id": "af7a79fa",
   "metadata": {},
   "outputs": [
    {
     "data": {
      "text/plain": [
       "0"
      ]
     },
     "execution_count": 128,
     "metadata": {},
     "output_type": "execute_result"
    }
   ],
   "source": [
    "data.isna().values.sum() #There is no Null values"
   ]
  },
  {
   "cell_type": "code",
   "execution_count": 129,
   "id": "879d8909",
   "metadata": {},
   "outputs": [],
   "source": [
    "categories = set(data['subreddit']) "
   ]
  },
  {
   "cell_type": "code",
   "execution_count": 130,
   "id": "9feeac5b",
   "metadata": {},
   "outputs": [
    {
     "data": {
      "text/html": [
       "<div>\n",
       "<style scoped>\n",
       "    .dataframe tbody tr th:only-of-type {\n",
       "        vertical-align: middle;\n",
       "    }\n",
       "\n",
       "    .dataframe tbody tr th {\n",
       "        vertical-align: top;\n",
       "    }\n",
       "\n",
       "    .dataframe thead th {\n",
       "        text-align: right;\n",
       "    }\n",
       "</style>\n",
       "<table border=\"1\" class=\"dataframe\">\n",
       "  <thead>\n",
       "    <tr style=\"text-align: right;\">\n",
       "      <th></th>\n",
       "      <th>subreddit</th>\n",
       "      <th>post_id</th>\n",
       "      <th>sentence_range</th>\n",
       "      <th>text</th>\n",
       "      <th>id</th>\n",
       "      <th>label</th>\n",
       "      <th>confidence</th>\n",
       "      <th>social_timestamp</th>\n",
       "      <th>social_karma</th>\n",
       "      <th>syntax_ari</th>\n",
       "      <th>...</th>\n",
       "      <th>lex_dal_min_pleasantness</th>\n",
       "      <th>lex_dal_min_activation</th>\n",
       "      <th>lex_dal_min_imagery</th>\n",
       "      <th>lex_dal_avg_activation</th>\n",
       "      <th>lex_dal_avg_imagery</th>\n",
       "      <th>lex_dal_avg_pleasantness</th>\n",
       "      <th>social_upvote_ratio</th>\n",
       "      <th>social_num_comments</th>\n",
       "      <th>syntax_fk_grade</th>\n",
       "      <th>sentiment</th>\n",
       "    </tr>\n",
       "  </thead>\n",
       "  <tbody>\n",
       "    <tr>\n",
       "      <th>0</th>\n",
       "      <td>ptsd</td>\n",
       "      <td>8601tu</td>\n",
       "      <td>(15, 20)</td>\n",
       "      <td>he said he had not felt that way before sugget...</td>\n",
       "      <td>33181</td>\n",
       "      <td>1</td>\n",
       "      <td>0.8</td>\n",
       "      <td>1521614353</td>\n",
       "      <td>5</td>\n",
       "      <td>1.806818</td>\n",
       "      <td>...</td>\n",
       "      <td>1.000</td>\n",
       "      <td>1.1250</td>\n",
       "      <td>1.0</td>\n",
       "      <td>1.77000</td>\n",
       "      <td>1.52211</td>\n",
       "      <td>1.89556</td>\n",
       "      <td>0.86</td>\n",
       "      <td>1</td>\n",
       "      <td>3.253573</td>\n",
       "      <td>-0.002742</td>\n",
       "    </tr>\n",
       "    <tr>\n",
       "      <th>1</th>\n",
       "      <td>assistance</td>\n",
       "      <td>8lbrx9</td>\n",
       "      <td>(0, 5)</td>\n",
       "      <td>hey there rassistance not sure if this is the ...</td>\n",
       "      <td>2606</td>\n",
       "      <td>0</td>\n",
       "      <td>1.0</td>\n",
       "      <td>1527009817</td>\n",
       "      <td>4</td>\n",
       "      <td>9.429737</td>\n",
       "      <td>...</td>\n",
       "      <td>1.125</td>\n",
       "      <td>1.0000</td>\n",
       "      <td>1.0</td>\n",
       "      <td>1.69586</td>\n",
       "      <td>1.62045</td>\n",
       "      <td>1.88919</td>\n",
       "      <td>0.65</td>\n",
       "      <td>2</td>\n",
       "      <td>8.828316</td>\n",
       "      <td>0.292857</td>\n",
       "    </tr>\n",
       "    <tr>\n",
       "      <th>2</th>\n",
       "      <td>ptsd</td>\n",
       "      <td>9ch1zh</td>\n",
       "      <td>(15, 20)</td>\n",
       "      <td>my mom then hit me with the newspaper and it s...</td>\n",
       "      <td>38816</td>\n",
       "      <td>1</td>\n",
       "      <td>0.8</td>\n",
       "      <td>1535935605</td>\n",
       "      <td>2</td>\n",
       "      <td>7.769821</td>\n",
       "      <td>...</td>\n",
       "      <td>1.000</td>\n",
       "      <td>1.1429</td>\n",
       "      <td>1.0</td>\n",
       "      <td>1.83088</td>\n",
       "      <td>1.58108</td>\n",
       "      <td>1.85828</td>\n",
       "      <td>0.67</td>\n",
       "      <td>0</td>\n",
       "      <td>7.841667</td>\n",
       "      <td>0.011894</td>\n",
       "    </tr>\n",
       "    <tr>\n",
       "      <th>3</th>\n",
       "      <td>relationships</td>\n",
       "      <td>7rorpp</td>\n",
       "      <td>[5, 10]</td>\n",
       "      <td>until i met my new boyfriend he is amazing he ...</td>\n",
       "      <td>239</td>\n",
       "      <td>1</td>\n",
       "      <td>0.6</td>\n",
       "      <td>1516429555</td>\n",
       "      <td>0</td>\n",
       "      <td>2.667798</td>\n",
       "      <td>...</td>\n",
       "      <td>1.000</td>\n",
       "      <td>1.1250</td>\n",
       "      <td>1.0</td>\n",
       "      <td>1.75356</td>\n",
       "      <td>1.52114</td>\n",
       "      <td>1.98848</td>\n",
       "      <td>0.50</td>\n",
       "      <td>5</td>\n",
       "      <td>4.104027</td>\n",
       "      <td>0.141671</td>\n",
       "    </tr>\n",
       "    <tr>\n",
       "      <th>4</th>\n",
       "      <td>survivorsofabuse</td>\n",
       "      <td>9p2gbc</td>\n",
       "      <td>[0, 5]</td>\n",
       "      <td>october is domestic violence awareness month a...</td>\n",
       "      <td>1421</td>\n",
       "      <td>1</td>\n",
       "      <td>0.8</td>\n",
       "      <td>1539809005</td>\n",
       "      <td>24</td>\n",
       "      <td>7.554238</td>\n",
       "      <td>...</td>\n",
       "      <td>1.000</td>\n",
       "      <td>1.1250</td>\n",
       "      <td>1.0</td>\n",
       "      <td>1.77644</td>\n",
       "      <td>1.64872</td>\n",
       "      <td>1.81456</td>\n",
       "      <td>1.00</td>\n",
       "      <td>1</td>\n",
       "      <td>7.910952</td>\n",
       "      <td>-0.204167</td>\n",
       "    </tr>\n",
       "  </tbody>\n",
       "</table>\n",
       "<p>5 rows × 116 columns</p>\n",
       "</div>"
      ],
      "text/plain": [
       "          subreddit post_id sentence_range  \\\n",
       "0              ptsd  8601tu       (15, 20)   \n",
       "1        assistance  8lbrx9         (0, 5)   \n",
       "2              ptsd  9ch1zh       (15, 20)   \n",
       "3     relationships  7rorpp        [5, 10]   \n",
       "4  survivorsofabuse  9p2gbc         [0, 5]   \n",
       "\n",
       "                                                text     id  label  \\\n",
       "0  he said he had not felt that way before sugget...  33181      1   \n",
       "1  hey there rassistance not sure if this is the ...   2606      0   \n",
       "2  my mom then hit me with the newspaper and it s...  38816      1   \n",
       "3  until i met my new boyfriend he is amazing he ...    239      1   \n",
       "4  october is domestic violence awareness month a...   1421      1   \n",
       "\n",
       "   confidence  social_timestamp  social_karma  syntax_ari  ...  \\\n",
       "0         0.8        1521614353             5    1.806818  ...   \n",
       "1         1.0        1527009817             4    9.429737  ...   \n",
       "2         0.8        1535935605             2    7.769821  ...   \n",
       "3         0.6        1516429555             0    2.667798  ...   \n",
       "4         0.8        1539809005            24    7.554238  ...   \n",
       "\n",
       "   lex_dal_min_pleasantness  lex_dal_min_activation  lex_dal_min_imagery  \\\n",
       "0                     1.000                  1.1250                  1.0   \n",
       "1                     1.125                  1.0000                  1.0   \n",
       "2                     1.000                  1.1429                  1.0   \n",
       "3                     1.000                  1.1250                  1.0   \n",
       "4                     1.000                  1.1250                  1.0   \n",
       "\n",
       "   lex_dal_avg_activation  lex_dal_avg_imagery  lex_dal_avg_pleasantness  \\\n",
       "0                 1.77000              1.52211                   1.89556   \n",
       "1                 1.69586              1.62045                   1.88919   \n",
       "2                 1.83088              1.58108                   1.85828   \n",
       "3                 1.75356              1.52114                   1.98848   \n",
       "4                 1.77644              1.64872                   1.81456   \n",
       "\n",
       "   social_upvote_ratio  social_num_comments  syntax_fk_grade  sentiment  \n",
       "0                 0.86                    1         3.253573  -0.002742  \n",
       "1                 0.65                    2         8.828316   0.292857  \n",
       "2                 0.67                    0         7.841667   0.011894  \n",
       "3                 0.50                    5         4.104027   0.141671  \n",
       "4                 1.00                    1         7.910952  -0.204167  \n",
       "\n",
       "[5 rows x 116 columns]"
      ]
     },
     "execution_count": 130,
     "metadata": {},
     "output_type": "execute_result"
    }
   ],
   "source": [
    "data.head()"
   ]
  },
  {
   "cell_type": "code",
   "execution_count": 131,
   "id": "fb757e73",
   "metadata": {},
   "outputs": [],
   "source": [
    "from random import randint"
   ]
  },
  {
   "cell_type": "code",
   "execution_count": 132,
   "id": "8b8b27ba",
   "metadata": {},
   "outputs": [],
   "source": [
    "def counting_summation_per_category(data = data ,categories = categories):\n",
    "    \n",
    "    analytical_table = {\n",
    "        'Categories': [],\n",
    "        'Total posts' : [],\n",
    "        'Number of Positive posts' : [],\n",
    "        'Ratio' : []\n",
    "    }\n",
    "\n",
    "    for cat in categories:\n",
    "        temp_data = data[data['subreddit'] == cat]\n",
    "        total_len = len(temp_data)\n",
    "        temp_data_positive = temp_data[temp_data['label'] == 1]\n",
    "        positive_len = len(temp_data_positive)\n",
    "        ratio_of_stress = (positive_len / total_len) * 100\n",
    "        print(f\"{cat} having {ratio_of_stress} % of labeld data\")\n",
    "        print(\"_____________________________________________________\")\n",
    "        analytical_table['Categories'].append(str(cat))\n",
    "        analytical_table['Total posts'].append(int(total_len))\n",
    "        analytical_table['Number of Positive posts'].append(int(positive_len))\n",
    "        analytical_table['Ratio'].append(float(ratio_of_stress))\n",
    "\n",
    "    analytical_dataframe = pd.DataFrame(analytical_table)\n",
    "    analytical_dataframe = analytical_dataframe.sort_values(by= 'Ratio')\n",
    "\n",
    "    plt.bar(analytical_dataframe['Categories'], analytical_dataframe['Ratio'])\n",
    "    plt.xlabel(\"categories\")\n",
    "    plt.ylabel(\"Ratio of stress postes\")\n",
    "    plt.title(\"No. of Strees posts per Category\")\n",
    "    plt.figure(figsize=(19.2,10.8))\n",
    "    try:\n",
    "        plt.savefig(PATH + '/graphs/counting_summation_per_category.png')\n",
    "    except:\n",
    "        name = str(randint)\n",
    "        plt.savefig(PATH + f'/graphs/{name}')\n",
    "    return plt.show()\n",
    "\n",
    "\n"
   ]
  },
  {
   "cell_type": "code",
   "execution_count": 133,
   "id": "c140ccb5",
   "metadata": {},
   "outputs": [
    {
     "name": "stdout",
     "output_type": "stream",
     "text": [
      "anxiety having 65.8051689860835 % of labeld data\n",
      "_____________________________________________________\n",
      "ptsd having 56.849315068493155 % of labeld data\n",
      "_____________________________________________________\n",
      "stress having 54.6875 % of labeld data\n",
      "_____________________________________________________\n",
      "almosthomeless having 58.75 % of labeld data\n",
      "_____________________________________________________\n",
      "homeless having 37.5 % of labeld data\n",
      "_____________________________________________________\n",
      "survivorsofabuse having 45.714285714285715 % of labeld data\n",
      "_____________________________________________________\n",
      "domesticviolence having 63.92405063291139 % of labeld data\n",
      "_____________________________________________________\n",
      "relationships having 44.7463768115942 % of labeld data\n",
      "_____________________________________________________\n",
      "food_pantry having 37.83783783783784 % of labeld data\n",
      "_____________________________________________________\n",
      "assistance having 36.332179930795846 % of labeld data\n",
      "_____________________________________________________\n"
     ]
    },
    {
     "data": {
      "image/png": "[encoded data removed]",
      "text/plain": [
       "<Figure size 640x480 with 1 Axes>"
      ]
     },
     "metadata": {},
     "output_type": "display_data"
    },
    {
     "data": {
      "text/plain": [
       "<Figure size 1920x1080 with 0 Axes>"
      ]
     },
     "metadata": {},
     "output_type": "display_data"
    }
   ],
   "source": [
    "counting_summation_per_category()"
   ]
  },
  {
   "cell_type": "code",
   "execution_count": 134,
   "id": "345c5fb5",
   "metadata": {},
   "outputs": [
    {
     "data": {
      "text/plain": [
       "array([[<Axes: title={'center': 'id'}>,\n",
       "        <Axes: title={'center': 'label'}>,\n",
       "        <Axes: title={'center': 'confidence'}>,\n",
       "        <Axes: title={'center': 'social_timestamp'}>,\n",
       "        <Axes: title={'center': 'social_karma'}>,\n",
       "        <Axes: title={'center': 'syntax_ari'}>,\n",
       "        <Axes: title={'center': 'lex_liwc_WC'}>,\n",
       "        <Axes: title={'center': 'lex_liwc_Analytic'}>,\n",
       "        <Axes: title={'center': 'lex_liwc_Clout'}>,\n",
       "        <Axes: title={'center': 'lex_liwc_Authentic'}>,\n",
       "        <Axes: title={'center': 'lex_liwc_Tone'}>],\n",
       "       [<Axes: title={'center': 'lex_liwc_WPS'}>,\n",
       "        <Axes: title={'center': 'lex_liwc_Sixltr'}>,\n",
       "        <Axes: title={'center': 'lex_liwc_Dic'}>,\n",
       "        <Axes: title={'center': 'lex_liwc_function'}>,\n",
       "        <Axes: title={'center': 'lex_liwc_pronoun'}>,\n",
       "        <Axes: title={'center': 'lex_liwc_ppron'}>,\n",
       "        <Axes: title={'center': 'lex_liwc_i'}>,\n",
       "        <Axes: title={'center': 'lex_liwc_we'}>,\n",
       "        <Axes: title={'center': 'lex_liwc_you'}>,\n",
       "        <Axes: title={'center': 'lex_liwc_shehe'}>,\n",
       "        <Axes: title={'center': 'lex_liwc_they'}>],\n",
       "       [<Axes: title={'center': 'lex_liwc_ipron'}>,\n",
       "        <Axes: title={'center': 'lex_liwc_article'}>,\n",
       "        <Axes: title={'center': 'lex_liwc_prep'}>,\n",
       "        <Axes: title={'center': 'lex_liwc_auxverb'}>,\n",
       "        <Axes: title={'center': 'lex_liwc_adverb'}>,\n",
       "        <Axes: title={'center': 'lex_liwc_conj'}>,\n",
       "        <Axes: title={'center': 'lex_liwc_negate'}>,\n",
       "        <Axes: title={'center': 'lex_liwc_verb'}>,\n",
       "        <Axes: title={'center': 'lex_liwc_adj'}>,\n",
       "        <Axes: title={'center': 'lex_liwc_compare'}>,\n",
       "        <Axes: title={'center': 'lex_liwc_interrog'}>],\n",
       "       [<Axes: title={'center': 'lex_liwc_number'}>,\n",
       "        <Axes: title={'center': 'lex_liwc_quant'}>,\n",
       "        <Axes: title={'center': 'lex_liwc_affect'}>,\n",
       "        <Axes: title={'center': 'lex_liwc_posemo'}>,\n",
       "        <Axes: title={'center': 'lex_liwc_negemo'}>,\n",
       "        <Axes: title={'center': 'lex_liwc_anx'}>,\n",
       "        <Axes: title={'center': 'lex_liwc_anger'}>,\n",
       "        <Axes: title={'center': 'lex_liwc_sad'}>,\n",
       "        <Axes: title={'center': 'lex_liwc_social'}>,\n",
       "        <Axes: title={'center': 'lex_liwc_family'}>,\n",
       "        <Axes: title={'center': 'lex_liwc_friend'}>],\n",
       "       [<Axes: title={'center': 'lex_liwc_female'}>,\n",
       "        <Axes: title={'center': 'lex_liwc_male'}>,\n",
       "        <Axes: title={'center': 'lex_liwc_cogproc'}>,\n",
       "        <Axes: title={'center': 'lex_liwc_insight'}>,\n",
       "        <Axes: title={'center': 'lex_liwc_cause'}>,\n",
       "        <Axes: title={'center': 'lex_liwc_discrep'}>,\n",
       "        <Axes: title={'center': 'lex_liwc_tentat'}>,\n",
       "        <Axes: title={'center': 'lex_liwc_certain'}>,\n",
       "        <Axes: title={'center': 'lex_liwc_differ'}>,\n",
       "        <Axes: title={'center': 'lex_liwc_percept'}>,\n",
       "        <Axes: title={'center': 'lex_liwc_see'}>],\n",
       "       [<Axes: title={'center': 'lex_liwc_hear'}>,\n",
       "        <Axes: title={'center': 'lex_liwc_feel'}>,\n",
       "        <Axes: title={'center': 'lex_liwc_bio'}>,\n",
       "        <Axes: title={'center': 'lex_liwc_body'}>,\n",
       "        <Axes: title={'center': 'lex_liwc_health'}>,\n",
       "        <Axes: title={'center': 'lex_liwc_sexual'}>,\n",
       "        <Axes: title={'center': 'lex_liwc_ingest'}>,\n",
       "        <Axes: title={'center': 'lex_liwc_drives'}>,\n",
       "        <Axes: title={'center': 'lex_liwc_affiliation'}>,\n",
       "        <Axes: title={'center': 'lex_liwc_achieve'}>,\n",
       "        <Axes: title={'center': 'lex_liwc_power'}>],\n",
       "       [<Axes: title={'center': 'lex_liwc_reward'}>,\n",
       "        <Axes: title={'center': 'lex_liwc_risk'}>,\n",
       "        <Axes: title={'center': 'lex_liwc_focuspast'}>,\n",
       "        <Axes: title={'center': 'lex_liwc_focuspresent'}>,\n",
       "        <Axes: title={'center': 'lex_liwc_focusfuture'}>,\n",
       "        <Axes: title={'center': 'lex_liwc_relativ'}>,\n",
       "        <Axes: title={'center': 'lex_liwc_motion'}>,\n",
       "        <Axes: title={'center': 'lex_liwc_space'}>,\n",
       "        <Axes: title={'center': 'lex_liwc_time'}>,\n",
       "        <Axes: title={'center': 'lex_liwc_work'}>,\n",
       "        <Axes: title={'center': 'lex_liwc_leisure'}>],\n",
       "       [<Axes: title={'center': 'lex_liwc_home'}>,\n",
       "        <Axes: title={'center': 'lex_liwc_money'}>,\n",
       "        <Axes: title={'center': 'lex_liwc_relig'}>,\n",
       "        <Axes: title={'center': 'lex_liwc_death'}>,\n",
       "        <Axes: title={'center': 'lex_liwc_informal'}>,\n",
       "        <Axes: title={'center': 'lex_liwc_swear'}>,\n",
       "        <Axes: title={'center': 'lex_liwc_netspeak'}>,\n",
       "        <Axes: title={'center': 'lex_liwc_assent'}>,\n",
       "        <Axes: title={'center': 'lex_liwc_nonflu'}>,\n",
       "        <Axes: title={'center': 'lex_liwc_filler'}>,\n",
       "        <Axes: title={'center': 'lex_liwc_AllPunc'}>],\n",
       "       [<Axes: title={'center': 'lex_liwc_Period'}>,\n",
       "        <Axes: title={'center': 'lex_liwc_Comma'}>,\n",
       "        <Axes: title={'center': 'lex_liwc_Colon'}>,\n",
       "        <Axes: title={'center': 'lex_liwc_SemiC'}>,\n",
       "        <Axes: title={'center': 'lex_liwc_QMark'}>,\n",
       "        <Axes: title={'center': 'lex_liwc_Exclam'}>,\n",
       "        <Axes: title={'center': 'lex_liwc_Dash'}>,\n",
       "        <Axes: title={'center': 'lex_liwc_Quote'}>,\n",
       "        <Axes: title={'center': 'lex_liwc_Apostro'}>,\n",
       "        <Axes: title={'center': 'lex_liwc_Parenth'}>,\n",
       "        <Axes: title={'center': 'lex_liwc_OtherP'}>],\n",
       "       [<Axes: title={'center': 'lex_dal_max_pleasantness'}>,\n",
       "        <Axes: title={'center': 'lex_dal_max_activation'}>,\n",
       "        <Axes: title={'center': 'lex_dal_max_imagery'}>,\n",
       "        <Axes: title={'center': 'lex_dal_min_pleasantness'}>,\n",
       "        <Axes: title={'center': 'lex_dal_min_activation'}>,\n",
       "        <Axes: title={'center': 'lex_dal_min_imagery'}>,\n",
       "        <Axes: title={'center': 'lex_dal_avg_activation'}>,\n",
       "        <Axes: title={'center': 'lex_dal_avg_imagery'}>,\n",
       "        <Axes: title={'center': 'lex_dal_avg_pleasantness'}>,\n",
       "        <Axes: title={'center': 'social_upvote_ratio'}>,\n",
       "        <Axes: title={'center': 'social_num_comments'}>],\n",
       "       [<Axes: title={'center': 'syntax_fk_grade'}>,\n",
       "        <Axes: title={'center': 'sentiment'}>, <Axes: >, <Axes: >,\n",
       "        <Axes: >, <Axes: >, <Axes: >, <Axes: >, <Axes: >, <Axes: >,\n",
       "        <Axes: >]], dtype=object)"
      ]
     },
     "execution_count": 134,
     "metadata": {},
     "output_type": "execute_result"
    },
    {
     "data": {
      "image/png": "[encoded data removed]",
      "text/plain": [
       "<Figure size 640x480 with 121 Axes>"
      ]
     },
     "metadata": {},
     "output_type": "display_data"
    }
   ],
   "source": [
    "data.hist()"
   ]
  },
  {
   "cell_type": "code",
   "execution_count": 135,
   "id": "dea8afd76142f77c",
   "metadata": {
    "ExecuteTime": {
     "end_time": "2023-08-11T04:05:22.068407678Z",
     "start_time": "2023-08-11T04:05:22.027097969Z"
    },
    "collapsed": false,
    "jupyter": {
     "outputs_hidden": false
    }
   },
   "outputs": [],
   "source": [
    "stopwordsfile = open(PATH + '//Data//english', \"r\")"
   ]
  },
  {
   "cell_type": "code",
   "execution_count": 136,
   "id": "8fd81ff7",
   "metadata": {},
   "outputs": [],
   "source": [
    "stopwords = stopwordsfile.read()"
   ]
  },
  {
   "cell_type": "code",
   "execution_count": 137,
   "id": "dae856bf",
   "metadata": {},
   "outputs": [
    {
     "data": {
      "text/plain": [
       "\"i\\nme\\nmy\\nmyself\\nwe\\nour\\nours\\nourselves\\nyou\\nyou're\\nyou've\\nyou'll\\nyou'd\\nyour\\nyours\\nyourself\\nyourselves\\nhe\\nhim\\nhis\\nhimself\\nshe\\nshe's\\nher\\nhers\\nherself\\nit\\nit's\\nits\\nitself\\nthey\\nthem\\ntheir\\ntheirs\\nthemselves\\nwhat\\nwhich\\nwho\\nwhom\\nthis\\nthat\\nthat'll\\nthese\\nthose\\nam\\nis\\nare\\nwas\\nwere\\nbe\\nbeen\\nbeing\\nhave\\nhas\\nhad\\nhaving\\ndo\\ndoes\\ndid\\ndoing\\na\\nan\\nthe\\nand\\nbut\\nif\\nor\\nbecause\\nas\\nuntil\\nwhile\\nof\\nat\\nby\\nfor\\nwith\\nabout\\nagainst\\nbetween\\ninto\\nthrough\\nduring\\nbefore\\nafter\\nabove\\nbelow\\nto\\nfrom\\nup\\ndown\\nin\\nout\\non\\noff\\nover\\nunder\\nagain\\nfurther\\nthen\\nonce\\nhere\\nthere\\nwhen\\nwhere\\nwhy\\nhow\\nall\\nany\\nboth\\neach\\nfew\\nmore\\nmost\\nother\\nsome\\nsuch\\nno\\nnor\\nnot\\nonly\\nown\\nsame\\nso\\nthan\\ntoo\\nvery\\ns\\nt\\ncan\\nwill\\njust\\ndon\\ndon't\\nshould\\nshould've\\nnow\\nd\\nll\\nm\\no\\nre\\nve\\ny\\nain\\naren\\naren't\\ncouldn\\ncouldn't\\ndidn\\ndidn't\\ndoesn\\ndoesn't\\nhadn\\nhadn't\\nhasn\\nhasn't\\nhaven\\nhaven't\\nisn\\nisn't\\nma\\nmightn\\nmightn't\\nmustn\\nmustn't\\nneedn\\nneedn't\\nshan\\nshan't\\nshouldn\\nshouldn't\\nwasn\\nwasn't\\nweren\\nweren't\\nwon\\nwon't\\nwouldn\\nwouldn't\\n\""
      ]
     },
     "execution_count": 137,
     "metadata": {},
     "output_type": "execute_result"
    }
   ],
   "source": [
    "stopwords"
   ]
  },
  {
   "cell_type": "code",
   "execution_count": 138,
   "id": "7b4c234d8d52adad",
   "metadata": {
    "ExecuteTime": {
     "end_time": "2023-08-11T04:05:22.093153082Z",
     "start_time": "2023-08-11T04:05:22.032955257Z"
    },
    "collapsed": false,
    "jupyter": {
     "outputs_hidden": false
    }
   },
   "outputs": [],
   "source": [
    "X = data['text']\n",
    "y = data['label']"
   ]
  },
  {
   "cell_type": "code",
   "execution_count": 139,
   "id": "9003e294",
   "metadata": {},
   "outputs": [
    {
     "data": {
      "text/plain": [
       "0    he said he had not felt that way before sugget...\n",
       "1    hey there rassistance not sure if this is the ...\n",
       "2    my mom then hit me with the newspaper and it s...\n",
       "3    until i met my new boyfriend he is amazing he ...\n",
       "4    october is domestic violence awareness month a...\n",
       "Name: text, dtype: object"
      ]
     },
     "execution_count": 139,
     "metadata": {},
     "output_type": "execute_result"
    }
   ],
   "source": [
    "X.head()"
   ]
  },
  {
   "cell_type": "code",
   "execution_count": 140,
   "id": "13c2f38a",
   "metadata": {},
   "outputs": [
    {
     "data": {
      "text/plain": [
       "0       he said he had not felt that way before sugget...\n",
       "1       hey there rassistance not sure if this is the ...\n",
       "2       my mom then hit me with the newspaper and it s...\n",
       "3       until i met my new boyfriend he is amazing he ...\n",
       "4       october is domestic violence awareness month a...\n",
       "                              ...                        \n",
       "2833    * her a week ago: precious how are you? (i ign...\n",
       "2834    i don't have the ability to cope with it anymo...\n",
       "2835    in case this is the first time you're reading ...\n",
       "2836    do you find this normal? they have a good rela...\n",
       "2837    i was talking to my mom this morning and she s...\n",
       "Name: text, Length: 2838, dtype: object"
      ]
     },
     "execution_count": 140,
     "metadata": {},
     "output_type": "execute_result"
    }
   ],
   "source": [
    "X"
   ]
  },
  {
   "cell_type": "code",
   "execution_count": 141,
   "id": "b7d33831",
   "metadata": {},
   "outputs": [],
   "source": [
    "for text in X:\n",
    "    text = text.lower()\n"
   ]
  },
  {
   "cell_type": "code",
   "execution_count": 142,
   "id": "7cd9ae4a",
   "metadata": {},
   "outputs": [],
   "source": [
    "for text in X:\n",
    "    text = filtter(text)"
   ]
  },
  {
   "cell_type": "code",
   "execution_count": 143,
   "id": "472d23d8230376bf",
   "metadata": {
    "ExecuteTime": {
     "end_time": "2023-08-11T04:05:22.093719587Z",
     "start_time": "2023-08-11T04:05:22.076002788Z"
    },
    "collapsed": false,
    "jupyter": {
     "outputs_hidden": false
    }
   },
   "outputs": [],
   "source": [
    "def stopword_exclude(text, stopwords = stopwords):\n",
    "    text = text.lower()\n",
    "    words = text.split()  # Tokenize the text into words\n",
    "    filtered_text = [word for word in words if word not in stopwords]\n",
    "    \n",
    "    return ' '.join(filtered_text)  # Joining words back into a string\n",
    "\n",
    "        "
   ]
  },
  {
   "cell_type": "code",
   "execution_count": 144,
   "id": "469f243b5e4734d5",
   "metadata": {
    "ExecuteTime": {
     "end_time": "2024-01-25T05:27:39.330181900Z",
     "start_time": "2024-01-25T05:27:37.613890Z"
    },
    "collapsed": false,
    "jupyter": {
     "outputs_hidden": false
    }
   },
   "outputs": [],
   "source": [
    "temp = []\n",
    "\n",
    "\n",
    "for text in X:\n",
    "    temp.append(stopword_exclude(text))\n",
    "\n",
    "    \n",
    "X = pd.Series(temp)"
   ]
  },
  {
   "cell_type": "code",
   "execution_count": 145,
   "id": "ba67d7e0",
   "metadata": {},
   "outputs": [
    {
     "data": {
      "text/plain": [
       "(2838,)"
      ]
     },
     "execution_count": 145,
     "metadata": {},
     "output_type": "execute_result"
    }
   ],
   "source": [
    "X.shape"
   ]
  },
  {
   "cell_type": "code",
   "execution_count": 146,
   "id": "71c9d059",
   "metadata": {},
   "outputs": [
    {
     "data": {
      "text/plain": [
       "(2838,)"
      ]
     },
     "execution_count": 146,
     "metadata": {},
     "output_type": "execute_result"
    }
   ],
   "source": [
    "y.shape"
   ]
  },
  {
   "cell_type": "code",
   "execution_count": null,
   "id": "962af068",
   "metadata": {},
   "outputs": [],
   "source": []
  },
  {
   "cell_type": "code",
   "execution_count": 147,
   "id": "bde443c8",
   "metadata": {},
   "outputs": [
    {
     "data": {
      "text/plain": [
       "0    said felt way suggeted go rest trigger ahead y...\n",
       "1    rassistance sure right place post goes =) i'm ...\n",
       "2    mom hit newspaper shocked knows like play hitt...\n",
       "3    met new boyfriend amazing kind sweet good stud...\n",
       "4    october domestic violence awareness month dome...\n",
       "dtype: object"
      ]
     },
     "execution_count": 147,
     "metadata": {},
     "output_type": "execute_result"
    }
   ],
   "source": [
    "X.head()"
   ]
  },
  {
   "cell_type": "code",
   "execution_count": 148,
   "id": "b72dd206",
   "metadata": {},
   "outputs": [],
   "source": [
    "tfidf_vectorizer = TfidfVectorizer()"
   ]
  },
  {
   "cell_type": "code",
   "execution_count": 149,
   "id": "95ee4160",
   "metadata": {},
   "outputs": [],
   "source": [
    "#X = tfidf_vectorizer.fit_transform(X) #If X is been tokenized the model is going to be biased"
   ]
  },
  {
   "cell_type": "code",
   "execution_count": 150,
   "id": "6fd878d9ff0aa7af",
   "metadata": {
    "ExecuteTime": {
     "end_time": "2023-08-11T04:05:22.094209160Z",
     "start_time": "2023-08-11T04:05:22.076780217Z"
    },
    "collapsed": false,
    "jupyter": {
     "outputs_hidden": false
    }
   },
   "outputs": [],
   "source": [
    "from sklearn.model_selection import train_test_split\n"
   ]
  },
  {
   "cell_type": "code",
   "execution_count": 151,
   "id": "b5c77980e68b1ea9",
   "metadata": {
    "ExecuteTime": {
     "end_time": "2023-08-11T04:05:22.094415430Z",
     "start_time": "2023-08-11T04:05:22.077139508Z"
    },
    "collapsed": false,
    "jupyter": {
     "outputs_hidden": false
    }
   },
   "outputs": [],
   "source": [
    "X_train, X_test, y_train, y_test = train_test_split(X,y, test_size=0.3, random_state=10)"
   ]
  },
  {
   "cell_type": "code",
   "execution_count": 152,
   "id": "26e95a140c2b0368",
   "metadata": {
    "ExecuteTime": {
     "end_time": "2023-08-11T04:05:22.094759310Z",
     "start_time": "2023-08-11T04:05:22.077587062Z"
    },
    "collapsed": false,
    "jupyter": {
     "outputs_hidden": false
    }
   },
   "outputs": [],
   "source": [
    "X_train = tfidf_vectorizer.fit_transform(X_train)"
   ]
  },
  {
   "cell_type": "code",
   "execution_count": 153,
   "id": "69f193d91b0a06e3",
   "metadata": {
    "ExecuteTime": {
     "end_time": "2023-08-11T04:05:22.354164149Z",
     "start_time": "2023-08-11T04:05:22.333801418Z"
    },
    "collapsed": false,
    "jupyter": {
     "outputs_hidden": false
    }
   },
   "outputs": [],
   "source": [
    "#from sklearn.pipeline import Pipeline\n",
    "from sklearn.linear_model import LogisticRegression\n",
    "from sklearn.svm import SVC\n",
    "from sklearn.tree import DecisionTreeClassifier\n",
    "from sklearn.ensemble import BaggingClassifier\n",
    "\n"
   ]
  },
  {
   "cell_type": "code",
   "execution_count": 154,
   "id": "fd5ed1e9d04f6ff0",
   "metadata": {
    "ExecuteTime": {
     "end_time": "2023-08-11T04:05:22.354393891Z",
     "start_time": "2023-08-11T04:05:22.334004204Z"
    },
    "collapsed": false,
    "jupyter": {
     "outputs_hidden": false
    }
   },
   "outputs": [],
   "source": [
    "model = SVC()"
   ]
  },
  {
   "cell_type": "code",
   "execution_count": 155,
   "id": "2f92b128",
   "metadata": {},
   "outputs": [
    {
     "data": {
      "text/plain": [
       "<1986x9826 sparse matrix of type '<class 'numpy.float64'>'\n",
       "\twith 70521 stored elements in Compressed Sparse Row format>"
      ]
     },
     "execution_count": 155,
     "metadata": {},
     "output_type": "execute_result"
    }
   ],
   "source": [
    "\n",
    "X_train"
   ]
  },
  {
   "cell_type": "code",
   "execution_count": 156,
   "id": "4bd69581",
   "metadata": {},
   "outputs": [
    {
     "data": {
      "text/plain": [
       "450     0\n",
       "2551    0\n",
       "1529    0\n",
       "343     1\n",
       "2590    1\n",
       "       ..\n",
       "2009    0\n",
       "1180    0\n",
       "1344    0\n",
       "527     1\n",
       "1289    0\n",
       "Name: label, Length: 1986, dtype: int64"
      ]
     },
     "execution_count": 156,
     "metadata": {},
     "output_type": "execute_result"
    }
   ],
   "source": [
    "y_train"
   ]
  },
  {
   "cell_type": "code",
   "execution_count": null,
   "id": "180fdc3f",
   "metadata": {},
   "outputs": [],
   "source": []
  },
  {
   "cell_type": "code",
   "execution_count": null,
   "id": "d65f11bb",
   "metadata": {},
   "outputs": [],
   "source": []
  },
  {
   "cell_type": "code",
   "execution_count": null,
   "id": "9388b875",
   "metadata": {},
   "outputs": [],
   "source": []
  },
  {
   "cell_type": "code",
   "execution_count": null,
   "id": "68c4fb7b",
   "metadata": {},
   "outputs": [],
   "source": []
  },
  {
   "cell_type": "code",
   "execution_count": 157,
   "id": "20fe1fa0",
   "metadata": {},
   "outputs": [
    {
     "data": {
      "text/html": [
       "<style>#sk-container-id-3 {\n",
       "  /* Definition of color scheme common for light and dark mode */\n",
       "  --sklearn-color-text: black;\n",
       "  --sklearn-color-line: gray;\n",
       "  /* Definition of color scheme for unfitted estimators */\n",
       "  --sklearn-color-unfitted-level-0: #fff5e6;\n",
       "  --sklearn-color-unfitted-level-1: #f6e4d2;\n",
       "  --sklearn-color-unfitted-level-2: #ffe0b3;\n",
       "  --sklearn-color-unfitted-level-3: chocolate;\n",
       "  /* Definition of color scheme for fitted estimators */\n",
       "  --sklearn-color-fitted-level-0: #f0f8ff;\n",
       "  --sklearn-color-fitted-level-1: #d4ebff;\n",
       "  --sklearn-color-fitted-level-2: #b3dbfd;\n",
       "  --sklearn-color-fitted-level-3: cornflowerblue;\n",
       "\n",
       "  /* Specific color for light theme */\n",
       "  --sklearn-color-text-on-default-background: var(--sg-text-color, var(--theme-code-foreground, var(--jp-content-font-color1, black)));\n",
       "  --sklearn-color-background: var(--sg-background-color, var(--theme-background, var(--jp-layout-color0, white)));\n",
       "  --sklearn-color-border-box: var(--sg-text-color, var(--theme-code-foreground, var(--jp-content-font-color1, black)));\n",
       "  --sklearn-color-icon: #696969;\n",
       "\n",
       "  @media (prefers-color-scheme: dark) {\n",
       "    /* Redefinition of color scheme for dark theme */\n",
       "    --sklearn-color-text-on-default-background: var(--sg-text-color, var(--theme-code-foreground, var(--jp-content-font-color1, white)));\n",
       "    --sklearn-color-background: var(--sg-background-color, var(--theme-background, var(--jp-layout-color0, #111)));\n",
       "    --sklearn-color-border-box: var(--sg-text-color, var(--theme-code-foreground, var(--jp-content-font-color1, white)));\n",
       "    --sklearn-color-icon: #878787;\n",
       "  }\n",
       "}\n",
       "\n",
       "#sk-container-id-3 {\n",
       "  color: var(--sklearn-color-text);\n",
       "}\n",
       "\n",
       "#sk-container-id-3 pre {\n",
       "  padding: 0;\n",
       "}\n",
       "\n",
       "#sk-container-id-3 input.sk-hidden--visually {\n",
       "  border: 0;\n",
       "  clip: rect(1px 1px 1px 1px);\n",
       "  clip: rect(1px, 1px, 1px, 1px);\n",
       "  height: 1px;\n",
       "  margin: -1px;\n",
       "  overflow: hidden;\n",
       "  padding: 0;\n",
       "  position: absolute;\n",
       "  width: 1px;\n",
       "}\n",
       "\n",
       "#sk-container-id-3 div.sk-dashed-wrapped {\n",
       "  border: 1px dashed var(--sklearn-color-line);\n",
       "  margin: 0 0.4em 0.5em 0.4em;\n",
       "  box-sizing: border-box;\n",
       "  padding-bottom: 0.4em;\n",
       "  background-color: var(--sklearn-color-background);\n",
       "}\n",
       "\n",
       "#sk-container-id-3 div.sk-container {\n",
       "  /* jupyter's `normalize.less` sets `[hidden] { display: none; }`\n",
       "     but bootstrap.min.css set `[hidden] { display: none !important; }`\n",
       "     so we also need the `!important` here to be able to override the\n",
       "     default hidden behavior on the sphinx rendered scikit-learn.org.\n",
       "     See: https://github.com/scikit-learn/scikit-learn/issues/21755 */\n",
       "  display: inline-block !important;\n",
       "  position: relative;\n",
       "}\n",
       "\n",
       "#sk-container-id-3 div.sk-text-repr-fallback {\n",
       "  display: none;\n",
       "}\n",
       "\n",
       "div.sk-parallel-item,\n",
       "div.sk-serial,\n",
       "div.sk-item {\n",
       "  /* draw centered vertical line to link estimators */\n",
       "  background-image: linear-gradient(var(--sklearn-color-text-on-default-background), var(--sklearn-color-text-on-default-background));\n",
       "  background-size: 2px 100%;\n",
       "  background-repeat: no-repeat;\n",
       "  background-position: center center;\n",
       "}\n",
       "\n",
       "/* Parallel-specific style estimator block */\n",
       "\n",
       "#sk-container-id-3 div.sk-parallel-item::after {\n",
       "  content: \"\";\n",
       "  width: 100%;\n",
       "  border-bottom: 2px solid var(--sklearn-color-text-on-default-background);\n",
       "  flex-grow: 1;\n",
       "}\n",
       "\n",
       "#sk-container-id-3 div.sk-parallel {\n",
       "  display: flex;\n",
       "  align-items: stretch;\n",
       "  justify-content: center;\n",
       "  background-color: var(--sklearn-color-background);\n",
       "  position: relative;\n",
       "}\n",
       "\n",
       "#sk-container-id-3 div.sk-parallel-item {\n",
       "  display: flex;\n",
       "  flex-direction: column;\n",
       "}\n",
       "\n",
       "#sk-container-id-3 div.sk-parallel-item:first-child::after {\n",
       "  align-self: flex-end;\n",
       "  width: 50%;\n",
       "}\n",
       "\n",
       "#sk-container-id-3 div.sk-parallel-item:last-child::after {\n",
       "  align-self: flex-start;\n",
       "  width: 50%;\n",
       "}\n",
       "\n",
       "#sk-container-id-3 div.sk-parallel-item:only-child::after {\n",
       "  width: 0;\n",
       "}\n",
       "\n",
       "/* Serial-specific style estimator block */\n",
       "\n",
       "#sk-container-id-3 div.sk-serial {\n",
       "  display: flex;\n",
       "  flex-direction: column;\n",
       "  align-items: center;\n",
       "  background-color: var(--sklearn-color-background);\n",
       "  padding-right: 1em;\n",
       "  padding-left: 1em;\n",
       "}\n",
       "\n",
       "\n",
       "/* Toggleable style: style used for estimator/Pipeline/ColumnTransformer box that is\n",
       "clickable and can be expanded/collapsed.\n",
       "- Pipeline and ColumnTransformer use this feature and define the default style\n",
       "- Estimators will overwrite some part of the style using the `sk-estimator` class\n",
       "*/\n",
       "\n",
       "/* Pipeline and ColumnTransformer style (default) */\n",
       "\n",
       "#sk-container-id-3 div.sk-toggleable {\n",
       "  /* Default theme specific background. It is overwritten whether we have a\n",
       "  specific estimator or a Pipeline/ColumnTransformer */\n",
       "  background-color: var(--sklearn-color-background);\n",
       "}\n",
       "\n",
       "/* Toggleable label */\n",
       "#sk-container-id-3 label.sk-toggleable__label {\n",
       "  cursor: pointer;\n",
       "  display: block;\n",
       "  width: 100%;\n",
       "  margin-bottom: 0;\n",
       "  padding: 0.5em;\n",
       "  box-sizing: border-box;\n",
       "  text-align: center;\n",
       "}\n",
       "\n",
       "#sk-container-id-3 label.sk-toggleable__label-arrow:before {\n",
       "  /* Arrow on the left of the label */\n",
       "  content: \"▸\";\n",
       "  float: left;\n",
       "  margin-right: 0.25em;\n",
       "  color: var(--sklearn-color-icon);\n",
       "}\n",
       "\n",
       "#sk-container-id-3 label.sk-toggleable__label-arrow:hover:before {\n",
       "  color: var(--sklearn-color-text);\n",
       "}\n",
       "\n",
       "/* Toggleable content - dropdown */\n",
       "\n",
       "#sk-container-id-3 div.sk-toggleable__content {\n",
       "  max-height: 0;\n",
       "  max-width: 0;\n",
       "  overflow: hidden;\n",
       "  text-align: left;\n",
       "  /* unfitted */\n",
       "  background-color: var(--sklearn-color-unfitted-level-0);\n",
       "}\n",
       "\n",
       "#sk-container-id-3 div.sk-toggleable__content.fitted {\n",
       "  /* fitted */\n",
       "  background-color: var(--sklearn-color-fitted-level-0);\n",
       "}\n",
       "\n",
       "#sk-container-id-3 div.sk-toggleable__content pre {\n",
       "  margin: 0.2em;\n",
       "  border-radius: 0.25em;\n",
       "  color: var(--sklearn-color-text);\n",
       "  /* unfitted */\n",
       "  background-color: var(--sklearn-color-unfitted-level-0);\n",
       "}\n",
       "\n",
       "#sk-container-id-3 div.sk-toggleable__content.fitted pre {\n",
       "  /* unfitted */\n",
       "  background-color: var(--sklearn-color-fitted-level-0);\n",
       "}\n",
       "\n",
       "#sk-container-id-3 input.sk-toggleable__control:checked~div.sk-toggleable__content {\n",
       "  /* Expand drop-down */\n",
       "  max-height: 200px;\n",
       "  max-width: 100%;\n",
       "  overflow: auto;\n",
       "}\n",
       "\n",
       "#sk-container-id-3 input.sk-toggleable__control:checked~label.sk-toggleable__label-arrow:before {\n",
       "  content: \"▾\";\n",
       "}\n",
       "\n",
       "/* Pipeline/ColumnTransformer-specific style */\n",
       "\n",
       "#sk-container-id-3 div.sk-label input.sk-toggleable__control:checked~label.sk-toggleable__label {\n",
       "  color: var(--sklearn-color-text);\n",
       "  background-color: var(--sklearn-color-unfitted-level-2);\n",
       "}\n",
       "\n",
       "#sk-container-id-3 div.sk-label.fitted input.sk-toggleable__control:checked~label.sk-toggleable__label {\n",
       "  background-color: var(--sklearn-color-fitted-level-2);\n",
       "}\n",
       "\n",
       "/* Estimator-specific style */\n",
       "\n",
       "/* Colorize estimator box */\n",
       "#sk-container-id-3 div.sk-estimator input.sk-toggleable__control:checked~label.sk-toggleable__label {\n",
       "  /* unfitted */\n",
       "  background-color: var(--sklearn-color-unfitted-level-2);\n",
       "}\n",
       "\n",
       "#sk-container-id-3 div.sk-estimator.fitted input.sk-toggleable__control:checked~label.sk-toggleable__label {\n",
       "  /* fitted */\n",
       "  background-color: var(--sklearn-color-fitted-level-2);\n",
       "}\n",
       "\n",
       "#sk-container-id-3 div.sk-label label.sk-toggleable__label,\n",
       "#sk-container-id-3 div.sk-label label {\n",
       "  /* The background is the default theme color */\n",
       "  color: var(--sklearn-color-text-on-default-background);\n",
       "}\n",
       "\n",
       "/* On hover, darken the color of the background */\n",
       "#sk-container-id-3 div.sk-label:hover label.sk-toggleable__label {\n",
       "  color: var(--sklearn-color-text);\n",
       "  background-color: var(--sklearn-color-unfitted-level-2);\n",
       "}\n",
       "\n",
       "/* Label box, darken color on hover, fitted */\n",
       "#sk-container-id-3 div.sk-label.fitted:hover label.sk-toggleable__label.fitted {\n",
       "  color: var(--sklearn-color-text);\n",
       "  background-color: var(--sklearn-color-fitted-level-2);\n",
       "}\n",
       "\n",
       "/* Estimator label */\n",
       "\n",
       "#sk-container-id-3 div.sk-label label {\n",
       "  font-family: monospace;\n",
       "  font-weight: bold;\n",
       "  display: inline-block;\n",
       "  line-height: 1.2em;\n",
       "}\n",
       "\n",
       "#sk-container-id-3 div.sk-label-container {\n",
       "  text-align: center;\n",
       "}\n",
       "\n",
       "/* Estimator-specific */\n",
       "#sk-container-id-3 div.sk-estimator {\n",
       "  font-family: monospace;\n",
       "  border: 1px dotted var(--sklearn-color-border-box);\n",
       "  border-radius: 0.25em;\n",
       "  box-sizing: border-box;\n",
       "  margin-bottom: 0.5em;\n",
       "  /* unfitted */\n",
       "  background-color: var(--sklearn-color-unfitted-level-0);\n",
       "}\n",
       "\n",
       "#sk-container-id-3 div.sk-estimator.fitted {\n",
       "  /* fitted */\n",
       "  background-color: var(--sklearn-color-fitted-level-0);\n",
       "}\n",
       "\n",
       "/* on hover */\n",
       "#sk-container-id-3 div.sk-estimator:hover {\n",
       "  /* unfitted */\n",
       "  background-color: var(--sklearn-color-unfitted-level-2);\n",
       "}\n",
       "\n",
       "#sk-container-id-3 div.sk-estimator.fitted:hover {\n",
       "  /* fitted */\n",
       "  background-color: var(--sklearn-color-fitted-level-2);\n",
       "}\n",
       "\n",
       "/* Specification for estimator info (e.g. \"i\" and \"?\") */\n",
       "\n",
       "/* Common style for \"i\" and \"?\" */\n",
       "\n",
       ".sk-estimator-doc-link,\n",
       "a:link.sk-estimator-doc-link,\n",
       "a:visited.sk-estimator-doc-link {\n",
       "  float: right;\n",
       "  font-size: smaller;\n",
       "  line-height: 1em;\n",
       "  font-family: monospace;\n",
       "  background-color: var(--sklearn-color-background);\n",
       "  border-radius: 1em;\n",
       "  height: 1em;\n",
       "  width: 1em;\n",
       "  text-decoration: none !important;\n",
       "  margin-left: 1ex;\n",
       "  /* unfitted */\n",
       "  border: var(--sklearn-color-unfitted-level-1) 1pt solid;\n",
       "  color: var(--sklearn-color-unfitted-level-1);\n",
       "}\n",
       "\n",
       ".sk-estimator-doc-link.fitted,\n",
       "a:link.sk-estimator-doc-link.fitted,\n",
       "a:visited.sk-estimator-doc-link.fitted {\n",
       "  /* fitted */\n",
       "  border: var(--sklearn-color-fitted-level-1) 1pt solid;\n",
       "  color: var(--sklearn-color-fitted-level-1);\n",
       "}\n",
       "\n",
       "/* On hover */\n",
       "div.sk-estimator:hover .sk-estimator-doc-link:hover,\n",
       ".sk-estimator-doc-link:hover,\n",
       "div.sk-label-container:hover .sk-estimator-doc-link:hover,\n",
       ".sk-estimator-doc-link:hover {\n",
       "  /* unfitted */\n",
       "  background-color: var(--sklearn-color-unfitted-level-3);\n",
       "  color: var(--sklearn-color-background);\n",
       "  text-decoration: none;\n",
       "}\n",
       "\n",
       "div.sk-estimator.fitted:hover .sk-estimator-doc-link.fitted:hover,\n",
       ".sk-estimator-doc-link.fitted:hover,\n",
       "div.sk-label-container:hover .sk-estimator-doc-link.fitted:hover,\n",
       ".sk-estimator-doc-link.fitted:hover {\n",
       "  /* fitted */\n",
       "  background-color: var(--sklearn-color-fitted-level-3);\n",
       "  color: var(--sklearn-color-background);\n",
       "  text-decoration: none;\n",
       "}\n",
       "\n",
       "/* Span, style for the box shown on hovering the info icon */\n",
       ".sk-estimator-doc-link span {\n",
       "  display: none;\n",
       "  z-index: 9999;\n",
       "  position: relative;\n",
       "  font-weight: normal;\n",
       "  right: .2ex;\n",
       "  padding: .5ex;\n",
       "  margin: .5ex;\n",
       "  width: min-content;\n",
       "  min-width: 20ex;\n",
       "  max-width: 50ex;\n",
       "  color: var(--sklearn-color-text);\n",
       "  box-shadow: 2pt 2pt 4pt #999;\n",
       "  /* unfitted */\n",
       "  background: var(--sklearn-color-unfitted-level-0);\n",
       "  border: .5pt solid var(--sklearn-color-unfitted-level-3);\n",
       "}\n",
       "\n",
       ".sk-estimator-doc-link.fitted span {\n",
       "  /* fitted */\n",
       "  background: var(--sklearn-color-fitted-level-0);\n",
       "  border: var(--sklearn-color-fitted-level-3);\n",
       "}\n",
       "\n",
       ".sk-estimator-doc-link:hover span {\n",
       "  display: block;\n",
       "}\n",
       "\n",
       "/* \"?\"-specific style due to the `<a>` HTML tag */\n",
       "\n",
       "#sk-container-id-3 a.estimator_doc_link {\n",
       "  float: right;\n",
       "  font-size: 1rem;\n",
       "  line-height: 1em;\n",
       "  font-family: monospace;\n",
       "  background-color: var(--sklearn-color-background);\n",
       "  border-radius: 1rem;\n",
       "  height: 1rem;\n",
       "  width: 1rem;\n",
       "  text-decoration: none;\n",
       "  /* unfitted */\n",
       "  color: var(--sklearn-color-unfitted-level-1);\n",
       "  border: var(--sklearn-color-unfitted-level-1) 1pt solid;\n",
       "}\n",
       "\n",
       "#sk-container-id-3 a.estimator_doc_link.fitted {\n",
       "  /* fitted */\n",
       "  border: var(--sklearn-color-fitted-level-1) 1pt solid;\n",
       "  color: var(--sklearn-color-fitted-level-1);\n",
       "}\n",
       "\n",
       "/* On hover */\n",
       "#sk-container-id-3 a.estimator_doc_link:hover {\n",
       "  /* unfitted */\n",
       "  background-color: var(--sklearn-color-unfitted-level-3);\n",
       "  color: var(--sklearn-color-background);\n",
       "  text-decoration: none;\n",
       "}\n",
       "\n",
       "#sk-container-id-3 a.estimator_doc_link.fitted:hover {\n",
       "  /* fitted */\n",
       "  background-color: var(--sklearn-color-fitted-level-3);\n",
       "}\n",
       "</style><div id=\"sk-container-id-3\" class=\"sk-top-container\"><div class=\"sk-text-repr-fallback\"><pre>SVC()</pre><b>In a Jupyter environment, please rerun this cell to show the HTML representation or trust the notebook. <br />On GitHub, the HTML representation is unable to render, please try loading this page with nbviewer.org.</b></div><div class=\"sk-container\" hidden><div class=\"sk-item\"><div class=\"sk-estimator fitted sk-toggleable\"><input class=\"sk-toggleable__control sk-hidden--visually\" id=\"sk-estimator-id-5\" type=\"checkbox\" checked><label for=\"sk-estimator-id-5\" class=\"sk-toggleable__label fitted sk-toggleable__label-arrow fitted\">&nbsp;&nbsp;SVC<a class=\"sk-estimator-doc-link fitted\" rel=\"noreferrer\" target=\"_blank\" href=\"https://scikit-learn.org/1.4/modules/generated/sklearn.svm.SVC.html\">?<span>Documentation for SVC</span></a><span class=\"sk-estimator-doc-link fitted\">i<span>Fitted</span></span></label><div class=\"sk-toggleable__content fitted\"><pre>SVC()</pre></div> </div></div></div></div>"
      ],
      "text/plain": [
       "SVC()"
      ]
     },
     "execution_count": 157,
     "metadata": {},
     "output_type": "execute_result"
    }
   ],
   "source": [
    "model.fit(X_train,y_train)"
   ]
  },
  {
   "cell_type": "code",
   "execution_count": null,
   "id": "2931635d",
   "metadata": {},
   "outputs": [],
   "source": []
  },
  {
   "cell_type": "code",
   "execution_count": null,
   "id": "8f3cc88a",
   "metadata": {},
   "outputs": [],
   "source": []
  },
  {
   "cell_type": "code",
   "execution_count": null,
   "id": "5c5a627f91a347b8",
   "metadata": {
    "ExecuteTime": {
     "end_time": "2023-08-11T04:05:22.794901750Z",
     "start_time": "2023-08-11T04:05:22.667739789Z"
    },
    "collapsed": false,
    "jupyter": {
     "outputs_hidden": false
    }
   },
   "outputs": [],
   "source": []
  },
  {
   "cell_type": "code",
   "execution_count": 158,
   "id": "6ca1a63909e15ed7",
   "metadata": {
    "ExecuteTime": {
     "end_time": "2023-08-11T04:05:22.797937028Z",
     "start_time": "2023-08-11T04:05:22.713143760Z"
    },
    "collapsed": false,
    "jupyter": {
     "outputs_hidden": false
    }
   },
   "outputs": [
    {
     "data": {
      "text/plain": [
       "'Not Stressed'"
      ]
     },
     "execution_count": 158,
     "metadata": {},
     "output_type": "execute_result"
    }
   ],
   "source": [
    "sample_text = [\"I feel stress because of having lot's of assignments in the collage and I have no time and my gpa is lower then 2\"]\n",
    "sample_text_tokenized = tfidf_vectorizer.transform(sample_text)\n",
    "prediction = model.predict(sample_text_tokenized)\n",
    "\n",
    "prediction_label = \"Stressed\" if prediction[0] == 1 else \"Not Stressed\"\n",
    "\n",
    "prediction_label\n"
   ]
  },
  {
   "cell_type": "code",
   "execution_count": 159,
   "id": "68835b18d67c1d6e",
   "metadata": {
    "ExecuteTime": {
     "end_time": "2023-08-11T04:05:22.798276623Z",
     "start_time": "2023-08-11T04:05:22.761366669Z"
    },
    "collapsed": false,
    "jupyter": {
     "outputs_hidden": false
    }
   },
   "outputs": [],
   "source": [
    "from sklearn.metrics import precision_score, recall_score, f1_score, roc_auc_score, accuracy_score\n"
   ]
  },
  {
   "cell_type": "code",
   "execution_count": null,
   "id": "07163e59",
   "metadata": {},
   "outputs": [],
   "source": []
  },
  {
   "cell_type": "code",
   "execution_count": 160,
   "id": "16d33989f1cbf255",
   "metadata": {
    "ExecuteTime": {
     "end_time": "2023-08-11T04:05:22.898895570Z",
     "start_time": "2023-08-11T04:05:22.762067901Z"
    },
    "collapsed": false,
    "jupyter": {
     "outputs_hidden": false
    }
   },
   "outputs": [],
   "source": [
    "y_pred = model.predict(tfidf_vectorizer.transform(X_test))"
   ]
  },
  {
   "cell_type": "markdown",
   "id": "dc4f2c041cfd45df",
   "metadata": {
    "collapsed": false,
    "jupyter": {
     "outputs_hidden": false
    }
   },
   "source": []
  },
  {
   "cell_type": "code",
   "execution_count": 161,
   "id": "52b86e1b816b9eab",
   "metadata": {
    "ExecuteTime": {
     "end_time": "2023-08-11T04:05:22.903979679Z",
     "start_time": "2023-08-11T04:05:22.805291428Z"
    },
    "collapsed": false,
    "jupyter": {
     "outputs_hidden": false
    }
   },
   "outputs": [
    {
     "data": {
      "text/plain": [
       "0.7107438016528925"
      ]
     },
     "execution_count": 161,
     "metadata": {},
     "output_type": "execute_result"
    }
   ],
   "source": [
    "precision = precision_score(y_test, y_pred)\n",
    "precision"
   ]
  },
  {
   "cell_type": "code",
   "execution_count": 162,
   "id": "4948633ab04d7c46",
   "metadata": {
    "ExecuteTime": {
     "end_time": "2023-08-11T04:05:22.904722100Z",
     "start_time": "2023-08-11T04:05:22.805749833Z"
    },
    "collapsed": false,
    "jupyter": {
     "outputs_hidden": false
    }
   },
   "outputs": [
    {
     "data": {
      "text/plain": [
       "0.7926267281105991"
      ]
     },
     "execution_count": 162,
     "metadata": {},
     "output_type": "execute_result"
    }
   ],
   "source": [
    "recall = recall_score(y_test, y_pred)\n",
    "recall"
   ]
  },
  {
   "cell_type": "code",
   "execution_count": 163,
   "id": "3e7b3958",
   "metadata": {},
   "outputs": [
    {
     "data": {
      "text/plain": [
       "0.7300469483568075"
      ]
     },
     "execution_count": 163,
     "metadata": {},
     "output_type": "execute_result"
    }
   ],
   "source": [
    "accuracy = accuracy_score(y_test, y_pred)\n",
    "accuracy"
   ]
  },
  {
   "cell_type": "code",
   "execution_count": 164,
   "id": "d8b4787a",
   "metadata": {},
   "outputs": [],
   "source": [
    "from sklearn.ensemble import BaggingClassifier\n"
   ]
  },
  {
   "cell_type": "code",
   "execution_count": 165,
   "id": "263de02e",
   "metadata": {},
   "outputs": [],
   "source": [
    "base_classifier = LogisticRegression(solver = 'sag')\n"
   ]
  },
  {
   "cell_type": "code",
   "execution_count": 166,
   "id": "489420dc",
   "metadata": {},
   "outputs": [],
   "source": [
    "bagging_classifier = BaggingClassifier(base_classifier, n_estimators=10, random_state=42, n_jobs=-1)\n"
   ]
  },
  {
   "cell_type": "code",
   "execution_count": 167,
   "id": "d2efca70",
   "metadata": {},
   "outputs": [
    {
     "data": {
      "text/html": [
       "<style>#sk-container-id-4 {\n",
       "  /* Definition of color scheme common for light and dark mode */\n",
       "  --sklearn-color-text: black;\n",
       "  --sklearn-color-line: gray;\n",
       "  /* Definition of color scheme for unfitted estimators */\n",
       "  --sklearn-color-unfitted-level-0: #fff5e6;\n",
       "  --sklearn-color-unfitted-level-1: #f6e4d2;\n",
       "  --sklearn-color-unfitted-level-2: #ffe0b3;\n",
       "  --sklearn-color-unfitted-level-3: chocolate;\n",
       "  /* Definition of color scheme for fitted estimators */\n",
       "  --sklearn-color-fitted-level-0: #f0f8ff;\n",
       "  --sklearn-color-fitted-level-1: #d4ebff;\n",
       "  --sklearn-color-fitted-level-2: #b3dbfd;\n",
       "  --sklearn-color-fitted-level-3: cornflowerblue;\n",
       "\n",
       "  /* Specific color for light theme */\n",
       "  --sklearn-color-text-on-default-background: var(--sg-text-color, var(--theme-code-foreground, var(--jp-content-font-color1, black)));\n",
       "  --sklearn-color-background: var(--sg-background-color, var(--theme-background, var(--jp-layout-color0, white)));\n",
       "  --sklearn-color-border-box: var(--sg-text-color, var(--theme-code-foreground, var(--jp-content-font-color1, black)));\n",
       "  --sklearn-color-icon: #696969;\n",
       "\n",
       "  @media (prefers-color-scheme: dark) {\n",
       "    /* Redefinition of color scheme for dark theme */\n",
       "    --sklearn-color-text-on-default-background: var(--sg-text-color, var(--theme-code-foreground, var(--jp-content-font-color1, white)));\n",
       "    --sklearn-color-background: var(--sg-background-color, var(--theme-background, var(--jp-layout-color0, #111)));\n",
       "    --sklearn-color-border-box: var(--sg-text-color, var(--theme-code-foreground, var(--jp-content-font-color1, white)));\n",
       "    --sklearn-color-icon: #878787;\n",
       "  }\n",
       "}\n",
       "\n",
       "#sk-container-id-4 {\n",
       "  color: var(--sklearn-color-text);\n",
       "}\n",
       "\n",
       "#sk-container-id-4 pre {\n",
       "  padding: 0;\n",
       "}\n",
       "\n",
       "#sk-container-id-4 input.sk-hidden--visually {\n",
       "  border: 0;\n",
       "  clip: rect(1px 1px 1px 1px);\n",
       "  clip: rect(1px, 1px, 1px, 1px);\n",
       "  height: 1px;\n",
       "  margin: -1px;\n",
       "  overflow: hidden;\n",
       "  padding: 0;\n",
       "  position: absolute;\n",
       "  width: 1px;\n",
       "}\n",
       "\n",
       "#sk-container-id-4 div.sk-dashed-wrapped {\n",
       "  border: 1px dashed var(--sklearn-color-line);\n",
       "  margin: 0 0.4em 0.5em 0.4em;\n",
       "  box-sizing: border-box;\n",
       "  padding-bottom: 0.4em;\n",
       "  background-color: var(--sklearn-color-background);\n",
       "}\n",
       "\n",
       "#sk-container-id-4 div.sk-container {\n",
       "  /* jupyter's `normalize.less` sets `[hidden] { display: none; }`\n",
       "     but bootstrap.min.css set `[hidden] { display: none !important; }`\n",
       "     so we also need the `!important` here to be able to override the\n",
       "     default hidden behavior on the sphinx rendered scikit-learn.org.\n",
       "     See: https://github.com/scikit-learn/scikit-learn/issues/21755 */\n",
       "  display: inline-block !important;\n",
       "  position: relative;\n",
       "}\n",
       "\n",
       "#sk-container-id-4 div.sk-text-repr-fallback {\n",
       "  display: none;\n",
       "}\n",
       "\n",
       "div.sk-parallel-item,\n",
       "div.sk-serial,\n",
       "div.sk-item {\n",
       "  /* draw centered vertical line to link estimators */\n",
       "  background-image: linear-gradient(var(--sklearn-color-text-on-default-background), var(--sklearn-color-text-on-default-background));\n",
       "  background-size: 2px 100%;\n",
       "  background-repeat: no-repeat;\n",
       "  background-position: center center;\n",
       "}\n",
       "\n",
       "/* Parallel-specific style estimator block */\n",
       "\n",
       "#sk-container-id-4 div.sk-parallel-item::after {\n",
       "  content: \"\";\n",
       "  width: 100%;\n",
       "  border-bottom: 2px solid var(--sklearn-color-text-on-default-background);\n",
       "  flex-grow: 1;\n",
       "}\n",
       "\n",
       "#sk-container-id-4 div.sk-parallel {\n",
       "  display: flex;\n",
       "  align-items: stretch;\n",
       "  justify-content: center;\n",
       "  background-color: var(--sklearn-color-background);\n",
       "  position: relative;\n",
       "}\n",
       "\n",
       "#sk-container-id-4 div.sk-parallel-item {\n",
       "  display: flex;\n",
       "  flex-direction: column;\n",
       "}\n",
       "\n",
       "#sk-container-id-4 div.sk-parallel-item:first-child::after {\n",
       "  align-self: flex-end;\n",
       "  width: 50%;\n",
       "}\n",
       "\n",
       "#sk-container-id-4 div.sk-parallel-item:last-child::after {\n",
       "  align-self: flex-start;\n",
       "  width: 50%;\n",
       "}\n",
       "\n",
       "#sk-container-id-4 div.sk-parallel-item:only-child::after {\n",
       "  width: 0;\n",
       "}\n",
       "\n",
       "/* Serial-specific style estimator block */\n",
       "\n",
       "#sk-container-id-4 div.sk-serial {\n",
       "  display: flex;\n",
       "  flex-direction: column;\n",
       "  align-items: center;\n",
       "  background-color: var(--sklearn-color-background);\n",
       "  padding-right: 1em;\n",
       "  padding-left: 1em;\n",
       "}\n",
       "\n",
       "\n",
       "/* Toggleable style: style used for estimator/Pipeline/ColumnTransformer box that is\n",
       "clickable and can be expanded/collapsed.\n",
       "- Pipeline and ColumnTransformer use this feature and define the default style\n",
       "- Estimators will overwrite some part of the style using the `sk-estimator` class\n",
       "*/\n",
       "\n",
       "/* Pipeline and ColumnTransformer style (default) */\n",
       "\n",
       "#sk-container-id-4 div.sk-toggleable {\n",
       "  /* Default theme specific background. It is overwritten whether we have a\n",
       "  specific estimator or a Pipeline/ColumnTransformer */\n",
       "  background-color: var(--sklearn-color-background);\n",
       "}\n",
       "\n",
       "/* Toggleable label */\n",
       "#sk-container-id-4 label.sk-toggleable__label {\n",
       "  cursor: pointer;\n",
       "  display: block;\n",
       "  width: 100%;\n",
       "  margin-bottom: 0;\n",
       "  padding: 0.5em;\n",
       "  box-sizing: border-box;\n",
       "  text-align: center;\n",
       "}\n",
       "\n",
       "#sk-container-id-4 label.sk-toggleable__label-arrow:before {\n",
       "  /* Arrow on the left of the label */\n",
       "  content: \"▸\";\n",
       "  float: left;\n",
       "  margin-right: 0.25em;\n",
       "  color: var(--sklearn-color-icon);\n",
       "}\n",
       "\n",
       "#sk-container-id-4 label.sk-toggleable__label-arrow:hover:before {\n",
       "  color: var(--sklearn-color-text);\n",
       "}\n",
       "\n",
       "/* Toggleable content - dropdown */\n",
       "\n",
       "#sk-container-id-4 div.sk-toggleable__content {\n",
       "  max-height: 0;\n",
       "  max-width: 0;\n",
       "  overflow: hidden;\n",
       "  text-align: left;\n",
       "  /* unfitted */\n",
       "  background-color: var(--sklearn-color-unfitted-level-0);\n",
       "}\n",
       "\n",
       "#sk-container-id-4 div.sk-toggleable__content.fitted {\n",
       "  /* fitted */\n",
       "  background-color: var(--sklearn-color-fitted-level-0);\n",
       "}\n",
       "\n",
       "#sk-container-id-4 div.sk-toggleable__content pre {\n",
       "  margin: 0.2em;\n",
       "  border-radius: 0.25em;\n",
       "  color: var(--sklearn-color-text);\n",
       "  /* unfitted */\n",
       "  background-color: var(--sklearn-color-unfitted-level-0);\n",
       "}\n",
       "\n",
       "#sk-container-id-4 div.sk-toggleable__content.fitted pre {\n",
       "  /* unfitted */\n",
       "  background-color: var(--sklearn-color-fitted-level-0);\n",
       "}\n",
       "\n",
       "#sk-container-id-4 input.sk-toggleable__control:checked~div.sk-toggleable__content {\n",
       "  /* Expand drop-down */\n",
       "  max-height: 200px;\n",
       "  max-width: 100%;\n",
       "  overflow: auto;\n",
       "}\n",
       "\n",
       "#sk-container-id-4 input.sk-toggleable__control:checked~label.sk-toggleable__label-arrow:before {\n",
       "  content: \"▾\";\n",
       "}\n",
       "\n",
       "/* Pipeline/ColumnTransformer-specific style */\n",
       "\n",
       "#sk-container-id-4 div.sk-label input.sk-toggleable__control:checked~label.sk-toggleable__label {\n",
       "  color: var(--sklearn-color-text);\n",
       "  background-color: var(--sklearn-color-unfitted-level-2);\n",
       "}\n",
       "\n",
       "#sk-container-id-4 div.sk-label.fitted input.sk-toggleable__control:checked~label.sk-toggleable__label {\n",
       "  background-color: var(--sklearn-color-fitted-level-2);\n",
       "}\n",
       "\n",
       "/* Estimator-specific style */\n",
       "\n",
       "/* Colorize estimator box */\n",
       "#sk-container-id-4 div.sk-estimator input.sk-toggleable__control:checked~label.sk-toggleable__label {\n",
       "  /* unfitted */\n",
       "  background-color: var(--sklearn-color-unfitted-level-2);\n",
       "}\n",
       "\n",
       "#sk-container-id-4 div.sk-estimator.fitted input.sk-toggleable__control:checked~label.sk-toggleable__label {\n",
       "  /* fitted */\n",
       "  background-color: var(--sklearn-color-fitted-level-2);\n",
       "}\n",
       "\n",
       "#sk-container-id-4 div.sk-label label.sk-toggleable__label,\n",
       "#sk-container-id-4 div.sk-label label {\n",
       "  /* The background is the default theme color */\n",
       "  color: var(--sklearn-color-text-on-default-background);\n",
       "}\n",
       "\n",
       "/* On hover, darken the color of the background */\n",
       "#sk-container-id-4 div.sk-label:hover label.sk-toggleable__label {\n",
       "  color: var(--sklearn-color-text);\n",
       "  background-color: var(--sklearn-color-unfitted-level-2);\n",
       "}\n",
       "\n",
       "/* Label box, darken color on hover, fitted */\n",
       "#sk-container-id-4 div.sk-label.fitted:hover label.sk-toggleable__label.fitted {\n",
       "  color: var(--sklearn-color-text);\n",
       "  background-color: var(--sklearn-color-fitted-level-2);\n",
       "}\n",
       "\n",
       "/* Estimator label */\n",
       "\n",
       "#sk-container-id-4 div.sk-label label {\n",
       "  font-family: monospace;\n",
       "  font-weight: bold;\n",
       "  display: inline-block;\n",
       "  line-height: 1.2em;\n",
       "}\n",
       "\n",
       "#sk-container-id-4 div.sk-label-container {\n",
       "  text-align: center;\n",
       "}\n",
       "\n",
       "/* Estimator-specific */\n",
       "#sk-container-id-4 div.sk-estimator {\n",
       "  font-family: monospace;\n",
       "  border: 1px dotted var(--sklearn-color-border-box);\n",
       "  border-radius: 0.25em;\n",
       "  box-sizing: border-box;\n",
       "  margin-bottom: 0.5em;\n",
       "  /* unfitted */\n",
       "  background-color: var(--sklearn-color-unfitted-level-0);\n",
       "}\n",
       "\n",
       "#sk-container-id-4 div.sk-estimator.fitted {\n",
       "  /* fitted */\n",
       "  background-color: var(--sklearn-color-fitted-level-0);\n",
       "}\n",
       "\n",
       "/* on hover */\n",
       "#sk-container-id-4 div.sk-estimator:hover {\n",
       "  /* unfitted */\n",
       "  background-color: var(--sklearn-color-unfitted-level-2);\n",
       "}\n",
       "\n",
       "#sk-container-id-4 div.sk-estimator.fitted:hover {\n",
       "  /* fitted */\n",
       "  background-color: var(--sklearn-color-fitted-level-2);\n",
       "}\n",
       "\n",
       "/* Specification for estimator info (e.g. \"i\" and \"?\") */\n",
       "\n",
       "/* Common style for \"i\" and \"?\" */\n",
       "\n",
       ".sk-estimator-doc-link,\n",
       "a:link.sk-estimator-doc-link,\n",
       "a:visited.sk-estimator-doc-link {\n",
       "  float: right;\n",
       "  font-size: smaller;\n",
       "  line-height: 1em;\n",
       "  font-family: monospace;\n",
       "  background-color: var(--sklearn-color-background);\n",
       "  border-radius: 1em;\n",
       "  height: 1em;\n",
       "  width: 1em;\n",
       "  text-decoration: none !important;\n",
       "  margin-left: 1ex;\n",
       "  /* unfitted */\n",
       "  border: var(--sklearn-color-unfitted-level-1) 1pt solid;\n",
       "  color: var(--sklearn-color-unfitted-level-1);\n",
       "}\n",
       "\n",
       ".sk-estimator-doc-link.fitted,\n",
       "a:link.sk-estimator-doc-link.fitted,\n",
       "a:visited.sk-estimator-doc-link.fitted {\n",
       "  /* fitted */\n",
       "  border: var(--sklearn-color-fitted-level-1) 1pt solid;\n",
       "  color: var(--sklearn-color-fitted-level-1);\n",
       "}\n",
       "\n",
       "/* On hover */\n",
       "div.sk-estimator:hover .sk-estimator-doc-link:hover,\n",
       ".sk-estimator-doc-link:hover,\n",
       "div.sk-label-container:hover .sk-estimator-doc-link:hover,\n",
       ".sk-estimator-doc-link:hover {\n",
       "  /* unfitted */\n",
       "  background-color: var(--sklearn-color-unfitted-level-3);\n",
       "  color: var(--sklearn-color-background);\n",
       "  text-decoration: none;\n",
       "}\n",
       "\n",
       "div.sk-estimator.fitted:hover .sk-estimator-doc-link.fitted:hover,\n",
       ".sk-estimator-doc-link.fitted:hover,\n",
       "div.sk-label-container:hover .sk-estimator-doc-link.fitted:hover,\n",
       ".sk-estimator-doc-link.fitted:hover {\n",
       "  /* fitted */\n",
       "  background-color: var(--sklearn-color-fitted-level-3);\n",
       "  color: var(--sklearn-color-background);\n",
       "  text-decoration: none;\n",
       "}\n",
       "\n",
       "/* Span, style for the box shown on hovering the info icon */\n",
       ".sk-estimator-doc-link span {\n",
       "  display: none;\n",
       "  z-index: 9999;\n",
       "  position: relative;\n",
       "  font-weight: normal;\n",
       "  right: .2ex;\n",
       "  padding: .5ex;\n",
       "  margin: .5ex;\n",
       "  width: min-content;\n",
       "  min-width: 20ex;\n",
       "  max-width: 50ex;\n",
       "  color: var(--sklearn-color-text);\n",
       "  box-shadow: 2pt 2pt 4pt #999;\n",
       "  /* unfitted */\n",
       "  background: var(--sklearn-color-unfitted-level-0);\n",
       "  border: .5pt solid var(--sklearn-color-unfitted-level-3);\n",
       "}\n",
       "\n",
       ".sk-estimator-doc-link.fitted span {\n",
       "  /* fitted */\n",
       "  background: var(--sklearn-color-fitted-level-0);\n",
       "  border: var(--sklearn-color-fitted-level-3);\n",
       "}\n",
       "\n",
       ".sk-estimator-doc-link:hover span {\n",
       "  display: block;\n",
       "}\n",
       "\n",
       "/* \"?\"-specific style due to the `<a>` HTML tag */\n",
       "\n",
       "#sk-container-id-4 a.estimator_doc_link {\n",
       "  float: right;\n",
       "  font-size: 1rem;\n",
       "  line-height: 1em;\n",
       "  font-family: monospace;\n",
       "  background-color: var(--sklearn-color-background);\n",
       "  border-radius: 1rem;\n",
       "  height: 1rem;\n",
       "  width: 1rem;\n",
       "  text-decoration: none;\n",
       "  /* unfitted */\n",
       "  color: var(--sklearn-color-unfitted-level-1);\n",
       "  border: var(--sklearn-color-unfitted-level-1) 1pt solid;\n",
       "}\n",
       "\n",
       "#sk-container-id-4 a.estimator_doc_link.fitted {\n",
       "  /* fitted */\n",
       "  border: var(--sklearn-color-fitted-level-1) 1pt solid;\n",
       "  color: var(--sklearn-color-fitted-level-1);\n",
       "}\n",
       "\n",
       "/* On hover */\n",
       "#sk-container-id-4 a.estimator_doc_link:hover {\n",
       "  /* unfitted */\n",
       "  background-color: var(--sklearn-color-unfitted-level-3);\n",
       "  color: var(--sklearn-color-background);\n",
       "  text-decoration: none;\n",
       "}\n",
       "\n",
       "#sk-container-id-4 a.estimator_doc_link.fitted:hover {\n",
       "  /* fitted */\n",
       "  background-color: var(--sklearn-color-fitted-level-3);\n",
       "}\n",
       "</style><div id=\"sk-container-id-4\" class=\"sk-top-container\"><div class=\"sk-text-repr-fallback\"><pre>BaggingClassifier(estimator=LogisticRegression(solver=&#x27;sag&#x27;), n_jobs=-1,\n",
       "                  random_state=42)</pre><b>In a Jupyter environment, please rerun this cell to show the HTML representation or trust the notebook. <br />On GitHub, the HTML representation is unable to render, please try loading this page with nbviewer.org.</b></div><div class=\"sk-container\" hidden><div class=\"sk-item sk-dashed-wrapped\"><div class=\"sk-label-container\"><div class=\"sk-label fitted sk-toggleable\"><input class=\"sk-toggleable__control sk-hidden--visually\" id=\"sk-estimator-id-6\" type=\"checkbox\" ><label for=\"sk-estimator-id-6\" class=\"sk-toggleable__label fitted sk-toggleable__label-arrow fitted\">&nbsp;&nbsp;BaggingClassifier<a class=\"sk-estimator-doc-link fitted\" rel=\"noreferrer\" target=\"_blank\" href=\"https://scikit-learn.org/1.4/modules/generated/sklearn.ensemble.BaggingClassifier.html\">?<span>Documentation for BaggingClassifier</span></a><span class=\"sk-estimator-doc-link fitted\">i<span>Fitted</span></span></label><div class=\"sk-toggleable__content fitted\"><pre>BaggingClassifier(estimator=LogisticRegression(solver=&#x27;sag&#x27;), n_jobs=-1,\n",
       "                  random_state=42)</pre></div> </div></div><div class=\"sk-parallel\"><div class=\"sk-parallel-item\"><div class=\"sk-item\"><div class=\"sk-label-container\"><div class=\"sk-label fitted sk-toggleable\"><input class=\"sk-toggleable__control sk-hidden--visually\" id=\"sk-estimator-id-7\" type=\"checkbox\" ><label for=\"sk-estimator-id-7\" class=\"sk-toggleable__label fitted sk-toggleable__label-arrow fitted\">estimator: LogisticRegression</label><div class=\"sk-toggleable__content fitted\"><pre>LogisticRegression(solver=&#x27;sag&#x27;)</pre></div> </div></div><div class=\"sk-serial\"><div class=\"sk-item\"><div class=\"sk-estimator fitted sk-toggleable\"><input class=\"sk-toggleable__control sk-hidden--visually\" id=\"sk-estimator-id-8\" type=\"checkbox\" ><label for=\"sk-estimator-id-8\" class=\"sk-toggleable__label fitted sk-toggleable__label-arrow fitted\">&nbsp;LogisticRegression<a class=\"sk-estimator-doc-link fitted\" rel=\"noreferrer\" target=\"_blank\" href=\"https://scikit-learn.org/1.4/modules/generated/sklearn.linear_model.LogisticRegression.html\">?<span>Documentation for LogisticRegression</span></a></label><div class=\"sk-toggleable__content fitted\"><pre>LogisticRegression(solver=&#x27;sag&#x27;)</pre></div> </div></div></div></div></div></div></div></div></div>"
      ],
      "text/plain": [
       "BaggingClassifier(estimator=LogisticRegression(solver='sag'), n_jobs=-1,\n",
       "                  random_state=42)"
      ]
     },
     "execution_count": 167,
     "metadata": {},
     "output_type": "execute_result"
    }
   ],
   "source": [
    "bagging_classifier.fit(X_train, y_train)\n"
   ]
  },
  {
   "cell_type": "code",
   "execution_count": 168,
   "id": "55901b4c",
   "metadata": {},
   "outputs": [
    {
     "data": {
      "text/plain": [
       "{'bootstrap': True,\n",
       " 'bootstrap_features': False,\n",
       " 'estimator__C': 1.0,\n",
       " 'estimator__class_weight': None,\n",
       " 'estimator__dual': False,\n",
       " 'estimator__fit_intercept': True,\n",
       " 'estimator__intercept_scaling': 1,\n",
       " 'estimator__l1_ratio': None,\n",
       " 'estimator__max_iter': 100,\n",
       " 'estimator__multi_class': 'auto',\n",
       " 'estimator__n_jobs': None,\n",
       " 'estimator__penalty': 'l2',\n",
       " 'estimator__random_state': None,\n",
       " 'estimator__solver': 'sag',\n",
       " 'estimator__tol': 0.0001,\n",
       " 'estimator__verbose': 0,\n",
       " 'estimator__warm_start': False,\n",
       " 'estimator': LogisticRegression(solver='sag'),\n",
       " 'max_features': 1.0,\n",
       " 'max_samples': 1.0,\n",
       " 'n_estimators': 10,\n",
       " 'n_jobs': -1,\n",
       " 'oob_score': False,\n",
       " 'random_state': 42,\n",
       " 'verbose': 0,\n",
       " 'warm_start': False}"
      ]
     },
     "execution_count": 168,
     "metadata": {},
     "output_type": "execute_result"
    }
   ],
   "source": [
    "bagging_classifier.get_params()"
   ]
  },
  {
   "cell_type": "code",
   "execution_count": 169,
   "id": "268e09a0",
   "metadata": {},
   "outputs": [
    {
     "data": {
      "text/plain": [
       "array([[0.62707477, 0.37292523],\n",
       "       [0.49641221, 0.50358779],\n",
       "       [0.26817063, 0.73182937],\n",
       "       ...,\n",
       "       [0.40425015, 0.59574985],\n",
       "       [0.5599569 , 0.4400431 ],\n",
       "       [0.61430824, 0.38569176]])"
      ]
     },
     "execution_count": 169,
     "metadata": {},
     "output_type": "execute_result"
    }
   ],
   "source": [
    "bagging_classifier.predict_proba(tfidf_vectorizer.transform(X_test))"
   ]
  },
  {
   "cell_type": "code",
   "execution_count": 170,
   "id": "c32380f1",
   "metadata": {},
   "outputs": [],
   "source": [
    "y_pred = bagging_classifier.predict(tfidf_vectorizer.transform(X_test))\n"
   ]
  },
  {
   "cell_type": "code",
   "execution_count": 171,
   "id": "44e2ef4c",
   "metadata": {},
   "outputs": [
    {
     "data": {
      "text/plain": [
       "0.7206572769953051"
      ]
     },
     "execution_count": 171,
     "metadata": {},
     "output_type": "execute_result"
    }
   ],
   "source": [
    "accuracy = accuracy_score(y_test, y_pred)\n",
    "accuracy"
   ]
  },
  {
   "cell_type": "code",
   "execution_count": 172,
   "id": "3d00c0d7",
   "metadata": {},
   "outputs": [
    {
     "data": {
      "text/plain": [
       "0.6983805668016194"
      ]
     },
     "execution_count": 172,
     "metadata": {},
     "output_type": "execute_result"
    }
   ],
   "source": [
    "precision = precision_score(y_test, y_pred)\n",
    "precision"
   ]
  },
  {
   "cell_type": "code",
   "execution_count": 173,
   "id": "3794163d",
   "metadata": {},
   "outputs": [
    {
     "data": {
      "text/plain": [
       "0.7949308755760369"
      ]
     },
     "execution_count": 173,
     "metadata": {},
     "output_type": "execute_result"
    }
   ],
   "source": [
    "recall = recall_score(y_test, y_pred)\n",
    "recall"
   ]
  },
  {
   "cell_type": "code",
   "execution_count": 174,
   "id": "0fcdfc9e",
   "metadata": {},
   "outputs": [],
   "source": [
    "from joblib import dump, load\n"
   ]
  },
  {
   "cell_type": "code",
   "execution_count": 175,
   "id": "adfcdccc",
   "metadata": {},
   "outputs": [
    {
     "data": {
      "text/plain": [
       "['c:\\\\Users\\\\MoAly\\\\OneDrive - Rihal\\\\Rihal\\\\Projects\\\\RihalIntern\\\\tokenizers\\\\tfidf_vectorizer.joblib']"
      ]
     },
     "execution_count": 175,
     "metadata": {},
     "output_type": "execute_result"
    }
   ],
   "source": [
    "dump(tfidf_vectorizer, PATH + '\\\\tokenizers\\\\tfidf_vectorizer.joblib') #Save the Tokenizer for Deployment\n"
   ]
  },
  {
   "cell_type": "code",
   "execution_count": 176,
   "id": "fb9846a0",
   "metadata": {},
   "outputs": [
    {
     "data": {
      "text/plain": [
       "['c:\\\\Users\\\\MoAly\\\\OneDrive - Rihal\\\\Rihal\\\\Projects\\\\RihalIntern\\\\models\\\\bagging_classifier.joblib']"
      ]
     },
     "execution_count": 176,
     "metadata": {},
     "output_type": "execute_result"
    }
   ],
   "source": [
    "dump(bagging_classifier,PATH + '\\\\models\\\\bagging_classifier.joblib') #Save the model for Deployment\n"
   ]
  },
  {
   "cell_type": "code",
   "execution_count": null,
   "id": "d88958f2",
   "metadata": {},
   "outputs": [],
   "source": []
  },
  {
   "cell_type": "code",
   "execution_count": null,
   "id": "3aa5b175",
   "metadata": {},
   "outputs": [],
   "source": []
  },
  {
   "cell_type": "code",
   "execution_count": null,
   "id": "6968e4cf",
   "metadata": {},
   "outputs": [],
   "source": []
  },
  {
   "cell_type": "code",
   "execution_count": 177,
   "id": "3d08ae33",
   "metadata": {},
   "outputs": [],
   "source": [
    "import tensorflow as tf\n",
    "from keras.callbacks import EarlyStopping"
   ]
  },
  {
   "cell_type": "code",
   "execution_count": null,
   "id": "fcad5139",
   "metadata": {},
   "outputs": [],
   "source": []
  },
  {
   "cell_type": "code",
   "execution_count": null,
   "id": "7a96eaa0",
   "metadata": {},
   "outputs": [],
   "source": []
  },
  {
   "cell_type": "code",
   "execution_count": null,
   "id": "faf4577a",
   "metadata": {},
   "outputs": [],
   "source": []
  },
  {
   "cell_type": "code",
   "execution_count": null,
   "id": "76fce32a",
   "metadata": {},
   "outputs": [],
   "source": []
  },
  {
   "cell_type": "code",
   "execution_count": 178,
   "id": "29fcee332c902f78",
   "metadata": {
    "ExecuteTime": {
     "end_time": "2023-08-11T04:05:23.054080465Z",
     "start_time": "2023-08-11T04:05:22.806104972Z"
    },
    "collapsed": false,
    "jupyter": {
     "outputs_hidden": false
    }
   },
   "outputs": [
    {
     "data": {
      "text/plain": [
       "((2838, 9826), (2838,))"
      ]
     },
     "execution_count": 178,
     "metadata": {},
     "output_type": "execute_result"
    }
   ],
   "source": [
    "tfidf = load(PATH + '\\\\tokenizers\\\\tfidf_vectorizer.joblib')\n",
    "\n",
    "x = data['text']\n",
    "x = tfidf.transform(x)\n",
    "\n",
    "\n",
    "y = data['label']\n",
    "\n",
    "x.shape, y.shape\n"
   ]
  },
  {
   "cell_type": "code",
   "execution_count": 179,
   "id": "99e25936",
   "metadata": {},
   "outputs": [],
   "source": [
    "import numpy as np"
   ]
  },
  {
   "cell_type": "code",
   "execution_count": 180,
   "id": "2bc6b193",
   "metadata": {},
   "outputs": [],
   "source": [
    "d_out = np.mean(np.array(data['confidence'])) #Dropout threshold"
   ]
  },
  {
   "cell_type": "code",
   "execution_count": 181,
   "id": "340fd4df097c4763",
   "metadata": {
    "ExecuteTime": {
     "end_time": "2023-08-11T04:05:23.054564497Z",
     "start_time": "2023-08-11T04:05:22.999282892Z"
    },
    "collapsed": false,
    "jupyter": {
     "outputs_hidden": false
    }
   },
   "outputs": [],
   "source": [
    "X_train, X_test, y_train, y_test = train_test_split(x,y , test_size= 0.3, random_state= 29)\n",
    "early_stopper = EarlyStopping(monitor='val_loss', patience=10, restore_best_weights=True)\n"
   ]
  },
  {
   "cell_type": "code",
   "execution_count": 182,
   "id": "7ed41824023f8c18",
   "metadata": {
    "ExecuteTime": {
     "end_time": "2023-08-11T04:06:26.059839050Z",
     "start_time": "2023-08-11T04:06:22.233303106Z"
    },
    "collapsed": false,
    "jupyter": {
     "outputs_hidden": false
    }
   },
   "outputs": [],
   "source": [
    "nn = tf.keras.models.Sequential(\n",
    "    [\n",
    "        tf.keras.layers.Dense(25, activation='relu', input_shape=(X_train.shape[1],)),\n",
    "        tf.keras.layers.Dropout(d_out),\n",
    "        tf.keras.layers.Dense(10, activation='relu'),\n",
    "        tf.keras.layers.Dropout(0.5),\n",
    "        tf.keras.layers.Dense(1, activation='sigmoid')\n",
    "    ])"
   ]
  },
  {
   "cell_type": "code",
   "execution_count": 183,
   "id": "562c5fbbaa7f0d36",
   "metadata": {
    "ExecuteTime": {
     "end_time": "2023-08-11T04:06:30.987272184Z",
     "start_time": "2023-08-11T04:06:30.955894943Z"
    },
    "collapsed": false,
    "jupyter": {
     "outputs_hidden": false
    }
   },
   "outputs": [],
   "source": [
    "precision_metric = tf.keras.metrics.Precision()\n",
    "recall_metric = tf.keras.metrics.Recall()\n",
    "\n",
    "\n",
    "\n",
    "nn.compile(optimizer='rmsprop', loss='binary_crossentropy', metrics=['accuracy', precision_metric, recall_metric])"
   ]
  },
  {
   "cell_type": "code",
   "execution_count": 184,
   "id": "c1ce18b5097b67f7",
   "metadata": {
    "ExecuteTime": {
     "end_time": "2023-08-11T04:06:32.251318187Z",
     "start_time": "2023-08-11T04:06:32.142721605Z"
    },
    "collapsed": false,
    "jupyter": {
     "outputs_hidden": false
    }
   },
   "outputs": [
    {
     "name": "stdout",
     "output_type": "stream",
     "text": [
      "Model: \"sequential_2\"\n",
      "_________________________________________________________________\n",
      " Layer (type)                Output Shape              Param #   \n",
      "=================================================================\n",
      " dense_6 (Dense)             (None, 25)                245675    \n",
      "                                                                 \n",
      " dropout_4 (Dropout)         (None, 25)                0         \n",
      "                                                                 \n",
      " dense_7 (Dense)             (None, 10)                260       \n",
      "                                                                 \n",
      " dropout_5 (Dropout)         (None, 10)                0         \n",
      "                                                                 \n",
      " dense_8 (Dense)             (None, 1)                 11        \n",
      "                                                                 \n",
      "=================================================================\n",
      "Total params: 245946 (960.73 KB)\n",
      "Trainable params: 245946 (960.73 KB)\n",
      "Non-trainable params: 0 (0.00 Byte)\n",
      "_________________________________________________________________\n"
     ]
    }
   ],
   "source": [
    "nn.summary()"
   ]
  },
  {
   "cell_type": "code",
   "execution_count": 185,
   "id": "85c1cb7a32ef9818",
   "metadata": {
    "ExecuteTime": {
     "end_time": "2023-08-11T04:18:13.898542707Z",
     "start_time": "2023-08-11T04:06:49.310152749Z"
    },
    "collapsed": false,
    "jupyter": {
     "outputs_hidden": false
    }
   },
   "outputs": [
    {
     "name": "stdout",
     "output_type": "stream",
     "text": [
      "Epoch 1/100\n",
      "993/993 [==============================] - 8s 7ms/step - loss: 0.6913 - accuracy: 0.5201 - precision_3: 0.5253 - recall_1: 0.6427 - val_loss: 0.6818 - val_accuracy: 0.5540 - val_precision_3: 0.5540 - val_recall_1: 1.0000\n",
      "Epoch 2/100\n",
      "993/993 [==============================] - 6s 6ms/step - loss: 0.6854 - accuracy: 0.5242 - precision_3: 0.5271 - recall_1: 0.6801 - val_loss: 0.6700 - val_accuracy: 0.7089 - val_precision_3: 0.7097 - val_recall_1: 0.8030\n",
      "Epoch 3/100\n",
      "993/993 [==============================] - 6s 6ms/step - loss: 0.6715 - accuracy: 0.5579 - precision_3: 0.5640 - recall_1: 0.5984 - val_loss: 0.6555 - val_accuracy: 0.7042 - val_precision_3: 0.7696 - val_recall_1: 0.6653\n",
      "Epoch 4/100\n",
      "993/993 [==============================] - 6s 6ms/step - loss: 0.6543 - accuracy: 0.5886 - precision_3: 0.6129 - recall_1: 0.5315 - val_loss: 0.6157 - val_accuracy: 0.7160 - val_precision_3: 0.7366 - val_recall_1: 0.7585\n",
      "Epoch 5/100\n",
      "993/993 [==============================] - 6s 6ms/step - loss: 0.6471 - accuracy: 0.6143 - precision_3: 0.6562 - recall_1: 0.5167 - val_loss: 0.5941 - val_accuracy: 0.7277 - val_precision_3: 0.7372 - val_recall_1: 0.7903\n",
      "Epoch 6/100\n",
      "993/993 [==============================] - 6s 6ms/step - loss: 0.6333 - accuracy: 0.6349 - precision_3: 0.6738 - recall_1: 0.5551 - val_loss: 0.5767 - val_accuracy: 0.7113 - val_precision_3: 0.7716 - val_recall_1: 0.6801\n",
      "Epoch 7/100\n",
      "993/993 [==============================] - 6s 6ms/step - loss: 0.6138 - accuracy: 0.6506 - precision_3: 0.6912 - recall_1: 0.5728 - val_loss: 0.5724 - val_accuracy: 0.7195 - val_precision_3: 0.7794 - val_recall_1: 0.6886\n",
      "Epoch 8/100\n",
      "993/993 [==============================] - 6s 6ms/step - loss: 0.6089 - accuracy: 0.6626 - precision_3: 0.7247 - recall_1: 0.5492 - val_loss: 0.5701 - val_accuracy: 0.7031 - val_precision_3: 0.8102 - val_recall_1: 0.6059\n",
      "Epoch 9/100\n",
      "993/993 [==============================] - 7s 7ms/step - loss: 0.6094 - accuracy: 0.6631 - precision_3: 0.7268 - recall_1: 0.5472 - val_loss: 0.5512 - val_accuracy: 0.7113 - val_precision_3: 0.7839 - val_recall_1: 0.6610\n",
      "Epoch 10/100\n",
      "993/993 [==============================] - 7s 7ms/step - loss: 0.6122 - accuracy: 0.6647 - precision_3: 0.7210 - recall_1: 0.5620 - val_loss: 0.5484 - val_accuracy: 0.7195 - val_precision_3: 0.7905 - val_recall_1: 0.6716\n",
      "Epoch 11/100\n",
      "993/993 [==============================] - 7s 7ms/step - loss: 0.6224 - accuracy: 0.6782 - precision_3: 0.7445 - recall_1: 0.5650 - val_loss: 0.5489 - val_accuracy: 0.7136 - val_precision_3: 0.7893 - val_recall_1: 0.6589\n",
      "Epoch 12/100\n",
      "993/993 [==============================] - 7s 7ms/step - loss: 0.6334 - accuracy: 0.6818 - precision_3: 0.7520 - recall_1: 0.5640 - val_loss: 0.5474 - val_accuracy: 0.7277 - val_precision_3: 0.7871 - val_recall_1: 0.6970\n",
      "Epoch 13/100\n",
      "993/993 [==============================] - 7s 7ms/step - loss: 0.6160 - accuracy: 0.6828 - precision_3: 0.7474 - recall_1: 0.5738 - val_loss: 0.5707 - val_accuracy: 0.7031 - val_precision_3: 0.8120 - val_recall_1: 0.6038\n",
      "Epoch 14/100\n",
      "993/993 [==============================] - 7s 7ms/step - loss: 0.6456 - accuracy: 0.6863 - precision_3: 0.7645 - recall_1: 0.5591 - val_loss: 0.5693 - val_accuracy: 0.7066 - val_precision_3: 0.8101 - val_recall_1: 0.6144\n",
      "Epoch 15/100\n",
      "993/993 [==============================] - 6s 6ms/step - loss: 0.6355 - accuracy: 0.6828 - precision_3: 0.7580 - recall_1: 0.5581 - val_loss: 0.5713 - val_accuracy: 0.6913 - val_precision_3: 0.8083 - val_recall_1: 0.5805\n",
      "Epoch 16/100\n",
      "993/993 [==============================] - 6s 6ms/step - loss: 0.5964 - accuracy: 0.7014 - precision_3: 0.7839 - recall_1: 0.5748 - val_loss: 0.5601 - val_accuracy: 0.7300 - val_precision_3: 0.7980 - val_recall_1: 0.6864\n",
      "Epoch 17/100\n",
      "993/993 [==============================] - 6s 6ms/step - loss: 0.6281 - accuracy: 0.6843 - precision_3: 0.7646 - recall_1: 0.5531 - val_loss: 0.5670 - val_accuracy: 0.7242 - val_precision_3: 0.8143 - val_recall_1: 0.6504\n",
      "Epoch 18/100\n",
      "993/993 [==============================] - 6s 6ms/step - loss: 0.6026 - accuracy: 0.7049 - precision_3: 0.7970 - recall_1: 0.5679 - val_loss: 0.5643 - val_accuracy: 0.7441 - val_precision_3: 0.7725 - val_recall_1: 0.7627\n",
      "Epoch 19/100\n",
      "993/993 [==============================] - 6s 6ms/step - loss: 0.6560 - accuracy: 0.7054 - precision_3: 0.7684 - recall_1: 0.6073 - val_loss: 0.5782 - val_accuracy: 0.7148 - val_precision_3: 0.8070 - val_recall_1: 0.6377\n",
      "Epoch 20/100\n",
      "993/993 [==============================] - 6s 6ms/step - loss: 0.6227 - accuracy: 0.6934 - precision_3: 0.7807 - recall_1: 0.5571 - val_loss: 0.5838 - val_accuracy: 0.7183 - val_precision_3: 0.8085 - val_recall_1: 0.6441\n",
      "Epoch 21/100\n",
      "993/993 [==============================] - 7s 7ms/step - loss: 0.6201 - accuracy: 0.7140 - precision_3: 0.7979 - recall_1: 0.5906 - val_loss: 0.5773 - val_accuracy: 0.7359 - val_precision_3: 0.8095 - val_recall_1: 0.6843\n",
      "Epoch 22/100\n",
      "993/993 [==============================] - 7s 7ms/step - loss: 0.6158 - accuracy: 0.7080 - precision_3: 0.7986 - recall_1: 0.5738 - val_loss: 0.5837 - val_accuracy: 0.7441 - val_precision_3: 0.8053 - val_recall_1: 0.7097\n"
     ]
    },
    {
     "data": {
      "text/plain": [
       "<keras.src.callbacks.History at 0x20d88d35410>"
      ]
     },
     "execution_count": 185,
     "metadata": {},
     "output_type": "execute_result"
    }
   ],
   "source": [
    "nn.fit(X_train.toarray(), y_train, epochs=100, batch_size=2, validation_data=(X_test.toarray(), y_test), callbacks=[early_stopper])\n"
   ]
  },
  {
   "cell_type": "code",
   "execution_count": 186,
   "id": "30e65ca25fb19ccf",
   "metadata": {
    "ExecuteTime": {
     "end_time": "2023-08-11T04:18:27.149934898Z",
     "start_time": "2023-08-11T04:18:25.435718121Z"
    },
    "collapsed": false,
    "jupyter": {
     "outputs_hidden": false
    }
   },
   "outputs": [
    {
     "name": "stdout",
     "output_type": "stream",
     "text": [
      "27/27 [==============================] - 1s 4ms/step - loss: 0.5474 - accuracy: 0.7277 - precision_3: 0.7871 - recall_1: 0.6970\n"
     ]
    }
   ],
   "source": [
    "reasults = nn.evaluate(X_test.toarray(), y_test)\n"
   ]
  },
  {
   "cell_type": "code",
   "execution_count": 187,
   "id": "f47860ad486afaa1",
   "metadata": {
    "ExecuteTime": {
     "end_time": "2023-08-11T04:18:34.894708068Z",
     "start_time": "2023-08-11T04:18:34.846435783Z"
    },
    "collapsed": false,
    "jupyter": {
     "outputs_hidden": false
    }
   },
   "outputs": [
    {
     "name": "stdout",
     "output_type": "stream",
     "text": [
      "Test Loss: 0.5474\n",
      "Test Accuracy: 0.7277\n"
     ]
    }
   ],
   "source": [
    "print(f\"Test Loss: {reasults[0]:.4f}\")\n",
    "print(f\"Test Accuracy: {reasults[1]:.4f}\")"
   ]
  },
  {
   "cell_type": "code",
   "execution_count": 188,
   "id": "4334bc6af34a7642",
   "metadata": {
    "ExecuteTime": {
     "end_time": "2023-08-11T04:19:58.158087885Z",
     "start_time": "2023-08-11T04:19:57.919222371Z"
    },
    "collapsed": false,
    "jupyter": {
     "outputs_hidden": false
    }
   },
   "outputs": [
    {
     "name": "stdout",
     "output_type": "stream",
     "text": [
      "1/1 [==============================] - 0s 141ms/step\n"
     ]
    },
    {
     "data": {
      "text/plain": [
       "0.6679175"
      ]
     },
     "execution_count": 188,
     "metadata": {},
     "output_type": "execute_result"
    }
   ],
   "source": [
    "sample_text = [\"I feel so much stress because of having lots of assignments in the collage and I have no time and my gpa is lower then 2\"]\n",
    "sample_text_tfidf = tfidf.transform(sample_text)\n",
    "prediction = nn.predict(sample_text_tfidf.toarray())\n",
    "prediction[0][0]"
   ]
  },
  {
   "cell_type": "code",
   "execution_count": 189,
   "id": "1e645e74ac96717a",
   "metadata": {
    "ExecuteTime": {
     "end_time": "2023-08-11T04:43:54.292867142Z",
     "start_time": "2023-08-11T04:43:54.245014687Z"
    },
    "collapsed": false,
    "jupyter": {
     "outputs_hidden": false
    }
   },
   "outputs": [],
   "source": [
    "\n",
    "checkpoint_path = PATH + \"\\\\training\\\\cp.ckpt\"\n",
    "\n",
    "try:\n",
    "    os.makedir(checkpoint_path)\n",
    "\n",
    "except:\n",
    "    pass\n",
    "\n",
    "checkpoint_dir = os.path.dirname(checkpoint_path)"
   ]
  },
  {
   "cell_type": "code",
   "execution_count": 190,
   "id": "17c21aaacb22855e",
   "metadata": {
    "ExecuteTime": {
     "end_time": "2023-08-11T04:44:57.811732788Z",
     "start_time": "2023-08-11T04:44:57.748564707Z"
    },
    "collapsed": false,
    "jupyter": {
     "outputs_hidden": false
    }
   },
   "outputs": [],
   "source": [
    "cp_callback = tf.keras.callbacks.ModelCheckpoint(filepath=checkpoint_path,\n",
    "                                                 save_weights_only=True,\n",
    "                                                 verbose=1)"
   ]
  },
  {
   "cell_type": "code",
   "execution_count": 191,
   "id": "cfcb7c955a1ea3f0",
   "metadata": {
    "ExecuteTime": {
     "end_time": "2023-08-11T04:47:46.941100035Z",
     "start_time": "2023-08-11T04:47:09.035704880Z"
    },
    "collapsed": false,
    "jupyter": {
     "outputs_hidden": false
    }
   },
   "outputs": [
    {
     "name": "stdout",
     "output_type": "stream",
     "text": [
      "Epoch 1/10\n",
      "32/32 [==============================] - ETA: 0s - loss: 0.5861 - accuracy: 0.6903 - precision_3: 0.7621 - recall_1: 0.5738\n",
      "Epoch 1: saving model to c:\\Users\\MoAly\\OneDrive - Rihal\\Rihal\\Projects\\RihalIntern\\training\\cp.ckpt\n",
      "32/32 [==============================] - 2s 21ms/step - loss: 0.5861 - accuracy: 0.6903 - precision_3: 0.7621 - recall_1: 0.5738 - val_loss: 0.5538 - val_accuracy: 0.7136 - val_precision_3: 0.8065 - val_recall_1: 0.6356\n",
      "Epoch 2/10\n",
      "26/32 [=======================>......] - ETA: 0s - loss: 0.5871 - accuracy: 0.6965 - precision_3: 0.7948 - recall_1: 0.5443\n",
      "Epoch 2: saving model to c:\\Users\\MoAly\\OneDrive - Rihal\\Rihal\\Projects\\RihalIntern\\training\\cp.ckpt\n",
      "32/32 [==============================] - 0s 13ms/step - loss: 0.5827 - accuracy: 0.6949 - precision_3: 0.7937 - recall_1: 0.5453 - val_loss: 0.5608 - val_accuracy: 0.7066 - val_precision_3: 0.8171 - val_recall_1: 0.6059\n",
      "Epoch 3/10\n",
      "25/32 [======================>.......] - ETA: 0s - loss: 0.5786 - accuracy: 0.6850 - precision_3: 0.7944 - recall_1: 0.5219\n",
      "Epoch 3: saving model to c:\\Users\\MoAly\\OneDrive - Rihal\\Rihal\\Projects\\RihalIntern\\training\\cp.ckpt\n",
      "32/32 [==============================] - 0s 13ms/step - loss: 0.5759 - accuracy: 0.6928 - precision_3: 0.7959 - recall_1: 0.5374 - val_loss: 0.5567 - val_accuracy: 0.7113 - val_precision_3: 0.8139 - val_recall_1: 0.6208\n",
      "Epoch 4/10\n",
      "25/32 [======================>.......] - ETA: 0s - loss: 0.5614 - accuracy: 0.6913 - precision_3: 0.7865 - recall_1: 0.5334\n",
      "Epoch 4: saving model to c:\\Users\\MoAly\\OneDrive - Rihal\\Rihal\\Projects\\RihalIntern\\training\\cp.ckpt\n",
      "32/32 [==============================] - 0s 13ms/step - loss: 0.5592 - accuracy: 0.6928 - precision_3: 0.7875 - recall_1: 0.5472 - val_loss: 0.5556 - val_accuracy: 0.7124 - val_precision_3: 0.8127 - val_recall_1: 0.6250\n",
      "Epoch 5/10\n",
      "27/32 [========================>.....] - ETA: 0s - loss: 0.5579 - accuracy: 0.7014 - precision_3: 0.8047 - recall_1: 0.5471\n",
      "Epoch 5: saving model to c:\\Users\\MoAly\\OneDrive - Rihal\\Rihal\\Projects\\RihalIntern\\training\\cp.ckpt\n",
      "32/32 [==============================] - 0s 13ms/step - loss: 0.5498 - accuracy: 0.7085 - precision_3: 0.8091 - recall_1: 0.5630 - val_loss: 0.5575 - val_accuracy: 0.7066 - val_precision_3: 0.8118 - val_recall_1: 0.6123\n",
      "Epoch 6/10\n",
      "26/32 [=======================>......] - ETA: 0s - loss: 0.5502 - accuracy: 0.7055 - precision_3: 0.8218 - recall_1: 0.5510\n",
      "Epoch 6: saving model to c:\\Users\\MoAly\\OneDrive - Rihal\\Rihal\\Projects\\RihalIntern\\training\\cp.ckpt\n",
      "32/32 [==============================] - 0s 14ms/step - loss: 0.5512 - accuracy: 0.7064 - precision_3: 0.8189 - recall_1: 0.5472 - val_loss: 0.5539 - val_accuracy: 0.7124 - val_precision_3: 0.8127 - val_recall_1: 0.6250\n",
      "Epoch 7/10\n",
      "27/32 [========================>.....] - ETA: 0s - loss: 0.5578 - accuracy: 0.7078 - precision_3: 0.8154 - recall_1: 0.5516\n",
      "Epoch 7: saving model to c:\\Users\\MoAly\\OneDrive - Rihal\\Rihal\\Projects\\RihalIntern\\training\\cp.ckpt\n",
      "32/32 [==============================] - 0s 13ms/step - loss: 0.5608 - accuracy: 0.7034 - precision_3: 0.8081 - recall_1: 0.5512 - val_loss: 0.5548 - val_accuracy: 0.7148 - val_precision_3: 0.8172 - val_recall_1: 0.6250\n",
      "Epoch 8/10\n",
      "27/32 [========================>.....] - ETA: 0s - loss: 0.5263 - accuracy: 0.7211 - precision_3: 0.8245 - recall_1: 0.5785\n",
      "Epoch 8: saving model to c:\\Users\\MoAly\\OneDrive - Rihal\\Rihal\\Projects\\RihalIntern\\training\\cp.ckpt\n",
      "32/32 [==============================] - 0s 13ms/step - loss: 0.5342 - accuracy: 0.7190 - precision_3: 0.8225 - recall_1: 0.5748 - val_loss: 0.5444 - val_accuracy: 0.7289 - val_precision_3: 0.8035 - val_recall_1: 0.6758\n",
      "Epoch 9/10\n",
      "25/32 [======================>.......] - ETA: 0s - loss: 0.5400 - accuracy: 0.7038 - precision_3: 0.8031 - recall_1: 0.5608\n",
      "Epoch 9: saving model to c:\\Users\\MoAly\\OneDrive - Rihal\\Rihal\\Projects\\RihalIntern\\training\\cp.ckpt\n",
      "32/32 [==============================] - 0s 15ms/step - loss: 0.5379 - accuracy: 0.7019 - precision_3: 0.8003 - recall_1: 0.5561 - val_loss: 0.5486 - val_accuracy: 0.7242 - val_precision_3: 0.8160 - val_recall_1: 0.6483\n",
      "Epoch 10/10\n",
      "24/32 [=====================>........] - ETA: 0s - loss: 0.5386 - accuracy: 0.7135 - precision_3: 0.8306 - recall_1: 0.5645\n",
      "Epoch 10: saving model to c:\\Users\\MoAly\\OneDrive - Rihal\\Rihal\\Projects\\RihalIntern\\training\\cp.ckpt\n",
      "32/32 [==============================] - 0s 14ms/step - loss: 0.5451 - accuracy: 0.7205 - precision_3: 0.8242 - recall_1: 0.5768 - val_loss: 0.5488 - val_accuracy: 0.7254 - val_precision_3: 0.8199 - val_recall_1: 0.6462\n"
     ]
    },
    {
     "data": {
      "text/plain": [
       "<keras.src.callbacks.History at 0x20d8b4638d0>"
      ]
     },
     "execution_count": 191,
     "metadata": {},
     "output_type": "execute_result"
    }
   ],
   "source": [
    "nn.fit(X_train.toarray(), y_train, epochs=10, batch_size=64, validation_data=(X_test.toarray(), y_test), callbacks=[early_stopper, cp_callback])"
   ]
  },
  {
   "cell_type": "code",
   "execution_count": 192,
   "id": "41c369cefaaa70bd",
   "metadata": {
    "ExecuteTime": {
     "end_time": "2023-08-11T04:48:08.163881366Z",
     "start_time": "2023-08-11T04:48:08.130431425Z"
    },
    "collapsed": false,
    "jupyter": {
     "outputs_hidden": false
    }
   },
   "outputs": [
    {
     "data": {
      "text/plain": [
       "['checkpoint', 'cp.ckpt.data-00000-of-00001', 'cp.ckpt.index']"
      ]
     },
     "execution_count": 192,
     "metadata": {},
     "output_type": "execute_result"
    }
   ],
   "source": [
    "os.listdir(checkpoint_dir)\n"
   ]
  },
  {
   "cell_type": "code",
   "execution_count": 193,
   "id": "b93df9fe0ba49397",
   "metadata": {
    "ExecuteTime": {
     "end_time": "2023-08-11T04:50:18.994328477Z",
     "start_time": "2023-08-11T04:50:18.802249495Z"
    },
    "collapsed": false,
    "jupyter": {
     "outputs_hidden": false
    }
   },
   "outputs": [
    {
     "name": "stderr",
     "output_type": "stream",
     "text": [
      "C:\\Users\\MoAly\\AppData\\Local\\Temp\\ipykernel_16488\\2595220572.py:1: UserWarning: You are saving your model as an HDF5 file via `model.save()`. This file format is considered legacy. We recommend using instead the native Keras format, e.g. `model.save('my_model.keras')`.\n",
      "  tf.keras.models.save_model(nn, \"models/stress.h5\")\n"
     ]
    }
   ],
   "source": [
    "tf.keras.models.save_model(nn, \"models/stress.h5\")"
   ]
  },
  {
   "cell_type": "code",
   "execution_count": null,
   "id": "eedbf7ad289a58cf",
   "metadata": {
    "collapsed": false,
    "jupyter": {
     "outputs_hidden": false
    }
   },
   "outputs": [],
   "source": []
  },
  {
   "cell_type": "code",
   "execution_count": null,
   "id": "9f135321",
   "metadata": {},
   "outputs": [],
   "source": []
  },
  {
   "cell_type": "code",
   "execution_count": null,
   "id": "34d9ec15",
   "metadata": {},
   "outputs": [],
   "source": []
  },
  {
   "cell_type": "code",
   "execution_count": null,
   "id": "f108ab2a",
   "metadata": {},
   "outputs": [],
   "source": []
  },
  {
   "cell_type": "code",
   "execution_count": null,
   "id": "27c58685",
   "metadata": {},
   "outputs": [],
   "source": []
  },
  {
   "cell_type": "code",
   "execution_count": null,
   "id": "2c21c8ea",
   "metadata": {},
   "outputs": [],
   "source": []
  },
  {
   "cell_type": "code",
   "execution_count": null,
   "id": "d7d4127a",
   "metadata": {},
   "outputs": [],
   "source": []
  },
  {
   "cell_type": "code",
   "execution_count": null,
   "id": "dedff2e5",
   "metadata": {},
   "outputs": [],
   "source": []
  },
  {
   "cell_type": "code",
   "execution_count": null,
   "id": "92c4f843",
   "metadata": {},
   "outputs": [],
   "source": []
  },
  {
   "cell_type": "code",
   "execution_count": null,
   "id": "ad09ae1b",
   "metadata": {},
   "outputs": [],
   "source": []
  },
  {
   "cell_type": "code",
   "execution_count": null,
   "id": "7e6ab8fb",
   "metadata": {},
   "outputs": [],
   "source": []
  },
  {
   "cell_type": "code",
   "execution_count": null,
   "id": "7c1f7231",
   "metadata": {},
   "outputs": [],
   "source": []
  },
  {
   "cell_type": "code",
   "execution_count": null,
   "id": "049b90f1",
   "metadata": {},
   "outputs": [],
   "source": []
  },
  {
   "cell_type": "code",
   "execution_count": null,
   "id": "4f361b6a",
   "metadata": {},
   "outputs": [],
   "source": []
  }
 ],
 "metadata": {
  "kernelspec": {
   "display_name": "Python 3 (ipykernel)",
   "language": "python",
   "name": "python3"
  },
  "language_info": {
   "codemirror_mode": {
    "name": "ipython",
    "version": 3
   },
   "file_extension": ".py",
   "mimetype": "text/x-python",
   "name": "python",
   "nbconvert_exporter": "python",
   "pygments_lexer": "ipython3",
   "version": "3.11.5"
  }
 },
 "nbformat": 4,
 "nbformat_minor": 5
}
