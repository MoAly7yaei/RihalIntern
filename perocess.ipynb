{
 "cells": [
  {
   "cell_type": "markdown",
   "metadata": {},
   "source": []
  },
  {
   "cell_type": "code",
   "execution_count": 1,
   "metadata": {
    "ExecuteTime": {
     "end_time": "2024-01-25T04:16:41.597590300Z",
     "start_time": "2024-01-25T04:16:40.742775400Z"
    }
   },
   "outputs": [],
   "source": [
    "import os #To import| library"
   ]
  },
  {
   "cell_type": "code",
   "execution_count": 2,
   "metadata": {
    "ExecuteTime": {
     "end_time": "2024-01-25T04:16:41.679164400Z",
     "start_time": "2024-01-25T04:16:41.588590300Z"
    }
   },
   "outputs": [],
   "source": [
    "PATH = os.getcwd() #Get current work directory\n"
   ]
  },
  {
   "cell_type": "code",
   "execution_count": 3,
   "metadata": {
    "ExecuteTime": {
     "end_time": "2024-01-25T04:16:41.885050600Z",
     "start_time": "2024-01-25T04:16:41.649228400Z"
    }
   },
   "outputs": [
    {
     "data": {
      "text/plain": "'C:\\\\Users\\\\MoAly\\\\Development\\\\LearningCurve\\\\Stage One'"
     },
     "execution_count": 3,
     "metadata": {},
     "output_type": "execute_result"
    }
   ],
   "source": [
    "PATH"
   ]
  },
  {
   "cell_type": "code",
   "execution_count": 4,
   "metadata": {
    "ExecuteTime": {
     "end_time": "2024-01-25T04:16:42.004585700Z",
     "start_time": "2024-01-25T04:16:41.834998200Z"
    }
   },
   "outputs": [],
   "source": [
    "DATAPATH = PATH + '\\\\Data'\n",
    "\n",
    "SCRIPTPATH = PATH + '\\\\script'\n",
    "\n",
    "\n",
    "try:\n",
    "    os.mkdir(DATAPATH)\n",
    "except FileExistsError:\n",
    "    pass\n"
   ]
  },
  {
   "cell_type": "code",
   "execution_count": 5,
   "metadata": {
    "ExecuteTime": {
     "end_time": "2024-01-25T04:16:46.648022900Z",
     "start_time": "2024-01-25T04:16:42.023602300Z"
    }
   },
   "outputs": [],
   "source": [
    "try:\n",
    "    import pandas as pd\n",
    "    import numpy as np\n",
    "    import seaborn as sns\n",
    "    import matplotlib.pyplot as plt\n",
    "    import psutil\n",
    "\n",
    "except:\n",
    "    %pip install pandas\n",
    "    %pip install numpy\n",
    "    %pip install seaborn\n",
    "    %pip install matplotlib\n",
    "    %pip install psutil\n",
    "\n",
    "    import pandas as pd\n",
    "    import pandas as pd\n",
    "    import numpy as np\n",
    "    import seaborn as sns\n",
    "    import matplotlib.pyplot as plt\n",
    "    import psutil\n"
   ]
  },
  {
   "cell_type": "code",
   "execution_count": 6,
   "metadata": {
    "ExecuteTime": {
     "end_time": "2024-01-25T04:16:46.676025200Z",
     "start_time": "2024-01-25T04:16:46.597476900Z"
    }
   },
   "outputs": [],
   "source": [
    "def get_process_directory(pid):\n",
    "    try:\n",
    "        \n",
    "        process = psutil.Process(pid)\n",
    "        \n",
    "        executable_path = process.exe()\n",
    "        return executable_path\n",
    "    except psutil.NoSuchProcess:\n",
    "        return 0\n",
    "    except Exception as e:\n",
    "        return 0"
   ]
  },
  {
   "cell_type": "code",
   "execution_count": 7,
   "metadata": {
    "ExecuteTime": {
     "end_time": "2024-01-25T04:17:21.402993300Z",
     "start_time": "2024-01-25T04:16:46.611495300Z"
    }
   },
   "outputs": [],
   "source": [
    "PROCESS_NUM_TARGETED = 1000000\n",
    "\n",
    "\n",
    "if os.path.isfile(PATH + '\\\\Data' + '\\\\process.csv'):\n",
    "    data = pd.read_csv(PATH + '\\\\Data' + '\\\\process.csv')\n",
    "    dataframe = data\n",
    "\n",
    "else:\n",
    "    data = {\n",
    "        'ID': [id for id in range (PROCESS_NUM_TARGETED)],\n",
    "        'Execution Path' : [get_process_directory(pid) for pid in range(PROCESS_NUM_TARGETED)]    \n",
    "    }\n",
    "    dataframe = pd.DataFrame(data)\n",
    "\n",
    "\n"
   ]
  },
  {
   "cell_type": "code",
   "execution_count": 7,
   "metadata": {
    "ExecuteTime": {
     "end_time": "2024-01-25T04:17:21.445195200Z",
     "start_time": "2024-01-25T04:17:21.408975100Z"
    }
   },
   "outputs": [],
   "source": []
  },
  {
   "cell_type": "code",
   "execution_count": 7,
   "metadata": {
    "ExecuteTime": {
     "end_time": "2024-01-25T04:17:21.470815400Z",
     "start_time": "2024-01-25T04:17:21.418005100Z"
    }
   },
   "outputs": [],
   "source": []
  },
  {
   "cell_type": "code",
   "execution_count": 7,
   "metadata": {
    "ExecuteTime": {
     "end_time": "2024-01-25T04:17:21.511435Z",
     "start_time": "2024-01-25T04:17:21.425196500Z"
    }
   },
   "outputs": [],
   "source": []
  },
  {
   "cell_type": "code",
   "execution_count": 8,
   "metadata": {
    "ExecuteTime": {
     "end_time": "2024-01-25T04:17:21.573448600Z",
     "start_time": "2024-01-25T04:17:21.434186500Z"
    }
   },
   "outputs": [
    {
     "data": {
      "text/plain": "   ID Execution Path\n0   0              0\n1   1              0\n2   2              0\n3   3              0\n4   4               ",
      "text/html": "<div>\n<style scoped>\n    .dataframe tbody tr th:only-of-type {\n        vertical-align: middle;\n    }\n\n    .dataframe tbody tr th {\n        vertical-align: top;\n    }\n\n    .dataframe thead th {\n        text-align: right;\n    }\n</style>\n<table border=\"1\" class=\"dataframe\">\n  <thead>\n    <tr style=\"text-align: right;\">\n      <th></th>\n      <th>ID</th>\n      <th>Execution Path</th>\n    </tr>\n  </thead>\n  <tbody>\n    <tr>\n      <th>0</th>\n      <td>0</td>\n      <td>0</td>\n    </tr>\n    <tr>\n      <th>1</th>\n      <td>1</td>\n      <td>0</td>\n    </tr>\n    <tr>\n      <th>2</th>\n      <td>2</td>\n      <td>0</td>\n    </tr>\n    <tr>\n      <th>3</th>\n      <td>3</td>\n      <td>0</td>\n    </tr>\n    <tr>\n      <th>4</th>\n      <td>4</td>\n      <td></td>\n    </tr>\n  </tbody>\n</table>\n</div>"
     },
     "execution_count": 8,
     "metadata": {},
     "output_type": "execute_result"
    }
   ],
   "source": [
    "dataframe.head() #Show the first 5 rows"
   ]
  },
  {
   "cell_type": "code",
   "execution_count": 9,
   "metadata": {
    "ExecuteTime": {
     "end_time": "2024-01-25T04:17:21.753338600Z",
     "start_time": "2024-01-25T04:17:21.456807600Z"
    }
   },
   "outputs": [
    {
     "data": {
      "text/plain": "{'',\n 0,\n 'C:\\\\Program Files (x86)\\\\Adobe\\\\Adobe Sync\\\\CoreSync\\\\CoreSync.exe',\n 'C:\\\\Program Files (x86)\\\\Common Files\\\\Adobe\\\\ARM\\\\1.0\\\\armsvc.exe',\n 'C:\\\\Program Files (x86)\\\\Common Files\\\\Adobe\\\\Adobe Desktop Common\\\\ADS\\\\Adobe Crash Processor.exe',\n 'C:\\\\Program Files (x86)\\\\Common Files\\\\Adobe\\\\Adobe Desktop Common\\\\ADS\\\\Adobe Desktop Service.exe',\n 'C:\\\\Program Files (x86)\\\\Common Files\\\\Adobe\\\\Adobe Desktop Common\\\\ElevationManager\\\\AdobeUpdateService.exe',\n 'C:\\\\Program Files (x86)\\\\Common Files\\\\Adobe\\\\Adobe Desktop Common\\\\IPCBox\\\\AdobeIPCBroker.exe',\n 'C:\\\\Program Files (x86)\\\\Dell\\\\UpdateService\\\\DCF\\\\Dell.DCF.UA.Bradbury.API.SubAgent.exe',\n 'C:\\\\Program Files (x86)\\\\Dell\\\\UpdateService\\\\ServiceShell.exe',\n 'C:\\\\Program Files (x86)\\\\Microsoft\\\\EdgeWebView\\\\Application\\\\120.0.2210.144\\\\msedgewebview2.exe',\n 'C:\\\\Program Files (x86)\\\\Microsoft\\\\Edge\\\\Application\\\\msedge.exe',\n 'C:\\\\Program Files (x86)\\\\NVIDIA Corporation\\\\NvNode\\\\NVIDIA Web Helper.exe',\n 'C:\\\\Program Files\\\\Adobe\\\\Acrobat DC\\\\Acrobat\\\\AdobeCollabSync.exe',\n 'C:\\\\Program Files\\\\Adobe\\\\Adobe Creative Cloud Experience\\\\CCXProcess.exe',\n 'C:\\\\Program Files\\\\Adobe\\\\Adobe Creative Cloud Experience\\\\libs\\\\node.exe',\n 'C:\\\\Program Files\\\\Adobe\\\\Adobe Creative Cloud\\\\ACC\\\\Creative Cloud.exe',\n 'C:\\\\Program Files\\\\Common Files\\\\Adobe\\\\Adobe Desktop Common\\\\HEX\\\\Creative Cloud UI Helper.exe',\n 'C:\\\\Program Files\\\\Common Files\\\\Adobe\\\\Creative Cloud Libraries\\\\CCLibrary.exe',\n 'C:\\\\Program Files\\\\Common Files\\\\Adobe\\\\Creative Cloud Libraries\\\\libs\\\\node.exe',\n 'C:\\\\Program Files\\\\Common Files\\\\Native Instruments\\\\NTK\\\\NTKDaemon.exe',\n 'C:\\\\Program Files\\\\Common Files\\\\Native Instruments\\\\NTK\\\\crashpad_handler.exe',\n 'C:\\\\Program Files\\\\Common Files\\\\microsoft shared\\\\ClickToRun\\\\OfficeClickToRun.exe',\n 'C:\\\\Program Files\\\\Dell\\\\DTP\\\\AnalyticsSubAgent\\\\Dell.TechHub.Analytics.SubAgent.exe',\n 'C:\\\\Program Files\\\\Dell\\\\DTP\\\\DataManagerSubAgent\\\\Dell.TechHub.DataManager.SubAgent.exe',\n 'C:\\\\Program Files\\\\Dell\\\\DTP\\\\DiagnosticsSubAgent\\\\Dell.TechHub.Diagnostics.SubAgent.exe',\n 'C:\\\\Program Files\\\\Dell\\\\DTP\\\\InstrumentationSubAgent\\\\Dell.TechHub.Instrumentation.SubAgent.exe',\n 'C:\\\\Program Files\\\\Dell\\\\DTP\\\\InstrumentationSubAgent\\\\Dell.TechHub.Instrumentation.UserProcess.exe',\n 'C:\\\\Program Files\\\\Dell\\\\DellDataVault\\\\DDVCollectorSvcApi.exe',\n 'C:\\\\Program Files\\\\Dell\\\\DellDataVault\\\\DDVDataCollector.exe',\n 'C:\\\\Program Files\\\\Dell\\\\DellDataVault\\\\DDVRulesProcessor.exe',\n 'C:\\\\Program Files\\\\Dell\\\\SupportAssistAgent\\\\bin\\\\SupportAssistAgent.exe',\n 'C:\\\\Program Files\\\\Dell\\\\TechHub\\\\Dell.TechHub.exe',\n 'C:\\\\Program Files\\\\Git\\\\usr\\\\bin\\\\ssh-agent.exe',\n 'C:\\\\Program Files\\\\JetBrains\\\\PyCharm 2023.3.2\\\\bin\\\\fsnotifier.exe',\n 'C:\\\\Program Files\\\\JetBrains\\\\PyCharm 2023.3.2\\\\bin\\\\pycharm64.exe',\n 'C:\\\\Program Files\\\\Microsoft Office\\\\root\\\\Office16\\\\OUTLOOK.EXE',\n 'C:\\\\Program Files\\\\Microsoft Office\\\\root\\\\Office16\\\\WINWORD.EXE',\n 'C:\\\\Program Files\\\\Microsoft Office\\\\root\\\\Office16\\\\msoadfsb.exe',\n 'C:\\\\Program Files\\\\Microsoft Office\\\\root\\\\vfs\\\\ProgramFilesCommonX64\\\\Microsoft Shared\\\\Office16\\\\ai.exe',\n 'C:\\\\Program Files\\\\Microsoft OneDrive\\\\23.246.1127.0002\\\\FileCoAuth.exe',\n 'C:\\\\Program Files\\\\Microsoft OneDrive\\\\23.246.1127.0002\\\\FileSyncHelper.exe',\n 'C:\\\\Program Files\\\\Microsoft OneDrive\\\\23.246.1127.0002\\\\Microsoft.SharePoint.exe',\n 'C:\\\\Program Files\\\\Microsoft OneDrive\\\\OneDrive.exe',\n 'C:\\\\Program Files\\\\NVIDIA Corporation\\\\NVIDIA GeForce Experience\\\\NVIDIA Share.exe',\n 'C:\\\\Program Files\\\\NVIDIA Corporation\\\\NvContainer\\\\nvcontainer.exe',\n 'C:\\\\Program Files\\\\NVIDIA Corporation\\\\ShadowPlay\\\\nvsphelper64.exe',\n 'C:\\\\Program Files\\\\WindowsApps\\\\5319275A.WhatsAppDesktop_2.2401.3.0_x64__cv1g1gvanyjgm\\\\WhatsApp.exe',\n 'C:\\\\Program Files\\\\WindowsApps\\\\AcrobatNotificationClient_1.0.4.0_x86__e1rzdqpraam7r\\\\AcrobatNotificationClient.exe',\n 'C:\\\\Program Files\\\\WindowsApps\\\\AdobeNotificationClient_3.0.1.1_x86__enpm4xejd91yc\\\\AdobeNotificationClient.exe',\n 'C:\\\\Program Files\\\\WindowsApps\\\\MSTeams_23335.232.2637.4844_x64__8wekyb3d8bbwe\\\\ms-teams.exe',\n 'C:\\\\Program Files\\\\WindowsApps\\\\Microsoft.6365217CE6EB4_102.2401.19004.0_x64__8wekyb3d8bbwe\\\\MicrosoftSecurityApp\\\\MicrosoftSecurityApp.exe',\n 'C:\\\\Program Files\\\\WindowsApps\\\\Microsoft.GamingServices_17.85.5002.0_x64__8wekyb3d8bbwe\\\\gamingservices.exe',\n 'C:\\\\Program Files\\\\WindowsApps\\\\Microsoft.GamingServices_17.85.5002.0_x64__8wekyb3d8bbwe\\\\gamingservicesnet.exe',\n 'C:\\\\Program Files\\\\WindowsApps\\\\Microsoft.PowerAutomateDesktop_11.2312.164.0_x64__8wekyb3d8bbwe\\\\PAD.BrowserNativeMessageHost.exe',\n 'C:\\\\Program Files\\\\WindowsApps\\\\Microsoft.WindowsNotepad_11.2311.35.0_x64__8wekyb3d8bbwe\\\\Notepad\\\\Notepad.exe',\n 'C:\\\\Program Files\\\\WindowsApps\\\\Microsoft.YourPhone_1.23112.87.0_x64__8wekyb3d8bbwe\\\\PhoneExperienceHost.exe',\n 'C:\\\\Program Files\\\\WindowsApps\\\\Microsoft.YourPhone_1.23112.87.0_x64__8wekyb3d8bbwe\\\\YourPhoneAppProxy.exe',\n 'C:\\\\Program Files\\\\WindowsApps\\\\PythonSoftwareFoundation.Python.3.12_3.12.496.0_x64__qbz5n2kfra8p0\\\\python3.12.exe',\n 'C:\\\\Program Files\\\\WindowsApps\\\\microsoftwindows.client.webexperience_424.400.20.0_x64__cw5n1h2txyewy\\\\Dashboard\\\\WidgetService.exe',\n 'C:\\\\Program Files\\\\WindowsApps\\\\microsoftwindows.client.webexperience_424.400.20.0_x64__cw5n1h2txyewy\\\\Dashboard\\\\Widgets.exe',\n 'C:\\\\Program Files\\\\WindowsApps\\\\rivetnetworks.killercontrolcenter_3.1423.712.0_x64__rh07ty8m5nkag\\\\KillerControlCenter_v2\\\\KillerIntelligenceCenter.exe',\n 'C:\\\\ProgramData\\\\Microsoft\\\\Windows Defender\\\\Platform\\\\4.18.23110.3-0\\\\MsMpEng.exe',\n 'C:\\\\ProgramData\\\\Microsoft\\\\Windows Defender\\\\Platform\\\\4.18.23110.3-0\\\\NisSrv.exe',\n 'C:\\\\Users\\\\MoAly\\\\anaconda3\\\\Scripts\\\\jupyter-notebook.exe',\n 'C:\\\\Users\\\\MoAly\\\\anaconda3\\\\python.exe',\n 'C:\\\\Windows\\\\ImmersiveControlPanel\\\\SystemSettings.exe',\n 'C:\\\\Windows\\\\Microsoft.NET\\\\Framework64\\\\v3.0\\\\WPF\\\\PresentationFontCache.exe',\n 'C:\\\\Windows\\\\System32\\\\AggregatorHost.exe',\n 'C:\\\\Windows\\\\System32\\\\ApplicationFrameHost.exe',\n 'C:\\\\Windows\\\\System32\\\\DriverStore\\\\FileRepository\\\\cui_dch.inf_amd64_ea0f2e956b37b3be\\\\igfxCUIService.exe',\n 'C:\\\\Windows\\\\System32\\\\DriverStore\\\\FileRepository\\\\cui_dch.inf_amd64_ea0f2e956b37b3be\\\\igfxEM.exe',\n 'C:\\\\Windows\\\\System32\\\\DriverStore\\\\FileRepository\\\\dal.inf_amd64_3befaa646f991169\\\\jhi_service.exe',\n 'C:\\\\Windows\\\\System32\\\\DriverStore\\\\FileRepository\\\\dptf_cpu.inf_amd64_c2c5b0e17a28a48f\\\\esif_uf.exe',\n 'C:\\\\Windows\\\\System32\\\\DriverStore\\\\FileRepository\\\\iaahcic.inf_amd64_ffd80069472091bc\\\\RstMwService.exe',\n 'C:\\\\Windows\\\\System32\\\\DriverStore\\\\FileRepository\\\\iclsclient.inf_amd64_367008a610747d24\\\\lib\\\\SocketHeciServer.exe',\n 'C:\\\\Windows\\\\System32\\\\DriverStore\\\\FileRepository\\\\igcc_dch.inf_amd64_98ad395a329efc54\\\\OneApp.IGCC.WinService.exe',\n 'C:\\\\Windows\\\\System32\\\\DriverStore\\\\FileRepository\\\\iigd_dch.inf_amd64_e396b69e113d1cc5\\\\IntelCpHDCPSvc.exe',\n 'C:\\\\Windows\\\\System32\\\\DriverStore\\\\FileRepository\\\\iigd_dch.inf_amd64_e396b69e113d1cc5\\\\IntelCpHeciSvc.exe',\n 'C:\\\\Windows\\\\System32\\\\DriverStore\\\\FileRepository\\\\lms.inf_amd64_981d034327bfbdcc\\\\LMS.exe',\n 'C:\\\\Windows\\\\System32\\\\DriverStore\\\\FileRepository\\\\mewmiprov.inf_amd64_ab7d4ea1d12c01d4\\\\WMIRegistrationService.exe',\n 'C:\\\\Windows\\\\System32\\\\DriverStore\\\\FileRepository\\\\nvdmsi.inf_amd64_58416624598bf658\\\\Display.NvContainer\\\\NVDisplay.Container.exe',\n 'C:\\\\Windows\\\\System32\\\\DriverStore\\\\FileRepository\\\\piecomponent.inf_amd64_90ff6c7fe29f9dcf\\\\Intel_PIE_Service.exe',\n 'C:\\\\Windows\\\\System32\\\\DriverStore\\\\FileRepository\\\\realtekservice.inf_amd64_b55ed36a9a78cc75\\\\RtkAudUService64.exe',\n 'C:\\\\Windows\\\\System32\\\\DriverStore\\\\FileRepository\\\\sgx_psw.inf_amd64_fafb1d329fdfe2c6\\\\aesm_service.exe',\n 'C:\\\\Windows\\\\System32\\\\DriverStore\\\\FileRepository\\\\wavesapo8de.inf_amd64_b4d0b189ff2aba03\\\\WavesSvc64.exe',\n 'C:\\\\Windows\\\\System32\\\\DriverStore\\\\FileRepository\\\\wavesapo8de.inf_amd64_b4d0b189ff2aba03\\\\WavesSysSvc64.exe',\n 'C:\\\\Windows\\\\System32\\\\LocationNotificationWindows.exe',\n 'C:\\\\Windows\\\\System32\\\\LsaIso.exe',\n 'C:\\\\Windows\\\\System32\\\\RuntimeBroker.exe',\n 'C:\\\\Windows\\\\System32\\\\SearchFilterHost.exe',\n 'C:\\\\Windows\\\\System32\\\\SearchIndexer.exe',\n 'C:\\\\Windows\\\\System32\\\\SearchProtocolHost.exe',\n 'C:\\\\Windows\\\\System32\\\\SecurityHealthService.exe',\n 'C:\\\\Windows\\\\System32\\\\SecurityHealthSystray.exe',\n 'C:\\\\Windows\\\\System32\\\\SystemSettingsBroker.exe',\n 'C:\\\\Windows\\\\System32\\\\WUDFHost.exe',\n 'C:\\\\Windows\\\\System32\\\\WindowsPowerShell\\\\v1.0\\\\powershell.exe',\n 'C:\\\\Windows\\\\System32\\\\backgroundTaskHost.exe',\n 'C:\\\\Windows\\\\System32\\\\cAVS\\\\Intel(R) Audio Service\\\\IntelAudioService.exe',\n 'C:\\\\Windows\\\\System32\\\\cmd.exe',\n 'C:\\\\Windows\\\\System32\\\\conhost.exe',\n 'C:\\\\Windows\\\\System32\\\\csrss.exe',\n 'C:\\\\Windows\\\\System32\\\\ctfmon.exe',\n 'C:\\\\Windows\\\\System32\\\\dllhost.exe',\n 'C:\\\\Windows\\\\System32\\\\drivers\\\\DellFFDPWmiService.exe',\n 'C:\\\\Windows\\\\System32\\\\drivers\\\\RivetNetworks\\\\Killer\\\\KAPS.exe',\n 'C:\\\\Windows\\\\System32\\\\drivers\\\\RivetNetworks\\\\Killer\\\\KAPSService.exe',\n 'C:\\\\Windows\\\\System32\\\\drivers\\\\RivetNetworks\\\\Killer\\\\KNDBWM.exe',\n 'C:\\\\Windows\\\\System32\\\\drivers\\\\RivetNetworks\\\\Killer\\\\KNDBWMService.exe',\n 'C:\\\\Windows\\\\System32\\\\drivers\\\\RivetNetworks\\\\Killer\\\\KillerAnalyticsService.exe',\n 'C:\\\\Windows\\\\System32\\\\drivers\\\\RivetNetworks\\\\Killer\\\\KillerNetworkService.exe',\n 'C:\\\\Windows\\\\System32\\\\dwm.exe',\n 'C:\\\\Windows\\\\System32\\\\fontdrvhost.exe',\n 'C:\\\\Windows\\\\System32\\\\lsass.exe',\n 'C:\\\\Windows\\\\System32\\\\msdtc.exe',\n 'C:\\\\Windows\\\\System32\\\\oobe\\\\UserOOBEBroker.exe',\n 'C:\\\\Windows\\\\System32\\\\rundll32.exe',\n 'C:\\\\Windows\\\\System32\\\\services.exe',\n 'C:\\\\Windows\\\\System32\\\\sihost.exe',\n 'C:\\\\Windows\\\\System32\\\\smss.exe',\n 'C:\\\\Windows\\\\System32\\\\spoolsv.exe',\n 'C:\\\\Windows\\\\System32\\\\svchost.exe',\n 'C:\\\\Windows\\\\System32\\\\taskhostw.exe',\n 'C:\\\\Windows\\\\System32\\\\vmcompute.exe',\n 'C:\\\\Windows\\\\System32\\\\vmms.exe',\n 'C:\\\\Windows\\\\System32\\\\wbem\\\\WmiPrvSE.exe',\n 'C:\\\\Windows\\\\System32\\\\wininit.exe',\n 'C:\\\\Windows\\\\System32\\\\winlogon.exe',\n 'C:\\\\Windows\\\\System32\\\\wlanext.exe',\n 'C:\\\\Windows\\\\SystemApps\\\\Microsoft.Windows.StartMenuExperienceHost_cw5n1h2txyewy\\\\StartMenuExperienceHost.exe',\n 'C:\\\\Windows\\\\SystemApps\\\\MicrosoftWindows.Client.CBS_cw5n1h2txyewy\\\\SearchHost.exe',\n 'C:\\\\Windows\\\\SystemApps\\\\ShellExperienceHost_cw5n1h2txyewy\\\\ShellExperienceHost.exe',\n 'C:\\\\Windows\\\\TbtP2pShortcutService.exe',\n 'C:\\\\Windows\\\\ThunderboltService.exe',\n 'C:\\\\Windows\\\\explorer.exe',\n 'MemCompression',\n 'Registry'}"
     },
     "execution_count": 9,
     "metadata": {},
     "output_type": "execute_result"
    }
   ],
   "source": [
    "set(dataframe['Execution Path']) #To check if there is pathes that is been extracted."
   ]
  },
  {
   "cell_type": "code",
   "execution_count": 9,
   "metadata": {
    "ExecuteTime": {
     "end_time": "2024-01-25T04:17:21.782900700Z",
     "start_time": "2024-01-25T04:17:21.637648900Z"
    }
   },
   "outputs": [],
   "source": []
  },
  {
   "cell_type": "code",
   "execution_count": 9,
   "metadata": {
    "ExecuteTime": {
     "end_time": "2024-01-25T04:17:22.006961700Z",
     "start_time": "2024-01-25T04:17:21.676255200Z"
    }
   },
   "outputs": [],
   "source": []
  },
  {
   "cell_type": "code",
   "execution_count": 10,
   "metadata": {
    "ExecuteTime": {
     "end_time": "2024-01-25T04:17:22.050958Z",
     "start_time": "2024-01-25T04:17:21.685806900Z"
    }
   },
   "outputs": [],
   "source": [
    "def labeling_Program_Files_process(data):\n",
    "    pathes = list(data['Execution Path'])\n",
    "    labels = []\n",
    "\n",
    "    for path in pathes:\n",
    "        if path is int:\n",
    "            labels.append(0)\n",
    "        elif 'program files' in str(path).lower():\n",
    "            labels.append(1)\n",
    "        else:\n",
    "            labels.append(0)\n",
    "\n",
    "\n",
    "\n",
    "    \n",
    "    return labels\n",
    "\n"
   ]
  },
  {
   "cell_type": "code",
   "execution_count": 11,
   "metadata": {
    "ExecuteTime": {
     "end_time": "2024-01-25T04:17:22.433010800Z",
     "start_time": "2024-01-25T04:17:21.694337Z"
    }
   },
   "outputs": [],
   "source": [
    "program_file_process = labeling_Program_Files_process(data)"
   ]
  },
  {
   "cell_type": "code",
   "execution_count": 12,
   "metadata": {
    "ExecuteTime": {
     "end_time": "2024-01-25T04:17:22.461010100Z",
     "start_time": "2024-01-25T04:17:22.242075700Z"
    }
   },
   "outputs": [
    {
     "data": {
      "text/plain": "{0, 1}"
     },
     "execution_count": 12,
     "metadata": {},
     "output_type": "execute_result"
    }
   ],
   "source": [
    "set(program_file_process)\n"
   ]
  },
  {
   "cell_type": "code",
   "execution_count": 13,
   "metadata": {
    "ExecuteTime": {
     "end_time": "2024-01-25T04:17:22.826708100Z",
     "start_time": "2024-01-25T04:17:22.284495900Z"
    }
   },
   "outputs": [],
   "source": [
    "dataframe['Program File Process'] = program_file_process"
   ]
  },
  {
   "cell_type": "code",
   "execution_count": 13,
   "metadata": {
    "ExecuteTime": {
     "end_time": "2024-01-25T04:17:22.856529600Z",
     "start_time": "2024-01-25T04:17:22.812688300Z"
    }
   },
   "outputs": [],
   "source": []
  },
  {
   "cell_type": "code",
   "execution_count": 14,
   "metadata": {
    "ExecuteTime": {
     "end_time": "2024-01-25T04:17:22.893055300Z",
     "start_time": "2024-01-25T04:17:22.819700800Z"
    }
   },
   "outputs": [
    {
     "data": {
      "text/plain": "   ID Execution Path  Program File Process\n0   0              0                     0\n1   1              0                     0\n2   2              0                     0\n3   3              0                     0\n4   4                                    0",
      "text/html": "<div>\n<style scoped>\n    .dataframe tbody tr th:only-of-type {\n        vertical-align: middle;\n    }\n\n    .dataframe tbody tr th {\n        vertical-align: top;\n    }\n\n    .dataframe thead th {\n        text-align: right;\n    }\n</style>\n<table border=\"1\" class=\"dataframe\">\n  <thead>\n    <tr style=\"text-align: right;\">\n      <th></th>\n      <th>ID</th>\n      <th>Execution Path</th>\n      <th>Program File Process</th>\n    </tr>\n  </thead>\n  <tbody>\n    <tr>\n      <th>0</th>\n      <td>0</td>\n      <td>0</td>\n      <td>0</td>\n    </tr>\n    <tr>\n      <th>1</th>\n      <td>1</td>\n      <td>0</td>\n      <td>0</td>\n    </tr>\n    <tr>\n      <th>2</th>\n      <td>2</td>\n      <td>0</td>\n      <td>0</td>\n    </tr>\n    <tr>\n      <th>3</th>\n      <td>3</td>\n      <td>0</td>\n      <td>0</td>\n    </tr>\n    <tr>\n      <th>4</th>\n      <td>4</td>\n      <td></td>\n      <td>0</td>\n    </tr>\n  </tbody>\n</table>\n</div>"
     },
     "execution_count": 14,
     "metadata": {},
     "output_type": "execute_result"
    }
   ],
   "source": [
    "dataframe.head()"
   ]
  },
  {
   "cell_type": "code",
   "execution_count": 15,
   "metadata": {
    "ExecuteTime": {
     "end_time": "2024-01-25T04:17:23.144608500Z",
     "start_time": "2024-01-25T04:17:22.839526500Z"
    }
   },
   "outputs": [
    {
     "data": {
      "text/plain": "{0, 1}"
     },
     "execution_count": 15,
     "metadata": {},
     "output_type": "execute_result"
    }
   ],
   "source": [
    "set(dataframe['Program File Process'])"
   ]
  },
  {
   "cell_type": "code",
   "execution_count": 16,
   "metadata": {
    "ExecuteTime": {
     "end_time": "2024-01-25T04:17:23.211956Z",
     "start_time": "2024-01-25T04:17:23.034064300Z"
    }
   },
   "outputs": [],
   "source": [
    "def data_cleaning(data = dataframe):\n",
    "\n",
    "    data = data[data['Execution Path'] != 0]\n",
    "\n",
    "    data = data[data['Execution Path'] != '0']\n",
    "    data = data[data['Execution Path'] != '']\n",
    "\n",
    "    data = data.dropna()\n",
    "\n",
    "\n",
    "    return data"
   ]
  },
  {
   "cell_type": "code",
   "execution_count": 16,
   "metadata": {
    "ExecuteTime": {
     "end_time": "2024-01-25T04:17:23.257762100Z",
     "start_time": "2024-01-25T04:17:23.042919400Z"
    }
   },
   "outputs": [],
   "source": []
  },
  {
   "cell_type": "code",
   "execution_count": 17,
   "metadata": {
    "ExecuteTime": {
     "end_time": "2024-01-25T04:17:23.529557400Z",
     "start_time": "2024-01-25T04:17:23.051931800Z"
    }
   },
   "outputs": [],
   "source": [
    "cleaned_data = data_cleaning(dataframe)"
   ]
  },
  {
   "cell_type": "code",
   "execution_count": 18,
   "metadata": {
    "ExecuteTime": {
     "end_time": "2024-01-25T04:17:23.637371700Z",
     "start_time": "2024-01-25T04:17:23.207987Z"
    }
   },
   "outputs": [
    {
     "data": {
      "text/plain": "          ID                                     Execution Path  \\\n208      208                                           Registry   \n764      764                       C:\\Windows\\System32\\smss.exe   \n788      788                      C:\\Windows\\System32\\csrss.exe   \n820      820                    C:\\Windows\\System32\\svchost.exe   \n844      844  C:\\Program Files\\WindowsApps\\microsoftwindows....   \n...      ...                                                ...   \n30920  30920  C:\\Program Files (x86)\\Microsoft\\EdgeWebView\\A...   \n30921  30921  C:\\Program Files (x86)\\Microsoft\\EdgeWebView\\A...   \n30922  30922  C:\\Program Files (x86)\\Microsoft\\EdgeWebView\\A...   \n30923  30923  C:\\Program Files (x86)\\Microsoft\\EdgeWebView\\A...   \n31428  31428                    C:\\Windows\\System32\\svchost.exe   \n\n       Program File Process  \n208                       0  \n764                       0  \n788                       0  \n820                       0  \n844                       1  \n...                     ...  \n30920                     1  \n30921                     1  \n30922                     1  \n30923                     1  \n31428                     0  \n\n[811 rows x 3 columns]",
      "text/html": "<div>\n<style scoped>\n    .dataframe tbody tr th:only-of-type {\n        vertical-align: middle;\n    }\n\n    .dataframe tbody tr th {\n        vertical-align: top;\n    }\n\n    .dataframe thead th {\n        text-align: right;\n    }\n</style>\n<table border=\"1\" class=\"dataframe\">\n  <thead>\n    <tr style=\"text-align: right;\">\n      <th></th>\n      <th>ID</th>\n      <th>Execution Path</th>\n      <th>Program File Process</th>\n    </tr>\n  </thead>\n  <tbody>\n    <tr>\n      <th>208</th>\n      <td>208</td>\n      <td>Registry</td>\n      <td>0</td>\n    </tr>\n    <tr>\n      <th>764</th>\n      <td>764</td>\n      <td>C:\\Windows\\System32\\smss.exe</td>\n      <td>0</td>\n    </tr>\n    <tr>\n      <th>788</th>\n      <td>788</td>\n      <td>C:\\Windows\\System32\\csrss.exe</td>\n      <td>0</td>\n    </tr>\n    <tr>\n      <th>820</th>\n      <td>820</td>\n      <td>C:\\Windows\\System32\\svchost.exe</td>\n      <td>0</td>\n    </tr>\n    <tr>\n      <th>844</th>\n      <td>844</td>\n      <td>C:\\Program Files\\WindowsApps\\microsoftwindows....</td>\n      <td>1</td>\n    </tr>\n    <tr>\n      <th>...</th>\n      <td>...</td>\n      <td>...</td>\n      <td>...</td>\n    </tr>\n    <tr>\n      <th>30920</th>\n      <td>30920</td>\n      <td>C:\\Program Files (x86)\\Microsoft\\EdgeWebView\\A...</td>\n      <td>1</td>\n    </tr>\n    <tr>\n      <th>30921</th>\n      <td>30921</td>\n      <td>C:\\Program Files (x86)\\Microsoft\\EdgeWebView\\A...</td>\n      <td>1</td>\n    </tr>\n    <tr>\n      <th>30922</th>\n      <td>30922</td>\n      <td>C:\\Program Files (x86)\\Microsoft\\EdgeWebView\\A...</td>\n      <td>1</td>\n    </tr>\n    <tr>\n      <th>30923</th>\n      <td>30923</td>\n      <td>C:\\Program Files (x86)\\Microsoft\\EdgeWebView\\A...</td>\n      <td>1</td>\n    </tr>\n    <tr>\n      <th>31428</th>\n      <td>31428</td>\n      <td>C:\\Windows\\System32\\svchost.exe</td>\n      <td>0</td>\n    </tr>\n  </tbody>\n</table>\n<p>811 rows × 3 columns</p>\n</div>"
     },
     "execution_count": 18,
     "metadata": {},
     "output_type": "execute_result"
    }
   ],
   "source": [
    "cleaned_data\n"
   ]
  },
  {
   "cell_type": "code",
   "execution_count": 19,
   "metadata": {
    "ExecuteTime": {
     "end_time": "2024-01-25T04:17:23.658895100Z",
     "start_time": "2024-01-25T04:17:23.218955900Z"
    }
   },
   "outputs": [],
   "source": [
    "cleaned_data.to_csv(DATAPATH + '//process.csv')"
   ]
  },
  {
   "cell_type": "code",
   "execution_count": 20,
   "metadata": {
    "ExecuteTime": {
     "end_time": "2024-01-25T04:17:23.693428800Z",
     "start_time": "2024-01-25T04:17:23.249668400Z"
    }
   },
   "outputs": [
    {
     "data": {
      "text/plain": "429"
     },
     "execution_count": 20,
     "metadata": {},
     "output_type": "execute_result"
    }
   ],
   "source": [
    "np.array(cleaned_data['Program File Process']).sum() #Total of python Process that is been run"
   ]
  },
  {
   "cell_type": "code",
   "execution_count": 21,
   "metadata": {
    "ExecuteTime": {
     "end_time": "2024-01-25T04:17:23.719428500Z",
     "start_time": "2024-01-25T04:17:23.263116400Z"
    }
   },
   "outputs": [],
   "source": [
    "encoded_data = cleaned_data"
   ]
  },
  {
   "cell_type": "code",
   "execution_count": 22,
   "metadata": {
    "ExecuteTime": {
     "end_time": "2024-01-25T04:17:24.159538800Z",
     "start_time": "2024-01-25T04:17:23.275648600Z"
    }
   },
   "outputs": [],
   "source": [
    "from sklearn.preprocessing import LabelEncoder"
   ]
  },
  {
   "cell_type": "code",
   "execution_count": 23,
   "metadata": {
    "ExecuteTime": {
     "end_time": "2024-01-25T04:17:24.180596500Z",
     "start_time": "2024-01-25T04:17:23.918212500Z"
    }
   },
   "outputs": [],
   "source": [
    "enc = LabelEncoder()"
   ]
  },
  {
   "cell_type": "code",
   "execution_count": 24,
   "metadata": {
    "ExecuteTime": {
     "end_time": "2024-01-25T04:17:24.243161300Z",
     "start_time": "2024-01-25T04:17:23.929228800Z"
    }
   },
   "outputs": [],
   "source": [
    "pathes = pd.DataFrame(cleaned_data['Execution Path'])"
   ]
  },
  {
   "cell_type": "code",
   "execution_count": 25,
   "metadata": {
    "ExecuteTime": {
     "end_time": "2024-01-25T04:17:24.368500800Z",
     "start_time": "2024-01-25T04:17:23.963132100Z"
    }
   },
   "outputs": [
    {
     "name": "stderr",
     "output_type": "stream",
     "text": [
      "C:\\Users\\MoAly\\Anaconda3\\Lib\\site-packages\\sklearn\\preprocessing\\_label.py:114: DataConversionWarning: A column-vector y was passed when a 1d array was expected. Please change the shape of y to (n_samples, ), for example using ravel().\n",
      "  y = column_or_1d(y, warn=True)\n"
     ]
    }
   ],
   "source": [
    "encoded_data['Execution Path'] = enc.fit_transform(pathes)"
   ]
  },
  {
   "cell_type": "code",
   "execution_count": 26,
   "metadata": {
    "ExecuteTime": {
     "end_time": "2024-01-25T04:17:24.395007200Z",
     "start_time": "2024-01-25T04:17:23.982473Z"
    }
   },
   "outputs": [
    {
     "data": {
      "text/plain": "      ID  Execution Path  Program File Process\n208  208             135                     0\n764  764             118                     0\n788  788             100                     0\n820  820             120                     0\n844  844              58                     1",
      "text/html": "<div>\n<style scoped>\n    .dataframe tbody tr th:only-of-type {\n        vertical-align: middle;\n    }\n\n    .dataframe tbody tr th {\n        vertical-align: top;\n    }\n\n    .dataframe thead th {\n        text-align: right;\n    }\n</style>\n<table border=\"1\" class=\"dataframe\">\n  <thead>\n    <tr style=\"text-align: right;\">\n      <th></th>\n      <th>ID</th>\n      <th>Execution Path</th>\n      <th>Program File Process</th>\n    </tr>\n  </thead>\n  <tbody>\n    <tr>\n      <th>208</th>\n      <td>208</td>\n      <td>135</td>\n      <td>0</td>\n    </tr>\n    <tr>\n      <th>764</th>\n      <td>764</td>\n      <td>118</td>\n      <td>0</td>\n    </tr>\n    <tr>\n      <th>788</th>\n      <td>788</td>\n      <td>100</td>\n      <td>0</td>\n    </tr>\n    <tr>\n      <th>820</th>\n      <td>820</td>\n      <td>120</td>\n      <td>0</td>\n    </tr>\n    <tr>\n      <th>844</th>\n      <td>844</td>\n      <td>58</td>\n      <td>1</td>\n    </tr>\n  </tbody>\n</table>\n</div>"
     },
     "execution_count": 26,
     "metadata": {},
     "output_type": "execute_result"
    }
   ],
   "source": [
    "encoded_data.head()"
   ]
  },
  {
   "cell_type": "code",
   "execution_count": 27,
   "metadata": {
    "ExecuteTime": {
     "end_time": "2024-01-25T04:17:24.403017Z",
     "start_time": "2024-01-25T04:17:24.006519100Z"
    }
   },
   "outputs": [
    {
     "data": {
      "text/plain": "      ID  Execution Path  Program File Process\n208  208             135                     0\n764  764             118                     0\n788  788             100                     0\n820  820             120                     0\n844  844              58                     1",
      "text/html": "<div>\n<style scoped>\n    .dataframe tbody tr th:only-of-type {\n        vertical-align: middle;\n    }\n\n    .dataframe tbody tr th {\n        vertical-align: top;\n    }\n\n    .dataframe thead th {\n        text-align: right;\n    }\n</style>\n<table border=\"1\" class=\"dataframe\">\n  <thead>\n    <tr style=\"text-align: right;\">\n      <th></th>\n      <th>ID</th>\n      <th>Execution Path</th>\n      <th>Program File Process</th>\n    </tr>\n  </thead>\n  <tbody>\n    <tr>\n      <th>208</th>\n      <td>208</td>\n      <td>135</td>\n      <td>0</td>\n    </tr>\n    <tr>\n      <th>764</th>\n      <td>764</td>\n      <td>118</td>\n      <td>0</td>\n    </tr>\n    <tr>\n      <th>788</th>\n      <td>788</td>\n      <td>100</td>\n      <td>0</td>\n    </tr>\n    <tr>\n      <th>820</th>\n      <td>820</td>\n      <td>120</td>\n      <td>0</td>\n    </tr>\n    <tr>\n      <th>844</th>\n      <td>844</td>\n      <td>58</td>\n      <td>1</td>\n    </tr>\n  </tbody>\n</table>\n</div>"
     },
     "execution_count": 27,
     "metadata": {},
     "output_type": "execute_result"
    }
   ],
   "source": [
    "cleaned_data.head()"
   ]
  },
  {
   "cell_type": "code",
   "execution_count": 28,
   "metadata": {
    "ExecuteTime": {
     "end_time": "2024-01-25T04:17:24.425728700Z",
     "start_time": "2024-01-25T04:17:24.026253900Z"
    }
   },
   "outputs": [
    {
     "data": {
      "text/plain": "array(['C:\\\\Program Files\\\\WindowsApps\\\\microsoftwindows.client.webexperience_424.400.20.0_x64__cw5n1h2txyewy\\\\Dashboard\\\\WidgetService.exe'],\n      dtype=object)"
     },
     "execution_count": 28,
     "metadata": {},
     "output_type": "execute_result"
    }
   ],
   "source": [
    "enc.inverse_transform([57]) "
   ]
  },
  {
   "cell_type": "code",
   "execution_count": 29,
   "metadata": {
    "ExecuteTime": {
     "end_time": "2024-01-25T04:17:24.431725800Z",
     "start_time": "2024-01-25T04:17:24.039154Z"
    }
   },
   "outputs": [],
   "source": [
    "import matplotlib.pyplot as plt\n"
   ]
  },
  {
   "cell_type": "code",
   "execution_count": 30,
   "metadata": {
    "ExecuteTime": {
     "end_time": "2024-01-25T04:17:24.463334400Z",
     "start_time": "2024-01-25T04:17:24.052941800Z"
    }
   },
   "outputs": [
    {
     "data": {
      "text/plain": "['Not Program File Process', 'Program File Process']"
     },
     "execution_count": 30,
     "metadata": {},
     "output_type": "execute_result"
    }
   ],
   "source": [
    "x_axis = ['Not Program File Process', 'Program File Process']\n",
    "x_axis"
   ]
  },
  {
   "cell_type": "code",
   "execution_count": 31,
   "metadata": {
    "ExecuteTime": {
     "end_time": "2024-01-25T04:17:24.521776Z",
     "start_time": "2024-01-25T04:17:24.067481100Z"
    }
   },
   "outputs": [],
   "source": [
    "num_of_pf_process = np.array(cleaned_data['Program File Process']).sum()\n",
    "total_num_of_proces = len(cleaned_data['Program File Process'])\n",
    "y_axis = [(total_num_of_proces - num_of_pf_process), num_of_pf_process]"
   ]
  },
  {
   "cell_type": "code",
   "execution_count": 32,
   "metadata": {
    "ExecuteTime": {
     "end_time": "2024-01-25T04:17:25.021711Z",
     "start_time": "2024-01-25T04:17:24.074019100Z"
    }
   },
   "outputs": [
    {
     "data": {
      "text/plain": "<Figure size 640x480 with 1 Axes>",
      "image/png": "[encoded data removed]"
     },
     "metadata": {},
     "output_type": "display_data"
    }
   ],
   "source": [
    "plt.bar(x_axis,y_axis)\n",
    "plt.xlabel(\"Type of Process\")\n",
    "plt.ylabel('Number of Process Execution')\n",
    "plt.title(\"Comparing the process\")\n",
    "plt.show()"
   ]
  },
  {
   "cell_type": "code",
   "execution_count": 33,
   "metadata": {
    "ExecuteTime": {
     "end_time": "2024-01-25T04:17:25.133067Z",
     "start_time": "2024-01-25T04:17:24.425728700Z"
    }
   },
   "outputs": [
    {
     "data": {
      "text/plain": "      ID  Execution Path  Program File Process\n208  208             135                     0\n764  764             118                     0\n788  788             100                     0\n820  820             120                     0\n844  844              58                     1",
      "text/html": "<div>\n<style scoped>\n    .dataframe tbody tr th:only-of-type {\n        vertical-align: middle;\n    }\n\n    .dataframe tbody tr th {\n        vertical-align: top;\n    }\n\n    .dataframe thead th {\n        text-align: right;\n    }\n</style>\n<table border=\"1\" class=\"dataframe\">\n  <thead>\n    <tr style=\"text-align: right;\">\n      <th></th>\n      <th>ID</th>\n      <th>Execution Path</th>\n      <th>Program File Process</th>\n    </tr>\n  </thead>\n  <tbody>\n    <tr>\n      <th>208</th>\n      <td>208</td>\n      <td>135</td>\n      <td>0</td>\n    </tr>\n    <tr>\n      <th>764</th>\n      <td>764</td>\n      <td>118</td>\n      <td>0</td>\n    </tr>\n    <tr>\n      <th>788</th>\n      <td>788</td>\n      <td>100</td>\n      <td>0</td>\n    </tr>\n    <tr>\n      <th>820</th>\n      <td>820</td>\n      <td>120</td>\n      <td>0</td>\n    </tr>\n    <tr>\n      <th>844</th>\n      <td>844</td>\n      <td>58</td>\n      <td>1</td>\n    </tr>\n  </tbody>\n</table>\n</div>"
     },
     "execution_count": 33,
     "metadata": {},
     "output_type": "execute_result"
    }
   ],
   "source": [
    "cleaned_data.head()"
   ]
  },
  {
   "cell_type": "code",
   "execution_count": 34,
   "metadata": {
    "ExecuteTime": {
     "end_time": "2024-01-25T04:17:25.140019100Z",
     "start_time": "2024-01-25T04:17:24.444499500Z"
    }
   },
   "outputs": [
    {
     "data": {
      "text/plain": "{0, 1}"
     },
     "execution_count": 34,
     "metadata": {},
     "output_type": "execute_result"
    }
   ],
   "source": [
    "set(encoded_data['Program File Process'])"
   ]
  },
  {
   "cell_type": "code",
   "execution_count": 34,
   "metadata": {
    "ExecuteTime": {
     "end_time": "2024-01-25T04:17:25.186648500Z",
     "start_time": "2024-01-25T04:17:24.456322Z"
    }
   },
   "outputs": [],
   "source": []
  },
  {
   "cell_type": "code",
   "execution_count": 35,
   "metadata": {
    "ExecuteTime": {
     "end_time": "2024-01-25T04:17:25.193689300Z",
     "start_time": "2024-01-25T04:17:24.468315600Z"
    }
   },
   "outputs": [],
   "source": [
    "X = encoded_data['Execution Path']\n",
    "y = encoded_data['Program File Process']"
   ]
  },
  {
   "cell_type": "code",
   "execution_count": 35,
   "metadata": {
    "ExecuteTime": {
     "end_time": "2024-01-25T04:17:25.215690900Z",
     "start_time": "2024-01-25T04:17:24.478486600Z"
    }
   },
   "outputs": [],
   "source": []
  },
  {
   "cell_type": "code",
   "execution_count": 35,
   "metadata": {
    "ExecuteTime": {
     "end_time": "2024-01-25T04:17:25.236646600Z",
     "start_time": "2024-01-25T04:17:24.484986800Z"
    }
   },
   "outputs": [],
   "source": []
  },
  {
   "cell_type": "code",
   "execution_count": 35,
   "metadata": {
    "ExecuteTime": {
     "end_time": "2024-01-25T04:17:25.242651Z",
     "start_time": "2024-01-25T04:17:24.495470400Z"
    }
   },
   "outputs": [],
   "source": []
  },
  {
   "cell_type": "code",
   "execution_count": 35,
   "metadata": {
    "ExecuteTime": {
     "end_time": "2024-01-25T04:17:25.261644700Z",
     "start_time": "2024-01-25T04:17:24.502579600Z"
    }
   },
   "outputs": [],
   "source": []
  },
  {
   "cell_type": "code",
   "execution_count": 35,
   "metadata": {
    "ExecuteTime": {
     "end_time": "2024-01-25T04:17:25.282705800Z",
     "start_time": "2024-01-25T04:17:24.510760800Z"
    }
   },
   "outputs": [],
   "source": []
  },
  {
   "cell_type": "code",
   "execution_count": 36,
   "metadata": {
    "ExecuteTime": {
     "end_time": "2024-01-25T04:17:25.311230700Z",
     "start_time": "2024-01-25T04:17:24.521776Z"
    }
   },
   "outputs": [],
   "source": [
    "from sklearn.model_selection import train_test_split"
   ]
  },
  {
   "cell_type": "code",
   "execution_count": 37,
   "metadata": {
    "ExecuteTime": {
     "end_time": "2024-01-25T04:17:25.333230100Z",
     "start_time": "2024-01-25T04:17:24.676154400Z"
    }
   },
   "outputs": [],
   "source": [
    "X_train, X_test, y_train, y_test = train_test_split(X,y, test_size=0.1)"
   ]
  },
  {
   "cell_type": "code",
   "execution_count": 37,
   "metadata": {
    "ExecuteTime": {
     "end_time": "2024-01-25T04:17:25.338233600Z",
     "start_time": "2024-01-25T04:17:24.692807Z"
    }
   },
   "outputs": [],
   "source": []
  },
  {
   "cell_type": "code",
   "execution_count": 38,
   "metadata": {
    "ExecuteTime": {
     "end_time": "2024-01-25T04:17:25.345239700Z",
     "start_time": "2024-01-25T04:17:24.707386300Z"
    }
   },
   "outputs": [],
   "source": [
    "from scripts.gradiant_decent import GradiantDecent as gd"
   ]
  },
  {
   "cell_type": "code",
   "execution_count": 39,
   "metadata": {
    "ExecuteTime": {
     "end_time": "2024-01-25T04:17:26.377141500Z",
     "start_time": "2024-01-25T04:17:24.718918Z"
    }
   },
   "outputs": [],
   "source": [
    "iterations = 1000\n",
    "model = gd.create_model(X_train, y_train, iteration=iterations, resolution=0.01)\n"
   ]
  },
  {
   "cell_type": "code",
   "execution_count": 40,
   "metadata": {
    "ExecuteTime": {
     "end_time": "2024-01-25T04:17:26.437471Z",
     "start_time": "2024-01-25T04:17:25.610422900Z"
    }
   },
   "outputs": [
    {
     "data": {
      "text/plain": "(0.5336076817537667,\n 9.605857775873972e-14,\n -1.0494036195574097e-13,\n [232032.2275632373,\n  231327.8900499314,\n  230624.62318024694,\n  229922.42695418381,\n  229221.30137174213,\n  228521.24643292182,\n  227822.26213772298,\n  227124.3484861455,\n  226427.50547818939,\n  225731.73311385472,\n  225037.03139314146,\n  224343.40031604952,\n  223650.83988257908,\n  222959.35009272996,\n  222268.93094650225,\n  221579.58244389598,\n  220891.30458491103,\n  220204.09736954758,\n  219517.96079780543,\n  218832.8948696848,\n  218148.89958518549,\n  217465.97494430756,\n  216784.12094705107,\n  216103.33759341596,\n  215423.62488340228,\n  214744.98281700996,\n  214067.411394239,\n  213390.9106150895,\n  212715.4804795614,\n  212041.12098765472,\n  211367.8321393694,\n  210695.6139347055,\n  210024.46637366305,\n  209354.38945624192,\n  208685.38318244222,\n  208017.4475522639,\n  207350.58256570695,\n  206684.7882227714,\n  206020.06452345735,\n  205356.4114677646,\n  204693.8290556933,\n  204032.31728724335,\n  203371.87616241482,\n  202712.5056812077,\n  202054.20584362207,\n  201396.97664965768,\n  200740.81809931478,\n  200085.73019259327,\n  199431.7129294931,\n  198778.76631001438,\n  198126.8903341571,\n  197476.08500192114,\n  196826.35031330658,\n  196177.68626831344,\n  195530.09286694173,\n  194883.5701091914,\n  194238.1179950625,\n  193593.73652455502,\n  192950.42569766883,\n  192308.18551440412,\n  191667.01597476078,\n  191026.91707873883,\n  190387.88882633828,\n  189749.93121755918,\n  189113.0442524014,\n  188477.22793086508,\n  187842.4822529501,\n  187208.80721865658,\n  186576.2028279844,\n  185944.66908093367,\n  185314.20597750435,\n  184684.81351769646,\n  184056.49170150986,\n  183429.24052894473,\n  182803.06000000096,\n  182177.95011467862,\n  181553.9108729777,\n  180930.94227489812,\n  180309.04432043998,\n  179688.21700960325,\n  179068.46034238784,\n  178449.7743187939,\n  177832.15893882138,\n  177215.61420247023,\n  176600.1401097405,\n  175985.73666063213,\n  175372.40385514515,\n  174760.14169327958,\n  174148.95017503542,\n  173538.82930041268,\n  172929.77906941128,\n  172321.79948203132,\n  171714.8905382728,\n  171109.0522381356,\n  170504.28458161984,\n  169900.58756872552,\n  169297.96119945252,\n  168696.40547380096,\n  168095.92039177078,\n  167496.50595336204,\n  166898.16215857468,\n  166300.88900740867,\n  165704.6864998641,\n  165109.55463594093,\n  164515.49341563915,\n  163922.5028389588,\n  163330.5829058998,\n  162739.7336164622,\n  162149.9549706461,\n  161561.24696845128,\n  160973.6096098779,\n  160387.04289492598,\n  159801.54682359536,\n  159217.12139588618,\n  158633.7666117984,\n  158051.482471332,\n  157470.26897448703,\n  156890.1261212634,\n  156311.05391166123,\n  155733.05234568045,\n  155156.12142332108,\n  154580.2611445831,\n  154005.4715094665,\n  153431.75251797133,\n  152859.10417009756,\n  152287.52646584512,\n  151717.01940521415,\n  151147.58298820455,\n  150579.21721481634,\n  150011.92208504956,\n  149445.69759890417,\n  148880.54375638015,\n  148316.46055747755,\n  147753.44800219635,\n  147191.5060905366,\n  146630.6348224982,\n  146070.83419808117,\n  145512.10421728558,\n  144954.44488011138,\n  144397.85618655858,\n  143842.33813662716,\n  143287.89073031716,\n  142734.51396762853,\n  142182.20784856135,\n  141630.97237311554,\n  141080.8075412911,\n  140531.71335308813,\n  139983.68980850652,\n  139436.7369075463,\n  138890.85465020748,\n  138346.04303649007,\n  137802.30206639407,\n  137259.63173991945,\n  136718.03205706624,\n  136177.5030178344,\n  135638.044622224,\n  135099.656870235,\n  134562.33976186733,\n  134026.09329712112,\n  133490.9174759963,\n  132956.81229849288,\n  132423.7777646109,\n  131891.81387435025,\n  131360.92062771105,\n  130831.09802469322,\n  130302.34606529676,\n  129774.66474952173,\n  129248.05407736813,\n  128722.51404883587,\n  128198.04466392504,\n  127674.64592263562,\n  127152.31782496758,\n  126631.06037092098,\n  126110.87356049575,\n  125591.7573936919,\n  125073.71187050949,\n  124556.73699094846,\n  124040.8327550088,\n  123525.99916269057,\n  123012.23621399369,\n  122499.54390891826,\n  121987.92224746423,\n  121477.37122963158,\n  120967.89085542035,\n  120459.4811248305,\n  119952.14203786208,\n  119445.87359451504,\n  118940.6757947894,\n  118436.54863868514,\n  117933.49212620228,\n  117431.50625734085,\n  116930.5910321008,\n  116430.74645048213,\n  115931.9725124849,\n  115434.26921810905,\n  114937.63656735457,\n  114442.07456022153,\n  113947.58319670988,\n  113454.16247681965,\n  112961.8124005508,\n  112470.53296790332,\n  111980.32417887727,\n  111491.18603347261,\n  111003.11853168934,\n  110516.1216735275,\n  110030.195458987,\n  109545.33988806796,\n  109061.55496077029,\n  108578.84067709402,\n  108097.19703703916,\n  107616.6240406057,\n  107137.12168779364,\n  106658.68997860298,\n  106181.3289130337,\n  105705.03849108584,\n  105229.81871275937,\n  104755.66957805431,\n  104282.59108697064,\n  103810.58323950834,\n  103339.64603566748,\n  102869.77947544803,\n  102400.98355884991,\n  101933.25828587326,\n  101466.603656518,\n  101001.01967078411,\n  100536.50632867163,\n  100073.06363018055,\n  99610.69157531089,\n  99149.3901640626,\n  98689.1593964357,\n  98229.99927243023,\n  97771.90979204614,\n  97314.89095528344,\n  96858.94276214218,\n  96404.06521262228,\n  95950.25830672382,\n  95497.52204444673,\n  95045.85642579102,\n  94595.26145075672,\n  94145.73711934383,\n  93697.28343155237,\n  93249.90038738227,\n  92803.58798683356,\n  92358.34622990627,\n  91914.17511660038,\n  91471.07464691588,\n  91029.0448208528,\n  90588.08563841108,\n  90148.19709959079,\n  89709.3792043919,\n  89271.6319528144,\n  88834.9553448583,\n  88399.3493805236,\n  87964.8140598103,\n  87531.34938271838,\n  87098.95534924789,\n  86667.63195939877,\n  86237.37921317108,\n  85808.19711056477,\n  85380.08565157987,\n  84953.04483621636,\n  84527.07466447423,\n  84102.17513635353,\n  83678.34625185421,\n  83255.5880109763,\n  82833.9004137198,\n  82413.2834600847,\n  81993.73715007097,\n  81575.26148367864,\n  81157.85646090774,\n  80741.52208175822,\n  80326.2583462301,\n  79912.06525432337,\n  79498.94280603806,\n  79086.89100137414,\n  78675.9098403316,\n  78265.99932291049,\n  77857.15944911077,\n  77449.39021893246,\n  77042.69163237553,\n  76637.06368944,\n  76232.50639012587,\n  75829.01973443314,\n  75426.6037223618,\n  75025.25835391191,\n  74624.98362908336,\n  74225.77954787623,\n  73827.6461102905,\n  73430.58331632616,\n  73034.59116598322,\n  72639.66965926168,\n  72245.81879616156,\n  71853.03857668284,\n  71461.32900082548,\n  71070.69006858954,\n  70681.121779975,\n  70292.62413498184,\n  69905.19713361014,\n  69518.84077585979,\n  69133.55506173085,\n  68749.3399912233,\n  68366.19556433716,\n  67984.1217810724,\n  67603.11864142906,\n  67223.18614540712,\n  66844.32429300658,\n  66466.53308422741,\n  66089.81251906966,\n  65714.16259753332,\n  65339.58331961836,\n  64966.07468532483,\n  64593.63669465267,\n  64222.26934760192,\n  63851.97264417256,\n  63482.7465843646,\n  63114.59116817804,\n  62747.50639561291,\n  62381.492266669135,\n  62016.54878134677,\n  61652.67593964581,\n  61289.87374156623,\n  60928.14218710808,\n  60567.48127627131,\n  60207.891009055966,\n  59849.37138546201,\n  59491.92240548943,\n  59135.54406913827,\n  58780.2363764085,\n  58425.99932730013,\n  58072.83292181317,\n  57720.7371599476,\n  57369.71204170343,\n  57019.757567080655,\n  56670.87373607927,\n  56323.06054869931,\n  55976.31800494073,\n  55630.64610480356,\n  55286.04484828779,\n  54942.514235393406,\n  54600.05426612044,\n  54258.664940468865,\n  53918.34625843867,\n  53579.098220029904,\n  53240.920825242516,\n  52903.81407407654,\n  52567.77796653196,\n  52232.812502608765,\n  51898.91768230698,\n  51566.09350562661,\n  51234.339972567635,\n  50903.657083130034,\n  50574.04483731384,\n  50245.50323511905,\n  49918.03227654566,\n  49591.63196159368,\n  49266.302290263084,\n  48942.0432625539,\n  48618.8548784661,\n  48296.7371379997,\n  47975.6900411547,\n  47655.71358793111,\n  47336.807778328926,\n  47018.97261234813,\n  46702.20808998872,\n  46386.514211250724,\n  46071.89097613412,\n  45758.33838463892,\n  45445.85643676512,\n  45134.44513251273,\n  44824.10447188172,\n  44514.834454872114,\n  44206.6350814839,\n  43899.5063517171,\n  43593.44826557169,\n  43288.460823047695,\n  42984.544024145085,\n  42681.69786886386,\n  42379.92235720406,\n  42079.21748916565,\n  41779.58326474863,\n  41481.01968395303,\n  41183.526746778814,\n  40887.104453226,\n  40591.752803294585,\n  40297.47179698456,\n  40004.26143429595,\n  39712.121715228735,\n  39421.052639782916,\n  39131.05420795849,\n  38842.12641975547,\n  38554.26927517385,\n  38267.48277421363,\n  37981.7669168748,\n  37697.12170315738,\n  37413.54713306136,\n  37131.04320658673,\n  36849.609923733515,\n  36569.24728450168,\n  36289.955288891244,\n  36011.73393690222,\n  35734.58322853458,\n  35458.50316378836,\n  35183.49374266353,\n  34909.55496516009,\n  34636.68683127806,\n  34364.88934101743,\n  34094.16249437819,\n  33824.50629136036,\n  33555.92073196392,\n  33288.405816188875,\n  33021.96154403524,\n  32756.587915502998,\n  32492.28493059217,\n  32229.052589302722,\n  31966.890891634674,\n  31705.799837588038,\n  31445.779427162786,\n  31186.829660358948,\n  30928.950537176497,\n  30672.142057615456,\n  30416.40422167581,\n  30161.73702935756,\n  29908.14048066071,\n  29655.614575585256,\n  29404.159314131204,\n  29153.77469629856,\n  28904.4607220873,\n  28656.21739149745,\n  28409.044704529,\n  28162.94266118194,\n  27917.91126145628,\n  27673.95050535203,\n  27431.060392869167,\n  27189.240924007714,\n  26948.492098767652,\n  26708.813917148986,\n  26470.206379151732,\n  26232.669484775866,\n  25996.203234021406,\n  25760.80762688834,\n  25526.48266337667,\n  25293.22834348641,\n  25061.04466721754,\n  24829.931634570075,\n  24599.88924554401,\n  24370.917500139334,\n  24143.01639835607,\n  23916.185940194195,\n  23690.42612565372,\n  23465.736954734653,\n  23242.118427436977,\n  23019.570543760703,\n  22798.09330370583,\n  22577.686707272358,\n  22358.350754460276,\n  22140.085445269593,\n  21922.89077970032,\n  21706.76675775244,\n  21491.713379425957,\n  21277.73064472088,\n  21064.818553637193,\n  20852.9771061749,\n  20642.206302334012,\n  20432.506142114526,\n  20223.876625516434,\n  20016.317752539748,\n  19809.82952318445,\n  19604.411937450557,\n  19400.06499533807,\n  19196.788696846972,\n  18994.583041977276,\n  18793.44803072898,\n  18593.383663102086,\n  18394.389939096585,\n  18196.466858712483,\n  17999.61442194979,\n  17803.832628808486,\n  17609.121479288588,\n  17415.480973390084,\n  17222.911111112986,\n  17031.41189245728,\n  16840.98331742298,\n  16651.62538601007,\n  16463.338098218566,\n  16276.12145404846,\n  16089.97545349975,\n  15904.900096572439,\n  15720.89538326653,\n  15537.961313582024,\n  15356.097887518912,\n  15175.3051050772,\n  14995.582966256889,\n  14816.931471057977,\n  14639.350619480461,\n  14462.840411524347,\n  14287.400847189629,\n  14113.031926476313,\n  13939.7336493844,\n  13767.506015913877,\n  13596.349026064758,\n  13426.26267983704,\n  13257.246977230721,\n  13089.3019182458,\n  12922.427502882278,\n  12756.623731140155,\n  12591.890603019428,\n  12428.228118520103,\n  12265.636277642177,\n  12104.115080385649,\n  11943.664526750521,\n  11784.2846167368,\n  11625.975350344466,\n  11468.736727573536,\n  11312.568748424008,\n  11157.471412895877,\n  11003.444720989142,\n  10850.488672703814,\n  10698.603268039878,\n  10547.788506997344,\n  10398.04438957621,\n  10249.370915776473,\n  10101.768085598134,\n  9955.235899041198,\n  9809.77435610566,\n  9665.383456791518,\n  9522.063201098781,\n  9379.813589027437,\n  9238.634620577495,\n  9098.526295748954,\n  8959.48861454181,\n  8821.521576956065,\n  8684.62518299172,\n  8548.799432648775,\n  8414.044325927227,\n  8280.35986282708,\n  8147.746043348331,\n  8016.202867490982,\n  7885.73033525503,\n  7756.328446640481,\n  7627.997201647328,\n  7500.736600275574,\n  7374.546642525223,\n  7249.4273283962675,\n  7125.378657888713,\n  7002.400631002558,\n  6880.4932477378015,\n  6759.656508094442,\n  6639.8904120724865,\n  6521.194959671928,\n  6403.570150892765,\n  6287.015985735006,\n  6171.532464198643,\n  6057.119586283681,\n  5943.777351990118,\n  5831.505761317955,\n  5720.304814267188,\n  5610.174510837823,\n  5501.114851029857,\n  5393.125834843288,\n  5286.207462278122,\n  5180.359733334353,\n  5075.582648011981,\n  4971.876206311012,\n  4869.240408231441,\n  4767.675253773266,\n  4667.180742936494,\n  4567.756875721119,\n  4469.403652127145,\n  4372.12107215457,\n  4275.909135803393,\n  4180.767843073617,\n  4086.6971939652385,\n  3993.697188478259,\n  3901.76782661268,\n  3810.9091083685,\n  3721.1210337457173,\n  3632.4036027443362,\n  3544.7568153643524,\n  3458.180671605769,\n  3372.6751714685843,\n  3288.2403149527986,\n  3204.8761020584125,\n  3122.582532785426,\n  3041.3596071338375,\n  2961.207325103649,\n  2882.1256866948597,\n  2804.1146919074686,\n  2727.174340741478,\n  2651.304633196886,\n  2576.505569273693,\n  2502.7771489718994,\n  2430.1193722915045,\n  2358.5322392325093,\n  2288.0157497949135,\n  2218.5699039787164,\n  2150.1947017839184,\n  2082.89014321052,\n  2016.6562282585205,\n  1951.4929569279204,\n  1887.4003292187194,\n  1824.3783451309175,\n  1762.427004664515,\n  1701.5463078195112,\n  1641.7362545959068,\n  1582.996844993702,\n  1525.3280790128958,\n  1468.7299566534891,\n  1413.2024779154815,\n  1358.7456427988732,\n  1305.359451303664,\n  1253.0439034298538,\n  1201.7989991774427,\n  1151.624738546431,\n  1102.5211215368186,\n  1054.4881481486052,\n  1007.5258183817912,\n  961.6341322363761,\n  916.8130897123602,\n  873.0626908097435,\n  830.3829355285262,\n  788.7738238687077,\n  748.2353558302885,\n  708.7675314132688,\n  670.3703506176481,\n  633.0438134434263,\n  596.7879198906039,\n  561.602669959181,\n  527.4880636491567,\n  494.4441009605319,\n  462.4707818933062,\n  431.5681064474797,\n  401.73607462305233,\n  372.9746864200242,\n  345.28394183839526,\n  318.6638408781655,\n  293.1143835393349,\n  268.63556982190346,\n  245.22739972587124,\n  222.88987325123813,\n  201.62299039800422,\n  181.4267511661695,\n  162.30115555573403,\n  144.24620356669763,\n  127.26189519906046,\n  111.34823045282248,\n  96.50520932798365,\n  82.73283182454401,\n  70.03109794250358,\n  58.400007681862306,\n  47.83956104262022,\n  38.3497580247773,\n  29.930598628333556,\n  22.582082853288988,\n  16.304210699643598,\n  11.096982167397384,\n  6.960397256550344,\n  3.8944559671024837,\n  1.8991582990538007,\n  0.9745042524042951,\n  1.1204938271539662,\n  2.337127023302814,\n  1.0835495198839562,\n  2.2769058984745056,\n  1.0474052126139461,\n  2.2174847736461962,\n  1.0120609053439362,\n  2.1588636488178876,\n  0.9775165980739261,\n  2.101042523989578,\n  0.9437722908039162,\n  2.0440213991612692,\n  0.9108279835339063,\n  1.98780027433296,\n  0.8786836762638963,\n  1.932379149504651,\n  0.8473393689938864,\n  1.8777580246763421,\n  0.8167950617238764,\n  1.823936899848033,\n  0.7870507544538664,\n  1.7709157750197237,\n  0.7581064471838561,\n  1.7186946501914149,\n  0.7299621399138463,\n  1.6672735253631057,\n  0.7026178326438365,\n  1.6166524005347969,\n  0.6760735253738264,\n  1.5668312757064875,\n  0.6503292181038164,\n  1.517810150878179,\n  0.6253849108338065,\n  1.4695890260498699,\n  0.6012406035637965,\n  1.4221679012215607,\n  0.5778962962937866,\n  1.3755467763932516,\n  0.5553519890237767,\n  1.329725651564943,\n  0.5336076817537667,\n  1.2847045267366342,\n  0.5336076817537667,\n  1.2847045267366342,\n  0.5336076817537667,\n  1.2847045267366342,\n  0.5336076817537667,\n  1.2847045267366342,\n  0.5336076817537667,\n  1.2847045267366342,\n  0.5336076817537667,\n  1.2847045267366342,\n  0.5336076817537667,\n  1.2847045267366342,\n  0.5336076817537667,\n  1.2847045267366342,\n  0.5336076817537667,\n  1.2847045267366342,\n  0.5336076817537667,\n  1.2847045267366342,\n  0.5336076817537667,\n  1.2847045267366342,\n  0.5336076817537667,\n  1.2847045267366342,\n  0.5336076817537667,\n  1.2847045267366342,\n  0.5336076817537667,\n  1.2847045267366342,\n  0.5336076817537667,\n  1.2847045267366342,\n  0.5336076817537667,\n  1.2847045267366342,\n  0.5336076817537667,\n  1.2847045267366342,\n  0.5336076817537667,\n  1.2847045267366342,\n  0.5336076817537667,\n  1.2847045267366342,\n  0.5336076817537667,\n  1.2847045267366342,\n  0.5336076817537667,\n  1.2847045267366342,\n  0.5336076817537667,\n  1.2847045267366342,\n  0.5336076817537667,\n  1.2847045267366342,\n  0.5336076817537667,\n  1.2847045267366342,\n  0.5336076817537667,\n  1.2847045267366342,\n  0.5336076817537667,\n  1.2847045267366342,\n  0.5336076817537667,\n  1.2847045267366342,\n  0.5336076817537667,\n  1.2847045267366342,\n  0.5336076817537667,\n  1.2847045267366342,\n  0.5336076817537667,\n  1.2847045267366342,\n  0.5336076817537667,\n  1.2847045267366342,\n  0.5336076817537667,\n  1.2847045267366342,\n  0.5336076817537667,\n  1.2847045267366342,\n  0.5336076817537667,\n  1.2847045267366342,\n  0.5336076817537667,\n  1.2847045267366342,\n  0.5336076817537667,\n  1.2847045267366342,\n  0.5336076817537667,\n  1.2847045267366342,\n  0.5336076817537667,\n  1.2847045267366342,\n  0.5336076817537667,\n  1.2847045267366342,\n  0.5336076817537667,\n  1.2847045267366342,\n  0.5336076817537667,\n  1.2847045267366342,\n  0.5336076817537667,\n  1.2847045267366342,\n  0.5336076817537667,\n  1.2847045267366342,\n  0.5336076817537667,\n  1.2847045267366342,\n  0.5336076817537667,\n  1.2847045267366342,\n  0.5336076817537667,\n  1.2847045267366342,\n  0.5336076817537667,\n  1.2847045267366342,\n  0.5336076817537667,\n  1.2847045267366342,\n  0.5336076817537667,\n  1.2847045267366342,\n  0.5336076817537667,\n  1.2847045267366342,\n  0.5336076817537667,\n  1.2847045267366342,\n  0.5336076817537667,\n  1.2847045267366342,\n  0.5336076817537667,\n  1.2847045267366342,\n  0.5336076817537667,\n  1.2847045267366342,\n  0.5336076817537667,\n  1.2847045267366342,\n  0.5336076817537667,\n  1.2847045267366342,\n  0.5336076817537667,\n  1.2847045267366342,\n  0.5336076817537667,\n  1.2847045267366342,\n  0.5336076817537667,\n  1.2847045267366342,\n  0.5336076817537667,\n  1.2847045267366342,\n  0.5336076817537667,\n  1.2847045267366342,\n  0.5336076817537667,\n  1.2847045267366342,\n  0.5336076817537667,\n  1.2847045267366342,\n  0.5336076817537667,\n  1.2847045267366342,\n  0.5336076817537667,\n  1.2847045267366342,\n  0.5336076817537667,\n  1.2847045267366342,\n  0.5336076817537667,\n  1.2847045267366342,\n  0.5336076817537667,\n  1.2847045267366342,\n  0.5336076817537667,\n  1.2847045267366342,\n  0.5336076817537667,\n  1.2847045267366342,\n  0.5336076817537667,\n  1.2847045267366342,\n  0.5336076817537667,\n  1.2847045267366342,\n  0.5336076817537667,\n  1.2847045267366342,\n  0.5336076817537667,\n  1.2847045267366342,\n  0.5336076817537667,\n  1.2847045267366342,\n  0.5336076817537667,\n  1.2847045267366342,\n  0.5336076817537667,\n  1.2847045267366342,\n  0.5336076817537667,\n  1.2847045267366342,\n  0.5336076817537667,\n  1.2847045267366342,\n  0.5336076817537667,\n  1.2847045267366342,\n  0.5336076817537667,\n  1.2847045267366342,\n  0.5336076817537667,\n  1.2847045267366342,\n  0.5336076817537667,\n  1.2847045267366342,\n  0.5336076817537667,\n  1.2847045267366342,\n  0.5336076817537667,\n  1.2847045267366342,\n  0.5336076817537667,\n  1.2847045267366342,\n  0.5336076817537667,\n  1.2847045267366342,\n  0.5336076817537667,\n  1.2847045267366342,\n  0.5336076817537667,\n  1.2847045267366342,\n  0.5336076817537667,\n  1.2847045267366342,\n  0.5336076817537667,\n  1.2847045267366342,\n  0.5336076817537667,\n  1.2847045267366342,\n  0.5336076817537667,\n  1.2847045267366342,\n  0.5336076817537667,\n  1.2847045267366342,\n  0.5336076817537667,\n  1.2847045267366342,\n  0.5336076817537667,\n  1.2847045267366342,\n  0.5336076817537667,\n  1.2847045267366342,\n  0.5336076817537667,\n  1.2847045267366342,\n  0.5336076817537667,\n  1.2847045267366342,\n  0.5336076817537667,\n  1.2847045267366342,\n  0.5336076817537667,\n  1.2847045267366342,\n  0.5336076817537667,\n  1.2847045267366342,\n  0.5336076817537667,\n  1.2847045267366342,\n  0.5336076817537667,\n  1.2847045267366342,\n  0.5336076817537667,\n  1.2847045267366342,\n  0.5336076817537667,\n  1.2847045267366342,\n  0.5336076817537667,\n  1.2847045267366342,\n  0.5336076817537667,\n  1.2847045267366342,\n  0.5336076817537667,\n  1.2847045267366342,\n  0.5336076817537667,\n  1.2847045267366342,\n  0.5336076817537667,\n  1.2847045267366342,\n  0.5336076817537667,\n  1.2847045267366342,\n  0.5336076817537667,\n  1.2847045267366342,\n  0.5336076817537667,\n  1.2847045267366342,\n  0.5336076817537667,\n  1.2847045267366342,\n  0.5336076817537667,\n  1.2847045267366342,\n  0.5336076817537667,\n  1.2847045267366342,\n  0.5336076817537667,\n  1.2847045267366342,\n  0.5336076817537667,\n  1.2847045267366342,\n  0.5336076817537667,\n  1.2847045267366342,\n  0.5336076817537667,\n  1.2847045267366342,\n  0.5336076817537667,\n  1.2847045267366342,\n  0.5336076817537667,\n  1.2847045267366342,\n  0.5336076817537667,\n  1.2847045267366342,\n  0.5336076817537667,\n  1.2847045267366342,\n  0.5336076817537667,\n  1.2847045267366342,\n  0.5336076817537667,\n  1.2847045267366342,\n  0.5336076817537667,\n  1.2847045267366342,\n  0.5336076817537667,\n  1.2847045267366342,\n  0.5336076817537667,\n  1.2847045267366342,\n  0.5336076817537667,\n  1.2847045267366342,\n  0.5336076817537667,\n  1.2847045267366342,\n  0.5336076817537667,\n  1.2847045267366342,\n  0.5336076817537667,\n  1.2847045267366342,\n  0.5336076817537667,\n  1.2847045267366342,\n  0.5336076817537667,\n  1.2847045267366342,\n  0.5336076817537667,\n  1.2847045267366342,\n  0.5336076817537667,\n  1.2847045267366342,\n  0.5336076817537667,\n  1.2847045267366342,\n  0.5336076817537667,\n  1.2847045267366342,\n  0.5336076817537667,\n  1.2847045267366342,\n  0.5336076817537667,\n  1.2847045267366342,\n  0.5336076817537667,\n  1.2847045267366342,\n  0.5336076817537667,\n  1.2847045267366342,\n  0.5336076817537667,\n  1.2847045267366342,\n  0.5336076817537667,\n  1.2847045267366342,\n  0.5336076817537667,\n  1.2847045267366342,\n  0.5336076817537667,\n  1.2847045267366342,\n  0.5336076817537667,\n  1.2847045267366342,\n  0.5336076817537667,\n  1.2847045267366342,\n  0.5336076817537667],\n [-6.99,\n  -6.98,\n  -6.970000000000001,\n  -6.960000000000001,\n  -6.950000000000001,\n  -6.940000000000001,\n  -6.9300000000000015,\n  -6.920000000000002,\n  -6.910000000000002,\n  -6.900000000000002,\n  -6.890000000000002,\n  -6.880000000000003,\n  -6.870000000000003,\n  -6.860000000000003,\n  -6.850000000000003,\n  -6.840000000000003,\n  -6.830000000000004,\n  -6.820000000000004,\n  -6.810000000000004,\n  -6.800000000000004,\n  -6.7900000000000045,\n  -6.780000000000005,\n  -6.770000000000005,\n  -6.760000000000005,\n  -6.750000000000005,\n  -6.7400000000000055,\n  -6.730000000000006,\n  -6.720000000000006,\n  -6.710000000000006,\n  -6.700000000000006,\n  -6.690000000000007,\n  -6.680000000000007,\n  -6.670000000000007,\n  -6.660000000000007,\n  -6.6500000000000075,\n  -6.640000000000008,\n  -6.630000000000008,\n  -6.620000000000008,\n  -6.610000000000008,\n  -6.6000000000000085,\n  -6.590000000000009,\n  -6.580000000000009,\n  -6.570000000000009,\n  -6.560000000000009,\n  -6.55000000000001,\n  -6.54000000000001,\n  -6.53000000000001,\n  -6.52000000000001,\n  -6.5100000000000104,\n  -6.500000000000011,\n  -6.490000000000011,\n  -6.480000000000011,\n  -6.470000000000011,\n  -6.4600000000000115,\n  -6.450000000000012,\n  -6.440000000000012,\n  -6.430000000000012,\n  -6.420000000000012,\n  -6.410000000000013,\n  -6.400000000000013,\n  -6.390000000000013,\n  -6.380000000000013,\n  -6.370000000000013,\n  -6.360000000000014,\n  -6.350000000000014,\n  -6.340000000000014,\n  -6.330000000000014,\n  -6.3200000000000145,\n  -6.310000000000015,\n  -6.300000000000015,\n  -6.290000000000015,\n  -6.280000000000015,\n  -6.270000000000016,\n  -6.260000000000016,\n  -6.250000000000016,\n  -6.240000000000016,\n  -6.230000000000016,\n  -6.220000000000017,\n  -6.210000000000017,\n  -6.200000000000017,\n  -6.190000000000017,\n  -6.1800000000000175,\n  -6.170000000000018,\n  -6.160000000000018,\n  -6.150000000000018,\n  -6.140000000000018,\n  -6.1300000000000185,\n  -6.120000000000019,\n  -6.110000000000019,\n  -6.100000000000019,\n  -6.090000000000019,\n  -6.08000000000002,\n  -6.07000000000002,\n  -6.06000000000002,\n  -6.05000000000002,\n  -6.0400000000000205,\n  -6.030000000000021,\n  -6.020000000000021,\n  -6.010000000000021,\n  -6.000000000000021,\n  -5.9900000000000215,\n  -5.980000000000022,\n  -5.970000000000022,\n  -5.960000000000022,\n  -5.950000000000022,\n  -5.940000000000023,\n  -5.930000000000023,\n  -5.920000000000023,\n  -5.910000000000023,\n  -5.9000000000000234,\n  -5.890000000000024,\n  -5.880000000000024,\n  -5.870000000000024,\n  -5.860000000000024,\n  -5.8500000000000245,\n  -5.840000000000025,\n  -5.830000000000025,\n  -5.820000000000025,\n  -5.810000000000025,\n  -5.800000000000026,\n  -5.790000000000026,\n  -5.780000000000026,\n  -5.770000000000026,\n  -5.760000000000026,\n  -5.750000000000027,\n  -5.740000000000027,\n  -5.730000000000027,\n  -5.720000000000027,\n  -5.7100000000000275,\n  -5.700000000000028,\n  -5.690000000000028,\n  -5.680000000000028,\n  -5.670000000000028,\n  -5.660000000000029,\n  -5.650000000000029,\n  -5.640000000000029,\n  -5.630000000000029,\n  -5.620000000000029,\n  -5.61000000000003,\n  -5.60000000000003,\n  -5.59000000000003,\n  -5.58000000000003,\n  -5.5700000000000305,\n  -5.560000000000031,\n  -5.550000000000031,\n  -5.540000000000031,\n  -5.530000000000031,\n  -5.5200000000000315,\n  -5.510000000000032,\n  -5.500000000000032,\n  -5.490000000000032,\n  -5.480000000000032,\n  -5.470000000000033,\n  -5.460000000000033,\n  -5.450000000000033,\n  -5.440000000000033,\n  -5.4300000000000335,\n  -5.420000000000034,\n  -5.410000000000034,\n  -5.400000000000034,\n  -5.390000000000034,\n  -5.3800000000000345,\n  -5.370000000000035,\n  -5.360000000000035,\n  -5.350000000000035,\n  -5.340000000000035,\n  -5.330000000000036,\n  -5.320000000000036,\n  -5.310000000000036,\n  -5.300000000000036,\n  -5.2900000000000365,\n  -5.280000000000037,\n  -5.270000000000037,\n  -5.260000000000037,\n  -5.250000000000037,\n  -5.2400000000000375,\n  -5.230000000000038,\n  -5.220000000000038,\n  -5.210000000000038,\n  -5.200000000000038,\n  -5.190000000000039,\n  -5.180000000000039,\n  -5.170000000000039,\n  -5.160000000000039,\n  -5.150000000000039,\n  -5.14000000000004,\n  -5.13000000000004,\n  -5.12000000000004,\n  -5.11000000000004,\n  -5.1000000000000405,\n  -5.090000000000041,\n  -5.080000000000041,\n  -5.070000000000041,\n  -5.060000000000041,\n  -5.050000000000042,\n  -5.040000000000042,\n  -5.030000000000042,\n  -5.020000000000042,\n  -5.010000000000042,\n  -5.000000000000043,\n  -4.990000000000043,\n  -4.980000000000043,\n  -4.970000000000043,\n  -4.9600000000000435,\n  -4.950000000000044,\n  -4.940000000000044,\n  -4.930000000000044,\n  -4.920000000000044,\n  -4.9100000000000446,\n  -4.900000000000045,\n  -4.890000000000045,\n  -4.880000000000045,\n  -4.870000000000045,\n  -4.860000000000046,\n  -4.850000000000046,\n  -4.840000000000046,\n  -4.830000000000046,\n  -4.8200000000000465,\n  -4.810000000000047,\n  -4.800000000000047,\n  -4.790000000000047,\n  -4.780000000000047,\n  -4.7700000000000475,\n  -4.760000000000048,\n  -4.750000000000048,\n  -4.740000000000048,\n  -4.730000000000048,\n  -4.720000000000049,\n  -4.710000000000049,\n  -4.700000000000049,\n  -4.690000000000049,\n  -4.6800000000000495,\n  -4.67000000000005,\n  -4.66000000000005,\n  -4.65000000000005,\n  -4.64000000000005,\n  -4.6300000000000505,\n  -4.620000000000051,\n  -4.610000000000051,\n  -4.600000000000051,\n  -4.590000000000051,\n  -4.580000000000052,\n  -4.570000000000052,\n  -4.560000000000052,\n  -4.550000000000052,\n  -4.540000000000052,\n  -4.530000000000053,\n  -4.520000000000053,\n  -4.510000000000053,\n  -4.500000000000053,\n  -4.4900000000000535,\n  -4.480000000000054,\n  -4.470000000000054,\n  -4.460000000000054,\n  -4.450000000000054,\n  -4.440000000000055,\n  -4.430000000000055,\n  -4.420000000000055,\n  -4.410000000000055,\n  -4.400000000000055,\n  -4.390000000000056,\n  -4.380000000000056,\n  -4.370000000000056,\n  -4.360000000000056,\n  -4.3500000000000565,\n  -4.340000000000057,\n  -4.330000000000057,\n  -4.320000000000057,\n  -4.310000000000057,\n  -4.3000000000000576,\n  -4.290000000000058,\n  -4.280000000000058,\n  -4.270000000000058,\n  -4.260000000000058,\n  -4.250000000000059,\n  -4.240000000000059,\n  -4.230000000000059,\n  -4.220000000000059,\n  -4.2100000000000595,\n  -4.20000000000006,\n  -4.19000000000006,\n  -4.18000000000006,\n  -4.17000000000006,\n  -4.1600000000000605,\n  -4.150000000000061,\n  -4.140000000000061,\n  -4.130000000000061,\n  -4.120000000000061,\n  -4.110000000000062,\n  -4.100000000000062,\n  -4.090000000000062,\n  -4.080000000000062,\n  -4.0700000000000625,\n  -4.060000000000063,\n  -4.050000000000063,\n  -4.040000000000063,\n  -4.030000000000063,\n  -4.0200000000000635,\n  -4.010000000000064,\n  -4.000000000000064,\n  -3.990000000000064,\n  -3.9800000000000644,\n  -3.9700000000000646,\n  -3.960000000000065,\n  -3.950000000000065,\n  -3.9400000000000652,\n  -3.9300000000000654,\n  -3.9200000000000657,\n  -3.910000000000066,\n  -3.900000000000066,\n  -3.8900000000000663,\n  -3.8800000000000665,\n  -3.8700000000000667,\n  -3.860000000000067,\n  -3.850000000000067,\n  -3.8400000000000674,\n  -3.8300000000000676,\n  -3.820000000000068,\n  -3.810000000000068,\n  -3.800000000000068,\n  -3.7900000000000684,\n  -3.7800000000000686,\n  -3.770000000000069,\n  -3.760000000000069,\n  -3.7500000000000693,\n  -3.7400000000000695,\n  -3.7300000000000697,\n  -3.72000000000007,\n  -3.71000000000007,\n  -3.7000000000000703,\n  -3.6900000000000706,\n  -3.6800000000000708,\n  -3.670000000000071,\n  -3.660000000000071,\n  -3.6500000000000714,\n  -3.6400000000000716,\n  -3.630000000000072,\n  -3.620000000000072,\n  -3.6100000000000723,\n  -3.6000000000000725,\n  -3.5900000000000727,\n  -3.580000000000073,\n  -3.570000000000073,\n  -3.5600000000000733,\n  -3.5500000000000735,\n  -3.5400000000000738,\n  -3.530000000000074,\n  -3.520000000000074,\n  -3.5100000000000744,\n  -3.5000000000000746,\n  -3.490000000000075,\n  -3.480000000000075,\n  -3.4700000000000752,\n  -3.4600000000000755,\n  -3.4500000000000757,\n  -3.440000000000076,\n  -3.430000000000076,\n  -3.4200000000000763,\n  -3.4100000000000765,\n  -3.4000000000000767,\n  -3.390000000000077,\n  -3.380000000000077,\n  -3.3700000000000774,\n  -3.3600000000000776,\n  -3.350000000000078,\n  -3.340000000000078,\n  -3.3300000000000782,\n  -3.3200000000000784,\n  -3.3100000000000787,\n  -3.300000000000079,\n  -3.290000000000079,\n  -3.2800000000000793,\n  -3.2700000000000795,\n  -3.2600000000000797,\n  -3.25000000000008,\n  -3.24000000000008,\n  -3.2300000000000804,\n  -3.2200000000000806,\n  -3.210000000000081,\n  -3.200000000000081,\n  -3.190000000000081,\n  -3.1800000000000814,\n  -3.1700000000000816,\n  -3.160000000000082,\n  -3.150000000000082,\n  -3.1400000000000823,\n  -3.1300000000000825,\n  -3.1200000000000827,\n  -3.110000000000083,\n  -3.100000000000083,\n  -3.0900000000000833,\n  -3.0800000000000836,\n  -3.0700000000000838,\n  -3.060000000000084,\n  -3.050000000000084,\n  -3.0400000000000844,\n  -3.0300000000000846,\n  -3.020000000000085,\n  -3.010000000000085,\n  -3.0000000000000853,\n  -2.9900000000000855,\n  -2.9800000000000857,\n  -2.970000000000086,\n  -2.960000000000086,\n  -2.9500000000000863,\n  -2.9400000000000865,\n  -2.9300000000000868,\n  -2.920000000000087,\n  -2.910000000000087,\n  -2.9000000000000874,\n  -2.8900000000000876,\n  -2.880000000000088,\n  -2.870000000000088,\n  -2.8600000000000882,\n  -2.8500000000000885,\n  -2.8400000000000887,\n  -2.830000000000089,\n  -2.820000000000089,\n  -2.8100000000000893,\n  -2.8000000000000895,\n  -2.7900000000000897,\n  -2.78000000000009,\n  -2.77000000000009,\n  -2.7600000000000904,\n  -2.7500000000000906,\n  -2.740000000000091,\n  -2.730000000000091,\n  -2.7200000000000912,\n  -2.7100000000000914,\n  -2.7000000000000917,\n  -2.690000000000092,\n  -2.680000000000092,\n  -2.6700000000000923,\n  -2.6600000000000925,\n  -2.6500000000000927,\n  -2.640000000000093,\n  -2.630000000000093,\n  -2.6200000000000934,\n  -2.6100000000000936,\n  -2.600000000000094,\n  -2.590000000000094,\n  -2.580000000000094,\n  -2.5700000000000944,\n  -2.5600000000000946,\n  -2.550000000000095,\n  -2.540000000000095,\n  -2.5300000000000953,\n  -2.5200000000000955,\n  -2.5100000000000957,\n  -2.500000000000096,\n  -2.490000000000096,\n  -2.4800000000000963,\n  -2.4700000000000966,\n  -2.4600000000000968,\n  -2.450000000000097,\n  -2.440000000000097,\n  -2.4300000000000974,\n  -2.4200000000000976,\n  -2.410000000000098,\n  -2.400000000000098,\n  -2.3900000000000983,\n  -2.3800000000000985,\n  -2.3700000000000987,\n  -2.360000000000099,\n  -2.350000000000099,\n  -2.3400000000000993,\n  -2.3300000000000995,\n  -2.3200000000000998,\n  -2.3100000000001,\n  -2.3000000000001,\n  -2.2900000000001004,\n  -2.2800000000001006,\n  -2.270000000000101,\n  -2.260000000000101,\n  -2.2500000000001013,\n  -2.2400000000001015,\n  -2.2300000000001017,\n  -2.220000000000102,\n  -2.210000000000102,\n  -2.2000000000001023,\n  -2.1900000000001025,\n  -2.1800000000001027,\n  -2.170000000000103,\n  -2.160000000000103,\n  -2.1500000000001034,\n  -2.1400000000001036,\n  -2.130000000000104,\n  -2.120000000000104,\n  -2.1100000000001042,\n  -2.1000000000001044,\n  -2.0900000000001047,\n  -2.080000000000105,\n  -2.070000000000105,\n  -2.0600000000001053,\n  -2.0500000000001055,\n  -2.0400000000001057,\n  -2.030000000000106,\n  -2.020000000000106,\n  -2.0100000000001064,\n  -2.0000000000001066,\n  -1.9900000000001066,\n  -1.9800000000001066,\n  -1.9700000000001066,\n  -1.9600000000001065,\n  -1.9500000000001065,\n  -1.9400000000001065,\n  -1.9300000000001065,\n  -1.9200000000001065,\n  -1.9100000000001065,\n  -1.9000000000001065,\n  -1.8900000000001065,\n  -1.8800000000001065,\n  -1.8700000000001065,\n  -1.8600000000001065,\n  -1.8500000000001064,\n  -1.8400000000001064,\n  -1.8300000000001064,\n  -1.8200000000001064,\n  -1.8100000000001064,\n  -1.8000000000001064,\n  -1.7900000000001064,\n  -1.7800000000001064,\n  -1.7700000000001064,\n  -1.7600000000001064,\n  -1.7500000000001064,\n  -1.7400000000001064,\n  -1.7300000000001063,\n  -1.7200000000001063,\n  -1.7100000000001063,\n  -1.7000000000001063,\n  -1.6900000000001063,\n  -1.6800000000001063,\n  -1.6700000000001063,\n  -1.6600000000001063,\n  -1.6500000000001063,\n  -1.6400000000001063,\n  -1.6300000000001063,\n  -1.6200000000001062,\n  -1.6100000000001062,\n  -1.6000000000001062,\n  -1.5900000000001062,\n  -1.5800000000001062,\n  -1.5700000000001062,\n  -1.5600000000001062,\n  -1.5500000000001062,\n  -1.5400000000001062,\n  -1.5300000000001062,\n  -1.5200000000001062,\n  -1.5100000000001061,\n  -1.5000000000001061,\n  -1.4900000000001061,\n  -1.4800000000001061,\n  -1.470000000000106,\n  -1.460000000000106,\n  -1.450000000000106,\n  -1.440000000000106,\n  -1.430000000000106,\n  -1.420000000000106,\n  -1.410000000000106,\n  -1.400000000000106,\n  -1.390000000000106,\n  -1.380000000000106,\n  -1.370000000000106,\n  -1.360000000000106,\n  -1.350000000000106,\n  -1.340000000000106,\n  -1.330000000000106,\n  -1.320000000000106,\n  -1.310000000000106,\n  -1.300000000000106,\n  -1.290000000000106,\n  -1.280000000000106,\n  -1.270000000000106,\n  -1.260000000000106,\n  -1.250000000000106,\n  -1.240000000000106,\n  -1.230000000000106,\n  -1.2200000000001059,\n  -1.2100000000001059,\n  -1.2000000000001059,\n  -1.1900000000001059,\n  -1.1800000000001059,\n  -1.1700000000001058,\n  -1.1600000000001058,\n  -1.1500000000001058,\n  -1.1400000000001058,\n  -1.1300000000001058,\n  -1.1200000000001058,\n  -1.1100000000001058,\n  -1.1000000000001058,\n  -1.0900000000001058,\n  -1.0800000000001058,\n  -1.0700000000001058,\n  -1.0600000000001057,\n  -1.0500000000001057,\n  -1.0400000000001057,\n  -1.0300000000001057,\n  -1.0200000000001057,\n  -1.0100000000001057,\n  -1.0000000000001057,\n  -0.9900000000001057,\n  -0.9800000000001057,\n  -0.9700000000001057,\n  -0.9600000000001057,\n  -0.9500000000001056,\n  -0.9400000000001056,\n  -0.9300000000001056,\n  -0.9200000000001056,\n  -0.9100000000001056,\n  -0.9000000000001056,\n  -0.8900000000001056,\n  -0.8800000000001056,\n  -0.8700000000001056,\n  -0.8600000000001056,\n  -0.8500000000001056,\n  -0.8400000000001056,\n  -0.8300000000001055,\n  -0.8200000000001055,\n  -0.8100000000001055,\n  -0.8000000000001055,\n  -0.7900000000001055,\n  -0.7800000000001055,\n  -0.7700000000001055,\n  -0.7600000000001055,\n  -0.7500000000001055,\n  -0.7400000000001055,\n  -0.7300000000001055,\n  -0.7200000000001054,\n  -0.7100000000001054,\n  -0.7000000000001054,\n  -0.6900000000001054,\n  -0.6800000000001054,\n  -0.6700000000001054,\n  -0.6600000000001054,\n  -0.6500000000001054,\n  -0.6400000000001054,\n  -0.6300000000001054,\n  -0.6200000000001054,\n  -0.6100000000001053,\n  -0.6000000000001053,\n  -0.5900000000001053,\n  -0.5800000000001053,\n  -0.5700000000001053,\n  -0.5600000000001053,\n  -0.5500000000001053,\n  -0.5400000000001053,\n  -0.5300000000001053,\n  -0.5200000000001053,\n  -0.5100000000001053,\n  -0.5000000000001052,\n  -0.49000000000010524,\n  -0.48000000000010523,\n  -0.4700000000001052,\n  -0.4600000000001052,\n  -0.4500000000001052,\n  -0.4400000000001052,\n  -0.4300000000001052,\n  -0.4200000000001052,\n  -0.41000000000010517,\n  -0.40000000000010516,\n  -0.39000000000010515,\n  -0.38000000000010514,\n  -0.37000000000010513,\n  -0.3600000000001051,\n  -0.3500000000001051,\n  -0.3400000000001051,\n  -0.3300000000001051,\n  -0.3200000000001051,\n  -0.3100000000001051,\n  -0.30000000000010507,\n  -0.29000000000010506,\n  -0.28000000000010505,\n  -0.27000000000010504,\n  -0.26000000000010504,\n  -0.250000000000105,\n  -0.24000000000010502,\n  -0.230000000000105,\n  -0.220000000000105,\n  -0.210000000000105,\n  -0.20000000000010498,\n  -0.19000000000010497,\n  -0.18000000000010496,\n  -0.17000000000010496,\n  -0.16000000000010495,\n  -0.15000000000010494,\n  -0.14000000000010493,\n  -0.13000000000010492,\n  -0.12000000000010493,\n  -0.11000000000010493,\n  -0.10000000000010494,\n  -0.09000000000010494,\n  -0.08000000000010495,\n  -0.07000000000010495,\n  -0.06000000000010495,\n  -0.05000000000010495,\n  -0.040000000000104945,\n  -0.030000000000104943,\n  -0.02000000000010494,\n  -0.01000000000010494,\n  -1.0494036195574097e-13,\n  0.00999999999989506,\n  -1.0494036195574097e-13,\n  0.00999999999989506,\n  -1.0494036195574097e-13,\n  0.00999999999989506,\n  -1.0494036195574097e-13,\n  0.00999999999989506,\n  -1.0494036195574097e-13,\n  0.00999999999989506,\n  -1.0494036195574097e-13,\n  0.00999999999989506,\n  -1.0494036195574097e-13,\n  0.00999999999989506,\n  -1.0494036195574097e-13,\n  0.00999999999989506,\n  -1.0494036195574097e-13,\n  0.00999999999989506,\n  -1.0494036195574097e-13,\n  0.00999999999989506,\n  -1.0494036195574097e-13,\n  0.00999999999989506,\n  -1.0494036195574097e-13,\n  0.00999999999989506,\n  -1.0494036195574097e-13,\n  0.00999999999989506,\n  -1.0494036195574097e-13,\n  0.00999999999989506,\n  -1.0494036195574097e-13,\n  0.00999999999989506,\n  -1.0494036195574097e-13,\n  0.00999999999989506,\n  -1.0494036195574097e-13,\n  0.00999999999989506,\n  -1.0494036195574097e-13,\n  0.00999999999989506,\n  -1.0494036195574097e-13,\n  0.00999999999989506,\n  -1.0494036195574097e-13,\n  0.00999999999989506,\n  -1.0494036195574097e-13,\n  0.00999999999989506,\n  -1.0494036195574097e-13,\n  0.00999999999989506,\n  -1.0494036195574097e-13,\n  0.00999999999989506,\n  -1.0494036195574097e-13,\n  0.00999999999989506,\n  -1.0494036195574097e-13,\n  0.00999999999989506,\n  -1.0494036195574097e-13,\n  0.00999999999989506,\n  -1.0494036195574097e-13,\n  0.00999999999989506,\n  -1.0494036195574097e-13,\n  0.00999999999989506,\n  -1.0494036195574097e-13,\n  0.00999999999989506,\n  -1.0494036195574097e-13,\n  0.00999999999989506,\n  -1.0494036195574097e-13,\n  0.00999999999989506,\n  -1.0494036195574097e-13,\n  0.00999999999989506,\n  -1.0494036195574097e-13,\n  0.00999999999989506,\n  -1.0494036195574097e-13,\n  0.00999999999989506,\n  -1.0494036195574097e-13,\n  0.00999999999989506,\n  -1.0494036195574097e-13,\n  0.00999999999989506,\n  -1.0494036195574097e-13,\n  0.00999999999989506,\n  -1.0494036195574097e-13,\n  0.00999999999989506,\n  -1.0494036195574097e-13,\n  0.00999999999989506,\n  -1.0494036195574097e-13,\n  0.00999999999989506,\n  -1.0494036195574097e-13,\n  0.00999999999989506,\n  -1.0494036195574097e-13,\n  0.00999999999989506,\n  -1.0494036195574097e-13,\n  0.00999999999989506,\n  -1.0494036195574097e-13,\n  0.00999999999989506,\n  -1.0494036195574097e-13,\n  0.00999999999989506,\n  -1.0494036195574097e-13,\n  0.00999999999989506,\n  -1.0494036195574097e-13,\n  0.00999999999989506,\n  -1.0494036195574097e-13,\n  0.00999999999989506,\n  -1.0494036195574097e-13,\n  0.00999999999989506,\n  -1.0494036195574097e-13,\n  0.00999999999989506,\n  -1.0494036195574097e-13,\n  0.00999999999989506,\n  -1.0494036195574097e-13,\n  0.00999999999989506,\n  -1.0494036195574097e-13,\n  0.00999999999989506,\n  -1.0494036195574097e-13,\n  0.00999999999989506,\n  -1.0494036195574097e-13,\n  0.00999999999989506,\n  -1.0494036195574097e-13,\n  0.00999999999989506,\n  -1.0494036195574097e-13,\n  0.00999999999989506,\n  -1.0494036195574097e-13,\n  0.00999999999989506,\n  -1.0494036195574097e-13,\n  0.00999999999989506,\n  -1.0494036195574097e-13,\n  0.00999999999989506,\n  -1.0494036195574097e-13,\n  0.00999999999989506,\n  -1.0494036195574097e-13,\n  0.00999999999989506,\n  -1.0494036195574097e-13,\n  0.00999999999989506,\n  -1.0494036195574097e-13,\n  0.00999999999989506,\n  -1.0494036195574097e-13,\n  0.00999999999989506,\n  -1.0494036195574097e-13,\n  0.00999999999989506,\n  -1.0494036195574097e-13,\n  0.00999999999989506,\n  -1.0494036195574097e-13,\n  0.00999999999989506,\n  -1.0494036195574097e-13,\n  0.00999999999989506,\n  -1.0494036195574097e-13,\n  0.00999999999989506,\n  -1.0494036195574097e-13,\n  0.00999999999989506,\n  -1.0494036195574097e-13,\n  0.00999999999989506,\n  -1.0494036195574097e-13,\n  0.00999999999989506,\n  -1.0494036195574097e-13,\n  0.00999999999989506,\n  -1.0494036195574097e-13,\n  0.00999999999989506,\n  -1.0494036195574097e-13,\n  0.00999999999989506,\n  -1.0494036195574097e-13,\n  0.00999999999989506,\n  -1.0494036195574097e-13,\n  0.00999999999989506,\n  -1.0494036195574097e-13,\n  0.00999999999989506,\n  -1.0494036195574097e-13,\n  0.00999999999989506,\n  -1.0494036195574097e-13,\n  0.00999999999989506,\n  -1.0494036195574097e-13,\n  0.00999999999989506,\n  -1.0494036195574097e-13,\n  0.00999999999989506,\n  -1.0494036195574097e-13,\n  0.00999999999989506,\n  -1.0494036195574097e-13,\n  0.00999999999989506,\n  -1.0494036195574097e-13,\n  0.00999999999989506,\n  -1.0494036195574097e-13,\n  0.00999999999989506,\n  -1.0494036195574097e-13,\n  0.00999999999989506,\n  -1.0494036195574097e-13,\n  0.00999999999989506,\n  -1.0494036195574097e-13,\n  0.00999999999989506,\n  -1.0494036195574097e-13,\n  0.00999999999989506,\n  -1.0494036195574097e-13,\n  0.00999999999989506,\n  -1.0494036195574097e-13,\n  0.00999999999989506,\n  -1.0494036195574097e-13,\n  0.00999999999989506,\n  -1.0494036195574097e-13,\n  0.00999999999989506,\n  -1.0494036195574097e-13,\n  0.00999999999989506,\n  -1.0494036195574097e-13,\n  0.00999999999989506,\n  -1.0494036195574097e-13,\n  0.00999999999989506,\n  -1.0494036195574097e-13,\n  0.00999999999989506,\n  -1.0494036195574097e-13,\n  0.00999999999989506,\n  -1.0494036195574097e-13,\n  0.00999999999989506,\n  -1.0494036195574097e-13,\n  0.00999999999989506,\n  -1.0494036195574097e-13,\n  0.00999999999989506,\n  -1.0494036195574097e-13,\n  0.00999999999989506,\n  -1.0494036195574097e-13,\n  0.00999999999989506,\n  -1.0494036195574097e-13,\n  0.00999999999989506,\n  -1.0494036195574097e-13,\n  0.00999999999989506,\n  -1.0494036195574097e-13,\n  0.00999999999989506,\n  -1.0494036195574097e-13,\n  0.00999999999989506,\n  -1.0494036195574097e-13,\n  0.00999999999989506,\n  -1.0494036195574097e-13,\n  0.00999999999989506,\n  -1.0494036195574097e-13,\n  0.00999999999989506,\n  -1.0494036195574097e-13,\n  0.00999999999989506,\n  -1.0494036195574097e-13,\n  0.00999999999989506,\n  -1.0494036195574097e-13,\n  0.00999999999989506,\n  -1.0494036195574097e-13,\n  0.00999999999989506,\n  -1.0494036195574097e-13,\n  0.00999999999989506,\n  -1.0494036195574097e-13,\n  0.00999999999989506,\n  -1.0494036195574097e-13,\n  0.00999999999989506,\n  -1.0494036195574097e-13,\n  0.00999999999989506,\n  -1.0494036195574097e-13,\n  0.00999999999989506,\n  -1.0494036195574097e-13,\n  0.00999999999989506,\n  -1.0494036195574097e-13,\n  0.00999999999989506,\n  -1.0494036195574097e-13,\n  0.00999999999989506,\n  -1.0494036195574097e-13,\n  0.00999999999989506,\n  -1.0494036195574097e-13,\n  0.00999999999989506,\n  -1.0494036195574097e-13,\n  0.00999999999989506,\n  -1.0494036195574097e-13,\n  0.00999999999989506,\n  -1.0494036195574097e-13,\n  0.00999999999989506,\n  -1.0494036195574097e-13,\n  0.00999999999989506,\n  -1.0494036195574097e-13,\n  0.00999999999989506,\n  -1.0494036195574097e-13,\n  0.00999999999989506,\n  -1.0494036195574097e-13,\n  0.00999999999989506,\n  -1.0494036195574097e-13,\n  0.00999999999989506,\n  -1.0494036195574097e-13,\n  0.00999999999989506,\n  -1.0494036195574097e-13,\n  0.00999999999989506,\n  -1.0494036195574097e-13,\n  0.00999999999989506,\n  -1.0494036195574097e-13,\n  0.00999999999989506,\n  -1.0494036195574097e-13,\n  0.00999999999989506,\n  -1.0494036195574097e-13,\n  0.00999999999989506,\n  -1.0494036195574097e-13,\n  0.00999999999989506,\n  -1.0494036195574097e-13,\n  0.00999999999989506,\n  -1.0494036195574097e-13,\n  0.00999999999989506,\n  -1.0494036195574097e-13,\n  0.00999999999989506,\n  -1.0494036195574097e-13,\n  0.00999999999989506,\n  -1.0494036195574097e-13,\n  0.00999999999989506,\n  -1.0494036195574097e-13,\n  0.00999999999989506,\n  -1.0494036195574097e-13,\n  0.00999999999989506,\n  -1.0494036195574097e-13,\n  0.00999999999989506,\n  -1.0494036195574097e-13,\n  0.00999999999989506,\n  -1.0494036195574097e-13],\n [6.59,\n  6.58,\n  6.57,\n  6.5600000000000005,\n  6.550000000000001,\n  6.540000000000001,\n  6.530000000000001,\n  6.520000000000001,\n  6.510000000000002,\n  6.500000000000002,\n  6.490000000000002,\n  6.480000000000002,\n  6.470000000000002,\n  6.460000000000003,\n  6.450000000000003,\n  6.440000000000003,\n  6.430000000000003,\n  6.4200000000000035,\n  6.410000000000004,\n  6.400000000000004,\n  6.390000000000004,\n  6.380000000000004,\n  6.3700000000000045,\n  6.360000000000005,\n  6.350000000000005,\n  6.340000000000005,\n  6.330000000000005,\n  6.320000000000006,\n  6.310000000000006,\n  6.300000000000006,\n  6.290000000000006,\n  6.2800000000000065,\n  6.270000000000007,\n  6.260000000000007,\n  6.250000000000007,\n  6.240000000000007,\n  6.2300000000000075,\n  6.220000000000008,\n  6.210000000000008,\n  6.200000000000008,\n  6.190000000000008,\n  6.180000000000009,\n  6.170000000000009,\n  6.160000000000009,\n  6.150000000000009,\n  6.1400000000000095,\n  6.13000000000001,\n  6.12000000000001,\n  6.11000000000001,\n  6.10000000000001,\n  6.0900000000000105,\n  6.080000000000011,\n  6.070000000000011,\n  6.060000000000011,\n  6.050000000000011,\n  6.040000000000012,\n  6.030000000000012,\n  6.020000000000012,\n  6.010000000000012,\n  6.000000000000012,\n  5.990000000000013,\n  5.980000000000013,\n  5.970000000000013,\n  5.960000000000013,\n  5.9500000000000135,\n  5.940000000000014,\n  5.930000000000014,\n  5.920000000000014,\n  5.910000000000014,\n  5.900000000000015,\n  5.890000000000015,\n  5.880000000000015,\n  5.870000000000015,\n  5.860000000000015,\n  5.850000000000016,\n  5.840000000000016,\n  5.830000000000016,\n  5.820000000000016,\n  5.8100000000000165,\n  5.800000000000017,\n  5.790000000000017,\n  5.780000000000017,\n  5.770000000000017,\n  5.7600000000000176,\n  5.750000000000018,\n  5.740000000000018,\n  5.730000000000018,\n  5.720000000000018,\n  5.710000000000019,\n  5.700000000000019,\n  5.690000000000019,\n  5.680000000000019,\n  5.6700000000000195,\n  5.66000000000002,\n  5.65000000000002,\n  5.64000000000002,\n  5.63000000000002,\n  5.6200000000000205,\n  5.610000000000021,\n  5.600000000000021,\n  5.590000000000021,\n  5.580000000000021,\n  5.570000000000022,\n  5.560000000000022,\n  5.550000000000022,\n  5.540000000000022,\n  5.5300000000000225,\n  5.520000000000023,\n  5.510000000000023,\n  5.500000000000023,\n  5.490000000000023,\n  5.4800000000000235,\n  5.470000000000024,\n  5.460000000000024,\n  5.450000000000024,\n  5.440000000000024,\n  5.430000000000025,\n  5.420000000000025,\n  5.410000000000025,\n  5.400000000000025,\n  5.390000000000025,\n  5.380000000000026,\n  5.370000000000026,\n  5.360000000000026,\n  5.350000000000026,\n  5.3400000000000265,\n  5.330000000000027,\n  5.320000000000027,\n  5.310000000000027,\n  5.300000000000027,\n  5.290000000000028,\n  5.280000000000028,\n  5.270000000000028,\n  5.260000000000028,\n  5.250000000000028,\n  5.240000000000029,\n  5.230000000000029,\n  5.220000000000029,\n  5.210000000000029,\n  5.2000000000000295,\n  5.19000000000003,\n  5.18000000000003,\n  5.17000000000003,\n  5.16000000000003,\n  5.1500000000000306,\n  5.140000000000031,\n  5.130000000000031,\n  5.120000000000031,\n  5.110000000000031,\n  5.100000000000032,\n  5.090000000000032,\n  5.080000000000032,\n  5.070000000000032,\n  5.0600000000000325,\n  5.050000000000033,\n  5.040000000000033,\n  5.030000000000033,\n  5.020000000000033,\n  5.0100000000000335,\n  5.000000000000034,\n  4.990000000000034,\n  4.980000000000034,\n  4.970000000000034,\n  4.960000000000035,\n  4.950000000000035,\n  4.940000000000035,\n  4.930000000000035,\n  4.9200000000000355,\n  4.910000000000036,\n  4.900000000000036,\n  4.890000000000036,\n  4.880000000000036,\n  4.8700000000000365,\n  4.860000000000037,\n  4.850000000000037,\n  4.840000000000037,\n  4.830000000000037,\n  4.820000000000038,\n  4.810000000000038,\n  4.800000000000038,\n  4.790000000000038,\n  4.780000000000038,\n  4.770000000000039,\n  4.760000000000039,\n  4.750000000000039,\n  4.740000000000039,\n  4.7300000000000395,\n  4.72000000000004,\n  4.71000000000004,\n  4.70000000000004,\n  4.69000000000004,\n  4.680000000000041,\n  4.670000000000041,\n  4.660000000000041,\n  4.650000000000041,\n  4.640000000000041,\n  4.630000000000042,\n  4.620000000000042,\n  4.610000000000042,\n  4.600000000000042,\n  4.5900000000000425,\n  4.580000000000043,\n  4.570000000000043,\n  4.560000000000043,\n  4.550000000000043,\n  4.540000000000044,\n  4.530000000000044,\n  4.520000000000044,\n  4.510000000000044,\n  4.500000000000044,\n  4.490000000000045,\n  4.480000000000045,\n  4.470000000000045,\n  4.460000000000045,\n  4.4500000000000455,\n  4.440000000000046,\n  4.430000000000046,\n  4.420000000000046,\n  4.410000000000046,\n  4.4000000000000465,\n  4.390000000000047,\n  4.380000000000047,\n  4.370000000000047,\n  4.360000000000047,\n  4.350000000000048,\n  4.340000000000048,\n  4.330000000000048,\n  4.320000000000048,\n  4.3100000000000485,\n  4.300000000000049,\n  4.290000000000049,\n  4.280000000000049,\n  4.270000000000049,\n  4.2600000000000495,\n  4.25000000000005,\n  4.24000000000005,\n  4.23000000000005,\n  4.22000000000005,\n  4.210000000000051,\n  4.200000000000051,\n  4.190000000000051,\n  4.180000000000051,\n  4.170000000000051,\n  4.160000000000052,\n  4.150000000000052,\n  4.140000000000052,\n  4.130000000000052,\n  4.1200000000000525,\n  4.110000000000053,\n  4.100000000000053,\n  4.090000000000053,\n  4.080000000000053,\n  4.070000000000054,\n  4.060000000000054,\n  4.050000000000054,\n  4.040000000000054,\n  4.030000000000054,\n  4.020000000000055,\n  4.010000000000055,\n  4.000000000000055,\n  3.9900000000000553,\n  3.9800000000000555,\n  3.9700000000000557,\n  3.960000000000056,\n  3.950000000000056,\n  3.9400000000000563,\n  3.9300000000000566,\n  3.9200000000000568,\n  3.910000000000057,\n  3.900000000000057,\n  3.8900000000000574,\n  3.8800000000000576,\n  3.870000000000058,\n  3.860000000000058,\n  3.8500000000000583,\n  3.8400000000000585,\n  3.8300000000000587,\n  3.820000000000059,\n  3.810000000000059,\n  3.8000000000000593,\n  3.7900000000000595,\n  3.7800000000000598,\n  3.77000000000006,\n  3.76000000000006,\n  3.7500000000000604,\n  3.7400000000000606,\n  3.730000000000061,\n  3.720000000000061,\n  3.7100000000000612,\n  3.7000000000000615,\n  3.6900000000000617,\n  3.680000000000062,\n  3.670000000000062,\n  3.6600000000000623,\n  3.6500000000000625,\n  3.6400000000000627,\n  3.630000000000063,\n  3.620000000000063,\n  3.6100000000000634,\n  3.6000000000000636,\n  3.590000000000064,\n  3.580000000000064,\n  3.5700000000000642,\n  3.5600000000000644,\n  3.5500000000000647,\n  3.540000000000065,\n  3.530000000000065,\n  3.5200000000000653,\n  3.5100000000000655,\n  3.5000000000000657,\n  3.490000000000066,\n  3.480000000000066,\n  3.4700000000000664,\n  3.4600000000000666,\n  3.450000000000067,\n  3.440000000000067,\n  3.430000000000067,\n  3.4200000000000674,\n  3.4100000000000676,\n  3.400000000000068,\n  3.390000000000068,\n  3.3800000000000683,\n  3.3700000000000685,\n  3.3600000000000687,\n  3.350000000000069,\n  3.340000000000069,\n  3.3300000000000693,\n  3.3200000000000696,\n  3.3100000000000698,\n  3.30000000000007,\n  3.29000000000007,\n  3.2800000000000704,\n  3.2700000000000706,\n  3.260000000000071,\n  3.250000000000071,\n  3.2400000000000713,\n  3.2300000000000715,\n  3.2200000000000717,\n  3.210000000000072,\n  3.200000000000072,\n  3.1900000000000723,\n  3.1800000000000725,\n  3.1700000000000728,\n  3.160000000000073,\n  3.150000000000073,\n  3.1400000000000734,\n  3.1300000000000736,\n  3.120000000000074,\n  3.110000000000074,\n  3.1000000000000743,\n  3.0900000000000745,\n  3.0800000000000747,\n  3.070000000000075,\n  3.060000000000075,\n  3.0500000000000753,\n  3.0400000000000755,\n  3.0300000000000757,\n  3.020000000000076,\n  3.010000000000076,\n  3.0000000000000764,\n  2.9900000000000766,\n  2.980000000000077,\n  2.970000000000077,\n  2.9600000000000772,\n  2.9500000000000774,\n  2.9400000000000777,\n  2.930000000000078,\n  2.920000000000078,\n  2.9100000000000783,\n  2.9000000000000785,\n  2.8900000000000787,\n  2.880000000000079,\n  2.870000000000079,\n  2.8600000000000794,\n  2.8500000000000796,\n  2.84000000000008,\n  2.83000000000008,\n  2.82000000000008,\n  2.8100000000000804,\n  2.8000000000000806,\n  2.790000000000081,\n  2.780000000000081,\n  2.7700000000000813,\n  2.7600000000000815,\n  2.7500000000000817,\n  2.740000000000082,\n  2.730000000000082,\n  2.7200000000000824,\n  2.7100000000000826,\n  2.700000000000083,\n  2.690000000000083,\n  2.680000000000083,\n  2.6700000000000834,\n  2.6600000000000836,\n  2.650000000000084,\n  2.640000000000084,\n  2.6300000000000843,\n  2.6200000000000845,\n  2.6100000000000847,\n  2.600000000000085,\n  2.590000000000085,\n  2.5800000000000853,\n  2.5700000000000855,\n  2.5600000000000858,\n  2.550000000000086,\n  2.540000000000086,\n  2.5300000000000864,\n  2.5200000000000866,\n  2.510000000000087,\n  2.500000000000087,\n  2.4900000000000873,\n  2.4800000000000875,\n  2.4700000000000877,\n  2.460000000000088,\n  2.450000000000088,\n  2.4400000000000883,\n  2.4300000000000885,\n  2.4200000000000887,\n  2.410000000000089,\n  2.400000000000089,\n  2.3900000000000894,\n  2.3800000000000896,\n  2.37000000000009,\n  2.36000000000009,\n  2.3500000000000902,\n  2.3400000000000905,\n  2.3300000000000907,\n  2.320000000000091,\n  2.310000000000091,\n  2.3000000000000913,\n  2.2900000000000915,\n  2.2800000000000917,\n  2.270000000000092,\n  2.260000000000092,\n  2.2500000000000924,\n  2.2400000000000926,\n  2.230000000000093,\n  2.220000000000093,\n  2.2100000000000932,\n  2.2000000000000934,\n  2.1900000000000936,\n  2.180000000000094,\n  2.170000000000094,\n  2.1600000000000943,\n  2.1500000000000945,\n  2.1400000000000947,\n  2.130000000000095,\n  2.120000000000095,\n  2.1100000000000954,\n  2.1000000000000956,\n  2.090000000000096,\n  2.080000000000096,\n  2.070000000000096,\n  2.0600000000000964,\n  2.0500000000000966,\n  2.040000000000097,\n  2.030000000000097,\n  2.0200000000000973,\n  2.0100000000000975,\n  2.0000000000000977,\n  1.9900000000000977,\n  1.9800000000000977,\n  1.9700000000000977,\n  1.9600000000000977,\n  1.9500000000000977,\n  1.9400000000000976,\n  1.9300000000000976,\n  1.9200000000000976,\n  1.9100000000000976,\n  1.9000000000000976,\n  1.8900000000000976,\n  1.8800000000000976,\n  1.8700000000000976,\n  1.8600000000000976,\n  1.8500000000000976,\n  1.8400000000000976,\n  1.8300000000000975,\n  1.8200000000000975,\n  1.8100000000000975,\n  1.8000000000000975,\n  1.7900000000000975,\n  1.7800000000000975,\n  1.7700000000000975,\n  1.7600000000000975,\n  1.7500000000000975,\n  1.7400000000000975,\n  1.7300000000000975,\n  1.7200000000000975,\n  1.7100000000000974,\n  1.7000000000000974,\n  1.6900000000000974,\n  1.6800000000000974,\n  1.6700000000000974,\n  1.6600000000000974,\n  1.6500000000000974,\n  1.6400000000000974,\n  1.6300000000000974,\n  1.6200000000000974,\n  1.6100000000000974,\n  1.6000000000000973,\n  1.5900000000000973,\n  1.5800000000000973,\n  1.5700000000000973,\n  1.5600000000000973,\n  1.5500000000000973,\n  1.5400000000000973,\n  1.5300000000000973,\n  1.5200000000000973,\n  1.5100000000000973,\n  1.5000000000000973,\n  1.4900000000000972,\n  1.4800000000000972,\n  1.4700000000000972,\n  1.4600000000000972,\n  1.4500000000000972,\n  1.4400000000000972,\n  1.4300000000000972,\n  1.4200000000000972,\n  1.4100000000000972,\n  1.4000000000000972,\n  1.3900000000000972,\n  1.3800000000000971,\n  1.3700000000000971,\n  1.3600000000000971,\n  1.3500000000000971,\n  1.3400000000000971,\n  1.330000000000097,\n  1.320000000000097,\n  1.310000000000097,\n  1.300000000000097,\n  1.290000000000097,\n  1.280000000000097,\n  1.270000000000097,\n  1.260000000000097,\n  1.250000000000097,\n  1.240000000000097,\n  1.230000000000097,\n  1.220000000000097,\n  1.210000000000097,\n  1.200000000000097,\n  1.190000000000097,\n  1.180000000000097,\n  1.170000000000097,\n  1.160000000000097,\n  1.150000000000097,\n  1.140000000000097,\n  1.130000000000097,\n  1.120000000000097,\n  1.110000000000097,\n  1.100000000000097,\n  1.090000000000097,\n  1.0800000000000969,\n  1.0700000000000969,\n  1.0600000000000969,\n  1.0500000000000969,\n  1.0400000000000968,\n  1.0300000000000968,\n  1.0200000000000968,\n  1.0100000000000968,\n  1.0000000000000968,\n  0.9900000000000968,\n  0.9800000000000968,\n  0.9700000000000968,\n  0.9600000000000968,\n  0.9500000000000968,\n  0.9400000000000968,\n  0.9300000000000967,\n  0.9200000000000967,\n  0.9100000000000967,\n  0.9000000000000967,\n  0.8900000000000967,\n  0.8800000000000967,\n  0.8700000000000967,\n  0.8600000000000967,\n  0.8500000000000967,\n  0.8400000000000967,\n  0.8300000000000967,\n  0.8200000000000967,\n  0.8100000000000966,\n  0.8000000000000966,\n  0.7900000000000966,\n  0.7800000000000966,\n  0.7700000000000966,\n  0.7600000000000966,\n  0.7500000000000966,\n  0.7400000000000966,\n  0.7300000000000966,\n  0.7200000000000966,\n  0.7100000000000966,\n  0.7000000000000965,\n  0.6900000000000965,\n  0.6800000000000965,\n  0.6700000000000965,\n  0.6600000000000965,\n  0.6500000000000965,\n  0.6400000000000965,\n  0.6300000000000965,\n  0.6200000000000965,\n  0.6100000000000965,\n  0.6000000000000965,\n  0.5900000000000964,\n  0.5800000000000964,\n  0.5700000000000964,\n  0.5600000000000964,\n  0.5500000000000964,\n  0.5400000000000964,\n  0.5300000000000964,\n  0.5200000000000964,\n  0.5100000000000964,\n  0.5000000000000964,\n  0.49000000000009636,\n  0.48000000000009635,\n  0.47000000000009634,\n  0.46000000000009633,\n  0.4500000000000963,\n  0.4400000000000963,\n  0.4300000000000963,\n  0.4200000000000963,\n  0.4100000000000963,\n  0.4000000000000963,\n  0.39000000000009627,\n  0.38000000000009626,\n  0.37000000000009625,\n  0.36000000000009624,\n  0.35000000000009623,\n  0.3400000000000962,\n  0.3300000000000962,\n  0.3200000000000962,\n  0.3100000000000962,\n  0.3000000000000962,\n  0.2900000000000962,\n  0.28000000000009617,\n  0.27000000000009616,\n  0.26000000000009615,\n  0.25000000000009615,\n  0.24000000000009614,\n  0.23000000000009613,\n  0.22000000000009612,\n  0.2100000000000961,\n  0.2000000000000961,\n  0.1900000000000961,\n  0.18000000000009608,\n  0.17000000000009607,\n  0.16000000000009607,\n  0.15000000000009606,\n  0.14000000000009605,\n  0.13000000000009604,\n  0.12000000000009604,\n  0.11000000000009605,\n  0.10000000000009605,\n  0.09000000000009606,\n  0.08000000000009606,\n  0.07000000000009607,\n  0.06000000000009607,\n  0.050000000000096065,\n  0.04000000000009606,\n  0.03000000000009606,\n  0.02000000000009606,\n  0.010000000000096059,\n  9.605857775873972e-14,\n  -0.009999999999903942,\n  9.605857775873972e-14,\n  -0.009999999999903942,\n  9.605857775873972e-14,\n  -0.009999999999903942,\n  9.605857775873972e-14,\n  -0.009999999999903942,\n  9.605857775873972e-14,\n  -0.009999999999903942,\n  9.605857775873972e-14,\n  -0.009999999999903942,\n  9.605857775873972e-14,\n  -0.009999999999903942,\n  9.605857775873972e-14,\n  -0.009999999999903942,\n  9.605857775873972e-14,\n  -0.009999999999903942,\n  9.605857775873972e-14,\n  -0.009999999999903942,\n  9.605857775873972e-14,\n  -0.009999999999903942,\n  9.605857775873972e-14,\n  -0.009999999999903942,\n  9.605857775873972e-14,\n  -0.009999999999903942,\n  9.605857775873972e-14,\n  -0.009999999999903942,\n  9.605857775873972e-14,\n  -0.009999999999903942,\n  9.605857775873972e-14,\n  -0.009999999999903942,\n  9.605857775873972e-14,\n  -0.009999999999903942,\n  9.605857775873972e-14,\n  -0.009999999999903942,\n  9.605857775873972e-14,\n  -0.009999999999903942,\n  9.605857775873972e-14,\n  -0.009999999999903942,\n  9.605857775873972e-14,\n  -0.009999999999903942,\n  9.605857775873972e-14,\n  -0.009999999999903942,\n  9.605857775873972e-14,\n  -0.009999999999903942,\n  9.605857775873972e-14,\n  -0.009999999999903942,\n  9.605857775873972e-14,\n  -0.009999999999903942,\n  9.605857775873972e-14,\n  -0.009999999999903942,\n  9.605857775873972e-14,\n  -0.009999999999903942,\n  9.605857775873972e-14,\n  -0.009999999999903942,\n  9.605857775873972e-14,\n  -0.009999999999903942,\n  9.605857775873972e-14,\n  -0.009999999999903942,\n  9.605857775873972e-14,\n  -0.009999999999903942,\n  9.605857775873972e-14,\n  -0.009999999999903942,\n  9.605857775873972e-14,\n  -0.009999999999903942,\n  9.605857775873972e-14,\n  -0.009999999999903942,\n  9.605857775873972e-14,\n  -0.009999999999903942,\n  9.605857775873972e-14,\n  -0.009999999999903942,\n  9.605857775873972e-14,\n  -0.009999999999903942,\n  9.605857775873972e-14,\n  -0.009999999999903942,\n  9.605857775873972e-14,\n  -0.009999999999903942,\n  9.605857775873972e-14,\n  -0.009999999999903942,\n  9.605857775873972e-14,\n  -0.009999999999903942,\n  9.605857775873972e-14,\n  -0.009999999999903942,\n  9.605857775873972e-14,\n  -0.009999999999903942,\n  9.605857775873972e-14,\n  -0.009999999999903942,\n  9.605857775873972e-14,\n  -0.009999999999903942,\n  9.605857775873972e-14,\n  -0.009999999999903942,\n  9.605857775873972e-14,\n  -0.009999999999903942,\n  9.605857775873972e-14,\n  -0.009999999999903942,\n  9.605857775873972e-14,\n  -0.009999999999903942,\n  9.605857775873972e-14,\n  -0.009999999999903942,\n  9.605857775873972e-14,\n  -0.009999999999903942,\n  9.605857775873972e-14,\n  -0.009999999999903942,\n  9.605857775873972e-14,\n  -0.009999999999903942,\n  9.605857775873972e-14,\n  -0.009999999999903942,\n  9.605857775873972e-14,\n  -0.009999999999903942,\n  9.605857775873972e-14,\n  -0.009999999999903942,\n  9.605857775873972e-14,\n  -0.009999999999903942,\n  9.605857775873972e-14,\n  -0.009999999999903942,\n  9.605857775873972e-14,\n  -0.009999999999903942,\n  9.605857775873972e-14,\n  -0.009999999999903942,\n  9.605857775873972e-14,\n  -0.009999999999903942,\n  9.605857775873972e-14,\n  -0.009999999999903942,\n  9.605857775873972e-14,\n  -0.009999999999903942,\n  9.605857775873972e-14,\n  -0.009999999999903942,\n  9.605857775873972e-14,\n  -0.009999999999903942,\n  9.605857775873972e-14,\n  -0.009999999999903942,\n  9.605857775873972e-14,\n  -0.009999999999903942,\n  9.605857775873972e-14,\n  -0.009999999999903942,\n  9.605857775873972e-14,\n  -0.009999999999903942,\n  9.605857775873972e-14,\n  -0.009999999999903942,\n  9.605857775873972e-14,\n  -0.009999999999903942,\n  9.605857775873972e-14,\n  -0.009999999999903942,\n  9.605857775873972e-14,\n  -0.009999999999903942,\n  9.605857775873972e-14,\n  -0.009999999999903942,\n  9.605857775873972e-14,\n  -0.009999999999903942,\n  9.605857775873972e-14,\n  -0.009999999999903942,\n  9.605857775873972e-14,\n  -0.009999999999903942,\n  9.605857775873972e-14,\n  -0.009999999999903942,\n  9.605857775873972e-14,\n  -0.009999999999903942,\n  9.605857775873972e-14,\n  -0.009999999999903942,\n  9.605857775873972e-14,\n  -0.009999999999903942,\n  9.605857775873972e-14,\n  -0.009999999999903942,\n  9.605857775873972e-14,\n  -0.009999999999903942,\n  9.605857775873972e-14,\n  -0.009999999999903942,\n  9.605857775873972e-14,\n  -0.009999999999903942,\n  9.605857775873972e-14,\n  -0.009999999999903942,\n  9.605857775873972e-14,\n  -0.009999999999903942,\n  9.605857775873972e-14,\n  -0.009999999999903942,\n  9.605857775873972e-14,\n  -0.009999999999903942,\n  9.605857775873972e-14,\n  -0.009999999999903942,\n  9.605857775873972e-14,\n  -0.009999999999903942,\n  9.605857775873972e-14,\n  -0.009999999999903942,\n  9.605857775873972e-14,\n  -0.009999999999903942,\n  9.605857775873972e-14,\n  -0.009999999999903942,\n  9.605857775873972e-14,\n  -0.009999999999903942,\n  9.605857775873972e-14,\n  -0.009999999999903942,\n  9.605857775873972e-14,\n  -0.009999999999903942,\n  9.605857775873972e-14,\n  -0.009999999999903942,\n  9.605857775873972e-14,\n  -0.009999999999903942,\n  9.605857775873972e-14,\n  -0.009999999999903942,\n  9.605857775873972e-14,\n  -0.009999999999903942,\n  9.605857775873972e-14,\n  -0.009999999999903942,\n  9.605857775873972e-14,\n  -0.009999999999903942,\n  9.605857775873972e-14,\n  -0.009999999999903942,\n  9.605857775873972e-14,\n  -0.009999999999903942,\n  9.605857775873972e-14,\n  -0.009999999999903942,\n  9.605857775873972e-14,\n  -0.009999999999903942,\n  9.605857775873972e-14,\n  -0.009999999999903942,\n  9.605857775873972e-14,\n  -0.009999999999903942,\n  9.605857775873972e-14,\n  -0.009999999999903942,\n  9.605857775873972e-14,\n  -0.009999999999903942,\n  9.605857775873972e-14,\n  -0.009999999999903942,\n  9.605857775873972e-14,\n  -0.009999999999903942,\n  9.605857775873972e-14,\n  -0.009999999999903942,\n  9.605857775873972e-14,\n  -0.009999999999903942,\n  9.605857775873972e-14,\n  -0.009999999999903942,\n  9.605857775873972e-14,\n  -0.009999999999903942,\n  9.605857775873972e-14,\n  -0.009999999999903942,\n  9.605857775873972e-14,\n  -0.009999999999903942,\n  9.605857775873972e-14,\n  -0.009999999999903942,\n  9.605857775873972e-14,\n  -0.009999999999903942,\n  9.605857775873972e-14,\n  -0.009999999999903942,\n  9.605857775873972e-14,\n  -0.009999999999903942,\n  9.605857775873972e-14,\n  -0.009999999999903942,\n  9.605857775873972e-14,\n  -0.009999999999903942,\n  9.605857775873972e-14,\n  -0.009999999999903942,\n  9.605857775873972e-14,\n  -0.009999999999903942,\n  9.605857775873972e-14,\n  -0.009999999999903942,\n  9.605857775873972e-14,\n  -0.009999999999903942,\n  9.605857775873972e-14,\n  -0.009999999999903942,\n  9.605857775873972e-14,\n  -0.009999999999903942,\n  9.605857775873972e-14,\n  -0.009999999999903942,\n  9.605857775873972e-14,\n  -0.009999999999903942,\n  9.605857775873972e-14,\n  -0.009999999999903942,\n  9.605857775873972e-14,\n  -0.009999999999903942,\n  9.605857775873972e-14,\n  -0.009999999999903942,\n  9.605857775873972e-14,\n  -0.009999999999903942,\n  9.605857775873972e-14,\n  -0.009999999999903942,\n  9.605857775873972e-14,\n  -0.009999999999903942,\n  9.605857775873972e-14,\n  -0.009999999999903942,\n  9.605857775873972e-14,\n  -0.009999999999903942,\n  9.605857775873972e-14,\n  -0.009999999999903942,\n  9.605857775873972e-14,\n  -0.009999999999903942,\n  9.605857775873972e-14,\n  -0.009999999999903942,\n  9.605857775873972e-14,\n  -0.009999999999903942,\n  9.605857775873972e-14,\n  -0.009999999999903942,\n  9.605857775873972e-14,\n  -0.009999999999903942,\n  9.605857775873972e-14,\n  -0.009999999999903942,\n  9.605857775873972e-14,\n  -0.009999999999903942,\n  9.605857775873972e-14,\n  -0.009999999999903942,\n  9.605857775873972e-14,\n  -0.009999999999903942,\n  9.605857775873972e-14,\n  -0.009999999999903942,\n  9.605857775873972e-14,\n  -0.009999999999903942,\n  9.605857775873972e-14,\n  -0.009999999999903942,\n  9.605857775873972e-14,\n  -0.009999999999903942,\n  9.605857775873972e-14,\n  -0.009999999999903942,\n  9.605857775873972e-14,\n  -0.009999999999903942,\n  9.605857775873972e-14,\n  -0.009999999999903942,\n  9.605857775873972e-14,\n  -0.009999999999903942,\n  9.605857775873972e-14,\n  -0.009999999999903942,\n  9.605857775873972e-14,\n  -0.009999999999903942,\n  9.605857775873972e-14,\n  -0.009999999999903942,\n  9.605857775873972e-14,\n  -0.009999999999903942,\n  9.605857775873972e-14,\n  -0.009999999999903942,\n  9.605857775873972e-14,\n  -0.009999999999903942,\n  9.605857775873972e-14,\n  -0.009999999999903942,\n  9.605857775873972e-14,\n  -0.009999999999903942,\n  9.605857775873972e-14,\n  -0.009999999999903942,\n  9.605857775873972e-14,\n  -0.009999999999903942,\n  9.605857775873972e-14,\n  -0.009999999999903942,\n  9.605857775873972e-14])"
     },
     "execution_count": 40,
     "metadata": {},
     "output_type": "execute_result"
    }
   ],
   "source": [
    "model"
   ]
  },
  {
   "cell_type": "code",
   "execution_count": 41,
   "metadata": {
    "ExecuteTime": {
     "end_time": "2024-01-25T04:17:26.462475300Z",
     "start_time": "2024-01-25T04:17:25.637158600Z"
    }
   },
   "outputs": [
    {
     "data": {
      "text/plain": "1000"
     },
     "execution_count": 41,
     "metadata": {},
     "output_type": "execute_result"
    }
   ],
   "source": [
    "len(model[3])"
   ]
  },
  {
   "cell_type": "code",
   "execution_count": 59,
   "metadata": {
    "ExecuteTime": {
     "end_time": "2024-01-25T04:18:43.017715600Z",
     "start_time": "2024-01-25T04:18:42.650040700Z"
    }
   },
   "outputs": [
    {
     "data": {
      "text/plain": "<Figure size 640x480 with 1 Axes>",
      "image/png": "[encoded data removed]"
     },
     "metadata": {},
     "output_type": "display_data"
    }
   ],
   "source": [
    "plt.scatter(y = model[3], x = [i for i in range(len(model[3]))])\n",
    "plt.ylabel('Mean Square Error')\n",
    "plt.xlabel(\"Iterations\")\n",
    "plt.title(\"MSE in each Iteration\")\n",
    "plt.show()"
   ]
  },
  {
   "cell_type": "code",
   "execution_count": 42,
   "metadata": {
    "ExecuteTime": {
     "end_time": "2024-01-25T04:17:26.553735600Z",
     "start_time": "2024-01-25T04:17:25.985682200Z"
    }
   },
   "outputs": [],
   "source": []
  },
  {
   "cell_type": "code",
   "execution_count": 60,
   "metadata": {
    "ExecuteTime": {
     "end_time": "2024-01-25T04:19:39.312969500Z",
     "start_time": "2024-01-25T04:19:39.175883400Z"
    }
   },
   "outputs": [],
   "source": [
    "def prediction(path, model =  model): #Just for test the model\n",
    "\n",
    "    threashold = 0.5\n",
    "\n",
    "\n",
    "    path_tokenized = enc.transform([path])\n",
    "\n",
    "    reasult = gd.predict(model[1],model[2],path_tokenized)\n",
    "    if reasult >= threashold:\n",
    "        output = 1\n",
    "    else:\n",
    "        output = 0\n",
    "\n",
    "    return output\n"
   ]
  },
  {
   "cell_type": "code",
   "execution_count": 61,
   "metadata": {
    "ExecuteTime": {
     "end_time": "2024-01-25T04:19:40.513445300Z",
     "start_time": "2024-01-25T04:19:40.375808Z"
    }
   },
   "outputs": [
    {
     "name": "stderr",
     "output_type": "stream",
     "text": [
      "C:\\Users\\MoAly\\Anaconda3\\Lib\\site-packages\\sklearn\\preprocessing\\_label.py:132: DataConversionWarning: A column-vector y was passed when a 1d array was expected. Please change the shape of y to (n_samples, ), for example using ravel().\n",
      "  y = column_or_1d(y, dtype=self.classes_.dtype, warn=True)\n",
      "C:\\Users\\MoAly\\Anaconda3\\Lib\\site-packages\\sklearn\\preprocessing\\_label.py:132: DataConversionWarning: A column-vector y was passed when a 1d array was expected. Please change the shape of y to (n_samples, ), for example using ravel().\n",
      "  y = column_or_1d(y, dtype=self.classes_.dtype, warn=True)\n",
      "C:\\Users\\MoAly\\Anaconda3\\Lib\\site-packages\\sklearn\\preprocessing\\_label.py:132: DataConversionWarning: A column-vector y was passed when a 1d array was expected. Please change the shape of y to (n_samples, ), for example using ravel().\n",
      "  y = column_or_1d(y, dtype=self.classes_.dtype, warn=True)\n",
      "C:\\Users\\MoAly\\Anaconda3\\Lib\\site-packages\\sklearn\\preprocessing\\_label.py:132: DataConversionWarning: A column-vector y was passed when a 1d array was expected. Please change the shape of y to (n_samples, ), for example using ravel().\n",
      "  y = column_or_1d(y, dtype=self.classes_.dtype, warn=True)\n",
      "C:\\Users\\MoAly\\Anaconda3\\Lib\\site-packages\\sklearn\\preprocessing\\_label.py:132: DataConversionWarning: A column-vector y was passed when a 1d array was expected. Please change the shape of y to (n_samples, ), for example using ravel().\n",
      "  y = column_or_1d(y, dtype=self.classes_.dtype, warn=True)\n",
      "C:\\Users\\MoAly\\Anaconda3\\Lib\\site-packages\\sklearn\\preprocessing\\_label.py:132: DataConversionWarning: A column-vector y was passed when a 1d array was expected. Please change the shape of y to (n_samples, ), for example using ravel().\n",
      "  y = column_or_1d(y, dtype=self.classes_.dtype, warn=True)\n",
      "C:\\Users\\MoAly\\Anaconda3\\Lib\\site-packages\\sklearn\\preprocessing\\_label.py:132: DataConversionWarning: A column-vector y was passed when a 1d array was expected. Please change the shape of y to (n_samples, ), for example using ravel().\n",
      "  y = column_or_1d(y, dtype=self.classes_.dtype, warn=True)\n",
      "C:\\Users\\MoAly\\Anaconda3\\Lib\\site-packages\\sklearn\\preprocessing\\_label.py:132: DataConversionWarning: A column-vector y was passed when a 1d array was expected. Please change the shape of y to (n_samples, ), for example using ravel().\n",
      "  y = column_or_1d(y, dtype=self.classes_.dtype, warn=True)\n",
      "C:\\Users\\MoAly\\Anaconda3\\Lib\\site-packages\\sklearn\\preprocessing\\_label.py:132: DataConversionWarning: A column-vector y was passed when a 1d array was expected. Please change the shape of y to (n_samples, ), for example using ravel().\n",
      "  y = column_or_1d(y, dtype=self.classes_.dtype, warn=True)\n",
      "C:\\Users\\MoAly\\Anaconda3\\Lib\\site-packages\\sklearn\\preprocessing\\_label.py:132: DataConversionWarning: A column-vector y was passed when a 1d array was expected. Please change the shape of y to (n_samples, ), for example using ravel().\n",
      "  y = column_or_1d(y, dtype=self.classes_.dtype, warn=True)\n",
      "C:\\Users\\MoAly\\Anaconda3\\Lib\\site-packages\\sklearn\\preprocessing\\_label.py:132: DataConversionWarning: A column-vector y was passed when a 1d array was expected. Please change the shape of y to (n_samples, ), for example using ravel().\n",
      "  y = column_or_1d(y, dtype=self.classes_.dtype, warn=True)\n",
      "C:\\Users\\MoAly\\Anaconda3\\Lib\\site-packages\\sklearn\\preprocessing\\_label.py:132: DataConversionWarning: A column-vector y was passed when a 1d array was expected. Please change the shape of y to (n_samples, ), for example using ravel().\n",
      "  y = column_or_1d(y, dtype=self.classes_.dtype, warn=True)\n",
      "C:\\Users\\MoAly\\Anaconda3\\Lib\\site-packages\\sklearn\\preprocessing\\_label.py:132: DataConversionWarning: A column-vector y was passed when a 1d array was expected. Please change the shape of y to (n_samples, ), for example using ravel().\n",
      "  y = column_or_1d(y, dtype=self.classes_.dtype, warn=True)\n",
      "C:\\Users\\MoAly\\Anaconda3\\Lib\\site-packages\\sklearn\\preprocessing\\_label.py:132: DataConversionWarning: A column-vector y was passed when a 1d array was expected. Please change the shape of y to (n_samples, ), for example using ravel().\n",
      "  y = column_or_1d(y, dtype=self.classes_.dtype, warn=True)\n",
      "C:\\Users\\MoAly\\Anaconda3\\Lib\\site-packages\\sklearn\\preprocessing\\_label.py:132: DataConversionWarning: A column-vector y was passed when a 1d array was expected. Please change the shape of y to (n_samples, ), for example using ravel().\n",
      "  y = column_or_1d(y, dtype=self.classes_.dtype, warn=True)\n",
      "C:\\Users\\MoAly\\Anaconda3\\Lib\\site-packages\\sklearn\\preprocessing\\_label.py:132: DataConversionWarning: A column-vector y was passed when a 1d array was expected. Please change the shape of y to (n_samples, ), for example using ravel().\n",
      "  y = column_or_1d(y, dtype=self.classes_.dtype, warn=True)\n",
      "C:\\Users\\MoAly\\Anaconda3\\Lib\\site-packages\\sklearn\\preprocessing\\_label.py:132: DataConversionWarning: A column-vector y was passed when a 1d array was expected. Please change the shape of y to (n_samples, ), for example using ravel().\n",
      "  y = column_or_1d(y, dtype=self.classes_.dtype, warn=True)\n",
      "C:\\Users\\MoAly\\Anaconda3\\Lib\\site-packages\\sklearn\\preprocessing\\_label.py:132: DataConversionWarning: A column-vector y was passed when a 1d array was expected. Please change the shape of y to (n_samples, ), for example using ravel().\n",
      "  y = column_or_1d(y, dtype=self.classes_.dtype, warn=True)\n",
      "C:\\Users\\MoAly\\Anaconda3\\Lib\\site-packages\\sklearn\\preprocessing\\_label.py:132: DataConversionWarning: A column-vector y was passed when a 1d array was expected. Please change the shape of y to (n_samples, ), for example using ravel().\n",
      "  y = column_or_1d(y, dtype=self.classes_.dtype, warn=True)\n",
      "C:\\Users\\MoAly\\Anaconda3\\Lib\\site-packages\\sklearn\\preprocessing\\_label.py:132: DataConversionWarning: A column-vector y was passed when a 1d array was expected. Please change the shape of y to (n_samples, ), for example using ravel().\n",
      "  y = column_or_1d(y, dtype=self.classes_.dtype, warn=True)\n",
      "C:\\Users\\MoAly\\Anaconda3\\Lib\\site-packages\\sklearn\\preprocessing\\_label.py:132: DataConversionWarning: A column-vector y was passed when a 1d array was expected. Please change the shape of y to (n_samples, ), for example using ravel().\n",
      "  y = column_or_1d(y, dtype=self.classes_.dtype, warn=True)\n",
      "C:\\Users\\MoAly\\Anaconda3\\Lib\\site-packages\\sklearn\\preprocessing\\_label.py:132: DataConversionWarning: A column-vector y was passed when a 1d array was expected. Please change the shape of y to (n_samples, ), for example using ravel().\n",
      "  y = column_or_1d(y, dtype=self.classes_.dtype, warn=True)\n",
      "C:\\Users\\MoAly\\Anaconda3\\Lib\\site-packages\\sklearn\\preprocessing\\_label.py:132: DataConversionWarning: A column-vector y was passed when a 1d array was expected. Please change the shape of y to (n_samples, ), for example using ravel().\n",
      "  y = column_or_1d(y, dtype=self.classes_.dtype, warn=True)\n",
      "C:\\Users\\MoAly\\Anaconda3\\Lib\\site-packages\\sklearn\\preprocessing\\_label.py:132: DataConversionWarning: A column-vector y was passed when a 1d array was expected. Please change the shape of y to (n_samples, ), for example using ravel().\n",
      "  y = column_or_1d(y, dtype=self.classes_.dtype, warn=True)\n",
      "C:\\Users\\MoAly\\Anaconda3\\Lib\\site-packages\\sklearn\\preprocessing\\_label.py:132: DataConversionWarning: A column-vector y was passed when a 1d array was expected. Please change the shape of y to (n_samples, ), for example using ravel().\n",
      "  y = column_or_1d(y, dtype=self.classes_.dtype, warn=True)\n",
      "C:\\Users\\MoAly\\Anaconda3\\Lib\\site-packages\\sklearn\\preprocessing\\_label.py:132: DataConversionWarning: A column-vector y was passed when a 1d array was expected. Please change the shape of y to (n_samples, ), for example using ravel().\n",
      "  y = column_or_1d(y, dtype=self.classes_.dtype, warn=True)\n",
      "C:\\Users\\MoAly\\Anaconda3\\Lib\\site-packages\\sklearn\\preprocessing\\_label.py:132: DataConversionWarning: A column-vector y was passed when a 1d array was expected. Please change the shape of y to (n_samples, ), for example using ravel().\n",
      "  y = column_or_1d(y, dtype=self.classes_.dtype, warn=True)\n",
      "C:\\Users\\MoAly\\Anaconda3\\Lib\\site-packages\\sklearn\\preprocessing\\_label.py:132: DataConversionWarning: A column-vector y was passed when a 1d array was expected. Please change the shape of y to (n_samples, ), for example using ravel().\n",
      "  y = column_or_1d(y, dtype=self.classes_.dtype, warn=True)\n",
      "C:\\Users\\MoAly\\Anaconda3\\Lib\\site-packages\\sklearn\\preprocessing\\_label.py:132: DataConversionWarning: A column-vector y was passed when a 1d array was expected. Please change the shape of y to (n_samples, ), for example using ravel().\n",
      "  y = column_or_1d(y, dtype=self.classes_.dtype, warn=True)\n",
      "C:\\Users\\MoAly\\Anaconda3\\Lib\\site-packages\\sklearn\\preprocessing\\_label.py:132: DataConversionWarning: A column-vector y was passed when a 1d array was expected. Please change the shape of y to (n_samples, ), for example using ravel().\n",
      "  y = column_or_1d(y, dtype=self.classes_.dtype, warn=True)\n",
      "C:\\Users\\MoAly\\Anaconda3\\Lib\\site-packages\\sklearn\\preprocessing\\_label.py:132: DataConversionWarning: A column-vector y was passed when a 1d array was expected. Please change the shape of y to (n_samples, ), for example using ravel().\n",
      "  y = column_or_1d(y, dtype=self.classes_.dtype, warn=True)\n",
      "C:\\Users\\MoAly\\Anaconda3\\Lib\\site-packages\\sklearn\\preprocessing\\_label.py:132: DataConversionWarning: A column-vector y was passed when a 1d array was expected. Please change the shape of y to (n_samples, ), for example using ravel().\n",
      "  y = column_or_1d(y, dtype=self.classes_.dtype, warn=True)\n",
      "C:\\Users\\MoAly\\Anaconda3\\Lib\\site-packages\\sklearn\\preprocessing\\_label.py:132: DataConversionWarning: A column-vector y was passed when a 1d array was expected. Please change the shape of y to (n_samples, ), for example using ravel().\n",
      "  y = column_or_1d(y, dtype=self.classes_.dtype, warn=True)\n",
      "C:\\Users\\MoAly\\Anaconda3\\Lib\\site-packages\\sklearn\\preprocessing\\_label.py:132: DataConversionWarning: A column-vector y was passed when a 1d array was expected. Please change the shape of y to (n_samples, ), for example using ravel().\n",
      "  y = column_or_1d(y, dtype=self.classes_.dtype, warn=True)\n",
      "C:\\Users\\MoAly\\Anaconda3\\Lib\\site-packages\\sklearn\\preprocessing\\_label.py:132: DataConversionWarning: A column-vector y was passed when a 1d array was expected. Please change the shape of y to (n_samples, ), for example using ravel().\n",
      "  y = column_or_1d(y, dtype=self.classes_.dtype, warn=True)\n",
      "C:\\Users\\MoAly\\Anaconda3\\Lib\\site-packages\\sklearn\\preprocessing\\_label.py:132: DataConversionWarning: A column-vector y was passed when a 1d array was expected. Please change the shape of y to (n_samples, ), for example using ravel().\n",
      "  y = column_or_1d(y, dtype=self.classes_.dtype, warn=True)\n",
      "C:\\Users\\MoAly\\Anaconda3\\Lib\\site-packages\\sklearn\\preprocessing\\_label.py:132: DataConversionWarning: A column-vector y was passed when a 1d array was expected. Please change the shape of y to (n_samples, ), for example using ravel().\n",
      "  y = column_or_1d(y, dtype=self.classes_.dtype, warn=True)\n",
      "C:\\Users\\MoAly\\Anaconda3\\Lib\\site-packages\\sklearn\\preprocessing\\_label.py:132: DataConversionWarning: A column-vector y was passed when a 1d array was expected. Please change the shape of y to (n_samples, ), for example using ravel().\n",
      "  y = column_or_1d(y, dtype=self.classes_.dtype, warn=True)\n",
      "C:\\Users\\MoAly\\Anaconda3\\Lib\\site-packages\\sklearn\\preprocessing\\_label.py:132: DataConversionWarning: A column-vector y was passed when a 1d array was expected. Please change the shape of y to (n_samples, ), for example using ravel().\n",
      "  y = column_or_1d(y, dtype=self.classes_.dtype, warn=True)\n",
      "C:\\Users\\MoAly\\Anaconda3\\Lib\\site-packages\\sklearn\\preprocessing\\_label.py:132: DataConversionWarning: A column-vector y was passed when a 1d array was expected. Please change the shape of y to (n_samples, ), for example using ravel().\n",
      "  y = column_or_1d(y, dtype=self.classes_.dtype, warn=True)\n",
      "C:\\Users\\MoAly\\Anaconda3\\Lib\\site-packages\\sklearn\\preprocessing\\_label.py:132: DataConversionWarning: A column-vector y was passed when a 1d array was expected. Please change the shape of y to (n_samples, ), for example using ravel().\n",
      "  y = column_or_1d(y, dtype=self.classes_.dtype, warn=True)\n",
      "C:\\Users\\MoAly\\Anaconda3\\Lib\\site-packages\\sklearn\\preprocessing\\_label.py:132: DataConversionWarning: A column-vector y was passed when a 1d array was expected. Please change the shape of y to (n_samples, ), for example using ravel().\n",
      "  y = column_or_1d(y, dtype=self.classes_.dtype, warn=True)\n",
      "C:\\Users\\MoAly\\Anaconda3\\Lib\\site-packages\\sklearn\\preprocessing\\_label.py:132: DataConversionWarning: A column-vector y was passed when a 1d array was expected. Please change the shape of y to (n_samples, ), for example using ravel().\n",
      "  y = column_or_1d(y, dtype=self.classes_.dtype, warn=True)\n",
      "C:\\Users\\MoAly\\Anaconda3\\Lib\\site-packages\\sklearn\\preprocessing\\_label.py:132: DataConversionWarning: A column-vector y was passed when a 1d array was expected. Please change the shape of y to (n_samples, ), for example using ravel().\n",
      "  y = column_or_1d(y, dtype=self.classes_.dtype, warn=True)\n",
      "C:\\Users\\MoAly\\Anaconda3\\Lib\\site-packages\\sklearn\\preprocessing\\_label.py:132: DataConversionWarning: A column-vector y was passed when a 1d array was expected. Please change the shape of y to (n_samples, ), for example using ravel().\n",
      "  y = column_or_1d(y, dtype=self.classes_.dtype, warn=True)\n",
      "C:\\Users\\MoAly\\Anaconda3\\Lib\\site-packages\\sklearn\\preprocessing\\_label.py:132: DataConversionWarning: A column-vector y was passed when a 1d array was expected. Please change the shape of y to (n_samples, ), for example using ravel().\n",
      "  y = column_or_1d(y, dtype=self.classes_.dtype, warn=True)\n",
      "C:\\Users\\MoAly\\Anaconda3\\Lib\\site-packages\\sklearn\\preprocessing\\_label.py:132: DataConversionWarning: A column-vector y was passed when a 1d array was expected. Please change the shape of y to (n_samples, ), for example using ravel().\n",
      "  y = column_or_1d(y, dtype=self.classes_.dtype, warn=True)\n",
      "C:\\Users\\MoAly\\Anaconda3\\Lib\\site-packages\\sklearn\\preprocessing\\_label.py:132: DataConversionWarning: A column-vector y was passed when a 1d array was expected. Please change the shape of y to (n_samples, ), for example using ravel().\n",
      "  y = column_or_1d(y, dtype=self.classes_.dtype, warn=True)\n",
      "C:\\Users\\MoAly\\Anaconda3\\Lib\\site-packages\\sklearn\\preprocessing\\_label.py:132: DataConversionWarning: A column-vector y was passed when a 1d array was expected. Please change the shape of y to (n_samples, ), for example using ravel().\n",
      "  y = column_or_1d(y, dtype=self.classes_.dtype, warn=True)\n",
      "C:\\Users\\MoAly\\Anaconda3\\Lib\\site-packages\\sklearn\\preprocessing\\_label.py:132: DataConversionWarning: A column-vector y was passed when a 1d array was expected. Please change the shape of y to (n_samples, ), for example using ravel().\n",
      "  y = column_or_1d(y, dtype=self.classes_.dtype, warn=True)\n",
      "C:\\Users\\MoAly\\Anaconda3\\Lib\\site-packages\\sklearn\\preprocessing\\_label.py:132: DataConversionWarning: A column-vector y was passed when a 1d array was expected. Please change the shape of y to (n_samples, ), for example using ravel().\n",
      "  y = column_or_1d(y, dtype=self.classes_.dtype, warn=True)\n",
      "C:\\Users\\MoAly\\Anaconda3\\Lib\\site-packages\\sklearn\\preprocessing\\_label.py:132: DataConversionWarning: A column-vector y was passed when a 1d array was expected. Please change the shape of y to (n_samples, ), for example using ravel().\n",
      "  y = column_or_1d(y, dtype=self.classes_.dtype, warn=True)\n",
      "C:\\Users\\MoAly\\Anaconda3\\Lib\\site-packages\\sklearn\\preprocessing\\_label.py:132: DataConversionWarning: A column-vector y was passed when a 1d array was expected. Please change the shape of y to (n_samples, ), for example using ravel().\n",
      "  y = column_or_1d(y, dtype=self.classes_.dtype, warn=True)\n",
      "C:\\Users\\MoAly\\Anaconda3\\Lib\\site-packages\\sklearn\\preprocessing\\_label.py:132: DataConversionWarning: A column-vector y was passed when a 1d array was expected. Please change the shape of y to (n_samples, ), for example using ravel().\n",
      "  y = column_or_1d(y, dtype=self.classes_.dtype, warn=True)\n",
      "C:\\Users\\MoAly\\Anaconda3\\Lib\\site-packages\\sklearn\\preprocessing\\_label.py:132: DataConversionWarning: A column-vector y was passed when a 1d array was expected. Please change the shape of y to (n_samples, ), for example using ravel().\n",
      "  y = column_or_1d(y, dtype=self.classes_.dtype, warn=True)\n",
      "C:\\Users\\MoAly\\Anaconda3\\Lib\\site-packages\\sklearn\\preprocessing\\_label.py:132: DataConversionWarning: A column-vector y was passed when a 1d array was expected. Please change the shape of y to (n_samples, ), for example using ravel().\n",
      "  y = column_or_1d(y, dtype=self.classes_.dtype, warn=True)\n",
      "C:\\Users\\MoAly\\Anaconda3\\Lib\\site-packages\\sklearn\\preprocessing\\_label.py:132: DataConversionWarning: A column-vector y was passed when a 1d array was expected. Please change the shape of y to (n_samples, ), for example using ravel().\n",
      "  y = column_or_1d(y, dtype=self.classes_.dtype, warn=True)\n",
      "C:\\Users\\MoAly\\Anaconda3\\Lib\\site-packages\\sklearn\\preprocessing\\_label.py:132: DataConversionWarning: A column-vector y was passed when a 1d array was expected. Please change the shape of y to (n_samples, ), for example using ravel().\n",
      "  y = column_or_1d(y, dtype=self.classes_.dtype, warn=True)\n",
      "C:\\Users\\MoAly\\Anaconda3\\Lib\\site-packages\\sklearn\\preprocessing\\_label.py:132: DataConversionWarning: A column-vector y was passed when a 1d array was expected. Please change the shape of y to (n_samples, ), for example using ravel().\n",
      "  y = column_or_1d(y, dtype=self.classes_.dtype, warn=True)\n",
      "C:\\Users\\MoAly\\Anaconda3\\Lib\\site-packages\\sklearn\\preprocessing\\_label.py:132: DataConversionWarning: A column-vector y was passed when a 1d array was expected. Please change the shape of y to (n_samples, ), for example using ravel().\n",
      "  y = column_or_1d(y, dtype=self.classes_.dtype, warn=True)\n",
      "C:\\Users\\MoAly\\Anaconda3\\Lib\\site-packages\\sklearn\\preprocessing\\_label.py:132: DataConversionWarning: A column-vector y was passed when a 1d array was expected. Please change the shape of y to (n_samples, ), for example using ravel().\n",
      "  y = column_or_1d(y, dtype=self.classes_.dtype, warn=True)\n",
      "C:\\Users\\MoAly\\Anaconda3\\Lib\\site-packages\\sklearn\\preprocessing\\_label.py:132: DataConversionWarning: A column-vector y was passed when a 1d array was expected. Please change the shape of y to (n_samples, ), for example using ravel().\n",
      "  y = column_or_1d(y, dtype=self.classes_.dtype, warn=True)\n",
      "C:\\Users\\MoAly\\Anaconda3\\Lib\\site-packages\\sklearn\\preprocessing\\_label.py:132: DataConversionWarning: A column-vector y was passed when a 1d array was expected. Please change the shape of y to (n_samples, ), for example using ravel().\n",
      "  y = column_or_1d(y, dtype=self.classes_.dtype, warn=True)\n",
      "C:\\Users\\MoAly\\Anaconda3\\Lib\\site-packages\\sklearn\\preprocessing\\_label.py:132: DataConversionWarning: A column-vector y was passed when a 1d array was expected. Please change the shape of y to (n_samples, ), for example using ravel().\n",
      "  y = column_or_1d(y, dtype=self.classes_.dtype, warn=True)\n",
      "C:\\Users\\MoAly\\Anaconda3\\Lib\\site-packages\\sklearn\\preprocessing\\_label.py:132: DataConversionWarning: A column-vector y was passed when a 1d array was expected. Please change the shape of y to (n_samples, ), for example using ravel().\n",
      "  y = column_or_1d(y, dtype=self.classes_.dtype, warn=True)\n",
      "C:\\Users\\MoAly\\Anaconda3\\Lib\\site-packages\\sklearn\\preprocessing\\_label.py:132: DataConversionWarning: A column-vector y was passed when a 1d array was expected. Please change the shape of y to (n_samples, ), for example using ravel().\n",
      "  y = column_or_1d(y, dtype=self.classes_.dtype, warn=True)\n",
      "C:\\Users\\MoAly\\Anaconda3\\Lib\\site-packages\\sklearn\\preprocessing\\_label.py:132: DataConversionWarning: A column-vector y was passed when a 1d array was expected. Please change the shape of y to (n_samples, ), for example using ravel().\n",
      "  y = column_or_1d(y, dtype=self.classes_.dtype, warn=True)\n",
      "C:\\Users\\MoAly\\Anaconda3\\Lib\\site-packages\\sklearn\\preprocessing\\_label.py:132: DataConversionWarning: A column-vector y was passed when a 1d array was expected. Please change the shape of y to (n_samples, ), for example using ravel().\n",
      "  y = column_or_1d(y, dtype=self.classes_.dtype, warn=True)\n",
      "C:\\Users\\MoAly\\Anaconda3\\Lib\\site-packages\\sklearn\\preprocessing\\_label.py:132: DataConversionWarning: A column-vector y was passed when a 1d array was expected. Please change the shape of y to (n_samples, ), for example using ravel().\n",
      "  y = column_or_1d(y, dtype=self.classes_.dtype, warn=True)\n",
      "C:\\Users\\MoAly\\Anaconda3\\Lib\\site-packages\\sklearn\\preprocessing\\_label.py:132: DataConversionWarning: A column-vector y was passed when a 1d array was expected. Please change the shape of y to (n_samples, ), for example using ravel().\n",
      "  y = column_or_1d(y, dtype=self.classes_.dtype, warn=True)\n",
      "C:\\Users\\MoAly\\Anaconda3\\Lib\\site-packages\\sklearn\\preprocessing\\_label.py:132: DataConversionWarning: A column-vector y was passed when a 1d array was expected. Please change the shape of y to (n_samples, ), for example using ravel().\n",
      "  y = column_or_1d(y, dtype=self.classes_.dtype, warn=True)\n",
      "C:\\Users\\MoAly\\Anaconda3\\Lib\\site-packages\\sklearn\\preprocessing\\_label.py:132: DataConversionWarning: A column-vector y was passed when a 1d array was expected. Please change the shape of y to (n_samples, ), for example using ravel().\n",
      "  y = column_or_1d(y, dtype=self.classes_.dtype, warn=True)\n",
      "C:\\Users\\MoAly\\Anaconda3\\Lib\\site-packages\\sklearn\\preprocessing\\_label.py:132: DataConversionWarning: A column-vector y was passed when a 1d array was expected. Please change the shape of y to (n_samples, ), for example using ravel().\n",
      "  y = column_or_1d(y, dtype=self.classes_.dtype, warn=True)\n",
      "C:\\Users\\MoAly\\Anaconda3\\Lib\\site-packages\\sklearn\\preprocessing\\_label.py:132: DataConversionWarning: A column-vector y was passed when a 1d array was expected. Please change the shape of y to (n_samples, ), for example using ravel().\n",
      "  y = column_or_1d(y, dtype=self.classes_.dtype, warn=True)\n",
      "C:\\Users\\MoAly\\Anaconda3\\Lib\\site-packages\\sklearn\\preprocessing\\_label.py:132: DataConversionWarning: A column-vector y was passed when a 1d array was expected. Please change the shape of y to (n_samples, ), for example using ravel().\n",
      "  y = column_or_1d(y, dtype=self.classes_.dtype, warn=True)\n",
      "C:\\Users\\MoAly\\Anaconda3\\Lib\\site-packages\\sklearn\\preprocessing\\_label.py:132: DataConversionWarning: A column-vector y was passed when a 1d array was expected. Please change the shape of y to (n_samples, ), for example using ravel().\n",
      "  y = column_or_1d(y, dtype=self.classes_.dtype, warn=True)\n",
      "C:\\Users\\MoAly\\Anaconda3\\Lib\\site-packages\\sklearn\\preprocessing\\_label.py:132: DataConversionWarning: A column-vector y was passed when a 1d array was expected. Please change the shape of y to (n_samples, ), for example using ravel().\n",
      "  y = column_or_1d(y, dtype=self.classes_.dtype, warn=True)\n",
      "C:\\Users\\MoAly\\Anaconda3\\Lib\\site-packages\\sklearn\\preprocessing\\_label.py:132: DataConversionWarning: A column-vector y was passed when a 1d array was expected. Please change the shape of y to (n_samples, ), for example using ravel().\n",
      "  y = column_or_1d(y, dtype=self.classes_.dtype, warn=True)\n",
      "C:\\Users\\MoAly\\Anaconda3\\Lib\\site-packages\\sklearn\\preprocessing\\_label.py:132: DataConversionWarning: A column-vector y was passed when a 1d array was expected. Please change the shape of y to (n_samples, ), for example using ravel().\n",
      "  y = column_or_1d(y, dtype=self.classes_.dtype, warn=True)\n",
      "C:\\Users\\MoAly\\Anaconda3\\Lib\\site-packages\\sklearn\\preprocessing\\_label.py:132: DataConversionWarning: A column-vector y was passed when a 1d array was expected. Please change the shape of y to (n_samples, ), for example using ravel().\n",
      "  y = column_or_1d(y, dtype=self.classes_.dtype, warn=True)\n",
      "C:\\Users\\MoAly\\Anaconda3\\Lib\\site-packages\\sklearn\\preprocessing\\_label.py:132: DataConversionWarning: A column-vector y was passed when a 1d array was expected. Please change the shape of y to (n_samples, ), for example using ravel().\n",
      "  y = column_or_1d(y, dtype=self.classes_.dtype, warn=True)\n",
      "C:\\Users\\MoAly\\Anaconda3\\Lib\\site-packages\\sklearn\\preprocessing\\_label.py:132: DataConversionWarning: A column-vector y was passed when a 1d array was expected. Please change the shape of y to (n_samples, ), for example using ravel().\n",
      "  y = column_or_1d(y, dtype=self.classes_.dtype, warn=True)\n"
     ]
    }
   ],
   "source": [
    "temp = []\n",
    "\n",
    "for path in X_test:\n",
    "    try:\n",
    "        path = enc.inverse_transform([path]) \n",
    "        pred = prediction(path)\n",
    "        temp.append(pred)\n",
    "    except Exception as e:\n",
    "        path = enc.inverse_transform([path]) \n",
    "        print(f\"Error processing path {path}: {e}\")\n",
    "        temp.append(None)  # or some default value\n"
   ]
  },
  {
   "cell_type": "code",
   "execution_count": 62,
   "metadata": {
    "ExecuteTime": {
     "end_time": "2024-01-25T04:19:47.339932300Z",
     "start_time": "2024-01-25T04:19:47.216798600Z"
    }
   },
   "outputs": [],
   "source": [
    "y_pred = pd.DataFrame(temp)"
   ]
  },
  {
   "cell_type": "code",
   "execution_count": 63,
   "metadata": {
    "ExecuteTime": {
     "end_time": "2024-01-25T04:19:48.472261800Z",
     "start_time": "2024-01-25T04:19:48.312841Z"
    }
   },
   "outputs": [
    {
     "data": {
      "text/plain": "    0\n0   0\n1   0\n2   0\n3   0\n4   0\n.. ..\n77  0\n78  0\n79  0\n80  0\n81  0\n\n[82 rows x 1 columns]",
      "text/html": "<div>\n<style scoped>\n    .dataframe tbody tr th:only-of-type {\n        vertical-align: middle;\n    }\n\n    .dataframe tbody tr th {\n        vertical-align: top;\n    }\n\n    .dataframe thead th {\n        text-align: right;\n    }\n</style>\n<table border=\"1\" class=\"dataframe\">\n  <thead>\n    <tr style=\"text-align: right;\">\n      <th></th>\n      <th>0</th>\n    </tr>\n  </thead>\n  <tbody>\n    <tr>\n      <th>0</th>\n      <td>0</td>\n    </tr>\n    <tr>\n      <th>1</th>\n      <td>0</td>\n    </tr>\n    <tr>\n      <th>2</th>\n      <td>0</td>\n    </tr>\n    <tr>\n      <th>3</th>\n      <td>0</td>\n    </tr>\n    <tr>\n      <th>4</th>\n      <td>0</td>\n    </tr>\n    <tr>\n      <th>...</th>\n      <td>...</td>\n    </tr>\n    <tr>\n      <th>77</th>\n      <td>0</td>\n    </tr>\n    <tr>\n      <th>78</th>\n      <td>0</td>\n    </tr>\n    <tr>\n      <th>79</th>\n      <td>0</td>\n    </tr>\n    <tr>\n      <th>80</th>\n      <td>0</td>\n    </tr>\n    <tr>\n      <th>81</th>\n      <td>0</td>\n    </tr>\n  </tbody>\n</table>\n<p>82 rows × 1 columns</p>\n</div>"
     },
     "execution_count": 63,
     "metadata": {},
     "output_type": "execute_result"
    }
   ],
   "source": [
    "y_pred"
   ]
  },
  {
   "cell_type": "code",
   "execution_count": 64,
   "metadata": {
    "ExecuteTime": {
     "end_time": "2024-01-25T04:19:50.320435600Z",
     "start_time": "2024-01-25T04:19:50.123726400Z"
    }
   },
   "outputs": [],
   "source": [
    "from sklearn.metrics import accuracy_score, precision_score, recall_score"
   ]
  },
  {
   "cell_type": "code",
   "execution_count": 65,
   "metadata": {
    "ExecuteTime": {
     "end_time": "2024-01-25T04:19:51.796526100Z",
     "start_time": "2024-01-25T04:19:51.637597800Z"
    }
   },
   "outputs": [
    {
     "data": {
      "text/plain": "0.5121951219512195"
     },
     "execution_count": 65,
     "metadata": {},
     "output_type": "execute_result"
    }
   ],
   "source": [
    "accuracy_score(y_pred.values.reshape(-1,1), y_test.values.reshape(-1,1))"
   ]
  },
  {
   "cell_type": "code",
   "execution_count": 66,
   "metadata": {
    "ExecuteTime": {
     "end_time": "2024-01-25T04:19:52.962260400Z",
     "start_time": "2024-01-25T04:19:52.830428Z"
    }
   },
   "outputs": [
    {
     "data": {
      "text/plain": "0.0"
     },
     "execution_count": 66,
     "metadata": {},
     "output_type": "execute_result"
    }
   ],
   "source": [
    "precision_score(y_pred.values.reshape(-1,1), y_test.values.reshape(-1,1))"
   ]
  },
  {
   "cell_type": "code",
   "execution_count": 50,
   "metadata": {
    "ExecuteTime": {
     "end_time": "2024-01-25T04:17:27.311272800Z",
     "start_time": "2024-01-25T04:17:26.191084700Z"
    }
   },
   "outputs": [
    {
     "name": "stderr",
     "output_type": "stream",
     "text": [
      "C:\\Users\\MoAly\\Anaconda3\\Lib\\site-packages\\sklearn\\metrics\\_classification.py:1469: UndefinedMetricWarning: Recall is ill-defined and being set to 0.0 due to no true samples. Use `zero_division` parameter to control this behavior.\n",
      "  _warn_prf(average, modifier, msg_start, len(result))\n"
     ]
    },
    {
     "data": {
      "text/plain": "0.0"
     },
     "execution_count": 50,
     "metadata": {},
     "output_type": "execute_result"
    }
   ],
   "source": [
    "recall_score(y_pred.values.reshape(-1,1), y_test.values.reshape(-1,1))"
   ]
  },
  {
   "cell_type": "code",
   "execution_count": 50,
   "metadata": {
    "ExecuteTime": {
     "end_time": "2024-01-25T04:17:27.339264Z",
     "start_time": "2024-01-25T04:17:26.215055300Z"
    }
   },
   "outputs": [],
   "source": []
  },
  {
   "cell_type": "code",
   "execution_count": 50,
   "metadata": {
    "ExecuteTime": {
     "end_time": "2024-01-25T04:17:27.362264400Z",
     "start_time": "2024-01-25T04:17:26.221528100Z"
    }
   },
   "outputs": [],
   "source": []
  },
  {
   "cell_type": "code",
   "execution_count": 50,
   "metadata": {
    "ExecuteTime": {
     "end_time": "2024-01-25T04:17:27.372273300Z",
     "start_time": "2024-01-25T04:17:26.230085900Z"
    }
   },
   "outputs": [],
   "source": []
  },
  {
   "cell_type": "code",
   "execution_count": 50,
   "metadata": {
    "ExecuteTime": {
     "end_time": "2024-01-25T04:17:27.394792500Z",
     "start_time": "2024-01-25T04:17:26.240249100Z"
    }
   },
   "outputs": [],
   "source": []
  },
  {
   "cell_type": "code",
   "execution_count": 50,
   "metadata": {
    "ExecuteTime": {
     "end_time": "2024-01-25T04:17:27.422798300Z",
     "start_time": "2024-01-25T04:17:26.251009700Z"
    }
   },
   "outputs": [],
   "source": []
  },
  {
   "cell_type": "code",
   "execution_count": 50,
   "metadata": {
    "ExecuteTime": {
     "end_time": "2024-01-25T04:17:27.433796800Z",
     "start_time": "2024-01-25T04:17:26.259521Z"
    }
   },
   "outputs": [],
   "source": []
  },
  {
   "cell_type": "code",
   "execution_count": 50,
   "metadata": {
    "ExecuteTime": {
     "end_time": "2024-01-25T04:17:27.458797800Z",
     "start_time": "2024-01-25T04:17:26.269708300Z"
    }
   },
   "outputs": [],
   "source": []
  },
  {
   "cell_type": "code",
   "execution_count": 50,
   "metadata": {
    "ExecuteTime": {
     "end_time": "2024-01-25T04:17:27.465483400Z",
     "start_time": "2024-01-25T04:17:26.279062900Z"
    }
   },
   "outputs": [],
   "source": []
  },
  {
   "cell_type": "code",
   "execution_count": 67,
   "metadata": {
    "ExecuteTime": {
     "end_time": "2024-01-25T04:19:59.775720200Z",
     "start_time": "2024-01-25T04:19:59.652212500Z"
    }
   },
   "outputs": [],
   "source": [
    "from sklearn.ensemble import RandomForestClassifier\n",
    "from sklearn.linear_model import LogisticRegression\n",
    "\n",
    "\n"
   ]
  },
  {
   "cell_type": "code",
   "execution_count": 68,
   "metadata": {
    "ExecuteTime": {
     "end_time": "2024-01-25T04:20:00.921436800Z",
     "start_time": "2024-01-25T04:20:00.773254300Z"
    }
   },
   "outputs": [],
   "source": [
    "clf = LogisticRegression()"
   ]
  },
  {
   "cell_type": "code",
   "execution_count": 69,
   "metadata": {
    "ExecuteTime": {
     "end_time": "2024-01-25T04:20:01.706129Z",
     "start_time": "2024-01-25T04:20:01.588043700Z"
    }
   },
   "outputs": [],
   "source": [
    "X_train_reshaped = X_train.values.reshape(-1,1)\n",
    "y_train_reshaped = y_train.values.reshape(-1,1)"
   ]
  },
  {
   "cell_type": "code",
   "execution_count": 70,
   "metadata": {
    "ExecuteTime": {
     "end_time": "2024-01-25T04:20:02.762056Z",
     "start_time": "2024-01-25T04:20:02.551943600Z"
    }
   },
   "outputs": [
    {
     "name": "stderr",
     "output_type": "stream",
     "text": [
      "C:\\Users\\MoAly\\Anaconda3\\Lib\\site-packages\\sklearn\\utils\\validation.py:1184: DataConversionWarning: A column-vector y was passed when a 1d array was expected. Please change the shape of y to (n_samples, ), for example using ravel().\n",
      "  y = column_or_1d(y, warn=True)\n"
     ]
    },
    {
     "data": {
      "text/plain": "LogisticRegression()",
      "text/html": "<style>#sk-container-id-2 {color: black;}#sk-container-id-2 pre{padding: 0;}#sk-container-id-2 div.sk-toggleable {background-color: white;}#sk-container-id-2 label.sk-toggleable__label {cursor: pointer;display: block;width: 100%;margin-bottom: 0;padding: 0.3em;box-sizing: border-box;text-align: center;}#sk-container-id-2 label.sk-toggleable__label-arrow:before {content: \"▸\";float: left;margin-right: 0.25em;color: #696969;}#sk-container-id-2 label.sk-toggleable__label-arrow:hover:before {color: black;}#sk-container-id-2 div.sk-estimator:hover label.sk-toggleable__label-arrow:before {color: black;}#sk-container-id-2 div.sk-toggleable__content {max-height: 0;max-width: 0;overflow: hidden;text-align: left;background-color: #f0f8ff;}#sk-container-id-2 div.sk-toggleable__content pre {margin: 0.2em;color: black;border-radius: 0.25em;background-color: #f0f8ff;}#sk-container-id-2 input.sk-toggleable__control:checked~div.sk-toggleable__content {max-height: 200px;max-width: 100%;overflow: auto;}#sk-container-id-2 input.sk-toggleable__control:checked~label.sk-toggleable__label-arrow:before {content: \"▾\";}#sk-container-id-2 div.sk-estimator input.sk-toggleable__control:checked~label.sk-toggleable__label {background-color: #d4ebff;}#sk-container-id-2 div.sk-label input.sk-toggleable__control:checked~label.sk-toggleable__label {background-color: #d4ebff;}#sk-container-id-2 input.sk-hidden--visually {border: 0;clip: rect(1px 1px 1px 1px);clip: rect(1px, 1px, 1px, 1px);height: 1px;margin: -1px;overflow: hidden;padding: 0;position: absolute;width: 1px;}#sk-container-id-2 div.sk-estimator {font-family: monospace;background-color: #f0f8ff;border: 1px dotted black;border-radius: 0.25em;box-sizing: border-box;margin-bottom: 0.5em;}#sk-container-id-2 div.sk-estimator:hover {background-color: #d4ebff;}#sk-container-id-2 div.sk-parallel-item::after {content: \"\";width: 100%;border-bottom: 1px solid gray;flex-grow: 1;}#sk-container-id-2 div.sk-label:hover label.sk-toggleable__label {background-color: #d4ebff;}#sk-container-id-2 div.sk-serial::before {content: \"\";position: absolute;border-left: 1px solid gray;box-sizing: border-box;top: 0;bottom: 0;left: 50%;z-index: 0;}#sk-container-id-2 div.sk-serial {display: flex;flex-direction: column;align-items: center;background-color: white;padding-right: 0.2em;padding-left: 0.2em;position: relative;}#sk-container-id-2 div.sk-item {position: relative;z-index: 1;}#sk-container-id-2 div.sk-parallel {display: flex;align-items: stretch;justify-content: center;background-color: white;position: relative;}#sk-container-id-2 div.sk-item::before, #sk-container-id-2 div.sk-parallel-item::before {content: \"\";position: absolute;border-left: 1px solid gray;box-sizing: border-box;top: 0;bottom: 0;left: 50%;z-index: -1;}#sk-container-id-2 div.sk-parallel-item {display: flex;flex-direction: column;z-index: 1;position: relative;background-color: white;}#sk-container-id-2 div.sk-parallel-item:first-child::after {align-self: flex-end;width: 50%;}#sk-container-id-2 div.sk-parallel-item:last-child::after {align-self: flex-start;width: 50%;}#sk-container-id-2 div.sk-parallel-item:only-child::after {width: 0;}#sk-container-id-2 div.sk-dashed-wrapped {border: 1px dashed gray;margin: 0 0.4em 0.5em 0.4em;box-sizing: border-box;padding-bottom: 0.4em;background-color: white;}#sk-container-id-2 div.sk-label label {font-family: monospace;font-weight: bold;display: inline-block;line-height: 1.2em;}#sk-container-id-2 div.sk-label-container {text-align: center;}#sk-container-id-2 div.sk-container {/* jupyter's `normalize.less` sets `[hidden] { display: none; }` but bootstrap.min.css set `[hidden] { display: none !important; }` so we also need the `!important` here to be able to override the default hidden behavior on the sphinx rendered scikit-learn.org. See: https://github.com/scikit-learn/scikit-learn/issues/21755 */display: inline-block !important;position: relative;}#sk-container-id-2 div.sk-text-repr-fallback {display: none;}</style><div id=\"sk-container-id-2\" class=\"sk-top-container\"><div class=\"sk-text-repr-fallback\"><pre>LogisticRegression()</pre><b>In a Jupyter environment, please rerun this cell to show the HTML representation or trust the notebook. <br />On GitHub, the HTML representation is unable to render, please try loading this page with nbviewer.org.</b></div><div class=\"sk-container\" hidden><div class=\"sk-item\"><div class=\"sk-estimator sk-toggleable\"><input class=\"sk-toggleable__control sk-hidden--visually\" id=\"sk-estimator-id-2\" type=\"checkbox\" checked><label for=\"sk-estimator-id-2\" class=\"sk-toggleable__label sk-toggleable__label-arrow\">LogisticRegression</label><div class=\"sk-toggleable__content\"><pre>LogisticRegression()</pre></div></div></div></div></div>"
     },
     "execution_count": 70,
     "metadata": {},
     "output_type": "execute_result"
    }
   ],
   "source": [
    "clf.fit(X_train_reshaped,y_train_reshaped)"
   ]
  },
  {
   "cell_type": "code",
   "execution_count": 71,
   "metadata": {
    "ExecuteTime": {
     "end_time": "2024-01-25T04:20:07.473154500Z",
     "start_time": "2024-01-25T04:20:07.367505200Z"
    }
   },
   "outputs": [],
   "source": [
    "y_pred = clf.predict(X_test.values.reshape(-1,1))"
   ]
  },
  {
   "cell_type": "code",
   "execution_count": 72,
   "metadata": {
    "ExecuteTime": {
     "end_time": "2024-01-25T04:20:08.875770900Z",
     "start_time": "2024-01-25T04:20:08.716299600Z"
    }
   },
   "outputs": [
    {
     "data": {
      "text/plain": "1.0"
     },
     "execution_count": 72,
     "metadata": {},
     "output_type": "execute_result"
    }
   ],
   "source": [
    "accuracy_score(y_pred,y_test.values.reshape(-1,1))"
   ]
  },
  {
   "cell_type": "code",
   "execution_count": 73,
   "metadata": {
    "ExecuteTime": {
     "end_time": "2024-01-25T04:20:09.696479400Z",
     "start_time": "2024-01-25T04:20:09.551717900Z"
    }
   },
   "outputs": [
    {
     "data": {
      "text/plain": "1.0"
     },
     "execution_count": 73,
     "metadata": {},
     "output_type": "execute_result"
    }
   ],
   "source": [
    "precision_score(y_pred,y_test.values.reshape(-1,1))"
   ]
  },
  {
   "cell_type": "code",
   "execution_count": 74,
   "metadata": {
    "ExecuteTime": {
     "end_time": "2024-01-25T04:20:10.282884400Z",
     "start_time": "2024-01-25T04:20:10.101760500Z"
    }
   },
   "outputs": [
    {
     "data": {
      "text/plain": "1.0"
     },
     "execution_count": 74,
     "metadata": {},
     "output_type": "execute_result"
    }
   ],
   "source": [
    "recall_score(y_pred,y_test.values.reshape(-1,1))"
   ]
  },
  {
   "cell_type": "code",
   "execution_count": 58,
   "metadata": {
    "ExecuteTime": {
     "end_time": "2024-01-25T04:17:28.269957600Z",
     "start_time": "2024-01-25T04:17:26.825420700Z"
    }
   },
   "outputs": [],
   "source": []
  },
  {
   "cell_type": "code",
   "execution_count": 58,
   "metadata": {
    "ExecuteTime": {
     "end_time": "2024-01-25T04:17:28.292675600Z",
     "start_time": "2024-01-25T04:17:26.835507900Z"
    }
   },
   "outputs": [],
   "source": []
  },
  {
   "cell_type": "code",
   "execution_count": 58,
   "metadata": {
    "ExecuteTime": {
     "end_time": "2024-01-25T04:17:28.298675700Z",
     "start_time": "2024-01-25T04:17:26.846323900Z"
    }
   },
   "outputs": [],
   "source": []
  }
 ],
 "metadata": {
  "kernelspec": {
   "display_name": "Python 3",
   "language": "python",
   "name": "python3"
  },
  "language_info": {
   "codemirror_mode": {
    "name": "ipython",
    "version": 3
   },
   "file_extension": ".py",
   "mimetype": "text/x-python",
   "name": "python",
   "nbconvert_exporter": "python",
   "pygments_lexer": "ipython3",
   "version": "3.12.1"
  }
 },
 "nbformat": 4,
 "nbformat_minor": 2
}
