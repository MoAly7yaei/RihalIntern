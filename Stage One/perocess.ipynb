{
 "cells": [
  {
   "cell_type": "markdown",
   "metadata": {},
   "source": []
  },
  {
   "cell_type": "code",
   "execution_count": 1,
   "metadata": {
    "ExecuteTime": {
     "end_time": "2024-01-25T04:16:41.597590300Z",
     "start_time": "2024-01-25T04:16:40.742775400Z"
    }
   },
   "outputs": [],
   "source": [
    "import os #To import| library"
   ]
  },
  {
   "cell_type": "code",
   "execution_count": 2,
   "metadata": {
    "ExecuteTime": {
     "end_time": "2024-01-25T04:16:41.679164400Z",
     "start_time": "2024-01-25T04:16:41.588590300Z"
    }
   },
   "outputs": [],
   "source": [
    "PATH = os.getcwd() #Get current work directory\n"
   ]
  },
  {
   "cell_type": "code",
   "execution_count": 3,
   "metadata": {
    "ExecuteTime": {
     "end_time": "2024-01-25T04:16:41.885050600Z",
     "start_time": "2024-01-25T04:16:41.649228400Z"
    }
   },
   "outputs": [
    {
     "data": {
      "text/plain": [
       "'C:\\\\Users\\\\MoAly\\\\Development\\\\LearningCurve\\\\Stage One'"
      ]
     },
     "execution_count": 3,
     "metadata": {},
     "output_type": "execute_result"
    }
   ],
   "source": [
    "PATH"
   ]
  },
  {
   "cell_type": "code",
   "execution_count": 4,
   "metadata": {
    "ExecuteTime": {
     "end_time": "2024-01-25T04:16:42.004585700Z",
     "start_time": "2024-01-25T04:16:41.834998200Z"
    }
   },
   "outputs": [],
   "source": [
    "DATAPATH = PATH + '\\\\Data'\n",
    "\n",
    "SCRIPTPATH = PATH + '\\\\script'\n",
    "\n",
    "\n",
    "try:\n",
    "    os.mkdir(DATAPATH)\n",
    "except FileExistsError:\n",
    "    pass\n"
   ]
  },
  {
   "cell_type": "code",
   "execution_count": null,
   "metadata": {
    "ExecuteTime": {
     "end_time": "2024-01-25T04:16:46.648022900Z",
     "start_time": "2024-01-25T04:16:42.023602300Z"
    }
   },
   "outputs": [],
   "source": [
    "try:\n",
    "    import pandas as pd\n",
    "    import numpy as np\n",
    "    import seaborn as sns\n",
    "    import matplotlib.pyplot as plt\n",
    "    import psutil\n",
    "\n",
    "except:\n",
    "    %pip install pandas\n",
    "    %pip install numpy\n",
    "    %pip install seaborn\n",
    "    %pip install matplotlib\n",
    "    %pip install psutil\n",
    "\n",
    "    import pandas as pd\n",
    "    import pandas as pd\n",
    "    import numpy as np\n",
    "    import seaborn as sns\n",
    "    import matplotlib.pyplot as plt\n",
    "    import psutil\n",
    "#Later this will be replaced by requirments.txt"
   ]
  },
  {
   "cell_type": "code",
   "execution_count": 6,
   "metadata": {
    "ExecuteTime": {
     "end_time": "2024-01-25T04:16:46.676025200Z",
     "start_time": "2024-01-25T04:16:46.597476900Z"
    }
   },
   "outputs": [],
   "source": [
    "def get_process_directory(pid):\n",
    "    try:\n",
    "        \n",
    "        process = psutil.Process(pid)\n",
    "        \n",
    "        executable_path = process.exe()\n",
    "        return executable_path\n",
    "    except psutil.NoSuchProcess:\n",
    "        return 0\n",
    "    except Exception as e:\n",
    "        return 0"
   ]
  },
  {
   "cell_type": "code",
   "execution_count": 7,
   "metadata": {
    "ExecuteTime": {
     "end_time": "2024-01-25T04:17:21.402993300Z",
     "start_time": "2024-01-25T04:16:46.611495300Z"
    }
   },
   "outputs": [],
   "source": [
    "PROCESS_NUM_TARGETED = 1000000 #Can be tuned based on the number of targeted process that is have to be inspected\n",
    "\n",
    "\n",
    "if os.path.isfile(PATH + '\\\\Data' + '\\\\process.csv'):\n",
    "    data = pd.read_csv(PATH + '\\\\Data' + '\\\\process.csv')\n",
    "    dataframe = data\n",
    "\n",
    "else:\n",
    "    data = {\n",
    "        'ID': [id for id in range (PROCESS_NUM_TARGETED)],\n",
    "        'Execution Path' : [get_process_directory(pid) for pid in range(PROCESS_NUM_TARGETED)]    \n",
    "    }\n",
    "    dataframe = pd.DataFrame(data)\n",
    "\n",
    "\n"
   ]
  },
  {
   "cell_type": "code",
   "execution_count": 7,
   "metadata": {
    "ExecuteTime": {
     "end_time": "2024-01-25T04:17:21.445195200Z",
     "start_time": "2024-01-25T04:17:21.408975100Z"
    }
   },
   "outputs": [],
   "source": []
  },
  {
   "cell_type": "code",
   "execution_count": 7,
   "metadata": {
    "ExecuteTime": {
     "end_time": "2024-01-25T04:17:21.470815400Z",
     "start_time": "2024-01-25T04:17:21.418005100Z"
    }
   },
   "outputs": [],
   "source": []
  },
  {
   "cell_type": "code",
   "execution_count": 7,
   "metadata": {
    "ExecuteTime": {
     "end_time": "2024-01-25T04:17:21.511435Z",
     "start_time": "2024-01-25T04:17:21.425196500Z"
    }
   },
   "outputs": [],
   "source": []
  },
  {
   "cell_type": "code",
   "execution_count": 8,
   "metadata": {
    "ExecuteTime": {
     "end_time": "2024-01-25T04:17:21.573448600Z",
     "start_time": "2024-01-25T04:17:21.434186500Z"
    }
   },
   "outputs": [
    {
     "data": {
      "text/html": [
       "<div>\n",
       "<style scoped>\n",
       "    .dataframe tbody tr th:only-of-type {\n",
       "        vertical-align: middle;\n",
       "    }\n",
       "\n",
       "    .dataframe tbody tr th {\n",
       "        vertical-align: top;\n",
       "    }\n",
       "\n",
       "    .dataframe thead th {\n",
       "        text-align: right;\n",
       "    }\n",
       "</style>\n",
       "<table border=\"1\" class=\"dataframe\">\n",
       "  <thead>\n",
       "    <tr style=\"text-align: right;\">\n",
       "      <th></th>\n",
       "      <th>ID</th>\n",
       "      <th>Execution Path</th>\n",
       "    </tr>\n",
       "  </thead>\n",
       "  <tbody>\n",
       "    <tr>\n",
       "      <th>0</th>\n",
       "      <td>0</td>\n",
       "      <td>0</td>\n",
       "    </tr>\n",
       "    <tr>\n",
       "      <th>1</th>\n",
       "      <td>1</td>\n",
       "      <td>0</td>\n",
       "    </tr>\n",
       "    <tr>\n",
       "      <th>2</th>\n",
       "      <td>2</td>\n",
       "      <td>0</td>\n",
       "    </tr>\n",
       "    <tr>\n",
       "      <th>3</th>\n",
       "      <td>3</td>\n",
       "      <td>0</td>\n",
       "    </tr>\n",
       "    <tr>\n",
       "      <th>4</th>\n",
       "      <td>4</td>\n",
       "      <td></td>\n",
       "    </tr>\n",
       "  </tbody>\n",
       "</table>\n",
       "</div>"
      ],
      "text/plain": [
       "   ID Execution Path\n",
       "0   0              0\n",
       "1   1              0\n",
       "2   2              0\n",
       "3   3              0\n",
       "4   4               "
      ]
     },
     "execution_count": 8,
     "metadata": {},
     "output_type": "execute_result"
    }
   ],
   "source": [
    "dataframe.head() #Show the first 5 rows"
   ]
  },
  {
   "cell_type": "code",
   "execution_count": 9,
   "metadata": {
    "ExecuteTime": {
     "end_time": "2024-01-25T04:17:21.753338600Z",
     "start_time": "2024-01-25T04:17:21.456807600Z"
    }
   },
   "outputs": [
    {
     "data": {
      "text/plain": [
       "{'',\n",
       " 0,\n",
       " 'C:\\\\Program Files (x86)\\\\Adobe\\\\Adobe Sync\\\\CoreSync\\\\CoreSync.exe',\n",
       " 'C:\\\\Program Files (x86)\\\\Common Files\\\\Adobe\\\\ARM\\\\1.0\\\\armsvc.exe',\n",
       " 'C:\\\\Program Files (x86)\\\\Common Files\\\\Adobe\\\\Adobe Desktop Common\\\\ADS\\\\Adobe Crash Processor.exe',\n",
       " 'C:\\\\Program Files (x86)\\\\Common Files\\\\Adobe\\\\Adobe Desktop Common\\\\ADS\\\\Adobe Desktop Service.exe',\n",
       " 'C:\\\\Program Files (x86)\\\\Common Files\\\\Adobe\\\\Adobe Desktop Common\\\\ElevationManager\\\\AdobeUpdateService.exe',\n",
       " 'C:\\\\Program Files (x86)\\\\Common Files\\\\Adobe\\\\Adobe Desktop Common\\\\IPCBox\\\\AdobeIPCBroker.exe',\n",
       " 'C:\\\\Program Files (x86)\\\\Dell\\\\UpdateService\\\\DCF\\\\Dell.DCF.UA.Bradbury.API.SubAgent.exe',\n",
       " 'C:\\\\Program Files (x86)\\\\Dell\\\\UpdateService\\\\ServiceShell.exe',\n",
       " 'C:\\\\Program Files (x86)\\\\Microsoft\\\\EdgeWebView\\\\Application\\\\120.0.2210.144\\\\msedgewebview2.exe',\n",
       " 'C:\\\\Program Files (x86)\\\\Microsoft\\\\Edge\\\\Application\\\\msedge.exe',\n",
       " 'C:\\\\Program Files (x86)\\\\NVIDIA Corporation\\\\NvNode\\\\NVIDIA Web Helper.exe',\n",
       " 'C:\\\\Program Files\\\\Adobe\\\\Acrobat DC\\\\Acrobat\\\\AdobeCollabSync.exe',\n",
       " 'C:\\\\Program Files\\\\Adobe\\\\Adobe Creative Cloud Experience\\\\CCXProcess.exe',\n",
       " 'C:\\\\Program Files\\\\Adobe\\\\Adobe Creative Cloud Experience\\\\libs\\\\node.exe',\n",
       " 'C:\\\\Program Files\\\\Adobe\\\\Adobe Creative Cloud\\\\ACC\\\\Creative Cloud.exe',\n",
       " 'C:\\\\Program Files\\\\Common Files\\\\Adobe\\\\Adobe Desktop Common\\\\HEX\\\\Creative Cloud UI Helper.exe',\n",
       " 'C:\\\\Program Files\\\\Common Files\\\\Adobe\\\\Creative Cloud Libraries\\\\CCLibrary.exe',\n",
       " 'C:\\\\Program Files\\\\Common Files\\\\Adobe\\\\Creative Cloud Libraries\\\\libs\\\\node.exe',\n",
       " 'C:\\\\Program Files\\\\Common Files\\\\Native Instruments\\\\NTK\\\\NTKDaemon.exe',\n",
       " 'C:\\\\Program Files\\\\Common Files\\\\Native Instruments\\\\NTK\\\\crashpad_handler.exe',\n",
       " 'C:\\\\Program Files\\\\Common Files\\\\microsoft shared\\\\ClickToRun\\\\OfficeClickToRun.exe',\n",
       " 'C:\\\\Program Files\\\\Dell\\\\DTP\\\\AnalyticsSubAgent\\\\Dell.TechHub.Analytics.SubAgent.exe',\n",
       " 'C:\\\\Program Files\\\\Dell\\\\DTP\\\\DataManagerSubAgent\\\\Dell.TechHub.DataManager.SubAgent.exe',\n",
       " 'C:\\\\Program Files\\\\Dell\\\\DTP\\\\DiagnosticsSubAgent\\\\Dell.TechHub.Diagnostics.SubAgent.exe',\n",
       " 'C:\\\\Program Files\\\\Dell\\\\DTP\\\\InstrumentationSubAgent\\\\Dell.TechHub.Instrumentation.SubAgent.exe',\n",
       " 'C:\\\\Program Files\\\\Dell\\\\DTP\\\\InstrumentationSubAgent\\\\Dell.TechHub.Instrumentation.UserProcess.exe',\n",
       " 'C:\\\\Program Files\\\\Dell\\\\DellDataVault\\\\DDVCollectorSvcApi.exe',\n",
       " 'C:\\\\Program Files\\\\Dell\\\\DellDataVault\\\\DDVDataCollector.exe',\n",
       " 'C:\\\\Program Files\\\\Dell\\\\DellDataVault\\\\DDVRulesProcessor.exe',\n",
       " 'C:\\\\Program Files\\\\Dell\\\\SupportAssistAgent\\\\bin\\\\SupportAssistAgent.exe',\n",
       " 'C:\\\\Program Files\\\\Dell\\\\TechHub\\\\Dell.TechHub.exe',\n",
       " 'C:\\\\Program Files\\\\Git\\\\usr\\\\bin\\\\ssh-agent.exe',\n",
       " 'C:\\\\Program Files\\\\JetBrains\\\\PyCharm 2023.3.2\\\\bin\\\\fsnotifier.exe',\n",
       " 'C:\\\\Program Files\\\\JetBrains\\\\PyCharm 2023.3.2\\\\bin\\\\pycharm64.exe',\n",
       " 'C:\\\\Program Files\\\\Microsoft Office\\\\root\\\\Office16\\\\OUTLOOK.EXE',\n",
       " 'C:\\\\Program Files\\\\Microsoft Office\\\\root\\\\Office16\\\\WINWORD.EXE',\n",
       " 'C:\\\\Program Files\\\\Microsoft Office\\\\root\\\\Office16\\\\msoadfsb.exe',\n",
       " 'C:\\\\Program Files\\\\Microsoft Office\\\\root\\\\vfs\\\\ProgramFilesCommonX64\\\\Microsoft Shared\\\\Office16\\\\ai.exe',\n",
       " 'C:\\\\Program Files\\\\Microsoft OneDrive\\\\23.246.1127.0002\\\\FileCoAuth.exe',\n",
       " 'C:\\\\Program Files\\\\Microsoft OneDrive\\\\23.246.1127.0002\\\\FileSyncHelper.exe',\n",
       " 'C:\\\\Program Files\\\\Microsoft OneDrive\\\\23.246.1127.0002\\\\Microsoft.SharePoint.exe',\n",
       " 'C:\\\\Program Files\\\\Microsoft OneDrive\\\\OneDrive.exe',\n",
       " 'C:\\\\Program Files\\\\NVIDIA Corporation\\\\NVIDIA GeForce Experience\\\\NVIDIA Share.exe',\n",
       " 'C:\\\\Program Files\\\\NVIDIA Corporation\\\\NvContainer\\\\nvcontainer.exe',\n",
       " 'C:\\\\Program Files\\\\NVIDIA Corporation\\\\ShadowPlay\\\\nvsphelper64.exe',\n",
       " 'C:\\\\Program Files\\\\WindowsApps\\\\5319275A.WhatsAppDesktop_2.2401.3.0_x64__cv1g1gvanyjgm\\\\WhatsApp.exe',\n",
       " 'C:\\\\Program Files\\\\WindowsApps\\\\AcrobatNotificationClient_1.0.4.0_x86__e1rzdqpraam7r\\\\AcrobatNotificationClient.exe',\n",
       " 'C:\\\\Program Files\\\\WindowsApps\\\\AdobeNotificationClient_3.0.1.1_x86__enpm4xejd91yc\\\\AdobeNotificationClient.exe',\n",
       " 'C:\\\\Program Files\\\\WindowsApps\\\\MSTeams_23335.232.2637.4844_x64__8wekyb3d8bbwe\\\\ms-teams.exe',\n",
       " 'C:\\\\Program Files\\\\WindowsApps\\\\Microsoft.6365217CE6EB4_102.2401.19004.0_x64__8wekyb3d8bbwe\\\\MicrosoftSecurityApp\\\\MicrosoftSecurityApp.exe',\n",
       " 'C:\\\\Program Files\\\\WindowsApps\\\\Microsoft.GamingServices_17.85.5002.0_x64__8wekyb3d8bbwe\\\\gamingservices.exe',\n",
       " 'C:\\\\Program Files\\\\WindowsApps\\\\Microsoft.GamingServices_17.85.5002.0_x64__8wekyb3d8bbwe\\\\gamingservicesnet.exe',\n",
       " 'C:\\\\Program Files\\\\WindowsApps\\\\Microsoft.PowerAutomateDesktop_11.2312.164.0_x64__8wekyb3d8bbwe\\\\PAD.BrowserNativeMessageHost.exe',\n",
       " 'C:\\\\Program Files\\\\WindowsApps\\\\Microsoft.WindowsNotepad_11.2311.35.0_x64__8wekyb3d8bbwe\\\\Notepad\\\\Notepad.exe',\n",
       " 'C:\\\\Program Files\\\\WindowsApps\\\\Microsoft.YourPhone_1.23112.87.0_x64__8wekyb3d8bbwe\\\\PhoneExperienceHost.exe',\n",
       " 'C:\\\\Program Files\\\\WindowsApps\\\\Microsoft.YourPhone_1.23112.87.0_x64__8wekyb3d8bbwe\\\\YourPhoneAppProxy.exe',\n",
       " 'C:\\\\Program Files\\\\WindowsApps\\\\PythonSoftwareFoundation.Python.3.12_3.12.496.0_x64__qbz5n2kfra8p0\\\\python3.12.exe',\n",
       " 'C:\\\\Program Files\\\\WindowsApps\\\\microsoftwindows.client.webexperience_424.400.20.0_x64__cw5n1h2txyewy\\\\Dashboard\\\\WidgetService.exe',\n",
       " 'C:\\\\Program Files\\\\WindowsApps\\\\microsoftwindows.client.webexperience_424.400.20.0_x64__cw5n1h2txyewy\\\\Dashboard\\\\Widgets.exe',\n",
       " 'C:\\\\Program Files\\\\WindowsApps\\\\rivetnetworks.killercontrolcenter_3.1423.712.0_x64__rh07ty8m5nkag\\\\KillerControlCenter_v2\\\\KillerIntelligenceCenter.exe',\n",
       " 'C:\\\\ProgramData\\\\Microsoft\\\\Windows Defender\\\\Platform\\\\4.18.23110.3-0\\\\MsMpEng.exe',\n",
       " 'C:\\\\ProgramData\\\\Microsoft\\\\Windows Defender\\\\Platform\\\\4.18.23110.3-0\\\\NisSrv.exe',\n",
       " 'C:\\\\Users\\\\MoAly\\\\anaconda3\\\\Scripts\\\\jupyter-notebook.exe',\n",
       " 'C:\\\\Users\\\\MoAly\\\\anaconda3\\\\python.exe',\n",
       " 'C:\\\\Windows\\\\ImmersiveControlPanel\\\\SystemSettings.exe',\n",
       " 'C:\\\\Windows\\\\Microsoft.NET\\\\Framework64\\\\v3.0\\\\WPF\\\\PresentationFontCache.exe',\n",
       " 'C:\\\\Windows\\\\System32\\\\AggregatorHost.exe',\n",
       " 'C:\\\\Windows\\\\System32\\\\ApplicationFrameHost.exe',\n",
       " 'C:\\\\Windows\\\\System32\\\\DriverStore\\\\FileRepository\\\\cui_dch.inf_amd64_ea0f2e956b37b3be\\\\igfxCUIService.exe',\n",
       " 'C:\\\\Windows\\\\System32\\\\DriverStore\\\\FileRepository\\\\cui_dch.inf_amd64_ea0f2e956b37b3be\\\\igfxEM.exe',\n",
       " 'C:\\\\Windows\\\\System32\\\\DriverStore\\\\FileRepository\\\\dal.inf_amd64_3befaa646f991169\\\\jhi_service.exe',\n",
       " 'C:\\\\Windows\\\\System32\\\\DriverStore\\\\FileRepository\\\\dptf_cpu.inf_amd64_c2c5b0e17a28a48f\\\\esif_uf.exe',\n",
       " 'C:\\\\Windows\\\\System32\\\\DriverStore\\\\FileRepository\\\\iaahcic.inf_amd64_ffd80069472091bc\\\\RstMwService.exe',\n",
       " 'C:\\\\Windows\\\\System32\\\\DriverStore\\\\FileRepository\\\\iclsclient.inf_amd64_367008a610747d24\\\\lib\\\\SocketHeciServer.exe',\n",
       " 'C:\\\\Windows\\\\System32\\\\DriverStore\\\\FileRepository\\\\igcc_dch.inf_amd64_98ad395a329efc54\\\\OneApp.IGCC.WinService.exe',\n",
       " 'C:\\\\Windows\\\\System32\\\\DriverStore\\\\FileRepository\\\\iigd_dch.inf_amd64_e396b69e113d1cc5\\\\IntelCpHDCPSvc.exe',\n",
       " 'C:\\\\Windows\\\\System32\\\\DriverStore\\\\FileRepository\\\\iigd_dch.inf_amd64_e396b69e113d1cc5\\\\IntelCpHeciSvc.exe',\n",
       " 'C:\\\\Windows\\\\System32\\\\DriverStore\\\\FileRepository\\\\lms.inf_amd64_981d034327bfbdcc\\\\LMS.exe',\n",
       " 'C:\\\\Windows\\\\System32\\\\DriverStore\\\\FileRepository\\\\mewmiprov.inf_amd64_ab7d4ea1d12c01d4\\\\WMIRegistrationService.exe',\n",
       " 'C:\\\\Windows\\\\System32\\\\DriverStore\\\\FileRepository\\\\nvdmsi.inf_amd64_58416624598bf658\\\\Display.NvContainer\\\\NVDisplay.Container.exe',\n",
       " 'C:\\\\Windows\\\\System32\\\\DriverStore\\\\FileRepository\\\\piecomponent.inf_amd64_90ff6c7fe29f9dcf\\\\Intel_PIE_Service.exe',\n",
       " 'C:\\\\Windows\\\\System32\\\\DriverStore\\\\FileRepository\\\\realtekservice.inf_amd64_b55ed36a9a78cc75\\\\RtkAudUService64.exe',\n",
       " 'C:\\\\Windows\\\\System32\\\\DriverStore\\\\FileRepository\\\\sgx_psw.inf_amd64_fafb1d329fdfe2c6\\\\aesm_service.exe',\n",
       " 'C:\\\\Windows\\\\System32\\\\DriverStore\\\\FileRepository\\\\wavesapo8de.inf_amd64_b4d0b189ff2aba03\\\\WavesSvc64.exe',\n",
       " 'C:\\\\Windows\\\\System32\\\\DriverStore\\\\FileRepository\\\\wavesapo8de.inf_amd64_b4d0b189ff2aba03\\\\WavesSysSvc64.exe',\n",
       " 'C:\\\\Windows\\\\System32\\\\LocationNotificationWindows.exe',\n",
       " 'C:\\\\Windows\\\\System32\\\\LsaIso.exe',\n",
       " 'C:\\\\Windows\\\\System32\\\\RuntimeBroker.exe',\n",
       " 'C:\\\\Windows\\\\System32\\\\SearchFilterHost.exe',\n",
       " 'C:\\\\Windows\\\\System32\\\\SearchIndexer.exe',\n",
       " 'C:\\\\Windows\\\\System32\\\\SearchProtocolHost.exe',\n",
       " 'C:\\\\Windows\\\\System32\\\\SecurityHealthService.exe',\n",
       " 'C:\\\\Windows\\\\System32\\\\SecurityHealthSystray.exe',\n",
       " 'C:\\\\Windows\\\\System32\\\\SystemSettingsBroker.exe',\n",
       " 'C:\\\\Windows\\\\System32\\\\WUDFHost.exe',\n",
       " 'C:\\\\Windows\\\\System32\\\\WindowsPowerShell\\\\v1.0\\\\powershell.exe',\n",
       " 'C:\\\\Windows\\\\System32\\\\backgroundTaskHost.exe',\n",
       " 'C:\\\\Windows\\\\System32\\\\cAVS\\\\Intel(R) Audio Service\\\\IntelAudioService.exe',\n",
       " 'C:\\\\Windows\\\\System32\\\\cmd.exe',\n",
       " 'C:\\\\Windows\\\\System32\\\\conhost.exe',\n",
       " 'C:\\\\Windows\\\\System32\\\\csrss.exe',\n",
       " 'C:\\\\Windows\\\\System32\\\\ctfmon.exe',\n",
       " 'C:\\\\Windows\\\\System32\\\\dllhost.exe',\n",
       " 'C:\\\\Windows\\\\System32\\\\drivers\\\\DellFFDPWmiService.exe',\n",
       " 'C:\\\\Windows\\\\System32\\\\drivers\\\\RivetNetworks\\\\Killer\\\\KAPS.exe',\n",
       " 'C:\\\\Windows\\\\System32\\\\drivers\\\\RivetNetworks\\\\Killer\\\\KAPSService.exe',\n",
       " 'C:\\\\Windows\\\\System32\\\\drivers\\\\RivetNetworks\\\\Killer\\\\KNDBWM.exe',\n",
       " 'C:\\\\Windows\\\\System32\\\\drivers\\\\RivetNetworks\\\\Killer\\\\KNDBWMService.exe',\n",
       " 'C:\\\\Windows\\\\System32\\\\drivers\\\\RivetNetworks\\\\Killer\\\\KillerAnalyticsService.exe',\n",
       " 'C:\\\\Windows\\\\System32\\\\drivers\\\\RivetNetworks\\\\Killer\\\\KillerNetworkService.exe',\n",
       " 'C:\\\\Windows\\\\System32\\\\dwm.exe',\n",
       " 'C:\\\\Windows\\\\System32\\\\fontdrvhost.exe',\n",
       " 'C:\\\\Windows\\\\System32\\\\lsass.exe',\n",
       " 'C:\\\\Windows\\\\System32\\\\msdtc.exe',\n",
       " 'C:\\\\Windows\\\\System32\\\\oobe\\\\UserOOBEBroker.exe',\n",
       " 'C:\\\\Windows\\\\System32\\\\rundll32.exe',\n",
       " 'C:\\\\Windows\\\\System32\\\\services.exe',\n",
       " 'C:\\\\Windows\\\\System32\\\\sihost.exe',\n",
       " 'C:\\\\Windows\\\\System32\\\\smss.exe',\n",
       " 'C:\\\\Windows\\\\System32\\\\spoolsv.exe',\n",
       " 'C:\\\\Windows\\\\System32\\\\svchost.exe',\n",
       " 'C:\\\\Windows\\\\System32\\\\taskhostw.exe',\n",
       " 'C:\\\\Windows\\\\System32\\\\vmcompute.exe',\n",
       " 'C:\\\\Windows\\\\System32\\\\vmms.exe',\n",
       " 'C:\\\\Windows\\\\System32\\\\wbem\\\\WmiPrvSE.exe',\n",
       " 'C:\\\\Windows\\\\System32\\\\wininit.exe',\n",
       " 'C:\\\\Windows\\\\System32\\\\winlogon.exe',\n",
       " 'C:\\\\Windows\\\\System32\\\\wlanext.exe',\n",
       " 'C:\\\\Windows\\\\SystemApps\\\\Microsoft.Windows.StartMenuExperienceHost_cw5n1h2txyewy\\\\StartMenuExperienceHost.exe',\n",
       " 'C:\\\\Windows\\\\SystemApps\\\\MicrosoftWindows.Client.CBS_cw5n1h2txyewy\\\\SearchHost.exe',\n",
       " 'C:\\\\Windows\\\\SystemApps\\\\ShellExperienceHost_cw5n1h2txyewy\\\\ShellExperienceHost.exe',\n",
       " 'C:\\\\Windows\\\\TbtP2pShortcutService.exe',\n",
       " 'C:\\\\Windows\\\\ThunderboltService.exe',\n",
       " 'C:\\\\Windows\\\\explorer.exe',\n",
       " 'MemCompression',\n",
       " 'Registry'}"
      ]
     },
     "execution_count": 9,
     "metadata": {},
     "output_type": "execute_result"
    }
   ],
   "source": [
    "set(dataframe['Execution Path']) #To check if there is pathes that is been extracted."
   ]
  },
  {
   "cell_type": "code",
   "execution_count": 9,
   "metadata": {
    "ExecuteTime": {
     "end_time": "2024-01-25T04:17:21.782900700Z",
     "start_time": "2024-01-25T04:17:21.637648900Z"
    }
   },
   "outputs": [],
   "source": []
  },
  {
   "cell_type": "code",
   "execution_count": 9,
   "metadata": {
    "ExecuteTime": {
     "end_time": "2024-01-25T04:17:22.006961700Z",
     "start_time": "2024-01-25T04:17:21.676255200Z"
    }
   },
   "outputs": [],
   "source": []
  },
  {
   "cell_type": "code",
   "execution_count": 10,
   "metadata": {
    "ExecuteTime": {
     "end_time": "2024-01-25T04:17:22.050958Z",
     "start_time": "2024-01-25T04:17:21.685806900Z"
    }
   },
   "outputs": [],
   "source": [
    "# The function bellow labiling any execution path by 1 if there is 'program file' in the path\n",
    "\n",
    "def labeling_Program_Files_process(data):\n",
    "    pathes = list(data['Execution Path'])\n",
    "    labels = []\n",
    "\n",
    "    for path in pathes:\n",
    "        if path is int:\n",
    "            labels.append(0)\n",
    "        elif 'program files' in str(path).lower():\n",
    "            labels.append(1)\n",
    "        else:\n",
    "            labels.append(0)\n",
    "\n",
    "\n",
    "\n",
    "    \n",
    "    return labels\n",
    "\n"
   ]
  },
  {
   "cell_type": "code",
   "execution_count": 11,
   "metadata": {
    "ExecuteTime": {
     "end_time": "2024-01-25T04:17:22.433010800Z",
     "start_time": "2024-01-25T04:17:21.694337Z"
    }
   },
   "outputs": [],
   "source": [
    "program_file_process = labeling_Program_Files_process(data)"
   ]
  },
  {
   "cell_type": "code",
   "execution_count": 12,
   "metadata": {
    "ExecuteTime": {
     "end_time": "2024-01-25T04:17:22.461010100Z",
     "start_time": "2024-01-25T04:17:22.242075700Z"
    }
   },
   "outputs": [
    {
     "data": {
      "text/plain": [
       "{0, 1}"
      ]
     },
     "execution_count": 12,
     "metadata": {},
     "output_type": "execute_result"
    }
   ],
   "source": [
    "set(program_file_process)\n"
   ]
  },
  {
   "cell_type": "code",
   "execution_count": 13,
   "metadata": {
    "ExecuteTime": {
     "end_time": "2024-01-25T04:17:22.826708100Z",
     "start_time": "2024-01-25T04:17:22.284495900Z"
    }
   },
   "outputs": [],
   "source": [
    "dataframe['Program File Process'] = program_file_process"
   ]
  },
  {
   "cell_type": "code",
   "execution_count": 13,
   "metadata": {
    "ExecuteTime": {
     "end_time": "2024-01-25T04:17:22.856529600Z",
     "start_time": "2024-01-25T04:17:22.812688300Z"
    }
   },
   "outputs": [],
   "source": []
  },
  {
   "cell_type": "code",
   "execution_count": 14,
   "metadata": {
    "ExecuteTime": {
     "end_time": "2024-01-25T04:17:22.893055300Z",
     "start_time": "2024-01-25T04:17:22.819700800Z"
    }
   },
   "outputs": [
    {
     "data": {
      "text/html": [
       "<div>\n",
       "<style scoped>\n",
       "    .dataframe tbody tr th:only-of-type {\n",
       "        vertical-align: middle;\n",
       "    }\n",
       "\n",
       "    .dataframe tbody tr th {\n",
       "        vertical-align: top;\n",
       "    }\n",
       "\n",
       "    .dataframe thead th {\n",
       "        text-align: right;\n",
       "    }\n",
       "</style>\n",
       "<table border=\"1\" class=\"dataframe\">\n",
       "  <thead>\n",
       "    <tr style=\"text-align: right;\">\n",
       "      <th></th>\n",
       "      <th>ID</th>\n",
       "      <th>Execution Path</th>\n",
       "      <th>Program File Process</th>\n",
       "    </tr>\n",
       "  </thead>\n",
       "  <tbody>\n",
       "    <tr>\n",
       "      <th>0</th>\n",
       "      <td>0</td>\n",
       "      <td>0</td>\n",
       "      <td>0</td>\n",
       "    </tr>\n",
       "    <tr>\n",
       "      <th>1</th>\n",
       "      <td>1</td>\n",
       "      <td>0</td>\n",
       "      <td>0</td>\n",
       "    </tr>\n",
       "    <tr>\n",
       "      <th>2</th>\n",
       "      <td>2</td>\n",
       "      <td>0</td>\n",
       "      <td>0</td>\n",
       "    </tr>\n",
       "    <tr>\n",
       "      <th>3</th>\n",
       "      <td>3</td>\n",
       "      <td>0</td>\n",
       "      <td>0</td>\n",
       "    </tr>\n",
       "    <tr>\n",
       "      <th>4</th>\n",
       "      <td>4</td>\n",
       "      <td></td>\n",
       "      <td>0</td>\n",
       "    </tr>\n",
       "  </tbody>\n",
       "</table>\n",
       "</div>"
      ],
      "text/plain": [
       "   ID Execution Path  Program File Process\n",
       "0   0              0                     0\n",
       "1   1              0                     0\n",
       "2   2              0                     0\n",
       "3   3              0                     0\n",
       "4   4                                    0"
      ]
     },
     "execution_count": 14,
     "metadata": {},
     "output_type": "execute_result"
    }
   ],
   "source": [
    "dataframe.head()"
   ]
  },
  {
   "cell_type": "code",
   "execution_count": 15,
   "metadata": {
    "ExecuteTime": {
     "end_time": "2024-01-25T04:17:23.144608500Z",
     "start_time": "2024-01-25T04:17:22.839526500Z"
    }
   },
   "outputs": [
    {
     "data": {
      "text/plain": [
       "{0, 1}"
      ]
     },
     "execution_count": 15,
     "metadata": {},
     "output_type": "execute_result"
    }
   ],
   "source": [
    "set(dataframe['Program File Process'])"
   ]
  },
  {
   "cell_type": "code",
   "execution_count": 16,
   "metadata": {
    "ExecuteTime": {
     "end_time": "2024-01-25T04:17:23.211956Z",
     "start_time": "2024-01-25T04:17:23.034064300Z"
    }
   },
   "outputs": [],
   "source": [
    "#The funtion below is going to filter the unwanted execution pathes\n",
    "\"\"\"\n",
    "The main goal is to find the real number of process that is been executed currently\n",
    "\n",
    "\"\"\"\n",
    "\n",
    "def data_cleaning(data = dataframe):\n",
    "\n",
    "    data = data[data['Execution Path'] != 0]\n",
    "\n",
    "    data = data[data['Execution Path'] != '0']\n",
    "    data = data[data['Execution Path'] != '']\n",
    "\n",
    "    data = data.dropna()\n",
    "\n",
    "\n",
    "    return data"
   ]
  },
  {
   "cell_type": "code",
   "execution_count": 16,
   "metadata": {
    "ExecuteTime": {
     "end_time": "2024-01-25T04:17:23.257762100Z",
     "start_time": "2024-01-25T04:17:23.042919400Z"
    }
   },
   "outputs": [],
   "source": []
  },
  {
   "cell_type": "code",
   "execution_count": 17,
   "metadata": {
    "ExecuteTime": {
     "end_time": "2024-01-25T04:17:23.529557400Z",
     "start_time": "2024-01-25T04:17:23.051931800Z"
    }
   },
   "outputs": [],
   "source": [
    "cleaned_data = data_cleaning(dataframe)"
   ]
  },
  {
   "cell_type": "code",
   "execution_count": 18,
   "metadata": {
    "ExecuteTime": {
     "end_time": "2024-01-25T04:17:23.637371700Z",
     "start_time": "2024-01-25T04:17:23.207987Z"
    }
   },
   "outputs": [
    {
     "data": {
      "text/html": [
       "<div>\n",
       "<style scoped>\n",
       "    .dataframe tbody tr th:only-of-type {\n",
       "        vertical-align: middle;\n",
       "    }\n",
       "\n",
       "    .dataframe tbody tr th {\n",
       "        vertical-align: top;\n",
       "    }\n",
       "\n",
       "    .dataframe thead th {\n",
       "        text-align: right;\n",
       "    }\n",
       "</style>\n",
       "<table border=\"1\" class=\"dataframe\">\n",
       "  <thead>\n",
       "    <tr style=\"text-align: right;\">\n",
       "      <th></th>\n",
       "      <th>ID</th>\n",
       "      <th>Execution Path</th>\n",
       "      <th>Program File Process</th>\n",
       "    </tr>\n",
       "  </thead>\n",
       "  <tbody>\n",
       "    <tr>\n",
       "      <th>208</th>\n",
       "      <td>208</td>\n",
       "      <td>Registry</td>\n",
       "      <td>0</td>\n",
       "    </tr>\n",
       "    <tr>\n",
       "      <th>764</th>\n",
       "      <td>764</td>\n",
       "      <td>C:\\Windows\\System32\\smss.exe</td>\n",
       "      <td>0</td>\n",
       "    </tr>\n",
       "    <tr>\n",
       "      <th>788</th>\n",
       "      <td>788</td>\n",
       "      <td>C:\\Windows\\System32\\csrss.exe</td>\n",
       "      <td>0</td>\n",
       "    </tr>\n",
       "    <tr>\n",
       "      <th>820</th>\n",
       "      <td>820</td>\n",
       "      <td>C:\\Windows\\System32\\svchost.exe</td>\n",
       "      <td>0</td>\n",
       "    </tr>\n",
       "    <tr>\n",
       "      <th>844</th>\n",
       "      <td>844</td>\n",
       "      <td>C:\\Program Files\\WindowsApps\\microsoftwindows....</td>\n",
       "      <td>1</td>\n",
       "    </tr>\n",
       "    <tr>\n",
       "      <th>...</th>\n",
       "      <td>...</td>\n",
       "      <td>...</td>\n",
       "      <td>...</td>\n",
       "    </tr>\n",
       "    <tr>\n",
       "      <th>30920</th>\n",
       "      <td>30920</td>\n",
       "      <td>C:\\Program Files (x86)\\Microsoft\\EdgeWebView\\A...</td>\n",
       "      <td>1</td>\n",
       "    </tr>\n",
       "    <tr>\n",
       "      <th>30921</th>\n",
       "      <td>30921</td>\n",
       "      <td>C:\\Program Files (x86)\\Microsoft\\EdgeWebView\\A...</td>\n",
       "      <td>1</td>\n",
       "    </tr>\n",
       "    <tr>\n",
       "      <th>30922</th>\n",
       "      <td>30922</td>\n",
       "      <td>C:\\Program Files (x86)\\Microsoft\\EdgeWebView\\A...</td>\n",
       "      <td>1</td>\n",
       "    </tr>\n",
       "    <tr>\n",
       "      <th>30923</th>\n",
       "      <td>30923</td>\n",
       "      <td>C:\\Program Files (x86)\\Microsoft\\EdgeWebView\\A...</td>\n",
       "      <td>1</td>\n",
       "    </tr>\n",
       "    <tr>\n",
       "      <th>31428</th>\n",
       "      <td>31428</td>\n",
       "      <td>C:\\Windows\\System32\\svchost.exe</td>\n",
       "      <td>0</td>\n",
       "    </tr>\n",
       "  </tbody>\n",
       "</table>\n",
       "<p>811 rows × 3 columns</p>\n",
       "</div>"
      ],
      "text/plain": [
       "          ID                                     Execution Path  \\\n",
       "208      208                                           Registry   \n",
       "764      764                       C:\\Windows\\System32\\smss.exe   \n",
       "788      788                      C:\\Windows\\System32\\csrss.exe   \n",
       "820      820                    C:\\Windows\\System32\\svchost.exe   \n",
       "844      844  C:\\Program Files\\WindowsApps\\microsoftwindows....   \n",
       "...      ...                                                ...   \n",
       "30920  30920  C:\\Program Files (x86)\\Microsoft\\EdgeWebView\\A...   \n",
       "30921  30921  C:\\Program Files (x86)\\Microsoft\\EdgeWebView\\A...   \n",
       "30922  30922  C:\\Program Files (x86)\\Microsoft\\EdgeWebView\\A...   \n",
       "30923  30923  C:\\Program Files (x86)\\Microsoft\\EdgeWebView\\A...   \n",
       "31428  31428                    C:\\Windows\\System32\\svchost.exe   \n",
       "\n",
       "       Program File Process  \n",
       "208                       0  \n",
       "764                       0  \n",
       "788                       0  \n",
       "820                       0  \n",
       "844                       1  \n",
       "...                     ...  \n",
       "30920                     1  \n",
       "30921                     1  \n",
       "30922                     1  \n",
       "30923                     1  \n",
       "31428                     0  \n",
       "\n",
       "[811 rows x 3 columns]"
      ]
     },
     "execution_count": 18,
     "metadata": {},
     "output_type": "execute_result"
    }
   ],
   "source": [
    "cleaned_data\n"
   ]
  },
  {
   "cell_type": "code",
   "execution_count": 19,
   "metadata": {
    "ExecuteTime": {
     "end_time": "2024-01-25T04:17:23.658895100Z",
     "start_time": "2024-01-25T04:17:23.218955900Z"
    }
   },
   "outputs": [],
   "source": [
    "cleaned_data.to_csv(DATAPATH + '//process.csv') #Going to save the dataset"
   ]
  },
  {
   "cell_type": "code",
   "execution_count": 20,
   "metadata": {
    "ExecuteTime": {
     "end_time": "2024-01-25T04:17:23.693428800Z",
     "start_time": "2024-01-25T04:17:23.249668400Z"
    }
   },
   "outputs": [
    {
     "data": {
      "text/plain": [
       "429"
      ]
     },
     "execution_count": 20,
     "metadata": {},
     "output_type": "execute_result"
    }
   ],
   "source": [
    "np.array(cleaned_data['Program File Process']).sum() #Total of program file Process that is been run"
   ]
  },
  {
   "cell_type": "code",
   "execution_count": 21,
   "metadata": {
    "ExecuteTime": {
     "end_time": "2024-01-25T04:17:23.719428500Z",
     "start_time": "2024-01-25T04:17:23.263116400Z"
    }
   },
   "outputs": [],
   "source": [
    "encoded_data = cleaned_data"
   ]
  },
  {
   "cell_type": "code",
   "execution_count": 22,
   "metadata": {
    "ExecuteTime": {
     "end_time": "2024-01-25T04:17:24.159538800Z",
     "start_time": "2024-01-25T04:17:23.275648600Z"
    }
   },
   "outputs": [],
   "source": [
    "from sklearn.preprocessing import LabelEncoder"
   ]
  },
  {
   "cell_type": "code",
   "execution_count": 23,
   "metadata": {
    "ExecuteTime": {
     "end_time": "2024-01-25T04:17:24.180596500Z",
     "start_time": "2024-01-25T04:17:23.918212500Z"
    }
   },
   "outputs": [],
   "source": [
    "enc = LabelEncoder() #we are going to use label encoder to gives each path a numerical value"
   ]
  },
  {
   "cell_type": "code",
   "execution_count": 24,
   "metadata": {
    "ExecuteTime": {
     "end_time": "2024-01-25T04:17:24.243161300Z",
     "start_time": "2024-01-25T04:17:23.929228800Z"
    }
   },
   "outputs": [],
   "source": [
    "pathes = pd.DataFrame(cleaned_data['Execution Path']) "
   ]
  },
  {
   "cell_type": "code",
   "execution_count": 25,
   "metadata": {
    "ExecuteTime": {
     "end_time": "2024-01-25T04:17:24.368500800Z",
     "start_time": "2024-01-25T04:17:23.963132100Z"
    }
   },
   "outputs": [
    {
     "name": "stderr",
     "output_type": "stream",
     "text": [
      "C:\\Users\\MoAly\\Anaconda3\\Lib\\site-packages\\sklearn\\preprocessing\\_label.py:114: DataConversionWarning: A column-vector y was passed when a 1d array was expected. Please change the shape of y to (n_samples, ), for example using ravel().\n",
      "  y = column_or_1d(y, warn=True)\n"
     ]
    }
   ],
   "source": [
    "encoded_data['Execution Path'] = enc.fit_transform(pathes)\n",
    "\n",
    "\"\"\"\n",
    "WE ARE ONLY USING .fit_transform IF THERE IS NEW PATHES\n",
    "\"\"\""
   ]
  },
  {
   "cell_type": "code",
   "execution_count": 26,
   "metadata": {
    "ExecuteTime": {
     "end_time": "2024-01-25T04:17:24.395007200Z",
     "start_time": "2024-01-25T04:17:23.982473Z"
    }
   },
   "outputs": [
    {
     "data": {
      "text/html": [
       "<div>\n",
       "<style scoped>\n",
       "    .dataframe tbody tr th:only-of-type {\n",
       "        vertical-align: middle;\n",
       "    }\n",
       "\n",
       "    .dataframe tbody tr th {\n",
       "        vertical-align: top;\n",
       "    }\n",
       "\n",
       "    .dataframe thead th {\n",
       "        text-align: right;\n",
       "    }\n",
       "</style>\n",
       "<table border=\"1\" class=\"dataframe\">\n",
       "  <thead>\n",
       "    <tr style=\"text-align: right;\">\n",
       "      <th></th>\n",
       "      <th>ID</th>\n",
       "      <th>Execution Path</th>\n",
       "      <th>Program File Process</th>\n",
       "    </tr>\n",
       "  </thead>\n",
       "  <tbody>\n",
       "    <tr>\n",
       "      <th>208</th>\n",
       "      <td>208</td>\n",
       "      <td>135</td>\n",
       "      <td>0</td>\n",
       "    </tr>\n",
       "    <tr>\n",
       "      <th>764</th>\n",
       "      <td>764</td>\n",
       "      <td>118</td>\n",
       "      <td>0</td>\n",
       "    </tr>\n",
       "    <tr>\n",
       "      <th>788</th>\n",
       "      <td>788</td>\n",
       "      <td>100</td>\n",
       "      <td>0</td>\n",
       "    </tr>\n",
       "    <tr>\n",
       "      <th>820</th>\n",
       "      <td>820</td>\n",
       "      <td>120</td>\n",
       "      <td>0</td>\n",
       "    </tr>\n",
       "    <tr>\n",
       "      <th>844</th>\n",
       "      <td>844</td>\n",
       "      <td>58</td>\n",
       "      <td>1</td>\n",
       "    </tr>\n",
       "  </tbody>\n",
       "</table>\n",
       "</div>"
      ],
      "text/plain": [
       "      ID  Execution Path  Program File Process\n",
       "208  208             135                     0\n",
       "764  764             118                     0\n",
       "788  788             100                     0\n",
       "820  820             120                     0\n",
       "844  844              58                     1"
      ]
     },
     "execution_count": 26,
     "metadata": {},
     "output_type": "execute_result"
    }
   ],
   "source": [
    "encoded_data.head()"
   ]
  },
  {
   "cell_type": "code",
   "execution_count": 27,
   "metadata": {
    "ExecuteTime": {
     "end_time": "2024-01-25T04:17:24.403017Z",
     "start_time": "2024-01-25T04:17:24.006519100Z"
    }
   },
   "outputs": [
    {
     "data": {
      "text/html": [
       "<div>\n",
       "<style scoped>\n",
       "    .dataframe tbody tr th:only-of-type {\n",
       "        vertical-align: middle;\n",
       "    }\n",
       "\n",
       "    .dataframe tbody tr th {\n",
       "        vertical-align: top;\n",
       "    }\n",
       "\n",
       "    .dataframe thead th {\n",
       "        text-align: right;\n",
       "    }\n",
       "</style>\n",
       "<table border=\"1\" class=\"dataframe\">\n",
       "  <thead>\n",
       "    <tr style=\"text-align: right;\">\n",
       "      <th></th>\n",
       "      <th>ID</th>\n",
       "      <th>Execution Path</th>\n",
       "      <th>Program File Process</th>\n",
       "    </tr>\n",
       "  </thead>\n",
       "  <tbody>\n",
       "    <tr>\n",
       "      <th>208</th>\n",
       "      <td>208</td>\n",
       "      <td>135</td>\n",
       "      <td>0</td>\n",
       "    </tr>\n",
       "    <tr>\n",
       "      <th>764</th>\n",
       "      <td>764</td>\n",
       "      <td>118</td>\n",
       "      <td>0</td>\n",
       "    </tr>\n",
       "    <tr>\n",
       "      <th>788</th>\n",
       "      <td>788</td>\n",
       "      <td>100</td>\n",
       "      <td>0</td>\n",
       "    </tr>\n",
       "    <tr>\n",
       "      <th>820</th>\n",
       "      <td>820</td>\n",
       "      <td>120</td>\n",
       "      <td>0</td>\n",
       "    </tr>\n",
       "    <tr>\n",
       "      <th>844</th>\n",
       "      <td>844</td>\n",
       "      <td>58</td>\n",
       "      <td>1</td>\n",
       "    </tr>\n",
       "  </tbody>\n",
       "</table>\n",
       "</div>"
      ],
      "text/plain": [
       "      ID  Execution Path  Program File Process\n",
       "208  208             135                     0\n",
       "764  764             118                     0\n",
       "788  788             100                     0\n",
       "820  820             120                     0\n",
       "844  844              58                     1"
      ]
     },
     "execution_count": 27,
     "metadata": {},
     "output_type": "execute_result"
    }
   ],
   "source": [
    "cleaned_data.head()"
   ]
  },
  {
   "cell_type": "code",
   "execution_count": 28,
   "metadata": {
    "ExecuteTime": {
     "end_time": "2024-01-25T04:17:24.425728700Z",
     "start_time": "2024-01-25T04:17:24.026253900Z"
    }
   },
   "outputs": [
    {
     "data": {
      "text/plain": [
       "array(['C:\\\\Program Files\\\\WindowsApps\\\\microsoftwindows.client.webexperience_424.400.20.0_x64__cw5n1h2txyewy\\\\Dashboard\\\\WidgetService.exe'],\n",
       "      dtype=object)"
      ]
     },
     "execution_count": 28,
     "metadata": {},
     "output_type": "execute_result"
    }
   ],
   "source": [
    "enc.inverse_transform([57]) "
   ]
  },
  {
   "cell_type": "code",
   "execution_count": 29,
   "metadata": {
    "ExecuteTime": {
     "end_time": "2024-01-25T04:17:24.431725800Z",
     "start_time": "2024-01-25T04:17:24.039154Z"
    }
   },
   "outputs": [],
   "source": [
    "import matplotlib.pyplot as plt\n"
   ]
  },
  {
   "cell_type": "code",
   "execution_count": 30,
   "metadata": {
    "ExecuteTime": {
     "end_time": "2024-01-25T04:17:24.463334400Z",
     "start_time": "2024-01-25T04:17:24.052941800Z"
    }
   },
   "outputs": [
    {
     "data": {
      "text/plain": [
       "['Not Program File Process', 'Program File Process']"
      ]
     },
     "execution_count": 30,
     "metadata": {},
     "output_type": "execute_result"
    }
   ],
   "source": [
    "x_axis = ['Not Program File Process', 'Program File Process']\n",
    "x_axis"
   ]
  },
  {
   "cell_type": "code",
   "execution_count": 31,
   "metadata": {
    "ExecuteTime": {
     "end_time": "2024-01-25T04:17:24.521776Z",
     "start_time": "2024-01-25T04:17:24.067481100Z"
    }
   },
   "outputs": [],
   "source": [
    "num_of_pf_process = np.array(cleaned_data['Program File Process']).sum()\n",
    "total_num_of_proces = len(cleaned_data['Program File Process'])\n",
    "y_axis = [(total_num_of_proces - num_of_pf_process), num_of_pf_process]"
   ]
  },
  {
   "cell_type": "code",
   "execution_count": 32,
   "metadata": {
    "ExecuteTime": {
     "end_time": "2024-01-25T04:17:25.021711Z",
     "start_time": "2024-01-25T04:17:24.074019100Z"
    }
   },
   "outputs": [
    {
     "data": {
      "image/png": "[encoded data removed]",
      "text/plain": [
       "<Figure size 640x480 with 1 Axes>"
      ]
     },
     "metadata": {},
     "output_type": "display_data"
    }
   ],
   "source": [
    "plt.bar(x_axis,y_axis)\n",
    "plt.xlabel(\"Type of Process\")\n",
    "plt.ylabel('Number of Process Execution')\n",
    "plt.title(\"Comparing the process\")\n",
    "plt.show()"
   ]
  },
  {
   "cell_type": "code",
   "execution_count": 33,
   "metadata": {
    "ExecuteTime": {
     "end_time": "2024-01-25T04:17:25.133067Z",
     "start_time": "2024-01-25T04:17:24.425728700Z"
    }
   },
   "outputs": [
    {
     "data": {
      "text/html": [
       "<div>\n",
       "<style scoped>\n",
       "    .dataframe tbody tr th:only-of-type {\n",
       "        vertical-align: middle;\n",
       "    }\n",
       "\n",
       "    .dataframe tbody tr th {\n",
       "        vertical-align: top;\n",
       "    }\n",
       "\n",
       "    .dataframe thead th {\n",
       "        text-align: right;\n",
       "    }\n",
       "</style>\n",
       "<table border=\"1\" class=\"dataframe\">\n",
       "  <thead>\n",
       "    <tr style=\"text-align: right;\">\n",
       "      <th></th>\n",
       "      <th>ID</th>\n",
       "      <th>Execution Path</th>\n",
       "      <th>Program File Process</th>\n",
       "    </tr>\n",
       "  </thead>\n",
       "  <tbody>\n",
       "    <tr>\n",
       "      <th>208</th>\n",
       "      <td>208</td>\n",
       "      <td>135</td>\n",
       "      <td>0</td>\n",
       "    </tr>\n",
       "    <tr>\n",
       "      <th>764</th>\n",
       "      <td>764</td>\n",
       "      <td>118</td>\n",
       "      <td>0</td>\n",
       "    </tr>\n",
       "    <tr>\n",
       "      <th>788</th>\n",
       "      <td>788</td>\n",
       "      <td>100</td>\n",
       "      <td>0</td>\n",
       "    </tr>\n",
       "    <tr>\n",
       "      <th>820</th>\n",
       "      <td>820</td>\n",
       "      <td>120</td>\n",
       "      <td>0</td>\n",
       "    </tr>\n",
       "    <tr>\n",
       "      <th>844</th>\n",
       "      <td>844</td>\n",
       "      <td>58</td>\n",
       "      <td>1</td>\n",
       "    </tr>\n",
       "  </tbody>\n",
       "</table>\n",
       "</div>"
      ],
      "text/plain": [
       "      ID  Execution Path  Program File Process\n",
       "208  208             135                     0\n",
       "764  764             118                     0\n",
       "788  788             100                     0\n",
       "820  820             120                     0\n",
       "844  844              58                     1"
      ]
     },
     "execution_count": 33,
     "metadata": {},
     "output_type": "execute_result"
    }
   ],
   "source": [
    "cleaned_data.head()"
   ]
  },
  {
   "cell_type": "code",
   "execution_count": 34,
   "metadata": {
    "ExecuteTime": {
     "end_time": "2024-01-25T04:17:25.140019100Z",
     "start_time": "2024-01-25T04:17:24.444499500Z"
    }
   },
   "outputs": [
    {
     "data": {
      "text/plain": [
       "{0, 1}"
      ]
     },
     "execution_count": 34,
     "metadata": {},
     "output_type": "execute_result"
    }
   ],
   "source": [
    "set(encoded_data['Program File Process'])"
   ]
  },
  {
   "cell_type": "code",
   "execution_count": 34,
   "metadata": {
    "ExecuteTime": {
     "end_time": "2024-01-25T04:17:25.186648500Z",
     "start_time": "2024-01-25T04:17:24.456322Z"
    }
   },
   "outputs": [],
   "source": []
  },
  {
   "cell_type": "code",
   "execution_count": 35,
   "metadata": {
    "ExecuteTime": {
     "end_time": "2024-01-25T04:17:25.193689300Z",
     "start_time": "2024-01-25T04:17:24.468315600Z"
    }
   },
   "outputs": [],
   "source": [
    "X = encoded_data['Execution Path']\n",
    "y = encoded_data['Program File Process']"
   ]
  },
  {
   "cell_type": "code",
   "execution_count": 35,
   "metadata": {
    "ExecuteTime": {
     "end_time": "2024-01-25T04:17:25.215690900Z",
     "start_time": "2024-01-25T04:17:24.478486600Z"
    }
   },
   "outputs": [],
   "source": []
  },
  {
   "cell_type": "code",
   "execution_count": 35,
   "metadata": {
    "ExecuteTime": {
     "end_time": "2024-01-25T04:17:25.236646600Z",
     "start_time": "2024-01-25T04:17:24.484986800Z"
    }
   },
   "outputs": [],
   "source": []
  },
  {
   "cell_type": "code",
   "execution_count": 35,
   "metadata": {
    "ExecuteTime": {
     "end_time": "2024-01-25T04:17:25.242651Z",
     "start_time": "2024-01-25T04:17:24.495470400Z"
    }
   },
   "outputs": [],
   "source": []
  },
  {
   "cell_type": "code",
   "execution_count": 35,
   "metadata": {
    "ExecuteTime": {
     "end_time": "2024-01-25T04:17:25.261644700Z",
     "start_time": "2024-01-25T04:17:24.502579600Z"
    }
   },
   "outputs": [],
   "source": []
  },
  {
   "cell_type": "code",
   "execution_count": 35,
   "metadata": {
    "ExecuteTime": {
     "end_time": "2024-01-25T04:17:25.282705800Z",
     "start_time": "2024-01-25T04:17:24.510760800Z"
    }
   },
   "outputs": [],
   "source": []
  },
  {
   "cell_type": "code",
   "execution_count": 36,
   "metadata": {
    "ExecuteTime": {
     "end_time": "2024-01-25T04:17:25.311230700Z",
     "start_time": "2024-01-25T04:17:24.521776Z"
    }
   },
   "outputs": [],
   "source": [
    "from sklearn.model_selection import train_test_split"
   ]
  },
  {
   "cell_type": "code",
   "execution_count": 37,
   "metadata": {
    "ExecuteTime": {
     "end_time": "2024-01-25T04:17:25.333230100Z",
     "start_time": "2024-01-25T04:17:24.676154400Z"
    }
   },
   "outputs": [],
   "source": [
    "X_train, X_test, y_train, y_test = train_test_split(X,y, test_size=0.1)"
   ]
  },
  {
   "cell_type": "code",
   "execution_count": 64,
   "metadata": {
    "ExecuteTime": {
     "end_time": "2024-01-25T04:19:50.320435600Z",
     "start_time": "2024-01-25T04:19:50.123726400Z"
    }
   },
   "outputs": [],
   "source": [
    "from sklearn.metrics import accuracy_score, precision_score, recall_score"
   ]
  },
  {
   "cell_type": "code",
   "execution_count": 67,
   "metadata": {
    "ExecuteTime": {
     "end_time": "2024-01-25T04:19:59.775720200Z",
     "start_time": "2024-01-25T04:19:59.652212500Z"
    }
   },
   "outputs": [],
   "source": [
    "from sklearn.ensemble import RandomForestClassifier\n",
    "from sklearn.linear_model import LogisticRegression\n",
    "\n",
    "\n"
   ]
  },
  {
   "cell_type": "code",
   "execution_count": 68,
   "metadata": {
    "ExecuteTime": {
     "end_time": "2024-01-25T04:20:00.921436800Z",
     "start_time": "2024-01-25T04:20:00.773254300Z"
    }
   },
   "outputs": [],
   "source": [
    "clf = LogisticRegression()"
   ]
  },
  {
   "cell_type": "code",
   "execution_count": 69,
   "metadata": {
    "ExecuteTime": {
     "end_time": "2024-01-25T04:20:01.706129Z",
     "start_time": "2024-01-25T04:20:01.588043700Z"
    }
   },
   "outputs": [],
   "source": [
    "X_train_reshaped = X_train.values.reshape(-1,1)\n",
    "y_train_reshaped = y_train.values.reshape(-1,1)"
   ]
  },
  {
   "cell_type": "code",
   "execution_count": 70,
   "metadata": {
    "ExecuteTime": {
     "end_time": "2024-01-25T04:20:02.762056Z",
     "start_time": "2024-01-25T04:20:02.551943600Z"
    }
   },
   "outputs": [
    {
     "name": "stderr",
     "output_type": "stream",
     "text": [
      "C:\\Users\\MoAly\\Anaconda3\\Lib\\site-packages\\sklearn\\utils\\validation.py:1184: DataConversionWarning: A column-vector y was passed when a 1d array was expected. Please change the shape of y to (n_samples, ), for example using ravel().\n",
      "  y = column_or_1d(y, warn=True)\n"
     ]
    },
    {
     "data": {
      "text/html": [
       "<style>#sk-container-id-2 {color: black;}#sk-container-id-2 pre{padding: 0;}#sk-container-id-2 div.sk-toggleable {background-color: white;}#sk-container-id-2 label.sk-toggleable__label {cursor: pointer;display: block;width: 100%;margin-bottom: 0;padding: 0.3em;box-sizing: border-box;text-align: center;}#sk-container-id-2 label.sk-toggleable__label-arrow:before {content: \"▸\";float: left;margin-right: 0.25em;color: #696969;}#sk-container-id-2 label.sk-toggleable__label-arrow:hover:before {color: black;}#sk-container-id-2 div.sk-estimator:hover label.sk-toggleable__label-arrow:before {color: black;}#sk-container-id-2 div.sk-toggleable__content {max-height: 0;max-width: 0;overflow: hidden;text-align: left;background-color: #f0f8ff;}#sk-container-id-2 div.sk-toggleable__content pre {margin: 0.2em;color: black;border-radius: 0.25em;background-color: #f0f8ff;}#sk-container-id-2 input.sk-toggleable__control:checked~div.sk-toggleable__content {max-height: 200px;max-width: 100%;overflow: auto;}#sk-container-id-2 input.sk-toggleable__control:checked~label.sk-toggleable__label-arrow:before {content: \"▾\";}#sk-container-id-2 div.sk-estimator input.sk-toggleable__control:checked~label.sk-toggleable__label {background-color: #d4ebff;}#sk-container-id-2 div.sk-label input.sk-toggleable__control:checked~label.sk-toggleable__label {background-color: #d4ebff;}#sk-container-id-2 input.sk-hidden--visually {border: 0;clip: rect(1px 1px 1px 1px);clip: rect(1px, 1px, 1px, 1px);height: 1px;margin: -1px;overflow: hidden;padding: 0;position: absolute;width: 1px;}#sk-container-id-2 div.sk-estimator {font-family: monospace;background-color: #f0f8ff;border: 1px dotted black;border-radius: 0.25em;box-sizing: border-box;margin-bottom: 0.5em;}#sk-container-id-2 div.sk-estimator:hover {background-color: #d4ebff;}#sk-container-id-2 div.sk-parallel-item::after {content: \"\";width: 100%;border-bottom: 1px solid gray;flex-grow: 1;}#sk-container-id-2 div.sk-label:hover label.sk-toggleable__label {background-color: #d4ebff;}#sk-container-id-2 div.sk-serial::before {content: \"\";position: absolute;border-left: 1px solid gray;box-sizing: border-box;top: 0;bottom: 0;left: 50%;z-index: 0;}#sk-container-id-2 div.sk-serial {display: flex;flex-direction: column;align-items: center;background-color: white;padding-right: 0.2em;padding-left: 0.2em;position: relative;}#sk-container-id-2 div.sk-item {position: relative;z-index: 1;}#sk-container-id-2 div.sk-parallel {display: flex;align-items: stretch;justify-content: center;background-color: white;position: relative;}#sk-container-id-2 div.sk-item::before, #sk-container-id-2 div.sk-parallel-item::before {content: \"\";position: absolute;border-left: 1px solid gray;box-sizing: border-box;top: 0;bottom: 0;left: 50%;z-index: -1;}#sk-container-id-2 div.sk-parallel-item {display: flex;flex-direction: column;z-index: 1;position: relative;background-color: white;}#sk-container-id-2 div.sk-parallel-item:first-child::after {align-self: flex-end;width: 50%;}#sk-container-id-2 div.sk-parallel-item:last-child::after {align-self: flex-start;width: 50%;}#sk-container-id-2 div.sk-parallel-item:only-child::after {width: 0;}#sk-container-id-2 div.sk-dashed-wrapped {border: 1px dashed gray;margin: 0 0.4em 0.5em 0.4em;box-sizing: border-box;padding-bottom: 0.4em;background-color: white;}#sk-container-id-2 div.sk-label label {font-family: monospace;font-weight: bold;display: inline-block;line-height: 1.2em;}#sk-container-id-2 div.sk-label-container {text-align: center;}#sk-container-id-2 div.sk-container {/* jupyter's `normalize.less` sets `[hidden] { display: none; }` but bootstrap.min.css set `[hidden] { display: none !important; }` so we also need the `!important` here to be able to override the default hidden behavior on the sphinx rendered scikit-learn.org. See: https://github.com/scikit-learn/scikit-learn/issues/21755 */display: inline-block !important;position: relative;}#sk-container-id-2 div.sk-text-repr-fallback {display: none;}</style><div id=\"sk-container-id-2\" class=\"sk-top-container\"><div class=\"sk-text-repr-fallback\"><pre>LogisticRegression()</pre><b>In a Jupyter environment, please rerun this cell to show the HTML representation or trust the notebook. <br />On GitHub, the HTML representation is unable to render, please try loading this page with nbviewer.org.</b></div><div class=\"sk-container\" hidden><div class=\"sk-item\"><div class=\"sk-estimator sk-toggleable\"><input class=\"sk-toggleable__control sk-hidden--visually\" id=\"sk-estimator-id-2\" type=\"checkbox\" checked><label for=\"sk-estimator-id-2\" class=\"sk-toggleable__label sk-toggleable__label-arrow\">LogisticRegression</label><div class=\"sk-toggleable__content\"><pre>LogisticRegression()</pre></div></div></div></div></div>"
      ],
      "text/plain": [
       "LogisticRegression()"
      ]
     },
     "execution_count": 70,
     "metadata": {},
     "output_type": "execute_result"
    }
   ],
   "source": [
    "clf.fit(X_train_reshaped,y_train_reshaped)"
   ]
  },
  {
   "cell_type": "code",
   "execution_count": 71,
   "metadata": {
    "ExecuteTime": {
     "end_time": "2024-01-25T04:20:07.473154500Z",
     "start_time": "2024-01-25T04:20:07.367505200Z"
    }
   },
   "outputs": [],
   "source": [
    "y_pred = clf.predict(X_test.values.reshape(-1,1))"
   ]
  },
  {
   "cell_type": "code",
   "execution_count": 72,
   "metadata": {
    "ExecuteTime": {
     "end_time": "2024-01-25T04:20:08.875770900Z",
     "start_time": "2024-01-25T04:20:08.716299600Z"
    }
   },
   "outputs": [
    {
     "data": {
      "text/plain": [
       "1.0"
      ]
     },
     "execution_count": 72,
     "metadata": {},
     "output_type": "execute_result"
    }
   ],
   "source": [
    "accuracy_score(y_pred,y_test.values.reshape(-1,1))"
   ]
  },
  {
   "cell_type": "code",
   "execution_count": 73,
   "metadata": {
    "ExecuteTime": {
     "end_time": "2024-01-25T04:20:09.696479400Z",
     "start_time": "2024-01-25T04:20:09.551717900Z"
    }
   },
   "outputs": [
    {
     "data": {
      "text/plain": [
       "1.0"
      ]
     },
     "execution_count": 73,
     "metadata": {},
     "output_type": "execute_result"
    }
   ],
   "source": [
    "precision_score(y_pred,y_test.values.reshape(-1,1))"
   ]
  },
  {
   "cell_type": "code",
   "execution_count": 74,
   "metadata": {
    "ExecuteTime": {
     "end_time": "2024-01-25T04:20:10.282884400Z",
     "start_time": "2024-01-25T04:20:10.101760500Z"
    }
   },
   "outputs": [
    {
     "data": {
      "text/plain": [
       "1.0"
      ]
     },
     "execution_count": 74,
     "metadata": {},
     "output_type": "execute_result"
    }
   ],
   "source": [
    "recall_score(y_pred,y_test.values.reshape(-1,1))"
   ]
  },
  {
   "cell_type": "code",
   "execution_count": 58,
   "metadata": {
    "ExecuteTime": {
     "end_time": "2024-01-25T04:17:28.269957600Z",
     "start_time": "2024-01-25T04:17:26.825420700Z"
    }
   },
   "outputs": [],
   "source": []
  },
  {
   "cell_type": "code",
   "execution_count": 58,
   "metadata": {
    "ExecuteTime": {
     "end_time": "2024-01-25T04:17:28.292675600Z",
     "start_time": "2024-01-25T04:17:26.835507900Z"
    }
   },
   "outputs": [],
   "source": []
  },
  {
   "cell_type": "code",
   "execution_count": 58,
   "metadata": {
    "ExecuteTime": {
     "end_time": "2024-01-25T04:17:28.298675700Z",
     "start_time": "2024-01-25T04:17:26.846323900Z"
    }
   },
   "outputs": [],
   "source": []
  }
 ],
 "metadata": {
  "kernelspec": {
   "display_name": "Python 3",
   "language": "python",
   "name": "python3"
  },
  "language_info": {
   "codemirror_mode": {
    "name": "ipython",
    "version": 3
   },
   "file_extension": ".py",
   "mimetype": "text/x-python",
   "name": "python",
   "nbconvert_exporter": "python",
   "pygments_lexer": "ipython3",
   "version": "3.11.5"
  }
 },
 "nbformat": 4,
 "nbformat_minor": 2
}
