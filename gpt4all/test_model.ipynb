{
 "cells": [
  {
   "cell_type": "code",
   "execution_count": 1,
   "metadata": {},
   "outputs": [],
   "source": [
    "from model import *"
   ]
  },
  {
   "cell_type": "code",
   "execution_count": 2,
   "metadata": {},
   "outputs": [
    {
     "ename": "ValueError",
     "evalue": "Unable to retrieve list of all GPU devices",
     "output_type": "error",
     "traceback": [
      "\u001b[0;31m---------------------------------------------------------------------------\u001b[0m",
      "\u001b[0;31mValueError\u001b[0m                                Traceback (most recent call last)",
      "Cell \u001b[0;32mIn[2], line 1\u001b[0m\n\u001b[0;32m----> 1\u001b[0m model \u001b[38;5;241m=\u001b[39m Model()\n",
      "File \u001b[0;32m~/Development/RihalIntern/gpt4all/model.py:12\u001b[0m, in \u001b[0;36mModel.__init__\u001b[0;34m(self)\u001b[0m\n\u001b[1;32m     10\u001b[0m     os\u001b[38;5;241m.\u001b[39mmakedir(os\u001b[38;5;241m.\u001b[39mgetcwd() \u001b[38;5;241m+\u001b[39m \u001b[38;5;124m\"\u001b[39m\u001b[38;5;124m/models\u001b[39m\u001b[38;5;124m\"\u001b[39m)\n\u001b[1;32m     11\u001b[0m \u001b[38;5;28mself\u001b[39m\u001b[38;5;241m.\u001b[39mn_ctx \u001b[38;5;241m=\u001b[39m \u001b[38;5;241m4096\u001b[39m\n\u001b[0;32m---> 12\u001b[0m \u001b[38;5;28mself\u001b[39m\u001b[38;5;241m.\u001b[39mmodel \u001b[38;5;241m=\u001b[39m GPT4All(\u001b[38;5;28mself\u001b[39m\u001b[38;5;241m.\u001b[39mmodel_name, \u001b[38;5;28mself\u001b[39m\u001b[38;5;241m.\u001b[39mmodel_path, n_ctx\u001b[38;5;241m=\u001b[39m\u001b[38;5;28mself\u001b[39m\u001b[38;5;241m.\u001b[39mn_ctx, device\u001b[38;5;241m=\u001b[39m\u001b[38;5;124m'\u001b[39m\u001b[38;5;124mgpu\u001b[39m\u001b[38;5;124m'\u001b[39m)\n\u001b[1;32m     13\u001b[0m \u001b[38;5;28mself\u001b[39m\u001b[38;5;241m.\u001b[39mtemp \u001b[38;5;241m=\u001b[39m \u001b[38;5;241m0.8\u001b[39m\n\u001b[1;32m     14\u001b[0m \u001b[38;5;28mself\u001b[39m\u001b[38;5;241m.\u001b[39mn_batch \u001b[38;5;241m=\u001b[39m \u001b[38;5;241m16\u001b[39m\n",
      "File \u001b[0;32m~/anaconda3/lib/python3.11/site-packages/gpt4all/gpt4all.py:104\u001b[0m, in \u001b[0;36mGPT4All.__init__\u001b[0;34m(self, model_name, model_path, model_type, allow_download, n_threads, device, n_ctx, ngl, verbose)\u001b[0m\n\u001b[1;32m    102\u001b[0m \u001b[38;5;28mself\u001b[39m\u001b[38;5;241m.\u001b[39mmodel \u001b[38;5;241m=\u001b[39m _pyllmodel\u001b[38;5;241m.\u001b[39mLLModel(\u001b[38;5;28mself\u001b[39m\u001b[38;5;241m.\u001b[39mconfig[\u001b[38;5;124m\"\u001b[39m\u001b[38;5;124mpath\u001b[39m\u001b[38;5;124m\"\u001b[39m], n_ctx, ngl)\n\u001b[1;32m    103\u001b[0m \u001b[38;5;28;01mif\u001b[39;00m device \u001b[38;5;129;01mis\u001b[39;00m \u001b[38;5;129;01mnot\u001b[39;00m \u001b[38;5;28;01mNone\u001b[39;00m \u001b[38;5;129;01mand\u001b[39;00m device \u001b[38;5;241m!=\u001b[39m \u001b[38;5;124m\"\u001b[39m\u001b[38;5;124mcpu\u001b[39m\u001b[38;5;124m\"\u001b[39m:\n\u001b[0;32m--> 104\u001b[0m     \u001b[38;5;28mself\u001b[39m\u001b[38;5;241m.\u001b[39mmodel\u001b[38;5;241m.\u001b[39minit_gpu(device)\n\u001b[1;32m    105\u001b[0m \u001b[38;5;28mself\u001b[39m\u001b[38;5;241m.\u001b[39mmodel\u001b[38;5;241m.\u001b[39mload_model()\n\u001b[1;32m    106\u001b[0m \u001b[38;5;66;03m# Set n_threads\u001b[39;00m\n",
      "File \u001b[0;32m~/anaconda3/lib/python3.11/site-packages/gpt4all/_pyllmodel.py:202\u001b[0m, in \u001b[0;36mLLModel.init_gpu\u001b[0;34m(self, device)\u001b[0m\n\u001b[1;32m    200\u001b[0m all_devices_ptr \u001b[38;5;241m=\u001b[39m llmodel\u001b[38;5;241m.\u001b[39mllmodel_available_gpu_devices(\u001b[38;5;28mself\u001b[39m\u001b[38;5;241m.\u001b[39mmodel, \u001b[38;5;241m0\u001b[39m, ctypes\u001b[38;5;241m.\u001b[39mbyref(num_devices))\n\u001b[1;32m    201\u001b[0m \u001b[38;5;28;01mif\u001b[39;00m \u001b[38;5;129;01mnot\u001b[39;00m all_devices_ptr:\n\u001b[0;32m--> 202\u001b[0m     \u001b[38;5;28;01mraise\u001b[39;00m \u001b[38;5;167;01mValueError\u001b[39;00m(\u001b[38;5;124m\"\u001b[39m\u001b[38;5;124mUnable to retrieve list of all GPU devices\u001b[39m\u001b[38;5;124m\"\u001b[39m)\n\u001b[1;32m    203\u001b[0m all_gpus \u001b[38;5;241m=\u001b[39m [d\u001b[38;5;241m.\u001b[39mname\u001b[38;5;241m.\u001b[39mdecode() \u001b[38;5;28;01mfor\u001b[39;00m d \u001b[38;5;129;01min\u001b[39;00m all_devices_ptr[:num_devices\u001b[38;5;241m.\u001b[39mvalue]]\n\u001b[1;32m    205\u001b[0m \u001b[38;5;66;03m# Retrieve GPUs that meet the memory requirements using list_gpu\u001b[39;00m\n",
      "\u001b[0;31mValueError\u001b[0m: Unable to retrieve list of all GPU devices"
     ]
    }
   ],
   "source": [
    "model = Model()"
   ]
  },
  {
   "cell_type": "code",
   "execution_count": null,
   "metadata": {},
   "outputs": [
    {
     "name": "stdout",
     "output_type": "stream",
     "text": [
      "\n",
      "\n",
      "- Artificial intelligence refers to the simulation of human intelligence in machines that are programmed to think and act like humans.\n",
      "- It involves the development of algorithms and computer programs that can perform tasks that typically require human intelligence, such as visual perception, speech recognition, decision making, and language translation.\n",
      "- AI is used in various applications, including self-driving cars, virtual assistants, chatbots, recommendation systems, fraud detection, and medical diagnosis.\n",
      "- The development of AI has the potential to transform industries and improve our lives in many ways, but it also poses ethical concerns and challenges related to privacy, security, and job displacement.\n"
     ]
    }
   ],
   "source": [
    "print(model.chat(input = \"Explain AI to me: \"))"
   ]
  },
  {
   "cell_type": "code",
   "execution_count": null,
   "metadata": {},
   "outputs": [
    {
     "name": "stdout",
     "output_type": "stream",
     "text": [
      " \n",
      "\n",
      "AI can be used in various applications such as self-driving cars, virtual assistants, chatbots, recommendation systems, fraud detection, and medical diagnosis. The potential benefits of AI are significant, but there are also ethical concerns and challenges related to privacy, security, and job displacement.\n"
     ]
    }
   ],
   "source": [
    "print(model.chat(input = \"What is the best usecase for it??\"))"
   ]
  },
  {
   "cell_type": "code",
   "execution_count": null,
   "metadata": {},
   "outputs": [
    {
     "name": "stdout",
     "output_type": "stream",
     "text": [
      " \n",
      "The potential benefits of AI are significant, but there are also ethical concerns and challenges related to privacy, security, and job displacement. Therefore, the best use case for AI would be in applications that prioritize ethical considerations and ensure the protection of individuals' rights while leveraging the power of AI technology. For example, AI can be used in healthcare to improve patient outcomes, reduce medical errors, and optimize resource allocation. In education, AI can enhance personalized learning experiences for students by providing customized feedback and recommendations based on their individual needs and preferences. Additionally, AI can be utilized in environmental conservation efforts to monitor and manage ecosystems, track wildlife populations, and mitigate the impact of natural disasters.\n"
     ]
    }
   ],
   "source": [
    "print(model.chat(input = \"What is the best usecase for it??\"))"
   ]
  },
  {
   "cell_type": "code",
   "execution_count": null,
   "metadata": {},
   "outputs": [],
   "source": []
  }
 ],
 "metadata": {
  "kernelspec": {
   "display_name": ".venv",
   "language": "python",
   "name": "python3"
  },
  "language_info": {
   "codemirror_mode": {
    "name": "ipython",
    "version": 3
   },
   "file_extension": ".py",
   "mimetype": "text/x-python",
   "name": "python",
   "nbconvert_exporter": "python",
   "pygments_lexer": "ipython3",
   "version": "3.11.5"
  }
 },
 "nbformat": 4,
 "nbformat_minor": 2
}
