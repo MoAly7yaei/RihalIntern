{
 "cells": [
  {
   "cell_type": "code",
   "execution_count": 16,
   "metadata": {},
   "outputs": [],
   "source": [
    "from model import *"
   ]
  },
  {
   "cell_type": "code",
   "execution_count": 17,
   "metadata": {},
   "outputs": [],
   "source": [
    "model = Model()"
   ]
  },
  {
   "cell_type": "code",
   "execution_count": 18,
   "metadata": {},
   "outputs": [
    {
     "name": "stdout",
     "output_type": "stream",
     "text": [
      ".\n"
     ]
    }
   ],
   "source": [
    "print(model.chat(input = \"Tell me more about django framework\"))"
   ]
  },
  {
   "cell_type": "code",
   "execution_count": 19,
   "metadata": {},
   "outputs": [
    {
     "name": "stdout",
     "output_type": "stream",
     "text": [
      " for Django Framework? \n",
      "\n",
      "Django framework is a high-level web application framework written in Python. It has several use cases, including:\n",
      "\n",
      "1. Building custom applications with complex data models and business logic\n",
      "2. Developing web applications quickly using pre-written templates\n",
      "3. Creating web pages that are optimized for search engines by using Django's built-in SEO features\n",
      "4. Integrating third-party APIs to enhance the functionality of your application\n",
      "5. Scaling your application horizontally by adding more servers to handle increased traffic\n",
      "6. Implementing security measures such as authentication, authorization, and encryption\n",
      "7. Developing web applications for mobile devices by using Django's responsive design features\n",
      "8. Building custom dashboards or reporting tools using Django's built-in data visualization libraries. \n",
      "\n",
      "These use cases demonstrate the versatility of Django framework and its ability to handle a wide range of development needs.\n"
     ]
    }
   ],
   "source": [
    "print(model.chat(input = \"What is the best use cases\"))"
   ]
  },
  {
   "cell_type": "code",
   "execution_count": 20,
   "metadata": {},
   "outputs": [
    {
     "name": "stdout",
     "output_type": "stream",
     "text": [
      " of django framework?\n"
     ]
    }
   ],
   "source": [
    "print(model.chat(input = \"tell me the disadvantage\"))"
   ]
  },
  {
   "cell_type": "code",
   "execution_count": 21,
   "metadata": {},
   "outputs": [
    {
     "name": "stdout",
     "output_type": "stream",
     "text": [
      ", there are some disadvantages to using Django framework. One major issue is that it can be more difficult to set up and configure than other web application frameworks like Ruby on Rails or AngularJS. Additionally, Django's documentation can sometimes be lacking in certain areas, which can make it challenging for beginners to get started with the framework. Finally, due to its open-source nature, some features may not be available or may require additional third-party libraries or plugins.\n"
     ]
    }
   ],
   "source": [
    "print(model.chat(input = \"yes\"))"
   ]
  },
  {
   "cell_type": "code",
   "execution_count": null,
   "metadata": {},
   "outputs": [],
   "source": []
  }
 ],
 "metadata": {
  "kernelspec": {
   "display_name": ".venv",
   "language": "python",
   "name": "python3"
  },
  "language_info": {
   "codemirror_mode": {
    "name": "ipython",
    "version": 3
   },
   "file_extension": ".py",
   "mimetype": "text/x-python",
   "name": "python",
   "nbconvert_exporter": "python",
   "pygments_lexer": "ipython3",
   "version": "3.11.2"
  }
 },
 "nbformat": 4,
 "nbformat_minor": 2
}
