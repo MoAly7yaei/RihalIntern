{
 "cells": [
  {
   "cell_type": "code",
   "execution_count": 1,
   "metadata": {},
   "outputs": [],
   "source": [
    "from model import Model, NoChatSessionModel"
   ]
  },
  {
   "cell_type": "code",
   "execution_count": 2,
   "metadata": {},
   "outputs": [],
   "source": [
    "model = NoChatSessionModel()"
   ]
  },
  {
   "cell_type": "code",
   "execution_count": 3,
   "metadata": {},
   "outputs": [
    {
     "data": {
      "text/plain": [
       "'\\nit is not possible to use the same method for all the features.\\nYou need to identify which feature is the most important and use that as the input for the model.'"
      ]
     },
     "execution_count": 3,
     "metadata": {},
     "output_type": "execute_result"
    }
   ],
   "source": [
    "model.generate(\"The AI is the feauture because \")"
   ]
  },
  {
   "cell_type": "code",
   "execution_count": null,
   "metadata": {},
   "outputs": [],
   "source": []
  },
  {
   "cell_type": "code",
   "execution_count": null,
   "metadata": {},
   "outputs": [],
   "source": []
  },
  {
   "cell_type": "code",
   "execution_count": null,
   "metadata": {},
   "outputs": [],
   "source": []
  },
  {
   "cell_type": "code",
   "execution_count": 4,
   "metadata": {},
   "outputs": [],
   "source": [
    "model = Model()"
   ]
  },
  {
   "cell_type": "code",
   "execution_count": 5,
   "metadata": {},
   "outputs": [
    {
     "data": {
      "text/plain": [
       "' it can understand and process human language input as well as generate relevant output based on that input, without needing explicit instructions or programming. This makes it a powerful tool for automating tasks such as answering questions, providing information, and even creating new content like text or music.'"
      ]
     },
     "execution_count": 5,
     "metadata": {},
     "output_type": "execute_result"
    }
   ],
   "source": [
    "model.chat(input = \"The AI is the feauture because \")"
   ]
  },
  {
   "cell_type": "code",
   "execution_count": null,
   "metadata": {},
   "outputs": [],
   "source": []
  },
  {
   "cell_type": "code",
   "execution_count": 6,
   "metadata": {},
   "outputs": [
    {
     "data": {
      "text/plain": [
       "'\\nit can understand and process human language input as well as generate relevant output based on that input, without needing explicit instructions or programming. This makes it a powerful tool for automating tasks such as answering questions, providing information, and even creating new content like text or music.'"
      ]
     },
     "execution_count": 6,
     "metadata": {},
     "output_type": "execute_result"
    }
   ],
   "source": [
    "model.chat(input = \"is it accurate because \")"
   ]
  },
  {
   "cell_type": "code",
   "execution_count": 7,
   "metadata": {},
   "outputs": [
    {
     "data": {
      "text/plain": [
       "'\\nit can understand and process human language input as well as generate relevant output based on that input, without needing explicit instructions or programming. This makes it a powerful tool for automating tasks such as answering questions, providing information, and even creating new content like text or music.'"
      ]
     },
     "execution_count": 7,
     "metadata": {},
     "output_type": "execute_result"
    }
   ],
   "source": [
    "model.chat(input = \"the context of our session is \")"
   ]
  },
  {
   "cell_type": "code",
   "execution_count": 8,
   "metadata": {},
   "outputs": [
    {
     "data": {
      "text/plain": [
       "['I am an assistance that I am able to looking for Informations of prompt that is been given to me and I will going to find the words that is suitable for the following prompts, I will provide answer without asking questions and I will provide answers always. I will Help you in the following prompt:',\n",
       " ' it can understand and process human language input as well as generate relevant output based on that input, without needing explicit instructions or programming. This makes it a powerful tool for automating tasks such as answering questions, providing information, and even creating new content like text or music.',\n",
       " '\\nit can understand and process human language input as well as generate relevant output based on that input, without needing explicit instructions or programming. This makes it a powerful tool for automating tasks such as answering questions, providing information, and even creating new content like text or music.',\n",
       " '\\nit can understand and process human language input as well as generate relevant output based on that input, without needing explicit instructions or programming. This makes it a powerful tool for automating tasks such as answering questions, providing information, and even creating new content like text or music.',\n",
       " 'The AI is the feauture because ',\n",
       " 'is it accurate because ',\n",
       " 'the context of our session is ',\n",
       " '$']"
      ]
     },
     "execution_count": 8,
     "metadata": {},
     "output_type": "execute_result"
    }
   ],
   "source": [
    "model.chat(input = \"$\")"
   ]
  },
  {
   "cell_type": "code",
   "execution_count": null,
   "metadata": {},
   "outputs": [],
   "source": []
  },
  {
   "cell_type": "code",
   "execution_count": null,
   "metadata": {},
   "outputs": [],
   "source": []
  }
 ],
 "metadata": {
  "kernelspec": {
   "display_name": ".venv",
   "language": "python",
   "name": "python3"
  },
  "language_info": {
   "codemirror_mode": {
    "name": "ipython",
    "version": 3
   },
   "file_extension": ".py",
   "mimetype": "text/x-python",
   "name": "python",
   "nbconvert_exporter": "python",
   "pygments_lexer": "ipython3",
   "version": "3.11.2"
  }
 },
 "nbformat": 4,
 "nbformat_minor": 2
}
